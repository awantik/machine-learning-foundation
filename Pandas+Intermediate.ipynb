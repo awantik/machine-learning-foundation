{
 "cells": [
  {
   "cell_type": "code",
   "execution_count": 1,
   "metadata": {
    "collapsed": true
   },
   "outputs": [],
   "source": [
    "import pandas as pd"
   ]
  },
  {
   "cell_type": "markdown",
   "metadata": {},
   "source": [
    "### Data Information\n",
    "* Varibale Name\tDescription\n",
    "* key\tId varibale\n",
    "* sku\tvegetable name\n",
    "* date\tSale date\n",
    "* sales\tquantity sold\n",
    "* lag_w1_sales\tlast week sales\n",
    "* lag_w2_sales\tlast to last week sales\n",
    "* returns\tcustomer return quantity\n",
    "* lag_1_returns\tprevious day return quantity\n",
    "* mkt_pr\tmarket benchmark price\n",
    "* sale_price\tninjacart sales price\n",
    "* lag1_SP\tninjacart sales prices last day\n",
    "* lag_day1\tlast day sales\n",
    "* lag_day2\tlast to last day sales\n",
    "* skuid\tId variable"
   ]
  },
  {
   "cell_type": "code",
   "execution_count": 2,
   "metadata": {
    "collapsed": true
   },
   "outputs": [],
   "source": [
    "sales = pd.read_csv(r'D:\\Data\\Predictor_variables_raw.csv')"
   ]
  },
  {
   "cell_type": "code",
   "execution_count": 3,
   "metadata": {
    "collapsed": false
   },
   "outputs": [
    {
     "name": "stdout",
     "output_type": "stream",
     "text": [
      "<class 'pandas.core.frame.DataFrame'>\n",
      "RangeIndex: 195 entries, 0 to 194\n",
      "Data columns (total 14 columns):\n",
      "key              195 non-null object\n",
      "sku              195 non-null object\n",
      "date             195 non-null object\n",
      "sales            195 non-null int64\n",
      "lag_w1_sales     195 non-null int64\n",
      "lag_w2_sales     195 non-null int64\n",
      "returns          195 non-null int64\n",
      "lag_1_returns    195 non-null int64\n",
      "mkt_pr           195 non-null int64\n",
      "sale_price       195 non-null int64\n",
      "lag1_SP          195 non-null int64\n",
      "lag_day1         195 non-null int64\n",
      "lag_day2         195 non-null int64\n",
      "skuid            195 non-null int64\n",
      "dtypes: int64(11), object(3)\n",
      "memory usage: 21.4+ KB\n"
     ]
    }
   ],
   "source": [
    "sales.info()"
   ]
  },
  {
   "cell_type": "code",
   "execution_count": 4,
   "metadata": {
    "collapsed": false
   },
   "outputs": [
    {
     "data": {
      "text/html": [
       "<div>\n",
       "<table border=\"1\" class=\"dataframe\">\n",
       "  <thead>\n",
       "    <tr style=\"text-align: right;\">\n",
       "      <th></th>\n",
       "      <th>key</th>\n",
       "      <th>sku</th>\n",
       "      <th>date</th>\n",
       "      <th>sales</th>\n",
       "      <th>lag_w1_sales</th>\n",
       "      <th>lag_w2_sales</th>\n",
       "      <th>returns</th>\n",
       "      <th>lag_1_returns</th>\n",
       "      <th>mkt_pr</th>\n",
       "      <th>sale_price</th>\n",
       "      <th>lag1_SP</th>\n",
       "      <th>lag_day1</th>\n",
       "      <th>lag_day2</th>\n",
       "      <th>skuid</th>\n",
       "    </tr>\n",
       "  </thead>\n",
       "  <tbody>\n",
       "    <tr>\n",
       "      <th>0</th>\n",
       "      <td>Coriander_42427</td>\n",
       "      <td>Coriander</td>\n",
       "      <td>2016-02-27</td>\n",
       "      <td>306</td>\n",
       "      <td>538</td>\n",
       "      <td>398</td>\n",
       "      <td>0</td>\n",
       "      <td>20</td>\n",
       "      <td>5</td>\n",
       "      <td>6</td>\n",
       "      <td>6</td>\n",
       "      <td>371</td>\n",
       "      <td>417</td>\n",
       "      <td>69</td>\n",
       "    </tr>\n",
       "    <tr>\n",
       "      <th>1</th>\n",
       "      <td>Coriander_42428</td>\n",
       "      <td>Coriander</td>\n",
       "      <td>2016-02-28</td>\n",
       "      <td>398</td>\n",
       "      <td>428</td>\n",
       "      <td>538</td>\n",
       "      <td>0</td>\n",
       "      <td>0</td>\n",
       "      <td>5</td>\n",
       "      <td>6</td>\n",
       "      <td>6</td>\n",
       "      <td>306</td>\n",
       "      <td>371</td>\n",
       "      <td>69</td>\n",
       "    </tr>\n",
       "    <tr>\n",
       "      <th>2</th>\n",
       "      <td>Coriander_42429</td>\n",
       "      <td>Coriander</td>\n",
       "      <td>2016-02-29</td>\n",
       "      <td>434</td>\n",
       "      <td>500</td>\n",
       "      <td>433</td>\n",
       "      <td>6</td>\n",
       "      <td>0</td>\n",
       "      <td>5</td>\n",
       "      <td>6</td>\n",
       "      <td>6</td>\n",
       "      <td>398</td>\n",
       "      <td>306</td>\n",
       "      <td>69</td>\n",
       "    </tr>\n",
       "    <tr>\n",
       "      <th>3</th>\n",
       "      <td>Coriander_42430</td>\n",
       "      <td>Coriander</td>\n",
       "      <td>2016-03-01</td>\n",
       "      <td>314</td>\n",
       "      <td>405</td>\n",
       "      <td>381</td>\n",
       "      <td>0</td>\n",
       "      <td>6</td>\n",
       "      <td>5</td>\n",
       "      <td>6</td>\n",
       "      <td>6</td>\n",
       "      <td>434</td>\n",
       "      <td>398</td>\n",
       "      <td>69</td>\n",
       "    </tr>\n",
       "    <tr>\n",
       "      <th>4</th>\n",
       "      <td>Coriander_42431</td>\n",
       "      <td>Coriander</td>\n",
       "      <td>2016-03-02</td>\n",
       "      <td>424</td>\n",
       "      <td>446</td>\n",
       "      <td>386</td>\n",
       "      <td>2</td>\n",
       "      <td>0</td>\n",
       "      <td>5</td>\n",
       "      <td>6</td>\n",
       "      <td>6</td>\n",
       "      <td>314</td>\n",
       "      <td>434</td>\n",
       "      <td>69</td>\n",
       "    </tr>\n",
       "  </tbody>\n",
       "</table>\n",
       "</div>"
      ],
      "text/plain": [
       "               key        sku        date  sales  lag_w1_sales  lag_w2_sales  \\\n",
       "0  Coriander_42427  Coriander  2016-02-27    306           538           398   \n",
       "1  Coriander_42428  Coriander  2016-02-28    398           428           538   \n",
       "2  Coriander_42429  Coriander  2016-02-29    434           500           433   \n",
       "3  Coriander_42430  Coriander  2016-03-01    314           405           381   \n",
       "4  Coriander_42431  Coriander  2016-03-02    424           446           386   \n",
       "\n",
       "   returns  lag_1_returns  mkt_pr  sale_price  lag1_SP  lag_day1  lag_day2  \\\n",
       "0        0             20       5           6        6       371       417   \n",
       "1        0              0       5           6        6       306       371   \n",
       "2        6              0       5           6        6       398       306   \n",
       "3        0              6       5           6        6       434       398   \n",
       "4        2              0       5           6        6       314       434   \n",
       "\n",
       "   skuid  \n",
       "0     69  \n",
       "1     69  \n",
       "2     69  \n",
       "3     69  \n",
       "4     69  "
      ]
     },
     "execution_count": 4,
     "metadata": {},
     "output_type": "execute_result"
    }
   ],
   "source": [
    "sales.head()"
   ]
  },
  {
   "cell_type": "code",
   "execution_count": 5,
   "metadata": {
    "collapsed": false
   },
   "outputs": [
    {
     "data": {
      "text/html": [
       "<div>\n",
       "<table border=\"1\" class=\"dataframe\">\n",
       "  <thead>\n",
       "    <tr style=\"text-align: right;\">\n",
       "      <th></th>\n",
       "      <th>sales</th>\n",
       "      <th>lag_w1_sales</th>\n",
       "      <th>lag_w2_sales</th>\n",
       "      <th>returns</th>\n",
       "      <th>lag_1_returns</th>\n",
       "      <th>mkt_pr</th>\n",
       "      <th>sale_price</th>\n",
       "      <th>lag1_SP</th>\n",
       "      <th>lag_day1</th>\n",
       "      <th>lag_day2</th>\n",
       "      <th>skuid</th>\n",
       "    </tr>\n",
       "  </thead>\n",
       "  <tbody>\n",
       "    <tr>\n",
       "      <th>count</th>\n",
       "      <td>195.000000</td>\n",
       "      <td>195.000000</td>\n",
       "      <td>195.000000</td>\n",
       "      <td>195.000000</td>\n",
       "      <td>195.000000</td>\n",
       "      <td>195.000000</td>\n",
       "      <td>195.000000</td>\n",
       "      <td>195.000000</td>\n",
       "      <td>195.000000</td>\n",
       "      <td>195.000000</td>\n",
       "      <td>195.000000</td>\n",
       "    </tr>\n",
       "    <tr>\n",
       "      <th>mean</th>\n",
       "      <td>799.784615</td>\n",
       "      <td>802.287179</td>\n",
       "      <td>783.882051</td>\n",
       "      <td>13.235897</td>\n",
       "      <td>13.897436</td>\n",
       "      <td>21.794872</td>\n",
       "      <td>20.958974</td>\n",
       "      <td>20.584615</td>\n",
       "      <td>798.912821</td>\n",
       "      <td>803.056410</td>\n",
       "      <td>52.800000</td>\n",
       "    </tr>\n",
       "    <tr>\n",
       "      <th>std</th>\n",
       "      <td>590.610513</td>\n",
       "      <td>608.545502</td>\n",
       "      <td>610.746021</td>\n",
       "      <td>23.400937</td>\n",
       "      <td>23.660828</td>\n",
       "      <td>20.982540</td>\n",
       "      <td>20.437694</td>\n",
       "      <td>19.665679</td>\n",
       "      <td>590.820151</td>\n",
       "      <td>598.104585</td>\n",
       "      <td>21.281036</td>\n",
       "    </tr>\n",
       "    <tr>\n",
       "      <th>min</th>\n",
       "      <td>44.000000</td>\n",
       "      <td>97.000000</td>\n",
       "      <td>97.000000</td>\n",
       "      <td>0.000000</td>\n",
       "      <td>0.000000</td>\n",
       "      <td>4.000000</td>\n",
       "      <td>6.000000</td>\n",
       "      <td>6.000000</td>\n",
       "      <td>44.000000</td>\n",
       "      <td>44.000000</td>\n",
       "      <td>31.000000</td>\n",
       "    </tr>\n",
       "    <tr>\n",
       "      <th>25%</th>\n",
       "      <td>292.500000</td>\n",
       "      <td>297.500000</td>\n",
       "      <td>280.500000</td>\n",
       "      <td>1.000000</td>\n",
       "      <td>1.000000</td>\n",
       "      <td>8.000000</td>\n",
       "      <td>7.000000</td>\n",
       "      <td>7.000000</td>\n",
       "      <td>292.500000</td>\n",
       "      <td>290.500000</td>\n",
       "      <td>35.000000</td>\n",
       "    </tr>\n",
       "    <tr>\n",
       "      <th>50%</th>\n",
       "      <td>596.000000</td>\n",
       "      <td>498.000000</td>\n",
       "      <td>442.000000</td>\n",
       "      <td>4.000000</td>\n",
       "      <td>4.000000</td>\n",
       "      <td>14.000000</td>\n",
       "      <td>13.000000</td>\n",
       "      <td>13.000000</td>\n",
       "      <td>569.000000</td>\n",
       "      <td>553.000000</td>\n",
       "      <td>43.000000</td>\n",
       "    </tr>\n",
       "    <tr>\n",
       "      <th>75%</th>\n",
       "      <td>1291.500000</td>\n",
       "      <td>1401.500000</td>\n",
       "      <td>1350.000000</td>\n",
       "      <td>16.000000</td>\n",
       "      <td>16.500000</td>\n",
       "      <td>23.000000</td>\n",
       "      <td>21.000000</td>\n",
       "      <td>21.000000</td>\n",
       "      <td>1287.500000</td>\n",
       "      <td>1311.000000</td>\n",
       "      <td>69.000000</td>\n",
       "    </tr>\n",
       "    <tr>\n",
       "      <th>max</th>\n",
       "      <td>2069.000000</td>\n",
       "      <td>2069.000000</td>\n",
       "      <td>2069.000000</td>\n",
       "      <td>169.000000</td>\n",
       "      <td>169.000000</td>\n",
       "      <td>100.000000</td>\n",
       "      <td>99.000000</td>\n",
       "      <td>95.000000</td>\n",
       "      <td>2069.000000</td>\n",
       "      <td>2069.000000</td>\n",
       "      <td>86.000000</td>\n",
       "    </tr>\n",
       "  </tbody>\n",
       "</table>\n",
       "</div>"
      ],
      "text/plain": [
       "             sales  lag_w1_sales  lag_w2_sales     returns  lag_1_returns  \\\n",
       "count   195.000000    195.000000    195.000000  195.000000     195.000000   \n",
       "mean    799.784615    802.287179    783.882051   13.235897      13.897436   \n",
       "std     590.610513    608.545502    610.746021   23.400937      23.660828   \n",
       "min      44.000000     97.000000     97.000000    0.000000       0.000000   \n",
       "25%     292.500000    297.500000    280.500000    1.000000       1.000000   \n",
       "50%     596.000000    498.000000    442.000000    4.000000       4.000000   \n",
       "75%    1291.500000   1401.500000   1350.000000   16.000000      16.500000   \n",
       "max    2069.000000   2069.000000   2069.000000  169.000000     169.000000   \n",
       "\n",
       "           mkt_pr  sale_price     lag1_SP     lag_day1     lag_day2  \\\n",
       "count  195.000000  195.000000  195.000000   195.000000   195.000000   \n",
       "mean    21.794872   20.958974   20.584615   798.912821   803.056410   \n",
       "std     20.982540   20.437694   19.665679   590.820151   598.104585   \n",
       "min      4.000000    6.000000    6.000000    44.000000    44.000000   \n",
       "25%      8.000000    7.000000    7.000000   292.500000   290.500000   \n",
       "50%     14.000000   13.000000   13.000000   569.000000   553.000000   \n",
       "75%     23.000000   21.000000   21.000000  1287.500000  1311.000000   \n",
       "max    100.000000   99.000000   95.000000  2069.000000  2069.000000   \n",
       "\n",
       "            skuid  \n",
       "count  195.000000  \n",
       "mean    52.800000  \n",
       "std     21.281036  \n",
       "min     31.000000  \n",
       "25%     35.000000  \n",
       "50%     43.000000  \n",
       "75%     69.000000  \n",
       "max     86.000000  "
      ]
     },
     "execution_count": 5,
     "metadata": {},
     "output_type": "execute_result"
    }
   ],
   "source": [
    "sales.describe()"
   ]
  },
  {
   "cell_type": "code",
   "execution_count": 6,
   "metadata": {
    "collapsed": false
   },
   "outputs": [
    {
     "data": {
      "text/plain": [
       "array(['Coriander', 'Cucumber (Indian)', 'Green peas', 'Potato',\n",
       "       'Tomato (hybrid)'], dtype=object)"
      ]
     },
     "execution_count": 6,
     "metadata": {},
     "output_type": "execute_result"
    }
   ],
   "source": [
    "sales['sku'].unique()"
   ]
  },
  {
   "cell_type": "code",
   "execution_count": 7,
   "metadata": {
    "collapsed": false
   },
   "outputs": [
    {
     "data": {
      "text/html": [
       "<div>\n",
       "<table border=\"1\" class=\"dataframe\">\n",
       "  <thead>\n",
       "    <tr style=\"text-align: right;\">\n",
       "      <th></th>\n",
       "      <th>key</th>\n",
       "      <th>sku</th>\n",
       "      <th>date</th>\n",
       "      <th>sales</th>\n",
       "      <th>lag_w1_sales</th>\n",
       "      <th>lag_w2_sales</th>\n",
       "      <th>returns</th>\n",
       "      <th>lag_1_returns</th>\n",
       "      <th>mkt_pr</th>\n",
       "      <th>sale_price</th>\n",
       "      <th>lag1_SP</th>\n",
       "      <th>lag_day1</th>\n",
       "      <th>lag_day2</th>\n",
       "      <th>skuid</th>\n",
       "    </tr>\n",
       "  </thead>\n",
       "  <tbody>\n",
       "    <tr>\n",
       "      <th>0</th>\n",
       "      <td>Coriander_42427</td>\n",
       "      <td>Coriander</td>\n",
       "      <td>2016-02-27</td>\n",
       "      <td>306</td>\n",
       "      <td>538</td>\n",
       "      <td>398</td>\n",
       "      <td>0</td>\n",
       "      <td>20</td>\n",
       "      <td>5</td>\n",
       "      <td>6</td>\n",
       "      <td>6</td>\n",
       "      <td>371</td>\n",
       "      <td>417</td>\n",
       "      <td>69</td>\n",
       "    </tr>\n",
       "  </tbody>\n",
       "</table>\n",
       "</div>"
      ],
      "text/plain": [
       "               key        sku        date  sales  lag_w1_sales  lag_w2_sales  \\\n",
       "0  Coriander_42427  Coriander  2016-02-27    306           538           398   \n",
       "\n",
       "   returns  lag_1_returns  mkt_pr  sale_price  lag1_SP  lag_day1  lag_day2  \\\n",
       "0        0             20       5           6        6       371       417   \n",
       "\n",
       "   skuid  \n",
       "0     69  "
      ]
     },
     "execution_count": 7,
     "metadata": {},
     "output_type": "execute_result"
    }
   ],
   "source": [
    "sales.head(1)"
   ]
  },
  {
   "cell_type": "code",
   "execution_count": 8,
   "metadata": {
    "collapsed": true
   },
   "outputs": [],
   "source": [
    "sales_sorted = sales.sort_values('date')"
   ]
  },
  {
   "cell_type": "code",
   "execution_count": 11,
   "metadata": {
    "collapsed": false
   },
   "outputs": [],
   "source": [
    "sales_coriander = sales_sorted[sales_sorted['sku'] == 'Coriander']"
   ]
  },
  {
   "cell_type": "code",
   "execution_count": 10,
   "metadata": {
    "collapsed": true
   },
   "outputs": [],
   "source": [
    "import matplotlib.pyplot as plt\n",
    "%matplotlib inline"
   ]
  },
  {
   "cell_type": "code",
   "execution_count": 12,
   "metadata": {
    "collapsed": false
   },
   "outputs": [
    {
     "data": {
      "image/png": "[encoded data removed]",
      "text/plain": [
       "<matplotlib.figure.Figure at 0x9379320>"
      ]
     },
     "metadata": {},
     "output_type": "display_data"
    }
   ],
   "source": [
    "plt.plot(sales_coriander['sales'])\n",
    "plt.show()"
   ]
  },
  {
   "cell_type": "code",
   "execution_count": 13,
   "metadata": {
    "collapsed": false
   },
   "outputs": [
    {
     "data": {
      "text/plain": [
       "count      39.000000\n",
       "mean      638.102564\n",
       "std       226.710086\n",
       "min       306.000000\n",
       "25%       438.000000\n",
       "50%       600.000000\n",
       "75%       851.000000\n",
       "max      1144.000000\n",
       "Name: sales, dtype: float64"
      ]
     },
     "execution_count": 13,
     "metadata": {},
     "output_type": "execute_result"
    }
   ],
   "source": [
    "sales_coriander['sales'].describe()"
   ]
  },
  {
   "cell_type": "code",
   "execution_count": 16,
   "metadata": {
    "collapsed": true
   },
   "outputs": [],
   "source": [
    "vegs = sales.groupby('sku')"
   ]
  },
  {
   "cell_type": "code",
   "execution_count": 17,
   "metadata": {
    "collapsed": false
   },
   "outputs": [
    {
     "data": {
      "text/html": [
       "<div>\n",
       "<table border=\"1\" class=\"dataframe\">\n",
       "  <thead>\n",
       "    <tr style=\"text-align: right;\">\n",
       "      <th></th>\n",
       "      <th>key</th>\n",
       "      <th>date</th>\n",
       "      <th>sales</th>\n",
       "      <th>lag_w1_sales</th>\n",
       "      <th>lag_w2_sales</th>\n",
       "      <th>returns</th>\n",
       "      <th>lag_1_returns</th>\n",
       "      <th>mkt_pr</th>\n",
       "      <th>sale_price</th>\n",
       "      <th>lag1_SP</th>\n",
       "      <th>lag_day1</th>\n",
       "      <th>lag_day2</th>\n",
       "      <th>skuid</th>\n",
       "    </tr>\n",
       "    <tr>\n",
       "      <th>sku</th>\n",
       "      <th></th>\n",
       "      <th></th>\n",
       "      <th></th>\n",
       "      <th></th>\n",
       "      <th></th>\n",
       "      <th></th>\n",
       "      <th></th>\n",
       "      <th></th>\n",
       "      <th></th>\n",
       "      <th></th>\n",
       "      <th></th>\n",
       "      <th></th>\n",
       "      <th></th>\n",
       "    </tr>\n",
       "  </thead>\n",
       "  <tbody>\n",
       "    <tr>\n",
       "      <th>Coriander</th>\n",
       "      <td>39</td>\n",
       "      <td>39</td>\n",
       "      <td>39</td>\n",
       "      <td>39</td>\n",
       "      <td>39</td>\n",
       "      <td>39</td>\n",
       "      <td>39</td>\n",
       "      <td>39</td>\n",
       "      <td>39</td>\n",
       "      <td>39</td>\n",
       "      <td>39</td>\n",
       "      <td>39</td>\n",
       "      <td>39</td>\n",
       "    </tr>\n",
       "    <tr>\n",
       "      <th>Cucumber (Indian)</th>\n",
       "      <td>39</td>\n",
       "      <td>39</td>\n",
       "      <td>39</td>\n",
       "      <td>39</td>\n",
       "      <td>39</td>\n",
       "      <td>39</td>\n",
       "      <td>39</td>\n",
       "      <td>39</td>\n",
       "      <td>39</td>\n",
       "      <td>39</td>\n",
       "      <td>39</td>\n",
       "      <td>39</td>\n",
       "      <td>39</td>\n",
       "    </tr>\n",
       "    <tr>\n",
       "      <th>Green peas</th>\n",
       "      <td>39</td>\n",
       "      <td>39</td>\n",
       "      <td>39</td>\n",
       "      <td>39</td>\n",
       "      <td>39</td>\n",
       "      <td>39</td>\n",
       "      <td>39</td>\n",
       "      <td>39</td>\n",
       "      <td>39</td>\n",
       "      <td>39</td>\n",
       "      <td>39</td>\n",
       "      <td>39</td>\n",
       "      <td>39</td>\n",
       "    </tr>\n",
       "    <tr>\n",
       "      <th>Potato</th>\n",
       "      <td>39</td>\n",
       "      <td>39</td>\n",
       "      <td>39</td>\n",
       "      <td>39</td>\n",
       "      <td>39</td>\n",
       "      <td>39</td>\n",
       "      <td>39</td>\n",
       "      <td>39</td>\n",
       "      <td>39</td>\n",
       "      <td>39</td>\n",
       "      <td>39</td>\n",
       "      <td>39</td>\n",
       "      <td>39</td>\n",
       "    </tr>\n",
       "    <tr>\n",
       "      <th>Tomato (hybrid)</th>\n",
       "      <td>39</td>\n",
       "      <td>39</td>\n",
       "      <td>39</td>\n",
       "      <td>39</td>\n",
       "      <td>39</td>\n",
       "      <td>39</td>\n",
       "      <td>39</td>\n",
       "      <td>39</td>\n",
       "      <td>39</td>\n",
       "      <td>39</td>\n",
       "      <td>39</td>\n",
       "      <td>39</td>\n",
       "      <td>39</td>\n",
       "    </tr>\n",
       "  </tbody>\n",
       "</table>\n",
       "</div>"
      ],
      "text/plain": [
       "                   key  date  sales  lag_w1_sales  lag_w2_sales  returns  \\\n",
       "sku                                                                        \n",
       "Coriander           39    39     39            39            39       39   \n",
       "Cucumber (Indian)   39    39     39            39            39       39   \n",
       "Green peas          39    39     39            39            39       39   \n",
       "Potato              39    39     39            39            39       39   \n",
       "Tomato (hybrid)     39    39     39            39            39       39   \n",
       "\n",
       "                   lag_1_returns  mkt_pr  sale_price  lag1_SP  lag_day1  \\\n",
       "sku                                                                       \n",
       "Coriander                     39      39          39       39        39   \n",
       "Cucumber (Indian)             39      39          39       39        39   \n",
       "Green peas                    39      39          39       39        39   \n",
       "Potato                        39      39          39       39        39   \n",
       "Tomato (hybrid)               39      39          39       39        39   \n",
       "\n",
       "                   lag_day2  skuid  \n",
       "sku                                 \n",
       "Coriander                39     39  \n",
       "Cucumber (Indian)        39     39  \n",
       "Green peas               39     39  \n",
       "Potato                   39     39  \n",
       "Tomato (hybrid)          39     39  "
      ]
     },
     "execution_count": 17,
     "metadata": {},
     "output_type": "execute_result"
    }
   ],
   "source": [
    "vegs.count()"
   ]
  },
  {
   "cell_type": "code",
   "execution_count": 18,
   "metadata": {
    "collapsed": true
   },
   "outputs": [],
   "source": [
    "import numpy as np"
   ]
  },
  {
   "cell_type": "code",
   "execution_count": 21,
   "metadata": {
    "collapsed": false
   },
   "outputs": [
    {
     "data": {
      "text/plain": [
       "array([27])"
      ]
     },
     "execution_count": 21,
     "metadata": {},
     "output_type": "execute_result"
    }
   ],
   "source": [
    "np.correlate([1,2,3],[14,5,1])"
   ]
  },
  {
   "cell_type": "code",
   "execution_count": 32,
   "metadata": {
    "collapsed": false
   },
   "outputs": [],
   "source": [
    "xl = pd.read_excel(r'C:\\Users\\ZekeLabs\\Downloads\\Predictior_variables_raw.xlsx',index_col='key')"
   ]
  },
  {
   "cell_type": "code",
   "execution_count": 33,
   "metadata": {
    "collapsed": false
   },
   "outputs": [
    {
     "data": {
      "text/html": [
       "<div>\n",
       "<table border=\"1\" class=\"dataframe\">\n",
       "  <thead>\n",
       "    <tr style=\"text-align: right;\">\n",
       "      <th></th>\n",
       "      <th>sku</th>\n",
       "      <th>date</th>\n",
       "      <th>sales</th>\n",
       "      <th>lag_w1_sales</th>\n",
       "      <th>lag_w2_sales</th>\n",
       "      <th>returns</th>\n",
       "      <th>lag_1_returns</th>\n",
       "      <th>mkt_pr</th>\n",
       "      <th>sale_price</th>\n",
       "      <th>lag1_SP</th>\n",
       "      <th>lag_day1</th>\n",
       "      <th>lag_day2</th>\n",
       "      <th>skuid</th>\n",
       "    </tr>\n",
       "    <tr>\n",
       "      <th>key</th>\n",
       "      <th></th>\n",
       "      <th></th>\n",
       "      <th></th>\n",
       "      <th></th>\n",
       "      <th></th>\n",
       "      <th></th>\n",
       "      <th></th>\n",
       "      <th></th>\n",
       "      <th></th>\n",
       "      <th></th>\n",
       "      <th></th>\n",
       "      <th></th>\n",
       "      <th></th>\n",
       "    </tr>\n",
       "  </thead>\n",
       "  <tbody>\n",
       "    <tr>\n",
       "      <th>Coriander_42427</th>\n",
       "      <td>Coriander</td>\n",
       "      <td>2016-02-27</td>\n",
       "      <td>306</td>\n",
       "      <td>538</td>\n",
       "      <td>398</td>\n",
       "      <td>0</td>\n",
       "      <td>20</td>\n",
       "      <td>5</td>\n",
       "      <td>6</td>\n",
       "      <td>6</td>\n",
       "      <td>371</td>\n",
       "      <td>417</td>\n",
       "      <td>69</td>\n",
       "    </tr>\n",
       "    <tr>\n",
       "      <th>Coriander_42428</th>\n",
       "      <td>Coriander</td>\n",
       "      <td>2016-02-28</td>\n",
       "      <td>398</td>\n",
       "      <td>428</td>\n",
       "      <td>538</td>\n",
       "      <td>0</td>\n",
       "      <td>0</td>\n",
       "      <td>5</td>\n",
       "      <td>6</td>\n",
       "      <td>6</td>\n",
       "      <td>306</td>\n",
       "      <td>371</td>\n",
       "      <td>69</td>\n",
       "    </tr>\n",
       "    <tr>\n",
       "      <th>Coriander_42429</th>\n",
       "      <td>Coriander</td>\n",
       "      <td>2016-02-29</td>\n",
       "      <td>434</td>\n",
       "      <td>500</td>\n",
       "      <td>433</td>\n",
       "      <td>6</td>\n",
       "      <td>0</td>\n",
       "      <td>5</td>\n",
       "      <td>6</td>\n",
       "      <td>6</td>\n",
       "      <td>398</td>\n",
       "      <td>306</td>\n",
       "      <td>69</td>\n",
       "    </tr>\n",
       "    <tr>\n",
       "      <th>Coriander_42430</th>\n",
       "      <td>Coriander</td>\n",
       "      <td>2016-03-01</td>\n",
       "      <td>314</td>\n",
       "      <td>405</td>\n",
       "      <td>381</td>\n",
       "      <td>0</td>\n",
       "      <td>6</td>\n",
       "      <td>5</td>\n",
       "      <td>6</td>\n",
       "      <td>6</td>\n",
       "      <td>434</td>\n",
       "      <td>398</td>\n",
       "      <td>69</td>\n",
       "    </tr>\n",
       "    <tr>\n",
       "      <th>Coriander_42431</th>\n",
       "      <td>Coriander</td>\n",
       "      <td>2016-03-02</td>\n",
       "      <td>424</td>\n",
       "      <td>446</td>\n",
       "      <td>386</td>\n",
       "      <td>2</td>\n",
       "      <td>0</td>\n",
       "      <td>5</td>\n",
       "      <td>6</td>\n",
       "      <td>6</td>\n",
       "      <td>314</td>\n",
       "      <td>434</td>\n",
       "      <td>69</td>\n",
       "    </tr>\n",
       "  </tbody>\n",
       "</table>\n",
       "</div>"
      ],
      "text/plain": [
       "                       sku       date  sales  lag_w1_sales  lag_w2_sales  \\\n",
       "key                                                                        \n",
       "Coriander_42427  Coriander 2016-02-27    306           538           398   \n",
       "Coriander_42428  Coriander 2016-02-28    398           428           538   \n",
       "Coriander_42429  Coriander 2016-02-29    434           500           433   \n",
       "Coriander_42430  Coriander 2016-03-01    314           405           381   \n",
       "Coriander_42431  Coriander 2016-03-02    424           446           386   \n",
       "\n",
       "                 returns  lag_1_returns  mkt_pr  sale_price  lag1_SP  \\\n",
       "key                                                                    \n",
       "Coriander_42427        0             20       5           6        6   \n",
       "Coriander_42428        0              0       5           6        6   \n",
       "Coriander_42429        6              0       5           6        6   \n",
       "Coriander_42430        0              6       5           6        6   \n",
       "Coriander_42431        2              0       5           6        6   \n",
       "\n",
       "                 lag_day1  lag_day2  skuid  \n",
       "key                                         \n",
       "Coriander_42427       371       417     69  \n",
       "Coriander_42428       306       371     69  \n",
       "Coriander_42429       398       306     69  \n",
       "Coriander_42430       434       398     69  \n",
       "Coriander_42431       314       434     69  "
      ]
     },
     "execution_count": 33,
     "metadata": {},
     "output_type": "execute_result"
    }
   ],
   "source": [
    "xl.head()"
   ]
  },
  {
   "cell_type": "code",
   "execution_count": 31,
   "metadata": {
    "collapsed": false
   },
   "outputs": [
    {
     "data": {
      "text/html": [
       "<div>\n",
       "<table border=\"1\" class=\"dataframe\">\n",
       "  <thead>\n",
       "    <tr style=\"text-align: right;\">\n",
       "      <th></th>\n",
       "      <th>key</th>\n",
       "      <th>date</th>\n",
       "      <th>sales</th>\n",
       "      <th>lag_w1_sales</th>\n",
       "      <th>lag_w2_sales</th>\n",
       "      <th>returns</th>\n",
       "      <th>lag_1_returns</th>\n",
       "      <th>mkt_pr</th>\n",
       "      <th>sale_price</th>\n",
       "      <th>lag1_SP</th>\n",
       "      <th>lag_day1</th>\n",
       "      <th>lag_day2</th>\n",
       "      <th>skuid</th>\n",
       "    </tr>\n",
       "    <tr>\n",
       "      <th>sku</th>\n",
       "      <th></th>\n",
       "      <th></th>\n",
       "      <th></th>\n",
       "      <th></th>\n",
       "      <th></th>\n",
       "      <th></th>\n",
       "      <th></th>\n",
       "      <th></th>\n",
       "      <th></th>\n",
       "      <th></th>\n",
       "      <th></th>\n",
       "      <th></th>\n",
       "      <th></th>\n",
       "    </tr>\n",
       "  </thead>\n",
       "  <tbody>\n",
       "    <tr>\n",
       "      <th>Coriander</th>\n",
       "      <td>Coriander_42427</td>\n",
       "      <td>2016-02-27</td>\n",
       "      <td>306</td>\n",
       "      <td>538</td>\n",
       "      <td>398</td>\n",
       "      <td>0</td>\n",
       "      <td>20</td>\n",
       "      <td>5</td>\n",
       "      <td>6</td>\n",
       "      <td>6</td>\n",
       "      <td>371</td>\n",
       "      <td>417</td>\n",
       "      <td>69</td>\n",
       "    </tr>\n",
       "  </tbody>\n",
       "</table>\n",
       "</div>"
      ],
      "text/plain": [
       "                       key       date  sales  lag_w1_sales  lag_w2_sales  \\\n",
       "sku                                                                        \n",
       "Coriander  Coriander_42427 2016-02-27    306           538           398   \n",
       "\n",
       "           returns  lag_1_returns  mkt_pr  sale_price  lag1_SP  lag_day1  \\\n",
       "sku                                                                        \n",
       "Coriander        0             20       5           6        6       371   \n",
       "\n",
       "           lag_day2  skuid  \n",
       "sku                         \n",
       "Coriander       417     69  "
      ]
     },
     "execution_count": 31,
     "metadata": {},
     "output_type": "execute_result"
    }
   ],
   "source": [
    "xl.head(1)"
   ]
  },
  {
   "cell_type": "code",
   "execution_count": 55,
   "metadata": {
    "collapsed": true
   },
   "outputs": [],
   "source": [
    "d = pd.DataFrame(data={'marks':[1,2,3,4,5]})"
   ]
  },
  {
   "cell_type": "code",
   "execution_count": 56,
   "metadata": {
    "collapsed": false
   },
   "outputs": [],
   "source": [
    "r2 = d[['marks']].rolling(2)"
   ]
  },
  {
   "cell_type": "code",
   "execution_count": 57,
   "metadata": {
    "collapsed": false
   },
   "outputs": [],
   "source": [
    "d['mean'] = r2.mean()"
   ]
  },
  {
   "cell_type": "code",
   "execution_count": 58,
   "metadata": {
    "collapsed": false
   },
   "outputs": [],
   "source": [
    "d = d.dropna()"
   ]
  },
  {
   "cell_type": "code",
   "execution_count": 59,
   "metadata": {
    "collapsed": false
   },
   "outputs": [
    {
     "data": {
      "text/html": [
       "<div>\n",
       "<table border=\"1\" class=\"dataframe\">\n",
       "  <thead>\n",
       "    <tr style=\"text-align: right;\">\n",
       "      <th></th>\n",
       "      <th>marks</th>\n",
       "      <th>mean</th>\n",
       "    </tr>\n",
       "  </thead>\n",
       "  <tbody>\n",
       "    <tr>\n",
       "      <th>1</th>\n",
       "      <td>2</td>\n",
       "      <td>1.5</td>\n",
       "    </tr>\n",
       "    <tr>\n",
       "      <th>2</th>\n",
       "      <td>3</td>\n",
       "      <td>2.5</td>\n",
       "    </tr>\n",
       "    <tr>\n",
       "      <th>3</th>\n",
       "      <td>4</td>\n",
       "      <td>3.5</td>\n",
       "    </tr>\n",
       "    <tr>\n",
       "      <th>4</th>\n",
       "      <td>5</td>\n",
       "      <td>4.5</td>\n",
       "    </tr>\n",
       "  </tbody>\n",
       "</table>\n",
       "</div>"
      ],
      "text/plain": [
       "   marks  mean\n",
       "1      2   1.5\n",
       "2      3   2.5\n",
       "3      4   3.5\n",
       "4      5   4.5"
      ]
     },
     "execution_count": 59,
     "metadata": {},
     "output_type": "execute_result"
    }
   ],
   "source": [
    "d"
   ]
  },
  {
   "cell_type": "code",
   "execution_count": 60,
   "metadata": {
    "collapsed": false
   },
   "outputs": [],
   "source": [
    "def f(r):\n",
    "    if r['mean'] < 3:\n",
    "        return 3\n",
    "    else:\n",
    "        return r['mean']\n",
    "    \n",
    "d['info'] = d.apply(f,axis=1)"
   ]
  },
  {
   "cell_type": "code",
   "execution_count": 52,
   "metadata": {
    "collapsed": false
   },
   "outputs": [
    {
     "data": {
      "text/html": [
       "<div>\n",
       "<table border=\"1\" class=\"dataframe\">\n",
       "  <thead>\n",
       "    <tr style=\"text-align: right;\">\n",
       "      <th></th>\n",
       "      <th>marks</th>\n",
       "      <th>mean</th>\n",
       "      <th>info</th>\n",
       "    </tr>\n",
       "  </thead>\n",
       "  <tbody>\n",
       "    <tr>\n",
       "      <th>1</th>\n",
       "      <td>2</td>\n",
       "      <td>1.5</td>\n",
       "      <td>3.0</td>\n",
       "    </tr>\n",
       "    <tr>\n",
       "      <th>2</th>\n",
       "      <td>3</td>\n",
       "      <td>2.5</td>\n",
       "      <td>3.0</td>\n",
       "    </tr>\n",
       "    <tr>\n",
       "      <th>3</th>\n",
       "      <td>4</td>\n",
       "      <td>3.5</td>\n",
       "      <td>3.5</td>\n",
       "    </tr>\n",
       "    <tr>\n",
       "      <th>4</th>\n",
       "      <td>5</td>\n",
       "      <td>4.5</td>\n",
       "      <td>4.5</td>\n",
       "    </tr>\n",
       "  </tbody>\n",
       "</table>\n",
       "</div>"
      ],
      "text/plain": [
       "   marks  mean  info\n",
       "1      2   1.5   3.0\n",
       "2      3   2.5   3.0\n",
       "3      4   3.5   3.5\n",
       "4      5   4.5   4.5"
      ]
     },
     "execution_count": 52,
     "metadata": {},
     "output_type": "execute_result"
    }
   ],
   "source": [
    "d"
   ]
  },
  {
   "cell_type": "code",
   "execution_count": 71,
   "metadata": {
    "collapsed": false
   },
   "outputs": [
    {
     "name": "stdout",
     "output_type": "stream",
     "text": [
      "14.0\n",
      "12.0\n",
      "14.0\n",
      "0.0\n"
     ]
    },
    {
     "data": {
      "text/html": [
       "<div>\n",
       "<table border=\"1\" class=\"dataframe\">\n",
       "  <thead>\n",
       "    <tr style=\"text-align: right;\">\n",
       "      <th></th>\n",
       "      <th>0</th>\n",
       "    </tr>\n",
       "  </thead>\n",
       "  <tbody>\n",
       "    <tr>\n",
       "      <th>marks</th>\n",
       "      <td>1</td>\n",
       "    </tr>\n",
       "    <tr>\n",
       "      <th>mean</th>\n",
       "      <td>1</td>\n",
       "    </tr>\n",
       "    <tr>\n",
       "      <th>info</th>\n",
       "      <td>1</td>\n",
       "    </tr>\n",
       "    <tr>\n",
       "      <th>minfo</th>\n",
       "      <td>1</td>\n",
       "    </tr>\n",
       "  </tbody>\n",
       "</table>\n",
       "</div>"
      ],
      "text/plain": [
       "       0\n",
       "marks  1\n",
       "mean   1\n",
       "info   1\n",
       "minfo  1"
      ]
     },
     "execution_count": 71,
     "metadata": {},
     "output_type": "execute_result"
    }
   ],
   "source": [
    "def f(r):\n",
    "    print r.sum()\n",
    "    return 1\n",
    "    \n",
    "pd.DataFrame(data=d.apply(f))"
   ]
  },
  {
   "cell_type": "code",
   "execution_count": 67,
   "metadata": {
    "collapsed": false
   },
   "outputs": [
    {
     "data": {
      "text/html": [
       "<div>\n",
       "<table border=\"1\" class=\"dataframe\">\n",
       "  <thead>\n",
       "    <tr style=\"text-align: right;\">\n",
       "      <th></th>\n",
       "      <th>marks</th>\n",
       "      <th>mean</th>\n",
       "      <th>info</th>\n",
       "      <th>minfo</th>\n",
       "    </tr>\n",
       "  </thead>\n",
       "  <tbody>\n",
       "    <tr>\n",
       "      <th>1</th>\n",
       "      <td>2</td>\n",
       "      <td>1.5</td>\n",
       "      <td>3.0</td>\n",
       "      <td>NaN</td>\n",
       "    </tr>\n",
       "    <tr>\n",
       "      <th>2</th>\n",
       "      <td>3</td>\n",
       "      <td>2.5</td>\n",
       "      <td>3.0</td>\n",
       "      <td>NaN</td>\n",
       "    </tr>\n",
       "    <tr>\n",
       "      <th>3</th>\n",
       "      <td>4</td>\n",
       "      <td>3.5</td>\n",
       "      <td>3.5</td>\n",
       "      <td>NaN</td>\n",
       "    </tr>\n",
       "    <tr>\n",
       "      <th>4</th>\n",
       "      <td>5</td>\n",
       "      <td>4.5</td>\n",
       "      <td>4.5</td>\n",
       "      <td>NaN</td>\n",
       "    </tr>\n",
       "  </tbody>\n",
       "</table>\n",
       "</div>"
      ],
      "text/plain": [
       "   marks  mean  info  minfo\n",
       "1      2   1.5   3.0    NaN\n",
       "2      3   2.5   3.0    NaN\n",
       "3      4   3.5   3.5    NaN\n",
       "4      5   4.5   4.5    NaN"
      ]
     },
     "execution_count": 67,
     "metadata": {},
     "output_type": "execute_result"
    }
   ],
   "source": [
    "d"
   ]
  },
  {
   "cell_type": "code",
   "execution_count": 73,
   "metadata": {
    "collapsed": false
   },
   "outputs": [],
   "source": [
    "d['new_mean'] = d['mean'].apply(lambda x:x+1)"
   ]
  },
  {
   "cell_type": "code",
   "execution_count": 74,
   "metadata": {
    "collapsed": false
   },
   "outputs": [
    {
     "data": {
      "text/html": [
       "<div>\n",
       "<table border=\"1\" class=\"dataframe\">\n",
       "  <thead>\n",
       "    <tr style=\"text-align: right;\">\n",
       "      <th></th>\n",
       "      <th>marks</th>\n",
       "      <th>mean</th>\n",
       "      <th>info</th>\n",
       "      <th>minfo</th>\n",
       "      <th>new_mean</th>\n",
       "    </tr>\n",
       "  </thead>\n",
       "  <tbody>\n",
       "    <tr>\n",
       "      <th>1</th>\n",
       "      <td>2</td>\n",
       "      <td>1.5</td>\n",
       "      <td>3.0</td>\n",
       "      <td>NaN</td>\n",
       "      <td>2.5</td>\n",
       "    </tr>\n",
       "    <tr>\n",
       "      <th>2</th>\n",
       "      <td>3</td>\n",
       "      <td>2.5</td>\n",
       "      <td>3.0</td>\n",
       "      <td>NaN</td>\n",
       "      <td>3.5</td>\n",
       "    </tr>\n",
       "    <tr>\n",
       "      <th>3</th>\n",
       "      <td>4</td>\n",
       "      <td>3.5</td>\n",
       "      <td>3.5</td>\n",
       "      <td>NaN</td>\n",
       "      <td>4.5</td>\n",
       "    </tr>\n",
       "    <tr>\n",
       "      <th>4</th>\n",
       "      <td>5</td>\n",
       "      <td>4.5</td>\n",
       "      <td>4.5</td>\n",
       "      <td>NaN</td>\n",
       "      <td>5.5</td>\n",
       "    </tr>\n",
       "  </tbody>\n",
       "</table>\n",
       "</div>"
      ],
      "text/plain": [
       "   marks  mean  info  minfo  new_mean\n",
       "1      2   1.5   3.0    NaN       2.5\n",
       "2      3   2.5   3.0    NaN       3.5\n",
       "3      4   3.5   3.5    NaN       4.5\n",
       "4      5   4.5   4.5    NaN       5.5"
      ]
     },
     "execution_count": 74,
     "metadata": {},
     "output_type": "execute_result"
    }
   ],
   "source": [
    "d"
   ]
  },
  {
   "cell_type": "code",
   "execution_count": null,
   "metadata": {
    "collapsed": true
   },
   "outputs": [],
   "source": []
  }
 ],
 "metadata": {
  "kernelspec": {
   "display_name": "Python [conda env:gl-env]",
   "language": "python",
   "name": "conda-env-gl-env-py"
  },
  "language_info": {
   "codemirror_mode": {
    "name": "ipython",
    "version": 2
   },
   "file_extension": ".py",
   "mimetype": "text/x-python",
   "name": "python",
   "nbconvert_exporter": "python",
   "pygments_lexer": "ipython2",
   "version": "2.7.11"
  }
 },
 "nbformat": 4,
 "nbformat_minor": 1
}
