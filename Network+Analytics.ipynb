{
 "cells": [
  {
   "cell_type": "code",
   "execution_count": 1,
   "metadata": {
    "collapsed": true
   },
   "outputs": [],
   "source": [
    "import graphlab as gl"
   ]
  },
  {
   "cell_type": "code",
   "execution_count": 3,
   "metadata": {
    "collapsed": false
   },
   "outputs": [
    {
     "data": {
      "text/html": [
       "<pre>Finished parsing file D:\\output_http_csic_2010_weka_with_duplications_RAW-RFC2616_escd_v02_full.csv</pre>"
      ],
      "text/plain": [
       "Finished parsing file D:\\output_http_csic_2010_weka_with_duplications_RAW-RFC2616_escd_v02_full.csv"
      ]
     },
     "metadata": {},
     "output_type": "display_data"
    },
    {
     "data": {
      "text/html": [
       "<pre>Parsing completed. Parsed 100 lines in 2.96551 secs.</pre>"
      ],
      "text/plain": [
       "Parsing completed. Parsed 100 lines in 2.96551 secs."
      ]
     },
     "metadata": {},
     "output_type": "display_data"
    },
    {
     "name": "stdout",
     "output_type": "stream",
     "text": [
      "------------------------------------------------------\n",
      "Inferred types from first 100 line(s) of file as \n",
      "column_type_hints=[long,str,str,str,str,str,str,str,str,str,str,str,str,str,str,str,str,str]\n",
      "If parsing fails due to incorrect types, you can correct\n",
      "the inferred type list above and pass it to read_csv in\n",
      "the column_type_hints argument\n",
      "------------------------------------------------------\n"
     ]
    },
    {
     "data": {
      "text/html": [
       "<pre>Read 118011 lines. Lines per second: 50414.6</pre>"
      ],
      "text/plain": [
       "Read 118011 lines. Lines per second: 50414.6"
      ]
     },
     "metadata": {},
     "output_type": "display_data"
    },
    {
     "data": {
      "text/html": [
       "<pre>Finished parsing file D:\\output_http_csic_2010_weka_with_duplications_RAW-RFC2616_escd_v02_full.csv</pre>"
      ],
      "text/plain": [
       "Finished parsing file D:\\output_http_csic_2010_weka_with_duplications_RAW-RFC2616_escd_v02_full.csv"
      ]
     },
     "metadata": {},
     "output_type": "display_data"
    },
    {
     "data": {
      "text/html": [
       "<pre>Parsing completed. Parsed 223585 lines in 2.67443 secs.</pre>"
      ],
      "text/plain": [
       "Parsing completed. Parsed 223585 lines in 2.67443 secs."
      ]
     },
     "metadata": {},
     "output_type": "display_data"
    }
   ],
   "source": [
    "data = gl.SFrame('D:\\output_http_csic_2010_weka_with_duplications_RAW-RFC2616_escd_v02_full.csv')"
   ]
  },
  {
   "cell_type": "code",
   "execution_count": 4,
   "metadata": {
    "collapsed": false
   },
   "outputs": [
    {
     "data": {
      "text/html": [
       "<div style=\"max-height:1000px;max-width:1500px;overflow:auto;\"><table frame=\"box\" rules=\"cols\">\n",
       "    <tr>\n",
       "        <th style=\"padding-left: 1em; padding-right: 1em; text-align: center\">index</th>\n",
       "        <th style=\"padding-left: 1em; padding-right: 1em; text-align: center\">method</th>\n",
       "        <th style=\"padding-left: 1em; padding-right: 1em; text-align: center\">url</th>\n",
       "        <th style=\"padding-left: 1em; padding-right: 1em; text-align: center\">protocol</th>\n",
       "        <th style=\"padding-left: 1em; padding-right: 1em; text-align: center\">userAgent</th>\n",
       "        <th style=\"padding-left: 1em; padding-right: 1em; text-align: center\">pragma</th>\n",
       "        <th style=\"padding-left: 1em; padding-right: 1em; text-align: center\">cacheControl</th>\n",
       "    </tr>\n",
       "    <tr>\n",
       "        <td style=\"padding-left: 1em; padding-right: 1em; text-align: center; vertical-align: top\">0</td>\n",
       "        <td style=\"padding-left: 1em; padding-right: 1em; text-align: center; vertical-align: top\">GET</td>\n",
       "        <td style=\"padding-left: 1em; padding-right: 1em; text-align: center; vertical-align: top\">http://localhost:8080/tie<br>nda1/publico/anadir.jsp ...</td>\n",
       "        <td style=\"padding-left: 1em; padding-right: 1em; text-align: center; vertical-align: top\">HTTP/1.1</td>\n",
       "        <td style=\"padding-left: 1em; padding-right: 1em; text-align: center; vertical-align: top\">Mozilla/5.0 (compatible;<br>Konqueror/3.5; Linux) ...</td>\n",
       "        <td style=\"padding-left: 1em; padding-right: 1em; text-align: center; vertical-align: top\">no-cache</td>\n",
       "        <td style=\"padding-left: 1em; padding-right: 1em; text-align: center; vertical-align: top\">no-cache</td>\n",
       "    </tr>\n",
       "    <tr>\n",
       "        <td style=\"padding-left: 1em; padding-right: 1em; text-align: center; vertical-align: top\">0</td>\n",
       "        <td style=\"padding-left: 1em; padding-right: 1em; text-align: center; vertical-align: top\">GET</td>\n",
       "        <td style=\"padding-left: 1em; padding-right: 1em; text-align: center; vertical-align: top\">http://localhost:8080/tie<br>nda1/publico/anadir.jsp ...</td>\n",
       "        <td style=\"padding-left: 1em; padding-right: 1em; text-align: center; vertical-align: top\">HTTP/1.1</td>\n",
       "        <td style=\"padding-left: 1em; padding-right: 1em; text-align: center; vertical-align: top\">Mozilla/5.0 (compatible;<br>Konqueror/3.5; Linux) ...</td>\n",
       "        <td style=\"padding-left: 1em; padding-right: 1em; text-align: center; vertical-align: top\">no-cache</td>\n",
       "        <td style=\"padding-left: 1em; padding-right: 1em; text-align: center; vertical-align: top\">no-cache</td>\n",
       "    </tr>\n",
       "    <tr>\n",
       "        <td style=\"padding-left: 1em; padding-right: 1em; text-align: center; vertical-align: top\">0</td>\n",
       "        <td style=\"padding-left: 1em; padding-right: 1em; text-align: center; vertical-align: top\">GET</td>\n",
       "        <td style=\"padding-left: 1em; padding-right: 1em; text-align: center; vertical-align: top\">http://localhost:8080/tie<br>nda1/publico/anadir.jsp ...</td>\n",
       "        <td style=\"padding-left: 1em; padding-right: 1em; text-align: center; vertical-align: top\">HTTP/1.1</td>\n",
       "        <td style=\"padding-left: 1em; padding-right: 1em; text-align: center; vertical-align: top\">Mozilla/5.0 (compatible;<br>Konqueror/3.5; Linux) ...</td>\n",
       "        <td style=\"padding-left: 1em; padding-right: 1em; text-align: center; vertical-align: top\">no-cache</td>\n",
       "        <td style=\"padding-left: 1em; padding-right: 1em; text-align: center; vertical-align: top\">no-cache</td>\n",
       "    </tr>\n",
       "    <tr>\n",
       "        <td style=\"padding-left: 1em; padding-right: 1em; text-align: center; vertical-align: top\">0</td>\n",
       "        <td style=\"padding-left: 1em; padding-right: 1em; text-align: center; vertical-align: top\">GET</td>\n",
       "        <td style=\"padding-left: 1em; padding-right: 1em; text-align: center; vertical-align: top\">http://localhost:8080/tie<br>nda1/publico/anadir.jsp ...</td>\n",
       "        <td style=\"padding-left: 1em; padding-right: 1em; text-align: center; vertical-align: top\">HTTP/1.1</td>\n",
       "        <td style=\"padding-left: 1em; padding-right: 1em; text-align: center; vertical-align: top\">Mozilla/5.0 (compatible;<br>Konqueror/3.5; Linux) ...</td>\n",
       "        <td style=\"padding-left: 1em; padding-right: 1em; text-align: center; vertical-align: top\">no-cache</td>\n",
       "        <td style=\"padding-left: 1em; padding-right: 1em; text-align: center; vertical-align: top\">no-cache</td>\n",
       "    </tr>\n",
       "    <tr>\n",
       "        <td style=\"padding-left: 1em; padding-right: 1em; text-align: center; vertical-align: top\">0</td>\n",
       "        <td style=\"padding-left: 1em; padding-right: 1em; text-align: center; vertical-align: top\">GET</td>\n",
       "        <td style=\"padding-left: 1em; padding-right: 1em; text-align: center; vertical-align: top\">http://localhost:8080/tie<br>nda1/publico/anadir.jsp ...</td>\n",
       "        <td style=\"padding-left: 1em; padding-right: 1em; text-align: center; vertical-align: top\">HTTP/1.1</td>\n",
       "        <td style=\"padding-left: 1em; padding-right: 1em; text-align: center; vertical-align: top\">Mozilla/5.0 (compatible;<br>Konqueror/3.5; Linux) ...</td>\n",
       "        <td style=\"padding-left: 1em; padding-right: 1em; text-align: center; vertical-align: top\">no-cache</td>\n",
       "        <td style=\"padding-left: 1em; padding-right: 1em; text-align: center; vertical-align: top\">no-cache</td>\n",
       "    </tr>\n",
       "    <tr>\n",
       "        <td style=\"padding-left: 1em; padding-right: 1em; text-align: center; vertical-align: top\">1</td>\n",
       "        <td style=\"padding-left: 1em; padding-right: 1em; text-align: center; vertical-align: top\">GET</td>\n",
       "        <td style=\"padding-left: 1em; padding-right: 1em; text-align: center; vertical-align: top\">http://localhost:8080/tie<br>nda1/publico/anadir.jsp ...</td>\n",
       "        <td style=\"padding-left: 1em; padding-right: 1em; text-align: center; vertical-align: top\">HTTP/1.1</td>\n",
       "        <td style=\"padding-left: 1em; padding-right: 1em; text-align: center; vertical-align: top\">Mozilla/5.0 (compatible;<br>Konqueror/3.5; Linux) ...</td>\n",
       "        <td style=\"padding-left: 1em; padding-right: 1em; text-align: center; vertical-align: top\">no-cache</td>\n",
       "        <td style=\"padding-left: 1em; padding-right: 1em; text-align: center; vertical-align: top\">no-cache</td>\n",
       "    </tr>\n",
       "    <tr>\n",
       "        <td style=\"padding-left: 1em; padding-right: 1em; text-align: center; vertical-align: top\">1</td>\n",
       "        <td style=\"padding-left: 1em; padding-right: 1em; text-align: center; vertical-align: top\">GET</td>\n",
       "        <td style=\"padding-left: 1em; padding-right: 1em; text-align: center; vertical-align: top\">http://localhost:8080/tie<br>nda1/publico/anadir.jsp ...</td>\n",
       "        <td style=\"padding-left: 1em; padding-right: 1em; text-align: center; vertical-align: top\">HTTP/1.1</td>\n",
       "        <td style=\"padding-left: 1em; padding-right: 1em; text-align: center; vertical-align: top\">Mozilla/5.0 (compatible;<br>Konqueror/3.5; Linux) ...</td>\n",
       "        <td style=\"padding-left: 1em; padding-right: 1em; text-align: center; vertical-align: top\">no-cache</td>\n",
       "        <td style=\"padding-left: 1em; padding-right: 1em; text-align: center; vertical-align: top\">no-cache</td>\n",
       "    </tr>\n",
       "    <tr>\n",
       "        <td style=\"padding-left: 1em; padding-right: 1em; text-align: center; vertical-align: top\">1</td>\n",
       "        <td style=\"padding-left: 1em; padding-right: 1em; text-align: center; vertical-align: top\">GET</td>\n",
       "        <td style=\"padding-left: 1em; padding-right: 1em; text-align: center; vertical-align: top\">http://localhost:8080/tie<br>nda1/publico/anadir.jsp ...</td>\n",
       "        <td style=\"padding-left: 1em; padding-right: 1em; text-align: center; vertical-align: top\">HTTP/1.1</td>\n",
       "        <td style=\"padding-left: 1em; padding-right: 1em; text-align: center; vertical-align: top\">Mozilla/5.0 (compatible;<br>Konqueror/3.5; Linux) ...</td>\n",
       "        <td style=\"padding-left: 1em; padding-right: 1em; text-align: center; vertical-align: top\">no-cache</td>\n",
       "        <td style=\"padding-left: 1em; padding-right: 1em; text-align: center; vertical-align: top\">no-cache</td>\n",
       "    </tr>\n",
       "    <tr>\n",
       "        <td style=\"padding-left: 1em; padding-right: 1em; text-align: center; vertical-align: top\">1</td>\n",
       "        <td style=\"padding-left: 1em; padding-right: 1em; text-align: center; vertical-align: top\">GET</td>\n",
       "        <td style=\"padding-left: 1em; padding-right: 1em; text-align: center; vertical-align: top\">http://localhost:8080/tie<br>nda1/publico/anadir.jsp ...</td>\n",
       "        <td style=\"padding-left: 1em; padding-right: 1em; text-align: center; vertical-align: top\">HTTP/1.1</td>\n",
       "        <td style=\"padding-left: 1em; padding-right: 1em; text-align: center; vertical-align: top\">Mozilla/5.0 (compatible;<br>Konqueror/3.5; Linux) ...</td>\n",
       "        <td style=\"padding-left: 1em; padding-right: 1em; text-align: center; vertical-align: top\">no-cache</td>\n",
       "        <td style=\"padding-left: 1em; padding-right: 1em; text-align: center; vertical-align: top\">no-cache</td>\n",
       "    </tr>\n",
       "    <tr>\n",
       "        <td style=\"padding-left: 1em; padding-right: 1em; text-align: center; vertical-align: top\">1</td>\n",
       "        <td style=\"padding-left: 1em; padding-right: 1em; text-align: center; vertical-align: top\">GET</td>\n",
       "        <td style=\"padding-left: 1em; padding-right: 1em; text-align: center; vertical-align: top\">http://localhost:8080/tie<br>nda1/publico/anadir.jsp ...</td>\n",
       "        <td style=\"padding-left: 1em; padding-right: 1em; text-align: center; vertical-align: top\">HTTP/1.1</td>\n",
       "        <td style=\"padding-left: 1em; padding-right: 1em; text-align: center; vertical-align: top\">Mozilla/5.0 (compatible;<br>Konqueror/3.5; Linux) ...</td>\n",
       "        <td style=\"padding-left: 1em; padding-right: 1em; text-align: center; vertical-align: top\">no-cache</td>\n",
       "        <td style=\"padding-left: 1em; padding-right: 1em; text-align: center; vertical-align: top\">no-cache</td>\n",
       "    </tr>\n",
       "</table>\n",
       "<table frame=\"box\" rules=\"cols\">\n",
       "    <tr>\n",
       "        <th style=\"padding-left: 1em; padding-right: 1em; text-align: center\">accept</th>\n",
       "        <th style=\"padding-left: 1em; padding-right: 1em; text-align: center\">acceptEncoding</th>\n",
       "        <th style=\"padding-left: 1em; padding-right: 1em; text-align: center\">acceptCharset</th>\n",
       "        <th style=\"padding-left: 1em; padding-right: 1em; text-align: center\">acceptLanguage</th>\n",
       "        <th style=\"padding-left: 1em; padding-right: 1em; text-align: center\">host</th>\n",
       "        <th style=\"padding-left: 1em; padding-right: 1em; text-align: center\">connection</th>\n",
       "    </tr>\n",
       "    <tr>\n",
       "        <td style=\"padding-left: 1em; padding-right: 1em; text-align: center; vertical-align: top\">text/xml,application/xml,<br>application/xhtml+xml ...</td>\n",
       "        <td style=\"padding-left: 1em; padding-right: 1em; text-align: center; vertical-align: top\">x-gzip, x-deflate, gzip,<br>deflate ...</td>\n",
       "        <td style=\"padding-left: 1em; padding-right: 1em; text-align: center; vertical-align: top\">utf-8, utf-8;q=0.5,<br>*;q=0.5 ...</td>\n",
       "        <td style=\"padding-left: 1em; padding-right: 1em; text-align: center; vertical-align: top\">en</td>\n",
       "        <td style=\"padding-left: 1em; padding-right: 1em; text-align: center; vertical-align: top\">localhost:8080</td>\n",
       "        <td style=\"padding-left: 1em; padding-right: 1em; text-align: center; vertical-align: top\">close</td>\n",
       "    </tr>\n",
       "    <tr>\n",
       "        <td style=\"padding-left: 1em; padding-right: 1em; text-align: center; vertical-align: top\">text/xml,application/xml,<br>application/xhtml+xml ...</td>\n",
       "        <td style=\"padding-left: 1em; padding-right: 1em; text-align: center; vertical-align: top\">x-gzip, x-deflate, gzip,<br>deflate ...</td>\n",
       "        <td style=\"padding-left: 1em; padding-right: 1em; text-align: center; vertical-align: top\">utf-8, utf-8;q=0.5,<br>*;q=0.5 ...</td>\n",
       "        <td style=\"padding-left: 1em; padding-right: 1em; text-align: center; vertical-align: top\">en</td>\n",
       "        <td style=\"padding-left: 1em; padding-right: 1em; text-align: center; vertical-align: top\">localhost:8080</td>\n",
       "        <td style=\"padding-left: 1em; padding-right: 1em; text-align: center; vertical-align: top\">close</td>\n",
       "    </tr>\n",
       "    <tr>\n",
       "        <td style=\"padding-left: 1em; padding-right: 1em; text-align: center; vertical-align: top\">text/xml,application/xml,<br>application/xhtml+xml ...</td>\n",
       "        <td style=\"padding-left: 1em; padding-right: 1em; text-align: center; vertical-align: top\">x-gzip, x-deflate, gzip,<br>deflate ...</td>\n",
       "        <td style=\"padding-left: 1em; padding-right: 1em; text-align: center; vertical-align: top\">utf-8, utf-8;q=0.5,<br>*;q=0.5 ...</td>\n",
       "        <td style=\"padding-left: 1em; padding-right: 1em; text-align: center; vertical-align: top\">en</td>\n",
       "        <td style=\"padding-left: 1em; padding-right: 1em; text-align: center; vertical-align: top\">localhost:8080</td>\n",
       "        <td style=\"padding-left: 1em; padding-right: 1em; text-align: center; vertical-align: top\">close</td>\n",
       "    </tr>\n",
       "    <tr>\n",
       "        <td style=\"padding-left: 1em; padding-right: 1em; text-align: center; vertical-align: top\">text/xml,application/xml,<br>application/xhtml+xml ...</td>\n",
       "        <td style=\"padding-left: 1em; padding-right: 1em; text-align: center; vertical-align: top\">x-gzip, x-deflate, gzip,<br>deflate ...</td>\n",
       "        <td style=\"padding-left: 1em; padding-right: 1em; text-align: center; vertical-align: top\">utf-8, utf-8;q=0.5,<br>*;q=0.5 ...</td>\n",
       "        <td style=\"padding-left: 1em; padding-right: 1em; text-align: center; vertical-align: top\">en</td>\n",
       "        <td style=\"padding-left: 1em; padding-right: 1em; text-align: center; vertical-align: top\">localhost:8080</td>\n",
       "        <td style=\"padding-left: 1em; padding-right: 1em; text-align: center; vertical-align: top\">close</td>\n",
       "    </tr>\n",
       "    <tr>\n",
       "        <td style=\"padding-left: 1em; padding-right: 1em; text-align: center; vertical-align: top\">text/xml,application/xml,<br>application/xhtml+xml ...</td>\n",
       "        <td style=\"padding-left: 1em; padding-right: 1em; text-align: center; vertical-align: top\">x-gzip, x-deflate, gzip,<br>deflate ...</td>\n",
       "        <td style=\"padding-left: 1em; padding-right: 1em; text-align: center; vertical-align: top\">utf-8, utf-8;q=0.5,<br>*;q=0.5 ...</td>\n",
       "        <td style=\"padding-left: 1em; padding-right: 1em; text-align: center; vertical-align: top\">en</td>\n",
       "        <td style=\"padding-left: 1em; padding-right: 1em; text-align: center; vertical-align: top\">localhost:8080</td>\n",
       "        <td style=\"padding-left: 1em; padding-right: 1em; text-align: center; vertical-align: top\">close</td>\n",
       "    </tr>\n",
       "    <tr>\n",
       "        <td style=\"padding-left: 1em; padding-right: 1em; text-align: center; vertical-align: top\">text/xml,application/xml,<br>application/xhtml+xml ...</td>\n",
       "        <td style=\"padding-left: 1em; padding-right: 1em; text-align: center; vertical-align: top\">x-gzip, x-deflate, gzip,<br>deflate ...</td>\n",
       "        <td style=\"padding-left: 1em; padding-right: 1em; text-align: center; vertical-align: top\">utf-8, utf-8;q=0.5,<br>*;q=0.5 ...</td>\n",
       "        <td style=\"padding-left: 1em; padding-right: 1em; text-align: center; vertical-align: top\">en</td>\n",
       "        <td style=\"padding-left: 1em; padding-right: 1em; text-align: center; vertical-align: top\">localhost:8080</td>\n",
       "        <td style=\"padding-left: 1em; padding-right: 1em; text-align: center; vertical-align: top\">close</td>\n",
       "    </tr>\n",
       "    <tr>\n",
       "        <td style=\"padding-left: 1em; padding-right: 1em; text-align: center; vertical-align: top\">text/xml,application/xml,<br>application/xhtml+xml ...</td>\n",
       "        <td style=\"padding-left: 1em; padding-right: 1em; text-align: center; vertical-align: top\">x-gzip, x-deflate, gzip,<br>deflate ...</td>\n",
       "        <td style=\"padding-left: 1em; padding-right: 1em; text-align: center; vertical-align: top\">utf-8, utf-8;q=0.5,<br>*;q=0.5 ...</td>\n",
       "        <td style=\"padding-left: 1em; padding-right: 1em; text-align: center; vertical-align: top\">en</td>\n",
       "        <td style=\"padding-left: 1em; padding-right: 1em; text-align: center; vertical-align: top\">localhost:8080</td>\n",
       "        <td style=\"padding-left: 1em; padding-right: 1em; text-align: center; vertical-align: top\">close</td>\n",
       "    </tr>\n",
       "    <tr>\n",
       "        <td style=\"padding-left: 1em; padding-right: 1em; text-align: center; vertical-align: top\">text/xml,application/xml,<br>application/xhtml+xml ...</td>\n",
       "        <td style=\"padding-left: 1em; padding-right: 1em; text-align: center; vertical-align: top\">x-gzip, x-deflate, gzip,<br>deflate ...</td>\n",
       "        <td style=\"padding-left: 1em; padding-right: 1em; text-align: center; vertical-align: top\">utf-8, utf-8;q=0.5,<br>*;q=0.5 ...</td>\n",
       "        <td style=\"padding-left: 1em; padding-right: 1em; text-align: center; vertical-align: top\">en</td>\n",
       "        <td style=\"padding-left: 1em; padding-right: 1em; text-align: center; vertical-align: top\">localhost:8080</td>\n",
       "        <td style=\"padding-left: 1em; padding-right: 1em; text-align: center; vertical-align: top\">close</td>\n",
       "    </tr>\n",
       "    <tr>\n",
       "        <td style=\"padding-left: 1em; padding-right: 1em; text-align: center; vertical-align: top\">text/xml,application/xml,<br>application/xhtml+xml ...</td>\n",
       "        <td style=\"padding-left: 1em; padding-right: 1em; text-align: center; vertical-align: top\">x-gzip, x-deflate, gzip,<br>deflate ...</td>\n",
       "        <td style=\"padding-left: 1em; padding-right: 1em; text-align: center; vertical-align: top\">utf-8, utf-8;q=0.5,<br>*;q=0.5 ...</td>\n",
       "        <td style=\"padding-left: 1em; padding-right: 1em; text-align: center; vertical-align: top\">en</td>\n",
       "        <td style=\"padding-left: 1em; padding-right: 1em; text-align: center; vertical-align: top\">localhost:8080</td>\n",
       "        <td style=\"padding-left: 1em; padding-right: 1em; text-align: center; vertical-align: top\">close</td>\n",
       "    </tr>\n",
       "    <tr>\n",
       "        <td style=\"padding-left: 1em; padding-right: 1em; text-align: center; vertical-align: top\">text/xml,application/xml,<br>application/xhtml+xml ...</td>\n",
       "        <td style=\"padding-left: 1em; padding-right: 1em; text-align: center; vertical-align: top\">x-gzip, x-deflate, gzip,<br>deflate ...</td>\n",
       "        <td style=\"padding-left: 1em; padding-right: 1em; text-align: center; vertical-align: top\">utf-8, utf-8;q=0.5,<br>*;q=0.5 ...</td>\n",
       "        <td style=\"padding-left: 1em; padding-right: 1em; text-align: center; vertical-align: top\">en</td>\n",
       "        <td style=\"padding-left: 1em; padding-right: 1em; text-align: center; vertical-align: top\">localhost:8080</td>\n",
       "        <td style=\"padding-left: 1em; padding-right: 1em; text-align: center; vertical-align: top\">close</td>\n",
       "    </tr>\n",
       "</table>\n",
       "<table frame=\"box\" rules=\"cols\">\n",
       "    <tr>\n",
       "        <th style=\"padding-left: 1em; padding-right: 1em; text-align: center\">contentLength</th>\n",
       "        <th style=\"padding-left: 1em; padding-right: 1em; text-align: center\">contentType</th>\n",
       "        <th style=\"padding-left: 1em; padding-right: 1em; text-align: center\">cookie</th>\n",
       "        <th style=\"padding-left: 1em; padding-right: 1em; text-align: center\">payload</th>\n",
       "        <th style=\"padding-left: 1em; padding-right: 1em; text-align: center\">label</th>\n",
       "    </tr>\n",
       "    <tr>\n",
       "        <td style=\"padding-left: 1em; padding-right: 1em; text-align: center; vertical-align: top\">null</td>\n",
       "        <td style=\"padding-left: 1em; padding-right: 1em; text-align: center; vertical-align: top\">null</td>\n",
       "        <td style=\"padding-left: 1em; padding-right: 1em; text-align: center; vertical-align: top\">JSESSIONID=B92A8B48B9008C<br>D29F622A994E0F650D ...</td>\n",
       "        <td style=\"padding-left: 1em; padding-right: 1em; text-align: center; vertical-align: top\">id=2</td>\n",
       "        <td style=\"padding-left: 1em; padding-right: 1em; text-align: center; vertical-align: top\">anom</td>\n",
       "    </tr>\n",
       "    <tr>\n",
       "        <td style=\"padding-left: 1em; padding-right: 1em; text-align: center; vertical-align: top\">null</td>\n",
       "        <td style=\"padding-left: 1em; padding-right: 1em; text-align: center; vertical-align: top\">null</td>\n",
       "        <td style=\"padding-left: 1em; padding-right: 1em; text-align: center; vertical-align: top\">JSESSIONID=B92A8B48B9008C<br>D29F622A994E0F650D ...</td>\n",
       "        <td style=\"padding-left: 1em; padding-right: 1em; text-align: center; vertical-align: top\">nombre=Jam%F3n+Ib%E9rico</td>\n",
       "        <td style=\"padding-left: 1em; padding-right: 1em; text-align: center; vertical-align: top\">anom</td>\n",
       "    </tr>\n",
       "    <tr>\n",
       "        <td style=\"padding-left: 1em; padding-right: 1em; text-align: center; vertical-align: top\">null</td>\n",
       "        <td style=\"padding-left: 1em; padding-right: 1em; text-align: center; vertical-align: top\">null</td>\n",
       "        <td style=\"padding-left: 1em; padding-right: 1em; text-align: center; vertical-align: top\">JSESSIONID=B92A8B48B9008C<br>D29F622A994E0F650D ...</td>\n",
       "        <td style=\"padding-left: 1em; padding-right: 1em; text-align: center; vertical-align: top\">precio=85</td>\n",
       "        <td style=\"padding-left: 1em; padding-right: 1em; text-align: center; vertical-align: top\">anom</td>\n",
       "    </tr>\n",
       "    <tr>\n",
       "        <td style=\"padding-left: 1em; padding-right: 1em; text-align: center; vertical-align: top\">null</td>\n",
       "        <td style=\"padding-left: 1em; padding-right: 1em; text-align: center; vertical-align: top\">null</td>\n",
       "        <td style=\"padding-left: 1em; padding-right: 1em; text-align: center; vertical-align: top\">JSESSIONID=B92A8B48B9008C<br>D29F622A994E0F650D ...</td>\n",
       "        <td style=\"padding-left: 1em; padding-right: 1em; text-align: center; vertical-align: top\">cantidad=%27%3B+DROP+TABL<br>E+usuarios%3B+SELECT+ ...</td>\n",
       "        <td style=\"padding-left: 1em; padding-right: 1em; text-align: center; vertical-align: top\">anom</td>\n",
       "    </tr>\n",
       "    <tr>\n",
       "        <td style=\"padding-left: 1em; padding-right: 1em; text-align: center; vertical-align: top\">null</td>\n",
       "        <td style=\"padding-left: 1em; padding-right: 1em; text-align: center; vertical-align: top\">null</td>\n",
       "        <td style=\"padding-left: 1em; padding-right: 1em; text-align: center; vertical-align: top\">JSESSIONID=B92A8B48B9008C<br>D29F622A994E0F650D ...</td>\n",
       "        <td style=\"padding-left: 1em; padding-right: 1em; text-align: center; vertical-align: top\">B1=A%F1adir+al+carrito</td>\n",
       "        <td style=\"padding-left: 1em; padding-right: 1em; text-align: center; vertical-align: top\">anom</td>\n",
       "    </tr>\n",
       "    <tr>\n",
       "        <td style=\"padding-left: 1em; padding-right: 1em; text-align: center; vertical-align: top\">null</td>\n",
       "        <td style=\"padding-left: 1em; padding-right: 1em; text-align: center; vertical-align: top\">null</td>\n",
       "        <td style=\"padding-left: 1em; padding-right: 1em; text-align: center; vertical-align: top\">JSESSIONID=F563B5262843F1<br>2ECAE41815ABDEEA54 ...</td>\n",
       "        <td style=\"padding-left: 1em; padding-right: 1em; text-align: center; vertical-align: top\">id=2%2F</td>\n",
       "        <td style=\"padding-left: 1em; padding-right: 1em; text-align: center; vertical-align: top\">anom</td>\n",
       "    </tr>\n",
       "    <tr>\n",
       "        <td style=\"padding-left: 1em; padding-right: 1em; text-align: center; vertical-align: top\">null</td>\n",
       "        <td style=\"padding-left: 1em; padding-right: 1em; text-align: center; vertical-align: top\">null</td>\n",
       "        <td style=\"padding-left: 1em; padding-right: 1em; text-align: center; vertical-align: top\">JSESSIONID=F563B5262843F1<br>2ECAE41815ABDEEA54 ...</td>\n",
       "        <td style=\"padding-left: 1em; padding-right: 1em; text-align: center; vertical-align: top\">nombre=Jam%F3n+Ib%E9rico</td>\n",
       "        <td style=\"padding-left: 1em; padding-right: 1em; text-align: center; vertical-align: top\">anom</td>\n",
       "    </tr>\n",
       "    <tr>\n",
       "        <td style=\"padding-left: 1em; padding-right: 1em; text-align: center; vertical-align: top\">null</td>\n",
       "        <td style=\"padding-left: 1em; padding-right: 1em; text-align: center; vertical-align: top\">null</td>\n",
       "        <td style=\"padding-left: 1em; padding-right: 1em; text-align: center; vertical-align: top\">JSESSIONID=F563B5262843F1<br>2ECAE41815ABDEEA54 ...</td>\n",
       "        <td style=\"padding-left: 1em; padding-right: 1em; text-align: center; vertical-align: top\">precio=85</td>\n",
       "        <td style=\"padding-left: 1em; padding-right: 1em; text-align: center; vertical-align: top\">anom</td>\n",
       "    </tr>\n",
       "    <tr>\n",
       "        <td style=\"padding-left: 1em; padding-right: 1em; text-align: center; vertical-align: top\">null</td>\n",
       "        <td style=\"padding-left: 1em; padding-right: 1em; text-align: center; vertical-align: top\">null</td>\n",
       "        <td style=\"padding-left: 1em; padding-right: 1em; text-align: center; vertical-align: top\">JSESSIONID=F563B5262843F1<br>2ECAE41815ABDEEA54 ...</td>\n",
       "        <td style=\"padding-left: 1em; padding-right: 1em; text-align: center; vertical-align: top\">cantidad=49</td>\n",
       "        <td style=\"padding-left: 1em; padding-right: 1em; text-align: center; vertical-align: top\">anom</td>\n",
       "    </tr>\n",
       "    <tr>\n",
       "        <td style=\"padding-left: 1em; padding-right: 1em; text-align: center; vertical-align: top\">null</td>\n",
       "        <td style=\"padding-left: 1em; padding-right: 1em; text-align: center; vertical-align: top\">null</td>\n",
       "        <td style=\"padding-left: 1em; padding-right: 1em; text-align: center; vertical-align: top\">JSESSIONID=F563B5262843F1<br>2ECAE41815ABDEEA54 ...</td>\n",
       "        <td style=\"padding-left: 1em; padding-right: 1em; text-align: center; vertical-align: top\">B1=A%F1adir+al+carrito</td>\n",
       "        <td style=\"padding-left: 1em; padding-right: 1em; text-align: center; vertical-align: top\">anom</td>\n",
       "    </tr>\n",
       "</table>\n",
       "[10 rows x 18 columns]<br/>\n",
       "</div>"
      ],
      "text/plain": [
       "Columns:\n",
       "\tindex\tint\n",
       "\tmethod\tstr\n",
       "\turl\tstr\n",
       "\tprotocol\tstr\n",
       "\tuserAgent\tstr\n",
       "\tpragma\tstr\n",
       "\tcacheControl\tstr\n",
       "\taccept\tstr\n",
       "\tacceptEncoding\tstr\n",
       "\tacceptCharset\tstr\n",
       "\tacceptLanguage\tstr\n",
       "\thost\tstr\n",
       "\tconnection\tstr\n",
       "\tcontentLength\tstr\n",
       "\tcontentType\tstr\n",
       "\tcookie\tstr\n",
       "\tpayload\tstr\n",
       "\tlabel\tstr\n",
       "\n",
       "Rows: 10\n",
       "\n",
       "Data:\n",
       "+-------+--------+-------------------------------+----------+\n",
       "| index | method |              url              | protocol |\n",
       "+-------+--------+-------------------------------+----------+\n",
       "|   0   |  GET   | http://localhost:8080/tien... | HTTP/1.1 |\n",
       "|   0   |  GET   | http://localhost:8080/tien... | HTTP/1.1 |\n",
       "|   0   |  GET   | http://localhost:8080/tien... | HTTP/1.1 |\n",
       "|   0   |  GET   | http://localhost:8080/tien... | HTTP/1.1 |\n",
       "|   0   |  GET   | http://localhost:8080/tien... | HTTP/1.1 |\n",
       "|   1   |  GET   | http://localhost:8080/tien... | HTTP/1.1 |\n",
       "|   1   |  GET   | http://localhost:8080/tien... | HTTP/1.1 |\n",
       "|   1   |  GET   | http://localhost:8080/tien... | HTTP/1.1 |\n",
       "|   1   |  GET   | http://localhost:8080/tien... | HTTP/1.1 |\n",
       "|   1   |  GET   | http://localhost:8080/tien... | HTTP/1.1 |\n",
       "+-------+--------+-------------------------------+----------+\n",
       "+-------------------------------+----------+--------------+\n",
       "|           userAgent           |  pragma  | cacheControl |\n",
       "+-------------------------------+----------+--------------+\n",
       "| Mozilla/5.0 (compatible; K... | no-cache |   no-cache   |\n",
       "| Mozilla/5.0 (compatible; K... | no-cache |   no-cache   |\n",
       "| Mozilla/5.0 (compatible; K... | no-cache |   no-cache   |\n",
       "| Mozilla/5.0 (compatible; K... | no-cache |   no-cache   |\n",
       "| Mozilla/5.0 (compatible; K... | no-cache |   no-cache   |\n",
       "| Mozilla/5.0 (compatible; K... | no-cache |   no-cache   |\n",
       "| Mozilla/5.0 (compatible; K... | no-cache |   no-cache   |\n",
       "| Mozilla/5.0 (compatible; K... | no-cache |   no-cache   |\n",
       "| Mozilla/5.0 (compatible; K... | no-cache |   no-cache   |\n",
       "| Mozilla/5.0 (compatible; K... | no-cache |   no-cache   |\n",
       "+-------------------------------+----------+--------------+\n",
       "+-------------------------------+-------------------------------+\n",
       "|             accept            |         acceptEncoding        |\n",
       "+-------------------------------+-------------------------------+\n",
       "| text/xml,application/xml,a... | x-gzip, x-deflate, gzip, d... |\n",
       "| text/xml,application/xml,a... | x-gzip, x-deflate, gzip, d... |\n",
       "| text/xml,application/xml,a... | x-gzip, x-deflate, gzip, d... |\n",
       "| text/xml,application/xml,a... | x-gzip, x-deflate, gzip, d... |\n",
       "| text/xml,application/xml,a... | x-gzip, x-deflate, gzip, d... |\n",
       "| text/xml,application/xml,a... | x-gzip, x-deflate, gzip, d... |\n",
       "| text/xml,application/xml,a... | x-gzip, x-deflate, gzip, d... |\n",
       "| text/xml,application/xml,a... | x-gzip, x-deflate, gzip, d... |\n",
       "| text/xml,application/xml,a... | x-gzip, x-deflate, gzip, d... |\n",
       "| text/xml,application/xml,a... | x-gzip, x-deflate, gzip, d... |\n",
       "+-------------------------------+-------------------------------+\n",
       "+-----------------------------+----------------+----------------+------------+\n",
       "|        acceptCharset        | acceptLanguage |      host      | connection |\n",
       "+-----------------------------+----------------+----------------+------------+\n",
       "| utf-8, utf-8;q=0.5, *;q=0.5 |       en       | localhost:8080 |   close    |\n",
       "| utf-8, utf-8;q=0.5, *;q=0.5 |       en       | localhost:8080 |   close    |\n",
       "| utf-8, utf-8;q=0.5, *;q=0.5 |       en       | localhost:8080 |   close    |\n",
       "| utf-8, utf-8;q=0.5, *;q=0.5 |       en       | localhost:8080 |   close    |\n",
       "| utf-8, utf-8;q=0.5, *;q=0.5 |       en       | localhost:8080 |   close    |\n",
       "| utf-8, utf-8;q=0.5, *;q=0.5 |       en       | localhost:8080 |   close    |\n",
       "| utf-8, utf-8;q=0.5, *;q=0.5 |       en       | localhost:8080 |   close    |\n",
       "| utf-8, utf-8;q=0.5, *;q=0.5 |       en       | localhost:8080 |   close    |\n",
       "| utf-8, utf-8;q=0.5, *;q=0.5 |       en       | localhost:8080 |   close    |\n",
       "| utf-8, utf-8;q=0.5, *;q=0.5 |       en       | localhost:8080 |   close    |\n",
       "+-----------------------------+----------------+----------------+------------+\n",
       "+---------------+-------------+-------------------------------+\n",
       "| contentLength | contentType |             cookie            |\n",
       "+---------------+-------------+-------------------------------+\n",
       "|      null     |     null    | JSESSIONID=B92A8B48B9008CD... |\n",
       "|      null     |     null    | JSESSIONID=B92A8B48B9008CD... |\n",
       "|      null     |     null    | JSESSIONID=B92A8B48B9008CD... |\n",
       "|      null     |     null    | JSESSIONID=B92A8B48B9008CD... |\n",
       "|      null     |     null    | JSESSIONID=B92A8B48B9008CD... |\n",
       "|      null     |     null    | JSESSIONID=F563B5262843F12... |\n",
       "|      null     |     null    | JSESSIONID=F563B5262843F12... |\n",
       "|      null     |     null    | JSESSIONID=F563B5262843F12... |\n",
       "|      null     |     null    | JSESSIONID=F563B5262843F12... |\n",
       "|      null     |     null    | JSESSIONID=F563B5262843F12... |\n",
       "+---------------+-------------+-------------------------------+\n",
       "+-------------------------------+-------+\n",
       "|            payload            | label |\n",
       "+-------------------------------+-------+\n",
       "|              id=2             |  anom |\n",
       "|    nombre=Jam%F3n+Ib%E9rico   |  anom |\n",
       "|           precio=85           |  anom |\n",
       "| cantidad=%27%3B+DROP+TABLE... |  anom |\n",
       "|     B1=A%F1adir+al+carrito    |  anom |\n",
       "|            id=2%2F            |  anom |\n",
       "|    nombre=Jam%F3n+Ib%E9rico   |  anom |\n",
       "|           precio=85           |  anom |\n",
       "|          cantidad=49          |  anom |\n",
       "|     B1=A%F1adir+al+carrito    |  anom |\n",
       "+-------------------------------+-------+\n",
       "[10 rows x 18 columns]"
      ]
     },
     "execution_count": 4,
     "metadata": {},
     "output_type": "execute_result"
    }
   ],
   "source": [
    "data.head()"
   ]
  },
  {
   "cell_type": "code",
   "execution_count": 7,
   "metadata": {
    "collapsed": false
   },
   "outputs": [],
   "source": [
    "train_data, test_data = data.random_split(.8)\n"
   ]
  },
  {
   "cell_type": "code",
   "execution_count": 9,
   "metadata": {
    "collapsed": false
   },
   "outputs": [
    {
     "data": {
      "text/html": [
       "<pre>Logistic regression:</pre>"
      ],
      "text/plain": [
       "Logistic regression:"
      ]
     },
     "metadata": {},
     "output_type": "display_data"
    },
    {
     "data": {
      "text/html": [
       "<pre>--------------------------------------------------------</pre>"
      ],
      "text/plain": [
       "--------------------------------------------------------"
      ]
     },
     "metadata": {},
     "output_type": "display_data"
    },
    {
     "data": {
      "text/html": [
       "<pre>Number of examples          : 179059</pre>"
      ],
      "text/plain": [
       "Number of examples          : 179059"
      ]
     },
     "metadata": {},
     "output_type": "display_data"
    },
    {
     "data": {
      "text/html": [
       "<pre>Number of classes           : 2</pre>"
      ],
      "text/plain": [
       "Number of classes           : 2"
      ]
     },
     "metadata": {},
     "output_type": "display_data"
    },
    {
     "data": {
      "text/html": [
       "<pre>Number of feature columns   : 2</pre>"
      ],
      "text/plain": [
       "Number of feature columns   : 2"
      ]
     },
     "metadata": {},
     "output_type": "display_data"
    },
    {
     "data": {
      "text/html": [
       "<pre>Number of unpacked features : 2</pre>"
      ],
      "text/plain": [
       "Number of unpacked features : 2"
      ]
     },
     "metadata": {},
     "output_type": "display_data"
    },
    {
     "data": {
      "text/html": [
       "<pre>Number of coefficients    : 86553</pre>"
      ],
      "text/plain": [
       "Number of coefficients    : 86553"
      ]
     },
     "metadata": {},
     "output_type": "display_data"
    },
    {
     "data": {
      "text/html": [
       "<pre>Starting L-BFGS</pre>"
      ],
      "text/plain": [
       "Starting L-BFGS"
      ]
     },
     "metadata": {},
     "output_type": "display_data"
    },
    {
     "data": {
      "text/html": [
       "<pre>--------------------------------------------------------</pre>"
      ],
      "text/plain": [
       "--------------------------------------------------------"
      ]
     },
     "metadata": {},
     "output_type": "display_data"
    },
    {
     "data": {
      "text/html": [
       "<pre>+-----------+----------+-----------+--------------+-------------------+---------------------+</pre>"
      ],
      "text/plain": [
       "+-----------+----------+-----------+--------------+-------------------+---------------------+"
      ]
     },
     "metadata": {},
     "output_type": "display_data"
    },
    {
     "data": {
      "text/html": [
       "<pre>| Iteration | Passes   | Step size | Elapsed Time | Training-accuracy | Validation-accuracy |</pre>"
      ],
      "text/plain": [
       "| Iteration | Passes   | Step size | Elapsed Time | Training-accuracy | Validation-accuracy |"
      ]
     },
     "metadata": {},
     "output_type": "display_data"
    },
    {
     "data": {
      "text/html": [
       "<pre>+-----------+----------+-----------+--------------+-------------------+---------------------+</pre>"
      ],
      "text/plain": [
       "+-----------+----------+-----------+--------------+-------------------+---------------------+"
      ]
     },
     "metadata": {},
     "output_type": "display_data"
    },
    {
     "data": {
      "text/html": [
       "<pre>| 1         | 3        | 0.000006  | 1.341140     | 1.000000          | 0.970646            |</pre>"
      ],
      "text/plain": [
       "| 1         | 3        | 0.000006  | 1.341140     | 1.000000          | 0.970646            |"
      ]
     },
     "metadata": {},
     "output_type": "display_data"
    },
    {
     "data": {
      "text/html": [
       "<pre>| 2         | 5        | 1.000000  | 1.665284     | 0.999994          | 0.970781            |</pre>"
      ],
      "text/plain": [
       "| 2         | 5        | 1.000000  | 1.665284     | 0.999994          | 0.970781            |"
      ]
     },
     "metadata": {},
     "output_type": "display_data"
    },
    {
     "data": {
      "text/html": [
       "<pre>| 3         | 6        | 1.000000  | 1.859775     | 1.000000          | 0.970848            |</pre>"
      ],
      "text/plain": [
       "| 3         | 6        | 1.000000  | 1.859775     | 1.000000          | 0.970848            |"
      ]
     },
     "metadata": {},
     "output_type": "display_data"
    },
    {
     "data": {
      "text/html": [
       "<pre>| 4         | 7        | 1.000000  | 2.049484     | 1.000000          | 0.970691            |</pre>"
      ],
      "text/plain": [
       "| 4         | 7        | 1.000000  | 2.049484     | 1.000000          | 0.970691            |"
      ]
     },
     "metadata": {},
     "output_type": "display_data"
    },
    {
     "data": {
      "text/html": [
       "<pre>| 5         | 8        | 1.000000  | 2.235330     | 1.000000          | 0.970714            |</pre>"
      ],
      "text/plain": [
       "| 5         | 8        | 1.000000  | 2.235330     | 1.000000          | 0.970714            |"
      ]
     },
     "metadata": {},
     "output_type": "display_data"
    },
    {
     "data": {
      "text/html": [
       "<pre>| 6         | 9        | 1.000000  | 2.433694     | 1.000000          | 0.970848            |</pre>"
      ],
      "text/plain": [
       "| 6         | 9        | 1.000000  | 2.433694     | 1.000000          | 0.970848            |"
      ]
     },
     "metadata": {},
     "output_type": "display_data"
    },
    {
     "data": {
      "text/html": [
       "<pre>| 10        | 13       | 1.000000  | 3.122024     | 1.000000          | 0.970848            |</pre>"
      ],
      "text/plain": [
       "| 10        | 13       | 1.000000  | 3.122024     | 1.000000          | 0.970848            |"
      ]
     },
     "metadata": {},
     "output_type": "display_data"
    },
    {
     "data": {
      "text/html": [
       "<pre>+-----------+----------+-----------+--------------+-------------------+---------------------+</pre>"
      ],
      "text/plain": [
       "+-----------+----------+-----------+--------------+-------------------+---------------------+"
      ]
     },
     "metadata": {},
     "output_type": "display_data"
    },
    {
     "data": {
      "text/html": [
       "<pre>TERMINATED: Iteration limit reached.</pre>"
      ],
      "text/plain": [
       "TERMINATED: Iteration limit reached."
      ]
     },
     "metadata": {},
     "output_type": "display_data"
    },
    {
     "data": {
      "text/html": [
       "<pre>This model may not be optimal. To improve it, consider increasing `max_iterations`.</pre>"
      ],
      "text/plain": [
       "This model may not be optimal. To improve it, consider increasing `max_iterations`."
      ]
     },
     "metadata": {},
     "output_type": "display_data"
    }
   ],
   "source": [
    "model = gl.classifier.logistic_classifier.create(train_data, features= ['cookie','payload'], target='label',validation_set=test_data)"
   ]
  },
  {
   "cell_type": "code",
   "execution_count": 12,
   "metadata": {
    "collapsed": false
   },
   "outputs": [
    {
     "data": {
      "text/plain": [
       "{'accuracy': 0.970848493015317,\n",
       " 'auc': 0.9946364299298035,\n",
       " 'confusion_matrix': Columns:\n",
       " \ttarget_label\tstr\n",
       " \tpredicted_label\tstr\n",
       " \tcount\tint\n",
       " \n",
       " Rows: 4\n",
       " \n",
       " Data:\n",
       " +--------------+-----------------+-------+\n",
       " | target_label | predicted_label | count |\n",
       " +--------------+-----------------+-------+\n",
       " |     anom     |       anom      | 22849 |\n",
       " |     norm     |       anom      |  208  |\n",
       " |     anom     |       norm      |  1090 |\n",
       " |     norm     |       norm      | 20379 |\n",
       " +--------------+-----------------+-------+\n",
       " [4 rows x 3 columns],\n",
       " 'f1_score': 0.9691363895758037,\n",
       " 'log_loss': 0.07654547491993384,\n",
       " 'precision': 0.9492291210582701,\n",
       " 'recall': 0.9898965366493419,\n",
       " 'roc_curve': Columns:\n",
       " \tthreshold\tfloat\n",
       " \tfpr\tfloat\n",
       " \ttpr\tfloat\n",
       " \tp\tint\n",
       " \tn\tint\n",
       " \n",
       " Rows: 100001\n",
       " \n",
       " Data:\n",
       " +-----------+----------------+-----+-------+-------+\n",
       " | threshold |      fpr       | tpr |   p   |   n   |\n",
       " +-----------+----------------+-----+-------+-------+\n",
       " |    0.0    |      1.0       | 1.0 | 20587 | 23939 |\n",
       " |   1e-05   | 0.999791135804 | 1.0 | 20587 | 23939 |\n",
       " |   2e-05   | 0.998120222232 | 1.0 | 20587 | 23939 |\n",
       " |   3e-05   | 0.997117674088 | 1.0 | 20587 | 23939 |\n",
       " |   4e-05   | 0.996073353106 | 1.0 | 20587 | 23939 |\n",
       " |   5e-05   | 0.994485985212 | 1.0 | 20587 | 23939 |\n",
       " |   6e-05   | 0.990851748193 | 1.0 | 20587 | 23939 |\n",
       " |   7e-05   | 0.988804879068 | 1.0 | 20587 | 23939 |\n",
       " |   8e-05   | 0.986966874138 | 1.0 | 20587 | 23939 |\n",
       " |   9e-05   | 0.980993358119 | 1.0 | 20587 | 23939 |\n",
       " +-----------+----------------+-----+-------+-------+\n",
       " [100001 rows x 5 columns]\n",
       " Note: Only the head of the SFrame is printed.\n",
       " You can use print_rows(num_rows=m, num_columns=n) to print more rows and columns.}"
      ]
     },
     "execution_count": 12,
     "metadata": {},
     "output_type": "execute_result"
    }
   ],
   "source": [
    "model.evaluate(test_data)"
   ]
  },
  {
   "cell_type": "code",
   "execution_count": 14,
   "metadata": {
    "collapsed": false
   },
   "outputs": [
    {
     "data": {
      "text/html": [
       "<pre>Random forest classifier:</pre>"
      ],
      "text/plain": [
       "Random forest classifier:"
      ]
     },
     "metadata": {},
     "output_type": "display_data"
    },
    {
     "data": {
      "text/html": [
       "<pre>--------------------------------------------------------</pre>"
      ],
      "text/plain": [
       "--------------------------------------------------------"
      ]
     },
     "metadata": {},
     "output_type": "display_data"
    },
    {
     "data": {
      "text/html": [
       "<pre>Number of examples          : 179059</pre>"
      ],
      "text/plain": [
       "Number of examples          : 179059"
      ]
     },
     "metadata": {},
     "output_type": "display_data"
    },
    {
     "data": {
      "text/html": [
       "<pre>Number of classes           : 2</pre>"
      ],
      "text/plain": [
       "Number of classes           : 2"
      ]
     },
     "metadata": {},
     "output_type": "display_data"
    },
    {
     "data": {
      "text/html": [
       "<pre>Number of feature columns   : 2</pre>"
      ],
      "text/plain": [
       "Number of feature columns   : 2"
      ]
     },
     "metadata": {},
     "output_type": "display_data"
    },
    {
     "data": {
      "text/html": [
       "<pre>Number of unpacked features : 2</pre>"
      ],
      "text/plain": [
       "Number of unpacked features : 2"
      ]
     },
     "metadata": {},
     "output_type": "display_data"
    },
    {
     "data": {
      "text/html": [
       "<pre>+-----------+--------------+-------------------+---------------------+-------------------+---------------------+</pre>"
      ],
      "text/plain": [
       "+-----------+--------------+-------------------+---------------------+-------------------+---------------------+"
      ]
     },
     "metadata": {},
     "output_type": "display_data"
    },
    {
     "data": {
      "text/html": [
       "<pre>| Iteration | Elapsed Time | Training-accuracy | Validation-accuracy | Training-log_loss | Validation-log_loss |</pre>"
      ],
      "text/plain": [
       "| Iteration | Elapsed Time | Training-accuracy | Validation-accuracy | Training-log_loss | Validation-log_loss |"
      ]
     },
     "metadata": {},
     "output_type": "display_data"
    },
    {
     "data": {
      "text/html": [
       "<pre>+-----------+--------------+-------------------+---------------------+-------------------+---------------------+</pre>"
      ],
      "text/plain": [
       "+-----------+--------------+-------------------+---------------------+-------------------+---------------------+"
      ]
     },
     "metadata": {},
     "output_type": "display_data"
    },
    {
     "data": {
      "text/html": [
       "<pre>| 1         | 0.383697     | 0.551248          | 0.552935            | 0.678009          | 0.678755            |</pre>"
      ],
      "text/plain": [
       "| 1         | 0.383697     | 0.551248          | 0.552935            | 0.678009          | 0.678755            |"
      ]
     },
     "metadata": {},
     "output_type": "display_data"
    },
    {
     "data": {
      "text/html": [
       "<pre>| 2         | 0.756354     | 0.551226          | 0.552935            | 0.678054          | 0.678750            |</pre>"
      ],
      "text/plain": [
       "| 2         | 0.756354     | 0.551226          | 0.552935            | 0.678054          | 0.678750            |"
      ]
     },
     "metadata": {},
     "output_type": "display_data"
    },
    {
     "data": {
      "text/html": [
       "<pre>| 3         | 1.132056     | 0.624224          | 0.629430            | 0.660572          | 0.660010            |</pre>"
      ],
      "text/plain": [
       "| 3         | 1.132056     | 0.624224          | 0.629430            | 0.660572          | 0.660010            |"
      ]
     },
     "metadata": {},
     "output_type": "display_data"
    },
    {
     "data": {
      "text/html": [
       "<pre>| 4         | 1.514887     | 0.624208          | 0.629430            | 0.654250          | 0.653150            |</pre>"
      ],
      "text/plain": [
       "| 4         | 1.514887     | 0.624208          | 0.629430            | 0.654250          | 0.653150            |"
      ]
     },
     "metadata": {},
     "output_type": "display_data"
    },
    {
     "data": {
      "text/html": [
       "<pre>| 5         | 1.885557     | 0.624202          | 0.629430            | 0.656874          | 0.655926            |</pre>"
      ],
      "text/plain": [
       "| 5         | 1.885557     | 0.624202          | 0.629430            | 0.656874          | 0.655926            |"
      ]
     },
     "metadata": {},
     "output_type": "display_data"
    },
    {
     "data": {
      "text/html": [
       "<pre>| 6         | 2.252210     | 0.624213          | 0.629430            | 0.653662          | 0.652401            |</pre>"
      ],
      "text/plain": [
       "| 6         | 2.252210     | 0.624213          | 0.629430            | 0.653662          | 0.652401            |"
      ]
     },
     "metadata": {},
     "output_type": "display_data"
    },
    {
     "data": {
      "text/html": [
       "<pre>| 10        | 3.910218     | 0.624185          | 0.629430            | 0.651273          | 0.649813            |</pre>"
      ],
      "text/plain": [
       "| 10        | 3.910218     | 0.624185          | 0.629430            | 0.651273          | 0.649813            |"
      ]
     },
     "metadata": {},
     "output_type": "display_data"
    },
    {
     "data": {
      "text/html": [
       "<pre>+-----------+--------------+-------------------+---------------------+-------------------+---------------------+</pre>"
      ],
      "text/plain": [
       "+-----------+--------------+-------------------+---------------------+-------------------+---------------------+"
      ]
     },
     "metadata": {},
     "output_type": "display_data"
    }
   ],
   "source": [
    "rf_model = gl.classifier.random_forest_classifier.create(train_data, target='label', validation_set=test_data, features=['cookie', 'payload'])"
   ]
  },
  {
   "cell_type": "code",
   "execution_count": 15,
   "metadata": {
    "collapsed": false
   },
   "outputs": [
    {
     "data": {
      "text/plain": [
       "{'accuracy': 0.6294299959574181,\n",
       " 'auc': 0.6169351248123516,\n",
       " 'confusion_matrix': Columns:\n",
       " \ttarget_label\tstr\n",
       " \tpredicted_label\tstr\n",
       " \tcount\tint\n",
       " \n",
       " Rows: 4\n",
       " \n",
       " Data:\n",
       " +--------------+-----------------+-------+\n",
       " | target_label | predicted_label | count |\n",
       " +--------------+-----------------+-------+\n",
       " |     anom     |       anom      | 22544 |\n",
       " |     anom     |       norm      |  1395 |\n",
       " |     norm     |       norm      |  5482 |\n",
       " |     norm     |       anom      | 15105 |\n",
       " +--------------+-----------------+-------+\n",
       " [4 rows x 3 columns],\n",
       " 'f1_score': 0.3992135158753278,\n",
       " 'log_loss': 0.6498133793572083,\n",
       " 'precision': 0.797149920023266,\n",
       " 'recall': 0.26628454850148153,\n",
       " 'roc_curve': Columns:\n",
       " \tthreshold\tfloat\n",
       " \tfpr\tfloat\n",
       " \ttpr\tfloat\n",
       " \tp\tint\n",
       " \tn\tint\n",
       " \n",
       " Rows: 100001\n",
       " \n",
       " Data:\n",
       " +-----------+-----+-----+-------+-------+\n",
       " | threshold | fpr | tpr |   p   |   n   |\n",
       " +-----------+-----+-----+-------+-------+\n",
       " |    0.0    | 1.0 | 1.0 | 20587 | 23939 |\n",
       " |   1e-05   | 1.0 | 1.0 | 20587 | 23939 |\n",
       " |   2e-05   | 1.0 | 1.0 | 20587 | 23939 |\n",
       " |   3e-05   | 1.0 | 1.0 | 20587 | 23939 |\n",
       " |   4e-05   | 1.0 | 1.0 | 20587 | 23939 |\n",
       " |   5e-05   | 1.0 | 1.0 | 20587 | 23939 |\n",
       " |   6e-05   | 1.0 | 1.0 | 20587 | 23939 |\n",
       " |   7e-05   | 1.0 | 1.0 | 20587 | 23939 |\n",
       " |   8e-05   | 1.0 | 1.0 | 20587 | 23939 |\n",
       " |   9e-05   | 1.0 | 1.0 | 20587 | 23939 |\n",
       " +-----------+-----+-----+-------+-------+\n",
       " [100001 rows x 5 columns]\n",
       " Note: Only the head of the SFrame is printed.\n",
       " You can use print_rows(num_rows=m, num_columns=n) to print more rows and columns.}"
      ]
     },
     "execution_count": 15,
     "metadata": {},
     "output_type": "execute_result"
    }
   ],
   "source": [
    "rf_model.evaluate(test_data)"
   ]
  },
  {
   "cell_type": "code",
   "execution_count": null,
   "metadata": {
    "collapsed": true
   },
   "outputs": [],
   "source": []
  }
 ],
 "metadata": {
  "kernelspec": {
   "display_name": "Python [conda env:gl-env]",
   "language": "python",
   "name": "conda-env-gl-env-py"
  },
  "language_info": {
   "codemirror_mode": {
    "name": "ipython",
    "version": 2
   },
   "file_extension": ".py",
   "mimetype": "text/x-python",
   "name": "python",
   "nbconvert_exporter": "python",
   "pygments_lexer": "ipython2",
   "version": "2.7.11"
  }
 },
 "nbformat": 4,
 "nbformat_minor": 1
}
