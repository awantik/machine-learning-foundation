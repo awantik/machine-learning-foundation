{
 "cells": [
  {
   "cell_type": "code",
   "execution_count": 1,
   "metadata": {
    "collapsed": true
   },
   "outputs": [],
   "source": [
    "import graphlab"
   ]
  },
  {
   "cell_type": "code",
   "execution_count": 2,
   "metadata": {
    "collapsed": false
   },
   "outputs": [
    {
     "name": "stdout",
     "output_type": "stream",
     "text": [
      "This non-commercial license of GraphLab Create for academic use is assigned to awantikdas@gmail.com and will expire on January 25, 2018.\n"
     ]
    },
    {
     "name": "stderr",
     "output_type": "stream",
     "text": [
      "[INFO] graphlab.cython.cy_server: GraphLab Create v2.1 started. Logging: C:\\Users\\ZekeLabs\\AppData\\Local\\Temp\\graphlab_server_1486974742.log.0\n"
     ]
    }
   ],
   "source": [
    "products = graphlab.SFrame('D:\\Data\\my_amazon_baby.gl')"
   ]
  },
  {
   "cell_type": "code",
   "execution_count": 3,
   "metadata": {
    "collapsed": false
   },
   "outputs": [
    {
     "data": {
      "text/html": [
       "<div style=\"max-height:1000px;max-width:1500px;overflow:auto;\"><table frame=\"box\" rules=\"cols\">\n",
       "    <tr>\n",
       "        <th style=\"padding-left: 1em; padding-right: 1em; text-align: center\">name</th>\n",
       "        <th style=\"padding-left: 1em; padding-right: 1em; text-align: center\">review</th>\n",
       "        <th style=\"padding-left: 1em; padding-right: 1em; text-align: center\">rating</th>\n",
       "    </tr>\n",
       "    <tr>\n",
       "        <td style=\"padding-left: 1em; padding-right: 1em; text-align: center; vertical-align: top\">Planetwise Flannel Wipes</td>\n",
       "        <td style=\"padding-left: 1em; padding-right: 1em; text-align: center; vertical-align: top\">These flannel wipes are<br>OK, but in my opinion ...</td>\n",
       "        <td style=\"padding-left: 1em; padding-right: 1em; text-align: center; vertical-align: top\">3.0</td>\n",
       "    </tr>\n",
       "    <tr>\n",
       "        <td style=\"padding-left: 1em; padding-right: 1em; text-align: center; vertical-align: top\">Planetwise Wipe Pouch</td>\n",
       "        <td style=\"padding-left: 1em; padding-right: 1em; text-align: center; vertical-align: top\">it came early and was not<br>disappointed. i love ...</td>\n",
       "        <td style=\"padding-left: 1em; padding-right: 1em; text-align: center; vertical-align: top\">5.0</td>\n",
       "    </tr>\n",
       "    <tr>\n",
       "        <td style=\"padding-left: 1em; padding-right: 1em; text-align: center; vertical-align: top\">Annas Dream Full Quilt<br>with 2 Shams ...</td>\n",
       "        <td style=\"padding-left: 1em; padding-right: 1em; text-align: center; vertical-align: top\">Very soft and comfortable<br>and warmer than it ...</td>\n",
       "        <td style=\"padding-left: 1em; padding-right: 1em; text-align: center; vertical-align: top\">5.0</td>\n",
       "    </tr>\n",
       "    <tr>\n",
       "        <td style=\"padding-left: 1em; padding-right: 1em; text-align: center; vertical-align: top\">Stop Pacifier Sucking<br>without tears with ...</td>\n",
       "        <td style=\"padding-left: 1em; padding-right: 1em; text-align: center; vertical-align: top\">This is a product well<br>worth the purchase.  I ...</td>\n",
       "        <td style=\"padding-left: 1em; padding-right: 1em; text-align: center; vertical-align: top\">5.0</td>\n",
       "    </tr>\n",
       "    <tr>\n",
       "        <td style=\"padding-left: 1em; padding-right: 1em; text-align: center; vertical-align: top\">Stop Pacifier Sucking<br>without tears with ...</td>\n",
       "        <td style=\"padding-left: 1em; padding-right: 1em; text-align: center; vertical-align: top\">All of my kids have cried<br>non-stop when I tried to ...</td>\n",
       "        <td style=\"padding-left: 1em; padding-right: 1em; text-align: center; vertical-align: top\">5.0</td>\n",
       "    </tr>\n",
       "    <tr>\n",
       "        <td style=\"padding-left: 1em; padding-right: 1em; text-align: center; vertical-align: top\">Stop Pacifier Sucking<br>without tears with ...</td>\n",
       "        <td style=\"padding-left: 1em; padding-right: 1em; text-align: center; vertical-align: top\">When the Binky Fairy came<br>to our house, we didn't ...</td>\n",
       "        <td style=\"padding-left: 1em; padding-right: 1em; text-align: center; vertical-align: top\">5.0</td>\n",
       "    </tr>\n",
       "    <tr>\n",
       "        <td style=\"padding-left: 1em; padding-right: 1em; text-align: center; vertical-align: top\">A Tale of Baby's Days<br>with Peter Rabbit ...</td>\n",
       "        <td style=\"padding-left: 1em; padding-right: 1em; text-align: center; vertical-align: top\">Lovely book, it's bound<br>tightly so you may no ...</td>\n",
       "        <td style=\"padding-left: 1em; padding-right: 1em; text-align: center; vertical-align: top\">4.0</td>\n",
       "    </tr>\n",
       "    <tr>\n",
       "        <td style=\"padding-left: 1em; padding-right: 1em; text-align: center; vertical-align: top\">Baby Tracker&amp;reg; - Daily<br>Childcare Journal, ...</td>\n",
       "        <td style=\"padding-left: 1em; padding-right: 1em; text-align: center; vertical-align: top\">Perfect for new parents.<br>We were able to keep ...</td>\n",
       "        <td style=\"padding-left: 1em; padding-right: 1em; text-align: center; vertical-align: top\">5.0</td>\n",
       "    </tr>\n",
       "    <tr>\n",
       "        <td style=\"padding-left: 1em; padding-right: 1em; text-align: center; vertical-align: top\">Baby Tracker&amp;reg; - Daily<br>Childcare Journal, ...</td>\n",
       "        <td style=\"padding-left: 1em; padding-right: 1em; text-align: center; vertical-align: top\">A friend of mine pinned<br>this product on Pinte ...</td>\n",
       "        <td style=\"padding-left: 1em; padding-right: 1em; text-align: center; vertical-align: top\">5.0</td>\n",
       "    </tr>\n",
       "    <tr>\n",
       "        <td style=\"padding-left: 1em; padding-right: 1em; text-align: center; vertical-align: top\">Baby Tracker&amp;reg; - Daily<br>Childcare Journal, ...</td>\n",
       "        <td style=\"padding-left: 1em; padding-right: 1em; text-align: center; vertical-align: top\">This has been an easy way<br>for my nanny to record ...</td>\n",
       "        <td style=\"padding-left: 1em; padding-right: 1em; text-align: center; vertical-align: top\">4.0</td>\n",
       "    </tr>\n",
       "</table>\n",
       "[10 rows x 3 columns]<br/>\n",
       "</div>"
      ],
      "text/plain": [
       "Columns:\n",
       "\tname\tstr\n",
       "\treview\tstr\n",
       "\trating\tfloat\n",
       "\n",
       "Rows: 10\n",
       "\n",
       "Data:\n",
       "+-------------------------------+-------------------------------+--------+\n",
       "|              name             |             review            | rating |\n",
       "+-------------------------------+-------------------------------+--------+\n",
       "|    Planetwise Flannel Wipes   | These flannel wipes are OK... |  3.0   |\n",
       "|     Planetwise Wipe Pouch     | it came early and was not ... |  5.0   |\n",
       "| Annas Dream Full Quilt wit... | Very soft and comfortable ... |  5.0   |\n",
       "| Stop Pacifier Sucking with... | This is a product well wor... |  5.0   |\n",
       "| Stop Pacifier Sucking with... | All of my kids have cried ... |  5.0   |\n",
       "| Stop Pacifier Sucking with... | When the Binky Fairy came ... |  5.0   |\n",
       "| A Tale of Baby's Days with... | Lovely book, it's bound ti... |  4.0   |\n",
       "| Baby Tracker&reg; - Daily ... | Perfect for new parents. W... |  5.0   |\n",
       "| Baby Tracker&reg; - Daily ... | A friend of mine pinned th... |  5.0   |\n",
       "| Baby Tracker&reg; - Daily ... | This has been an easy way ... |  4.0   |\n",
       "+-------------------------------+-------------------------------+--------+\n",
       "[10 rows x 3 columns]"
      ]
     },
     "execution_count": 3,
     "metadata": {},
     "output_type": "execute_result"
    }
   ],
   "source": [
    "products.head()"
   ]
  },
  {
   "cell_type": "code",
   "execution_count": 4,
   "metadata": {
    "collapsed": true
   },
   "outputs": [],
   "source": [
    "products['word_count'] = graphlab.text_analytics.count_words(products['review'])"
   ]
  },
  {
   "cell_type": "code",
   "execution_count": 5,
   "metadata": {
    "collapsed": false
   },
   "outputs": [
    {
     "data": {
      "text/html": [
       "<div style=\"max-height:1000px;max-width:1500px;overflow:auto;\"><table frame=\"box\" rules=\"cols\">\n",
       "    <tr>\n",
       "        <th style=\"padding-left: 1em; padding-right: 1em; text-align: center\">name</th>\n",
       "        <th style=\"padding-left: 1em; padding-right: 1em; text-align: center\">review</th>\n",
       "        <th style=\"padding-left: 1em; padding-right: 1em; text-align: center\">rating</th>\n",
       "        <th style=\"padding-left: 1em; padding-right: 1em; text-align: center\">word_count</th>\n",
       "    </tr>\n",
       "    <tr>\n",
       "        <td style=\"padding-left: 1em; padding-right: 1em; text-align: center; vertical-align: top\">Planetwise Flannel Wipes</td>\n",
       "        <td style=\"padding-left: 1em; padding-right: 1em; text-align: center; vertical-align: top\">These flannel wipes are<br>OK, but in my opinion ...</td>\n",
       "        <td style=\"padding-left: 1em; padding-right: 1em; text-align: center; vertical-align: top\">3.0</td>\n",
       "        <td style=\"padding-left: 1em; padding-right: 1em; text-align: center; vertical-align: top\">{'and': 5L, 'stink': 1L,<br>'because': 1L, 'order ...</td>\n",
       "    </tr>\n",
       "    <tr>\n",
       "        <td style=\"padding-left: 1em; padding-right: 1em; text-align: center; vertical-align: top\">Planetwise Wipe Pouch</td>\n",
       "        <td style=\"padding-left: 1em; padding-right: 1em; text-align: center; vertical-align: top\">it came early and was not<br>disappointed. i love ...</td>\n",
       "        <td style=\"padding-left: 1em; padding-right: 1em; text-align: center; vertical-align: top\">5.0</td>\n",
       "        <td style=\"padding-left: 1em; padding-right: 1em; text-align: center; vertical-align: top\">{'and': 3L, 'love': 1L,<br>'it': 2L, 'highly': 1L, ...</td>\n",
       "    </tr>\n",
       "    <tr>\n",
       "        <td style=\"padding-left: 1em; padding-right: 1em; text-align: center; vertical-align: top\">Annas Dream Full Quilt<br>with 2 Shams ...</td>\n",
       "        <td style=\"padding-left: 1em; padding-right: 1em; text-align: center; vertical-align: top\">Very soft and comfortable<br>and warmer than it ...</td>\n",
       "        <td style=\"padding-left: 1em; padding-right: 1em; text-align: center; vertical-align: top\">5.0</td>\n",
       "        <td style=\"padding-left: 1em; padding-right: 1em; text-align: center; vertical-align: top\">{'and': 2L, 'quilt': 1L,<br>'it': 1L, 'comfortable': ...</td>\n",
       "    </tr>\n",
       "    <tr>\n",
       "        <td style=\"padding-left: 1em; padding-right: 1em; text-align: center; vertical-align: top\">Stop Pacifier Sucking<br>without tears with ...</td>\n",
       "        <td style=\"padding-left: 1em; padding-right: 1em; text-align: center; vertical-align: top\">This is a product well<br>worth the purchase.  I ...</td>\n",
       "        <td style=\"padding-left: 1em; padding-right: 1em; text-align: center; vertical-align: top\">5.0</td>\n",
       "        <td style=\"padding-left: 1em; padding-right: 1em; text-align: center; vertical-align: top\">{'ingenious': 1L, 'and':<br>3L, 'love': 2L, ...</td>\n",
       "    </tr>\n",
       "    <tr>\n",
       "        <td style=\"padding-left: 1em; padding-right: 1em; text-align: center; vertical-align: top\">Stop Pacifier Sucking<br>without tears with ...</td>\n",
       "        <td style=\"padding-left: 1em; padding-right: 1em; text-align: center; vertical-align: top\">All of my kids have cried<br>non-stop when I tried to ...</td>\n",
       "        <td style=\"padding-left: 1em; padding-right: 1em; text-align: center; vertical-align: top\">5.0</td>\n",
       "        <td style=\"padding-left: 1em; padding-right: 1em; text-align: center; vertical-align: top\">{'and': 2L, 'parents!!':<br>1L, 'all': 2L, 'puppe ...</td>\n",
       "    </tr>\n",
       "    <tr>\n",
       "        <td style=\"padding-left: 1em; padding-right: 1em; text-align: center; vertical-align: top\">Stop Pacifier Sucking<br>without tears with ...</td>\n",
       "        <td style=\"padding-left: 1em; padding-right: 1em; text-align: center; vertical-align: top\">When the Binky Fairy came<br>to our house, we didn't ...</td>\n",
       "        <td style=\"padding-left: 1em; padding-right: 1em; text-align: center; vertical-align: top\">5.0</td>\n",
       "        <td style=\"padding-left: 1em; padding-right: 1em; text-align: center; vertical-align: top\">{'and': 2L, 'cute': 1L,<br>'help': 2L, 'doll': 1L, ...</td>\n",
       "    </tr>\n",
       "    <tr>\n",
       "        <td style=\"padding-left: 1em; padding-right: 1em; text-align: center; vertical-align: top\">A Tale of Baby's Days<br>with Peter Rabbit ...</td>\n",
       "        <td style=\"padding-left: 1em; padding-right: 1em; text-align: center; vertical-align: top\">Lovely book, it's bound<br>tightly so you may no ...</td>\n",
       "        <td style=\"padding-left: 1em; padding-right: 1em; text-align: center; vertical-align: top\">4.0</td>\n",
       "        <td style=\"padding-left: 1em; padding-right: 1em; text-align: center; vertical-align: top\">{'shop': 1L, 'be': 1L,<br>'is': 1L, 'it': 1L, ' ...</td>\n",
       "    </tr>\n",
       "    <tr>\n",
       "        <td style=\"padding-left: 1em; padding-right: 1em; text-align: center; vertical-align: top\">Baby Tracker&amp;reg; - Daily<br>Childcare Journal, ...</td>\n",
       "        <td style=\"padding-left: 1em; padding-right: 1em; text-align: center; vertical-align: top\">Perfect for new parents.<br>We were able to keep ...</td>\n",
       "        <td style=\"padding-left: 1em; padding-right: 1em; text-align: center; vertical-align: top\">5.0</td>\n",
       "        <td style=\"padding-left: 1em; padding-right: 1em; text-align: center; vertical-align: top\">{'feeding,': 1L, 'and':<br>2L, 'all': 1L, 'right': ...</td>\n",
       "    </tr>\n",
       "    <tr>\n",
       "        <td style=\"padding-left: 1em; padding-right: 1em; text-align: center; vertical-align: top\">Baby Tracker&amp;reg; - Daily<br>Childcare Journal, ...</td>\n",
       "        <td style=\"padding-left: 1em; padding-right: 1em; text-align: center; vertical-align: top\">A friend of mine pinned<br>this product on Pinte ...</td>\n",
       "        <td style=\"padding-left: 1em; padding-right: 1em; text-align: center; vertical-align: top\">5.0</td>\n",
       "        <td style=\"padding-left: 1em; padding-right: 1em; text-align: center; vertical-align: top\">{'and': 1L, 'help': 1L,<br>'give': 1L, 'is': 1L, ...</td>\n",
       "    </tr>\n",
       "    <tr>\n",
       "        <td style=\"padding-left: 1em; padding-right: 1em; text-align: center; vertical-align: top\">Baby Tracker&amp;reg; - Daily<br>Childcare Journal, ...</td>\n",
       "        <td style=\"padding-left: 1em; padding-right: 1em; text-align: center; vertical-align: top\">This has been an easy way<br>for my nanny to record ...</td>\n",
       "        <td style=\"padding-left: 1em; padding-right: 1em; text-align: center; vertical-align: top\">4.0</td>\n",
       "        <td style=\"padding-left: 1em; padding-right: 1em; text-align: center; vertical-align: top\">{'journal.': 1L, 'all':<br>1L, 'standarad': 1L, ...</td>\n",
       "    </tr>\n",
       "</table>\n",
       "[10 rows x 4 columns]<br/>\n",
       "</div>"
      ],
      "text/plain": [
       "Columns:\n",
       "\tname\tstr\n",
       "\treview\tstr\n",
       "\trating\tfloat\n",
       "\tword_count\tdict\n",
       "\n",
       "Rows: 10\n",
       "\n",
       "Data:\n",
       "+-------------------------------+-------------------------------+--------+\n",
       "|              name             |             review            | rating |\n",
       "+-------------------------------+-------------------------------+--------+\n",
       "|    Planetwise Flannel Wipes   | These flannel wipes are OK... |  3.0   |\n",
       "|     Planetwise Wipe Pouch     | it came early and was not ... |  5.0   |\n",
       "| Annas Dream Full Quilt wit... | Very soft and comfortable ... |  5.0   |\n",
       "| Stop Pacifier Sucking with... | This is a product well wor... |  5.0   |\n",
       "| Stop Pacifier Sucking with... | All of my kids have cried ... |  5.0   |\n",
       "| Stop Pacifier Sucking with... | When the Binky Fairy came ... |  5.0   |\n",
       "| A Tale of Baby's Days with... | Lovely book, it's bound ti... |  4.0   |\n",
       "| Baby Tracker&reg; - Daily ... | Perfect for new parents. W... |  5.0   |\n",
       "| Baby Tracker&reg; - Daily ... | A friend of mine pinned th... |  5.0   |\n",
       "| Baby Tracker&reg; - Daily ... | This has been an easy way ... |  4.0   |\n",
       "+-------------------------------+-------------------------------+--------+\n",
       "+-------------------------------+\n",
       "|           word_count          |\n",
       "+-------------------------------+\n",
       "| {'and': 5L, 'stink': 1L, '... |\n",
       "| {'and': 3L, 'love': 1L, 'i... |\n",
       "| {'and': 2L, 'quilt': 1L, '... |\n",
       "| {'ingenious': 1L, 'and': 3... |\n",
       "| {'and': 2L, 'parents!!': 1... |\n",
       "| {'and': 2L, 'cute': 1L, 'h... |\n",
       "| {'shop': 1L, 'be': 1L, 'is... |\n",
       "| {'feeding,': 1L, 'and': 2L... |\n",
       "| {'and': 1L, 'help': 1L, 'g... |\n",
       "| {'journal.': 1L, 'all': 1L... |\n",
       "+-------------------------------+\n",
       "[10 rows x 4 columns]"
      ]
     },
     "execution_count": 5,
     "metadata": {},
     "output_type": "execute_result"
    }
   ],
   "source": [
    "products.head()"
   ]
  },
  {
   "cell_type": "code",
   "execution_count": 6,
   "metadata": {
    "collapsed": true
   },
   "outputs": [],
   "source": [
    "products = products[products['rating'] != 3.0 ]"
   ]
  },
  {
   "cell_type": "code",
   "execution_count": 7,
   "metadata": {
    "collapsed": false
   },
   "outputs": [
    {
     "data": {
      "text/html": [
       "<div style=\"max-height:1000px;max-width:1500px;overflow:auto;\"><table frame=\"box\" rules=\"cols\">\n",
       "    <tr>\n",
       "        <th style=\"padding-left: 1em; padding-right: 1em; text-align: center\">name</th>\n",
       "        <th style=\"padding-left: 1em; padding-right: 1em; text-align: center\">review</th>\n",
       "        <th style=\"padding-left: 1em; padding-right: 1em; text-align: center\">rating</th>\n",
       "        <th style=\"padding-left: 1em; padding-right: 1em; text-align: center\">word_count</th>\n",
       "    </tr>\n",
       "    <tr>\n",
       "        <td style=\"padding-left: 1em; padding-right: 1em; text-align: center; vertical-align: top\">Planetwise Wipe Pouch</td>\n",
       "        <td style=\"padding-left: 1em; padding-right: 1em; text-align: center; vertical-align: top\">it came early and was not<br>disappointed. i love ...</td>\n",
       "        <td style=\"padding-left: 1em; padding-right: 1em; text-align: center; vertical-align: top\">5.0</td>\n",
       "        <td style=\"padding-left: 1em; padding-right: 1em; text-align: center; vertical-align: top\">{'and': 3L, 'love': 1L,<br>'it': 2L, 'highly': 1L, ...</td>\n",
       "    </tr>\n",
       "    <tr>\n",
       "        <td style=\"padding-left: 1em; padding-right: 1em; text-align: center; vertical-align: top\">Annas Dream Full Quilt<br>with 2 Shams ...</td>\n",
       "        <td style=\"padding-left: 1em; padding-right: 1em; text-align: center; vertical-align: top\">Very soft and comfortable<br>and warmer than it ...</td>\n",
       "        <td style=\"padding-left: 1em; padding-right: 1em; text-align: center; vertical-align: top\">5.0</td>\n",
       "        <td style=\"padding-left: 1em; padding-right: 1em; text-align: center; vertical-align: top\">{'and': 2L, 'quilt': 1L,<br>'it': 1L, 'comfortable': ...</td>\n",
       "    </tr>\n",
       "    <tr>\n",
       "        <td style=\"padding-left: 1em; padding-right: 1em; text-align: center; vertical-align: top\">Stop Pacifier Sucking<br>without tears with ...</td>\n",
       "        <td style=\"padding-left: 1em; padding-right: 1em; text-align: center; vertical-align: top\">This is a product well<br>worth the purchase.  I ...</td>\n",
       "        <td style=\"padding-left: 1em; padding-right: 1em; text-align: center; vertical-align: top\">5.0</td>\n",
       "        <td style=\"padding-left: 1em; padding-right: 1em; text-align: center; vertical-align: top\">{'ingenious': 1L, 'and':<br>3L, 'love': 2L, ...</td>\n",
       "    </tr>\n",
       "    <tr>\n",
       "        <td style=\"padding-left: 1em; padding-right: 1em; text-align: center; vertical-align: top\">Stop Pacifier Sucking<br>without tears with ...</td>\n",
       "        <td style=\"padding-left: 1em; padding-right: 1em; text-align: center; vertical-align: top\">All of my kids have cried<br>non-stop when I tried to ...</td>\n",
       "        <td style=\"padding-left: 1em; padding-right: 1em; text-align: center; vertical-align: top\">5.0</td>\n",
       "        <td style=\"padding-left: 1em; padding-right: 1em; text-align: center; vertical-align: top\">{'and': 2L, 'parents!!':<br>1L, 'all': 2L, 'puppe ...</td>\n",
       "    </tr>\n",
       "    <tr>\n",
       "        <td style=\"padding-left: 1em; padding-right: 1em; text-align: center; vertical-align: top\">Stop Pacifier Sucking<br>without tears with ...</td>\n",
       "        <td style=\"padding-left: 1em; padding-right: 1em; text-align: center; vertical-align: top\">When the Binky Fairy came<br>to our house, we didn't ...</td>\n",
       "        <td style=\"padding-left: 1em; padding-right: 1em; text-align: center; vertical-align: top\">5.0</td>\n",
       "        <td style=\"padding-left: 1em; padding-right: 1em; text-align: center; vertical-align: top\">{'and': 2L, 'cute': 1L,<br>'help': 2L, 'doll': 1L, ...</td>\n",
       "    </tr>\n",
       "    <tr>\n",
       "        <td style=\"padding-left: 1em; padding-right: 1em; text-align: center; vertical-align: top\">A Tale of Baby's Days<br>with Peter Rabbit ...</td>\n",
       "        <td style=\"padding-left: 1em; padding-right: 1em; text-align: center; vertical-align: top\">Lovely book, it's bound<br>tightly so you may no ...</td>\n",
       "        <td style=\"padding-left: 1em; padding-right: 1em; text-align: center; vertical-align: top\">4.0</td>\n",
       "        <td style=\"padding-left: 1em; padding-right: 1em; text-align: center; vertical-align: top\">{'shop': 1L, 'be': 1L,<br>'is': 1L, 'it': 1L, ' ...</td>\n",
       "    </tr>\n",
       "    <tr>\n",
       "        <td style=\"padding-left: 1em; padding-right: 1em; text-align: center; vertical-align: top\">Baby Tracker&amp;reg; - Daily<br>Childcare Journal, ...</td>\n",
       "        <td style=\"padding-left: 1em; padding-right: 1em; text-align: center; vertical-align: top\">Perfect for new parents.<br>We were able to keep ...</td>\n",
       "        <td style=\"padding-left: 1em; padding-right: 1em; text-align: center; vertical-align: top\">5.0</td>\n",
       "        <td style=\"padding-left: 1em; padding-right: 1em; text-align: center; vertical-align: top\">{'feeding,': 1L, 'and':<br>2L, 'all': 1L, 'right': ...</td>\n",
       "    </tr>\n",
       "    <tr>\n",
       "        <td style=\"padding-left: 1em; padding-right: 1em; text-align: center; vertical-align: top\">Baby Tracker&amp;reg; - Daily<br>Childcare Journal, ...</td>\n",
       "        <td style=\"padding-left: 1em; padding-right: 1em; text-align: center; vertical-align: top\">A friend of mine pinned<br>this product on Pinte ...</td>\n",
       "        <td style=\"padding-left: 1em; padding-right: 1em; text-align: center; vertical-align: top\">5.0</td>\n",
       "        <td style=\"padding-left: 1em; padding-right: 1em; text-align: center; vertical-align: top\">{'and': 1L, 'help': 1L,<br>'give': 1L, 'is': 1L, ...</td>\n",
       "    </tr>\n",
       "    <tr>\n",
       "        <td style=\"padding-left: 1em; padding-right: 1em; text-align: center; vertical-align: top\">Baby Tracker&amp;reg; - Daily<br>Childcare Journal, ...</td>\n",
       "        <td style=\"padding-left: 1em; padding-right: 1em; text-align: center; vertical-align: top\">This has been an easy way<br>for my nanny to record ...</td>\n",
       "        <td style=\"padding-left: 1em; padding-right: 1em; text-align: center; vertical-align: top\">4.0</td>\n",
       "        <td style=\"padding-left: 1em; padding-right: 1em; text-align: center; vertical-align: top\">{'journal.': 1L, 'all':<br>1L, 'standarad': 1L, ...</td>\n",
       "    </tr>\n",
       "    <tr>\n",
       "        <td style=\"padding-left: 1em; padding-right: 1em; text-align: center; vertical-align: top\">Baby Tracker&amp;reg; - Daily<br>Childcare Journal, ...</td>\n",
       "        <td style=\"padding-left: 1em; padding-right: 1em; text-align: center; vertical-align: top\">I love this journal and<br>our nanny uses it ...</td>\n",
       "        <td style=\"padding-left: 1em; padding-right: 1em; text-align: center; vertical-align: top\">4.0</td>\n",
       "        <td style=\"padding-left: 1em; padding-right: 1em; text-align: center; vertical-align: top\">{'all': 1L, 'forget': 1L,<br>'just': 1L, \"daughter ...</td>\n",
       "    </tr>\n",
       "</table>\n",
       "[10 rows x 4 columns]<br/>\n",
       "</div>"
      ],
      "text/plain": [
       "Columns:\n",
       "\tname\tstr\n",
       "\treview\tstr\n",
       "\trating\tfloat\n",
       "\tword_count\tdict\n",
       "\n",
       "Rows: 10\n",
       "\n",
       "Data:\n",
       "+-------------------------------+-------------------------------+--------+\n",
       "|              name             |             review            | rating |\n",
       "+-------------------------------+-------------------------------+--------+\n",
       "|     Planetwise Wipe Pouch     | it came early and was not ... |  5.0   |\n",
       "| Annas Dream Full Quilt wit... | Very soft and comfortable ... |  5.0   |\n",
       "| Stop Pacifier Sucking with... | This is a product well wor... |  5.0   |\n",
       "| Stop Pacifier Sucking with... | All of my kids have cried ... |  5.0   |\n",
       "| Stop Pacifier Sucking with... | When the Binky Fairy came ... |  5.0   |\n",
       "| A Tale of Baby's Days with... | Lovely book, it's bound ti... |  4.0   |\n",
       "| Baby Tracker&reg; - Daily ... | Perfect for new parents. W... |  5.0   |\n",
       "| Baby Tracker&reg; - Daily ... | A friend of mine pinned th... |  5.0   |\n",
       "| Baby Tracker&reg; - Daily ... | This has been an easy way ... |  4.0   |\n",
       "| Baby Tracker&reg; - Daily ... | I love this journal and ou... |  4.0   |\n",
       "+-------------------------------+-------------------------------+--------+\n",
       "+-------------------------------+\n",
       "|           word_count          |\n",
       "+-------------------------------+\n",
       "| {'and': 3L, 'love': 1L, 'i... |\n",
       "| {'and': 2L, 'quilt': 1L, '... |\n",
       "| {'ingenious': 1L, 'and': 3... |\n",
       "| {'and': 2L, 'parents!!': 1... |\n",
       "| {'and': 2L, 'cute': 1L, 'h... |\n",
       "| {'shop': 1L, 'be': 1L, 'is... |\n",
       "| {'feeding,': 1L, 'and': 2L... |\n",
       "| {'and': 1L, 'help': 1L, 'g... |\n",
       "| {'journal.': 1L, 'all': 1L... |\n",
       "| {'all': 1L, 'forget': 1L, ... |\n",
       "+-------------------------------+\n",
       "[10 rows x 4 columns]"
      ]
     },
     "execution_count": 7,
     "metadata": {},
     "output_type": "execute_result"
    }
   ],
   "source": [
    "products.head()"
   ]
  },
  {
   "cell_type": "code",
   "execution_count": 8,
   "metadata": {
    "collapsed": true
   },
   "outputs": [],
   "source": [
    "products['sentiment'] = products['rating'] >= 4.0"
   ]
  },
  {
   "cell_type": "code",
   "execution_count": 9,
   "metadata": {
    "collapsed": false
   },
   "outputs": [
    {
     "data": {
      "text/html": [
       "<div style=\"max-height:1000px;max-width:1500px;overflow:auto;\"><table frame=\"box\" rules=\"cols\">\n",
       "    <tr>\n",
       "        <th style=\"padding-left: 1em; padding-right: 1em; text-align: center\">name</th>\n",
       "        <th style=\"padding-left: 1em; padding-right: 1em; text-align: center\">review</th>\n",
       "        <th style=\"padding-left: 1em; padding-right: 1em; text-align: center\">rating</th>\n",
       "        <th style=\"padding-left: 1em; padding-right: 1em; text-align: center\">word_count</th>\n",
       "        <th style=\"padding-left: 1em; padding-right: 1em; text-align: center\">sentiment</th>\n",
       "    </tr>\n",
       "    <tr>\n",
       "        <td style=\"padding-left: 1em; padding-right: 1em; text-align: center; vertical-align: top\">Planetwise Wipe Pouch</td>\n",
       "        <td style=\"padding-left: 1em; padding-right: 1em; text-align: center; vertical-align: top\">it came early and was not<br>disappointed. i love ...</td>\n",
       "        <td style=\"padding-left: 1em; padding-right: 1em; text-align: center; vertical-align: top\">5.0</td>\n",
       "        <td style=\"padding-left: 1em; padding-right: 1em; text-align: center; vertical-align: top\">{'and': 3L, 'love': 1L,<br>'it': 2L, 'highly': 1L, ...</td>\n",
       "        <td style=\"padding-left: 1em; padding-right: 1em; text-align: center; vertical-align: top\">1</td>\n",
       "    </tr>\n",
       "    <tr>\n",
       "        <td style=\"padding-left: 1em; padding-right: 1em; text-align: center; vertical-align: top\">Annas Dream Full Quilt<br>with 2 Shams ...</td>\n",
       "        <td style=\"padding-left: 1em; padding-right: 1em; text-align: center; vertical-align: top\">Very soft and comfortable<br>and warmer than it ...</td>\n",
       "        <td style=\"padding-left: 1em; padding-right: 1em; text-align: center; vertical-align: top\">5.0</td>\n",
       "        <td style=\"padding-left: 1em; padding-right: 1em; text-align: center; vertical-align: top\">{'and': 2L, 'quilt': 1L,<br>'it': 1L, 'comfortable': ...</td>\n",
       "        <td style=\"padding-left: 1em; padding-right: 1em; text-align: center; vertical-align: top\">1</td>\n",
       "    </tr>\n",
       "    <tr>\n",
       "        <td style=\"padding-left: 1em; padding-right: 1em; text-align: center; vertical-align: top\">Stop Pacifier Sucking<br>without tears with ...</td>\n",
       "        <td style=\"padding-left: 1em; padding-right: 1em; text-align: center; vertical-align: top\">This is a product well<br>worth the purchase.  I ...</td>\n",
       "        <td style=\"padding-left: 1em; padding-right: 1em; text-align: center; vertical-align: top\">5.0</td>\n",
       "        <td style=\"padding-left: 1em; padding-right: 1em; text-align: center; vertical-align: top\">{'ingenious': 1L, 'and':<br>3L, 'love': 2L, ...</td>\n",
       "        <td style=\"padding-left: 1em; padding-right: 1em; text-align: center; vertical-align: top\">1</td>\n",
       "    </tr>\n",
       "    <tr>\n",
       "        <td style=\"padding-left: 1em; padding-right: 1em; text-align: center; vertical-align: top\">Stop Pacifier Sucking<br>without tears with ...</td>\n",
       "        <td style=\"padding-left: 1em; padding-right: 1em; text-align: center; vertical-align: top\">All of my kids have cried<br>non-stop when I tried to ...</td>\n",
       "        <td style=\"padding-left: 1em; padding-right: 1em; text-align: center; vertical-align: top\">5.0</td>\n",
       "        <td style=\"padding-left: 1em; padding-right: 1em; text-align: center; vertical-align: top\">{'and': 2L, 'parents!!':<br>1L, 'all': 2L, 'puppe ...</td>\n",
       "        <td style=\"padding-left: 1em; padding-right: 1em; text-align: center; vertical-align: top\">1</td>\n",
       "    </tr>\n",
       "    <tr>\n",
       "        <td style=\"padding-left: 1em; padding-right: 1em; text-align: center; vertical-align: top\">Stop Pacifier Sucking<br>without tears with ...</td>\n",
       "        <td style=\"padding-left: 1em; padding-right: 1em; text-align: center; vertical-align: top\">When the Binky Fairy came<br>to our house, we didn't ...</td>\n",
       "        <td style=\"padding-left: 1em; padding-right: 1em; text-align: center; vertical-align: top\">5.0</td>\n",
       "        <td style=\"padding-left: 1em; padding-right: 1em; text-align: center; vertical-align: top\">{'and': 2L, 'cute': 1L,<br>'help': 2L, 'doll': 1L, ...</td>\n",
       "        <td style=\"padding-left: 1em; padding-right: 1em; text-align: center; vertical-align: top\">1</td>\n",
       "    </tr>\n",
       "    <tr>\n",
       "        <td style=\"padding-left: 1em; padding-right: 1em; text-align: center; vertical-align: top\">A Tale of Baby's Days<br>with Peter Rabbit ...</td>\n",
       "        <td style=\"padding-left: 1em; padding-right: 1em; text-align: center; vertical-align: top\">Lovely book, it's bound<br>tightly so you may no ...</td>\n",
       "        <td style=\"padding-left: 1em; padding-right: 1em; text-align: center; vertical-align: top\">4.0</td>\n",
       "        <td style=\"padding-left: 1em; padding-right: 1em; text-align: center; vertical-align: top\">{'shop': 1L, 'be': 1L,<br>'is': 1L, 'it': 1L, ' ...</td>\n",
       "        <td style=\"padding-left: 1em; padding-right: 1em; text-align: center; vertical-align: top\">1</td>\n",
       "    </tr>\n",
       "    <tr>\n",
       "        <td style=\"padding-left: 1em; padding-right: 1em; text-align: center; vertical-align: top\">Baby Tracker&amp;reg; - Daily<br>Childcare Journal, ...</td>\n",
       "        <td style=\"padding-left: 1em; padding-right: 1em; text-align: center; vertical-align: top\">Perfect for new parents.<br>We were able to keep ...</td>\n",
       "        <td style=\"padding-left: 1em; padding-right: 1em; text-align: center; vertical-align: top\">5.0</td>\n",
       "        <td style=\"padding-left: 1em; padding-right: 1em; text-align: center; vertical-align: top\">{'feeding,': 1L, 'and':<br>2L, 'all': 1L, 'right': ...</td>\n",
       "        <td style=\"padding-left: 1em; padding-right: 1em; text-align: center; vertical-align: top\">1</td>\n",
       "    </tr>\n",
       "    <tr>\n",
       "        <td style=\"padding-left: 1em; padding-right: 1em; text-align: center; vertical-align: top\">Baby Tracker&amp;reg; - Daily<br>Childcare Journal, ...</td>\n",
       "        <td style=\"padding-left: 1em; padding-right: 1em; text-align: center; vertical-align: top\">A friend of mine pinned<br>this product on Pinte ...</td>\n",
       "        <td style=\"padding-left: 1em; padding-right: 1em; text-align: center; vertical-align: top\">5.0</td>\n",
       "        <td style=\"padding-left: 1em; padding-right: 1em; text-align: center; vertical-align: top\">{'and': 1L, 'help': 1L,<br>'give': 1L, 'is': 1L, ...</td>\n",
       "        <td style=\"padding-left: 1em; padding-right: 1em; text-align: center; vertical-align: top\">1</td>\n",
       "    </tr>\n",
       "    <tr>\n",
       "        <td style=\"padding-left: 1em; padding-right: 1em; text-align: center; vertical-align: top\">Baby Tracker&amp;reg; - Daily<br>Childcare Journal, ...</td>\n",
       "        <td style=\"padding-left: 1em; padding-right: 1em; text-align: center; vertical-align: top\">This has been an easy way<br>for my nanny to record ...</td>\n",
       "        <td style=\"padding-left: 1em; padding-right: 1em; text-align: center; vertical-align: top\">4.0</td>\n",
       "        <td style=\"padding-left: 1em; padding-right: 1em; text-align: center; vertical-align: top\">{'journal.': 1L, 'all':<br>1L, 'standarad': 1L, ...</td>\n",
       "        <td style=\"padding-left: 1em; padding-right: 1em; text-align: center; vertical-align: top\">1</td>\n",
       "    </tr>\n",
       "    <tr>\n",
       "        <td style=\"padding-left: 1em; padding-right: 1em; text-align: center; vertical-align: top\">Baby Tracker&amp;reg; - Daily<br>Childcare Journal, ...</td>\n",
       "        <td style=\"padding-left: 1em; padding-right: 1em; text-align: center; vertical-align: top\">I love this journal and<br>our nanny uses it ...</td>\n",
       "        <td style=\"padding-left: 1em; padding-right: 1em; text-align: center; vertical-align: top\">4.0</td>\n",
       "        <td style=\"padding-left: 1em; padding-right: 1em; text-align: center; vertical-align: top\">{'all': 1L, 'forget': 1L,<br>'just': 1L, \"daughter ...</td>\n",
       "        <td style=\"padding-left: 1em; padding-right: 1em; text-align: center; vertical-align: top\">1</td>\n",
       "    </tr>\n",
       "</table>\n",
       "[10 rows x 5 columns]<br/>\n",
       "</div>"
      ],
      "text/plain": [
       "Columns:\n",
       "\tname\tstr\n",
       "\treview\tstr\n",
       "\trating\tfloat\n",
       "\tword_count\tdict\n",
       "\tsentiment\tint\n",
       "\n",
       "Rows: 10\n",
       "\n",
       "Data:\n",
       "+-------------------------------+-------------------------------+--------+\n",
       "|              name             |             review            | rating |\n",
       "+-------------------------------+-------------------------------+--------+\n",
       "|     Planetwise Wipe Pouch     | it came early and was not ... |  5.0   |\n",
       "| Annas Dream Full Quilt wit... | Very soft and comfortable ... |  5.0   |\n",
       "| Stop Pacifier Sucking with... | This is a product well wor... |  5.0   |\n",
       "| Stop Pacifier Sucking with... | All of my kids have cried ... |  5.0   |\n",
       "| Stop Pacifier Sucking with... | When the Binky Fairy came ... |  5.0   |\n",
       "| A Tale of Baby's Days with... | Lovely book, it's bound ti... |  4.0   |\n",
       "| Baby Tracker&reg; - Daily ... | Perfect for new parents. W... |  5.0   |\n",
       "| Baby Tracker&reg; - Daily ... | A friend of mine pinned th... |  5.0   |\n",
       "| Baby Tracker&reg; - Daily ... | This has been an easy way ... |  4.0   |\n",
       "| Baby Tracker&reg; - Daily ... | I love this journal and ou... |  4.0   |\n",
       "+-------------------------------+-------------------------------+--------+\n",
       "+-------------------------------+-----------+\n",
       "|           word_count          | sentiment |\n",
       "+-------------------------------+-----------+\n",
       "| {'and': 3L, 'love': 1L, 'i... |     1     |\n",
       "| {'and': 2L, 'quilt': 1L, '... |     1     |\n",
       "| {'ingenious': 1L, 'and': 3... |     1     |\n",
       "| {'and': 2L, 'parents!!': 1... |     1     |\n",
       "| {'and': 2L, 'cute': 1L, 'h... |     1     |\n",
       "| {'shop': 1L, 'be': 1L, 'is... |     1     |\n",
       "| {'feeding,': 1L, 'and': 2L... |     1     |\n",
       "| {'and': 1L, 'help': 1L, 'g... |     1     |\n",
       "| {'journal.': 1L, 'all': 1L... |     1     |\n",
       "| {'all': 1L, 'forget': 1L, ... |     1     |\n",
       "+-------------------------------+-----------+\n",
       "[10 rows x 5 columns]"
      ]
     },
     "execution_count": 9,
     "metadata": {},
     "output_type": "execute_result"
    }
   ],
   "source": [
    "products.head()"
   ]
  },
  {
   "cell_type": "code",
   "execution_count": 12,
   "metadata": {
    "collapsed": false
   },
   "outputs": [
    {
     "data": {
      "text/html": [
       "<div style=\"max-height:1000px;max-width:1500px;overflow:auto;\"><table frame=\"box\" rules=\"cols\">\n",
       "    <tr>\n",
       "        <th style=\"padding-left: 1em; padding-right: 1em; text-align: center\">name</th>\n",
       "        <th style=\"padding-left: 1em; padding-right: 1em; text-align: center\">review</th>\n",
       "        <th style=\"padding-left: 1em; padding-right: 1em; text-align: center\">rating</th>\n",
       "        <th style=\"padding-left: 1em; padding-right: 1em; text-align: center\">word_count</th>\n",
       "        <th style=\"padding-left: 1em; padding-right: 1em; text-align: center\">sentiment</th>\n",
       "    </tr>\n",
       "    <tr>\n",
       "        <td style=\"padding-left: 1em; padding-right: 1em; text-align: center; vertical-align: top\">Nature's Lullabies Second<br>Year Sticker Calendar ...</td>\n",
       "        <td style=\"padding-left: 1em; padding-right: 1em; text-align: center; vertical-align: top\">I only purchased a<br>second-year calendar for ...</td>\n",
       "        <td style=\"padding-left: 1em; padding-right: 1em; text-align: center; vertical-align: top\">2.0</td>\n",
       "        <td style=\"padding-left: 1em; padding-right: 1em; text-align: center; vertical-align: top\">{'and': 1L, 'cute': 1L,<br>'because': 2L, 'just': ...</td>\n",
       "        <td style=\"padding-left: 1em; padding-right: 1em; text-align: center; vertical-align: top\">0</td>\n",
       "    </tr>\n",
       "    <tr>\n",
       "        <td style=\"padding-left: 1em; padding-right: 1em; text-align: center; vertical-align: top\">SoftPlay Giggle Jiggle<br>Funbook, Happy Bear ...</td>\n",
       "        <td style=\"padding-left: 1em; padding-right: 1em; text-align: center; vertical-align: top\">This bear is absolutely<br>adorable and I would  ...</td>\n",
       "        <td style=\"padding-left: 1em; padding-right: 1em; text-align: center; vertical-align: top\">2.0</td>\n",
       "        <td style=\"padding-left: 1em; padding-right: 1em; text-align: center; vertical-align: top\">{'and': 3L, 'cute': 1L,<br>'rating': 1L, 'have': ...</td>\n",
       "        <td style=\"padding-left: 1em; padding-right: 1em; text-align: center; vertical-align: top\">0</td>\n",
       "    </tr>\n",
       "    <tr>\n",
       "        <td style=\"padding-left: 1em; padding-right: 1em; text-align: center; vertical-align: top\">SoftPlay Cloth Book, Love</td>\n",
       "        <td style=\"padding-left: 1em; padding-right: 1em; text-align: center; vertical-align: top\">This book is boring.<br>Nothing to stimulate my ...</td>\n",
       "        <td style=\"padding-left: 1em; padding-right: 1em; text-align: center; vertical-align: top\">1.0</td>\n",
       "        <td style=\"padding-left: 1em; padding-right: 1em; text-align: center; vertical-align: top\">{'a': 1L, 'boring.': 1L,<br>'would': 1L, 'to': 1L, ...</td>\n",
       "        <td style=\"padding-left: 1em; padding-right: 1em; text-align: center; vertical-align: top\">0</td>\n",
       "    </tr>\n",
       "    <tr>\n",
       "        <td style=\"padding-left: 1em; padding-right: 1em; text-align: center; vertical-align: top\">Hunnt&amp;reg; Falling<br>Flowers and Birds Kids ...</td>\n",
       "        <td style=\"padding-left: 1em; padding-right: 1em; text-align: center; vertical-align: top\">The reason:Small sizeHard<br>to apply on the wall ...</td>\n",
       "        <td style=\"padding-left: 1em; padding-right: 1em; text-align: center; vertical-align: top\">1.0</td>\n",
       "        <td style=\"padding-left: 1em; padding-right: 1em; text-align: center; vertical-align: top\">{'all': 1L, 'because':<br>1L, 'reason:small': 1L, ...</td>\n",
       "        <td style=\"padding-left: 1em; padding-right: 1em; text-align: center; vertical-align: top\">0</td>\n",
       "    </tr>\n",
       "    <tr>\n",
       "        <td style=\"padding-left: 1em; padding-right: 1em; text-align: center; vertical-align: top\">Wall Decor Removable<br>Decal Sticker - Colorful ...</td>\n",
       "        <td style=\"padding-left: 1em; padding-right: 1em; text-align: center; vertical-align: top\">Would not purchase again<br>or recommend. The decals ...</td>\n",
       "        <td style=\"padding-left: 1em; padding-right: 1em; text-align: center; vertical-align: top\">2.0</td>\n",
       "        <td style=\"padding-left: 1em; padding-right: 1em; text-align: center; vertical-align: top\">{'and': 1L, 'wall': 1L,<br>'coming': 1L, 'decals': ...</td>\n",
       "        <td style=\"padding-left: 1em; padding-right: 1em; text-align: center; vertical-align: top\">0</td>\n",
       "    </tr>\n",
       "    <tr>\n",
       "        <td style=\"padding-left: 1em; padding-right: 1em; text-align: center; vertical-align: top\">Cloth Diaper Pins<br>Stainless Steel ...</td>\n",
       "        <td style=\"padding-left: 1em; padding-right: 1em; text-align: center; vertical-align: top\">These were  good quality<br>--worked fine--heavy  ...</td>\n",
       "        <td style=\"padding-left: 1em; padding-right: 1em; text-align: center; vertical-align: top\">2.0</td>\n",
       "        <td style=\"padding-left: 1em; padding-right: 1em; text-align: center; vertical-align: top\">{'and': 1L, 'duty--able':<br>1L, 'quality--worked': ...</td>\n",
       "        <td style=\"padding-left: 1em; padding-right: 1em; text-align: center; vertical-align: top\">0</td>\n",
       "    </tr>\n",
       "    <tr>\n",
       "        <td style=\"padding-left: 1em; padding-right: 1em; text-align: center; vertical-align: top\">Cloth Diaper Pins<br>Stainless Steel ...</td>\n",
       "        <td style=\"padding-left: 1em; padding-right: 1em; text-align: center; vertical-align: top\">While the diaper pins are<br>attractive, the metal in ...</td>\n",
       "        <td style=\"padding-left: 1em; padding-right: 1em; text-align: center; vertical-align: top\">2.0</td>\n",
       "        <td style=\"padding-left: 1em; padding-right: 1em; text-align: center; vertical-align: top\">{'and': 1L, 'not': 1L,<br>'are': 2L, 'in': 1L, ...</td>\n",
       "        <td style=\"padding-left: 1em; padding-right: 1em; text-align: center; vertical-align: top\">0</td>\n",
       "    </tr>\n",
       "    <tr>\n",
       "        <td style=\"padding-left: 1em; padding-right: 1em; text-align: center; vertical-align: top\">Cloth Diaper Pins<br>Stainless Steel ...</td>\n",
       "        <td style=\"padding-left: 1em; padding-right: 1em; text-align: center; vertical-align: top\">The steel part is not<br>strong at all, unlike ...</td>\n",
       "        <td style=\"padding-left: 1em; padding-right: 1em; text-align: center; vertical-align: top\">1.0</td>\n",
       "        <td style=\"padding-left: 1em; padding-right: 1em; text-align: center; vertical-align: top\">{'fabric.': 1L, 'work':<br>1L, 'old': 1L, 'is': 1L, ...</td>\n",
       "        <td style=\"padding-left: 1em; padding-right: 1em; text-align: center; vertical-align: top\">0</td>\n",
       "    </tr>\n",
       "    <tr>\n",
       "        <td style=\"padding-left: 1em; padding-right: 1em; text-align: center; vertical-align: top\">Cloth Diaper Pins<br>Stainless Steel ...</td>\n",
       "        <td style=\"padding-left: 1em; padding-right: 1em; text-align: center; vertical-align: top\">I really thought I was<br>getting a dozen ...</td>\n",
       "        <td style=\"padding-left: 1em; padding-right: 1em; text-align: center; vertical-align: top\">2.0</td>\n",
       "        <td style=\"padding-left: 1em; padding-right: 1em; text-align: center; vertical-align: top\">{'there': 1L, 'am': 1L,<br>'back': 1L, 'really': ...</td>\n",
       "        <td style=\"padding-left: 1em; padding-right: 1em; text-align: center; vertical-align: top\">0</td>\n",
       "    </tr>\n",
       "    <tr>\n",
       "        <td style=\"padding-left: 1em; padding-right: 1em; text-align: center; vertical-align: top\">Super Mario Game Nintendo<br>Wall Sticker and Decal ...</td>\n",
       "        <td style=\"padding-left: 1em; padding-right: 1em; text-align: center; vertical-align: top\">These do not stick to the<br>wall. They start to peel ...</td>\n",
       "        <td style=\"padding-left: 1em; padding-right: 1em; text-align: center; vertical-align: top\">1.0</td>\n",
       "        <td style=\"padding-left: 1em; padding-right: 1em; text-align: center; vertical-align: top\">{'do': 1L, 'them': 1L,<br>'peel': 1L, 'start': 1L, ...</td>\n",
       "        <td style=\"padding-left: 1em; padding-right: 1em; text-align: center; vertical-align: top\">0</td>\n",
       "    </tr>\n",
       "</table>\n",
       "[? rows x 5 columns]<br/>Note: Only the head of the SFrame is printed. This SFrame is lazily evaluated.<br/>You can use sf.materialize() to force materialization.\n",
       "</div>"
      ],
      "text/plain": [
       "Columns:\n",
       "\tname\tstr\n",
       "\treview\tstr\n",
       "\trating\tfloat\n",
       "\tword_count\tdict\n",
       "\tsentiment\tint\n",
       "\n",
       "Rows: Unknown\n",
       "\n",
       "Data:\n",
       "+-------------------------------+-------------------------------+--------+\n",
       "|              name             |             review            | rating |\n",
       "+-------------------------------+-------------------------------+--------+\n",
       "| Nature's Lullabies Second ... | I only purchased a second-... |  2.0   |\n",
       "| SoftPlay Giggle Jiggle Fun... | This bear is absolutely ad... |  2.0   |\n",
       "|   SoftPlay Cloth Book, Love   | This book is boring. Nothi... |  1.0   |\n",
       "| Hunnt&reg; Falling Flowers... | The reason:Small sizeHard ... |  1.0   |\n",
       "| Wall Decor Removable Decal... | Would not purchase again o... |  2.0   |\n",
       "| Cloth Diaper Pins Stainles... | These were  good quality--... |  2.0   |\n",
       "| Cloth Diaper Pins Stainles... | While the diaper pins are ... |  2.0   |\n",
       "| Cloth Diaper Pins Stainles... | The steel part is not stro... |  1.0   |\n",
       "| Cloth Diaper Pins Stainles... | I really thought I was get... |  2.0   |\n",
       "| Super Mario Game Nintendo ... | These do not stick to the ... |  1.0   |\n",
       "+-------------------------------+-------------------------------+--------+\n",
       "+-------------------------------+-----------+\n",
       "|           word_count          | sentiment |\n",
       "+-------------------------------+-----------+\n",
       "| {'and': 1L, 'cute': 1L, 'b... |     0     |\n",
       "| {'and': 3L, 'cute': 1L, 'r... |     0     |\n",
       "| {'a': 1L, 'boring.': 1L, '... |     0     |\n",
       "| {'all': 1L, 'because': 1L,... |     0     |\n",
       "| {'and': 1L, 'wall': 1L, 'c... |     0     |\n",
       "| {'and': 1L, 'duty--able': ... |     0     |\n",
       "| {'and': 1L, 'not': 1L, 'ar... |     0     |\n",
       "| {'fabric.': 1L, 'work': 1L... |     0     |\n",
       "| {'there': 1L, 'am': 1L, 'b... |     0     |\n",
       "| {'do': 1L, 'them': 1L, 'pe... |     0     |\n",
       "+-------------------------------+-----------+\n",
       "[? rows x 5 columns]\n",
       "Note: Only the head of the SFrame is printed. This SFrame is lazily evaluated.\n",
       "You can use sf.materialize() to force materialization."
      ]
     },
     "execution_count": 12,
     "metadata": {},
     "output_type": "execute_result"
    }
   ],
   "source": [
    "products[products['sentiment'] == 0]"
   ]
  },
  {
   "cell_type": "markdown",
   "metadata": {},
   "source": [
    "### Create training data & test data "
   ]
  },
  {
   "cell_type": "code",
   "execution_count": 15,
   "metadata": {
    "collapsed": false
   },
   "outputs": [
    {
     "name": "stdout",
     "output_type": "stream",
     "text": [
      "Help on function create in module graphlab.toolkits.classifier.logistic_classifier:\n",
      "\n",
      "create(dataset, target, features=None, l2_penalty=0.01, l1_penalty=0.0, solver='auto', feature_rescaling=True, convergence_threshold=0.01, step_size=1.0, lbfgs_memory_level=11, max_iterations=10, class_weights=None, validation_set='auto', verbose=True)\n",
      "    Create a :class:`~graphlab.logistic_classifier.LogisticClassifier` (using\n",
      "    logistic regression as a classifier) to predict the class of a discrete\n",
      "    target variable (binary or multiclass) based on a model of class probability\n",
      "    as a logistic function of a linear combination of the features.  In addition\n",
      "    to standard numeric and categorical types, features can also be extracted\n",
      "    automatically from list or dictionary-type SFrame columns.\n",
      "    \n",
      "    This model can be regularized with an l1 penalty, an l2 penalty, or both. By\n",
      "    default this model has an l2 regularization weight of 0.01.\n",
      "    \n",
      "    Parameters\n",
      "    ----------\n",
      "    dataset : SFrame\n",
      "        Dataset for training the model.\n",
      "    \n",
      "    target : string\n",
      "        Name of the column containing the target variable. The values in this\n",
      "        column must be of string or integer type. String target variables are\n",
      "        automatically mapped to integers in the order in which they are provided.\n",
      "        For example, a target variable with 'cat' and 'dog' as possible\n",
      "        values is mapped to 0 and 1 respectively with 0 being the base class\n",
      "        and 1 being the reference class. Use `model['classes']` to retrieve\n",
      "        the order in which the classes are mapped.\n",
      "    \n",
      "    features : list[string], optional\n",
      "        Names of the columns containing features. 'None' (the default) indicates\n",
      "        that all columns except the target variable should be used as features.\n",
      "    \n",
      "        The features are columns in the input SFrame that can be of the\n",
      "        following types:\n",
      "    \n",
      "        - *Numeric*: values of numeric type integer or float.\n",
      "    \n",
      "        - *Categorical*: values of type string.\n",
      "    \n",
      "        - *Array*: list of numeric (integer or float) values. Each list element\n",
      "          is treated as a separate feature in the model.\n",
      "    \n",
      "        - *Dictionary*: key-value pairs with numeric (integer or float) values\n",
      "          Each key of a dictionary is treated as a separate feature and the\n",
      "          value in the dictionary corresponds to the value of the feature.\n",
      "          Dictionaries are ideal for representing sparse data.\n",
      "    \n",
      "        Columns of type *list* are not supported. Convert such feature\n",
      "        columns to type array if all entries in the list are of numeric\n",
      "        types. If the lists contain data of mixed types, separate\n",
      "        them out into different columns.\n",
      "    \n",
      "    l2_penalty : float, optional\n",
      "        Weight on l2 regularization of the model. The larger this weight, the\n",
      "        more the model coefficients shrink toward 0. This introduces bias into\n",
      "        the model but decreases variance, potentially leading to better\n",
      "        predictions. The default value is 0.01; setting this parameter to 0\n",
      "        corresponds to unregularized logistic regression. See the ridge\n",
      "        regression reference for more detail.\n",
      "    \n",
      "    l1_penalty : float, optional\n",
      "        Weight on l1 regularization of the model. Like the l2 penalty, the\n",
      "        higher the l1 penalty, the more the estimated coefficients shrink toward\n",
      "        0. The l1 penalty, however, completely zeros out sufficiently small\n",
      "        coefficients, automatically indicating features that are not useful\n",
      "        for the model. The default weight of 0 prevents any features from\n",
      "        being discarded. See the LASSO regression reference for more detail.\n",
      "    \n",
      "    solver : string, optional\n",
      "        Name of the solver to be used to solve the regression. See the\n",
      "        references for more detail on each solver. Available solvers are:\n",
      "    \n",
      "        - *auto (default)*: automatically chooses the best solver for the data\n",
      "          and model parameters.\n",
      "        - *newton*: Newton-Raphson\n",
      "        - *lbfgs*: limited memory BFGS\n",
      "        - *fista*: accelerated gradient descent\n",
      "    \n",
      "        For this model, the Newton-Raphson method is equivalent to the\n",
      "        iteratively re-weighted least squares algorithm. If the l1_penalty is\n",
      "        greater than 0, use the 'fista' solver.\n",
      "    \n",
      "        The model is trained using a carefully engineered collection of methods\n",
      "        that are automatically picked based on the input data. The ``newton``\n",
      "        method  works best for datasets with plenty of examples and few features\n",
      "        (long datasets). Limited memory BFGS (``lbfgs``) is a robust solver for\n",
      "        wide datasets (i.e datasets with many coefficients).  ``fista`` is the\n",
      "        default solver for l1-regularized linear regression. The solvers are all\n",
      "        automatically tuned and the default options should function well. See\n",
      "        the solver options guide for setting additional parameters for each of\n",
      "        the solvers.\n",
      "    \n",
      "        See the user guide for additional details on how the solver is chosen.\n",
      "        (see `here\n",
      "        <https://turi.com/learn/userguide/supervised-learning/linear-regression.html>`_)\n",
      "    \n",
      "    \n",
      "    \n",
      "    feature_rescaling : boolean, optional\n",
      "    \n",
      "        Feature rescaling is an important pre-processing step that ensures that\n",
      "        all features are on the same scale. An l2-norm rescaling is performed\n",
      "        to make sure that all features are of the same norm. Categorical\n",
      "        features are also rescaled by rescaling the dummy variables that are\n",
      "        used to represent them. The coefficients are returned in original scale\n",
      "        of the problem. This process is particularly useful when features\n",
      "        vary widely in their ranges.\n",
      "    \n",
      "    \n",
      "    convergence_threshold : float, optional\n",
      "    \n",
      "        Convergence is tested using variation in the training objective. The\n",
      "        variation in the training objective is calculated using the difference\n",
      "        between the objective values between two steps. Consider reducing this\n",
      "        below the default value (0.01) for a more accurately trained model.\n",
      "        Beware of overfitting (i.e a model that works well only on the training\n",
      "        data) if this parameter is set to a very low value.\n",
      "    \n",
      "    lbfgs_memory_level : float, optional\n",
      "    \n",
      "        The L-BFGS algorithm keeps track of gradient information from the\n",
      "        previous ``lbfgs_memory_level`` iterations. The storage requirement for\n",
      "        each of these gradients is the ``num_coefficients`` in the problem.\n",
      "        Increasing the ``lbfgs_memory_level ``can help improve the quality of\n",
      "        the model trained. Setting this to more than ``max_iterations`` has the\n",
      "        same effect as setting it to ``max_iterations``.\n",
      "    \n",
      "    max_iterations : float, optional\n",
      "    \n",
      "        The maximum number of allowed passes through the data. More passes over\n",
      "        the data can result in a more accurately trained model. Consider\n",
      "        increasing this (the default value is 10) if the training accuracy is\n",
      "        low and the *Grad-Norm* in the display is large.\n",
      "    \n",
      "    step_size : float, optional\n",
      "    \n",
      "        The starting step size to use for the ``fista`` solver. The default is\n",
      "        set to 1.0, this is an aggressive setting. If the first iteration takes\n",
      "        a considerable amount of time, reducing this parameter may speed up\n",
      "        model training.\n",
      "    \n",
      "    class_weights : {dict, `auto`}, optional\n",
      "    \n",
      "        Weights the examples in the training data according to the given class\n",
      "        weights. If set to `None`, all classes are supposed to have weight one. The\n",
      "        `auto` mode set the class weight to be inversely proportional to number of\n",
      "        examples in the training data with the given class.\n",
      "    \n",
      "    validation_set : SFrame, optional\n",
      "    \n",
      "        A dataset for monitoring the model's generalization performance.\n",
      "        For each row of the progress table, the chosen metrics are computed\n",
      "        for both the provided training dataset and the validation_set. The\n",
      "        format of this SFrame must be the same as the training set.\n",
      "        By default this argument is set to 'auto' and a validation set is\n",
      "        automatically sampled and used for progress printing. If\n",
      "        validation_set is set to None, then no additional metrics\n",
      "        are computed. The default value is 'auto'.\n",
      "    \n",
      "    \n",
      "    verbose : bool, optional\n",
      "        If True, print progress updates.\n",
      "    \n",
      "    Returns\n",
      "    -------\n",
      "    out : LogisticClassifier\n",
      "        A trained model of type\n",
      "        :class:`~graphlab.logistic_classifier.LogisticClassifier`.\n",
      "    \n",
      "    See Also\n",
      "    --------\n",
      "    LogisticClassifier, graphlab.boosted_trees_classifier.BoostedTreesClassifier,\n",
      "    graphlab.svm_classifier.SVMClassifier, graphlab.classifier.create\n",
      "    \n",
      "    Notes\n",
      "    -----\n",
      "    - Categorical variables are encoded by creating dummy variables. For a\n",
      "      variable with :math:`K` categories, the encoding creates :math:`K-1` dummy\n",
      "      variables, while the first category encountered in the data is used as the\n",
      "      baseline.\n",
      "    \n",
      "    - For prediction and evaluation of logistic regression models with sparse\n",
      "      dictionary inputs, new keys/columns that were not seen during training\n",
      "      are silently ignored.\n",
      "    \n",
      "    - During model creation, 'None' values in the data will result in an error\n",
      "      being thrown.\n",
      "    \n",
      "    - A constant term is automatically added for the model intercept. This term\n",
      "      is not regularized.\n",
      "    \n",
      "    - Standard errors on coefficients are only availiable when `solver=newton`\n",
      "      or when the default `auto` solver option choses the newton method and if\n",
      "      the number of examples in the training data is more than the number of\n",
      "      coefficients. If standard errors cannot be estimated, a column of `None`\n",
      "      values are returned.\n",
      "    \n",
      "    \n",
      "    References\n",
      "    ----------\n",
      "    - `Wikipedia - logistic regression\n",
      "      <http://en.wikipedia.org/wiki/Logistic_regression>`_\n",
      "    \n",
      "    - Hoerl, A.E. and Kennard, R.W. (1970) `Ridge regression: Biased Estimation\n",
      "      for Nonorthogonal Problems\n",
      "      <http://amstat.tandfonline.com/doi/abs/10.1080/00401706.1970.10488634>`_.\n",
      "      Technometrics 12(1) pp.55-67\n",
      "    \n",
      "    - Tibshirani, R. (1996) `Regression Shrinkage and Selection via the Lasso <h\n",
      "      ttp://www.jstor.org/discover/10.2307/2346178?uid=3739256&uid=2&uid=4&sid=2\n",
      "      1104169934983>`_. Journal of the Royal Statistical Society. Series B\n",
      "      (Methodological) 58(1) pp.267-288.\n",
      "    \n",
      "    - Zhu, C., et al. (1997) `Algorithm 778: L-BFGS-B: Fortran subroutines for\n",
      "      large-scale bound-constrained optimization\n",
      "      <http://dl.acm.org/citation.cfm?id=279236>`_. ACM Transactions on\n",
      "      Mathematical Software 23(4) pp.550-560.\n",
      "    \n",
      "    - Beck, A. and Teboulle, M. (2009) `A Fast Iterative Shrinkage-Thresholding\n",
      "      Algorithm for Linear Inverse Problems\n",
      "      <http://epubs.siam.org/doi/abs/10.1137/080716542>`_. SIAM Journal on\n",
      "      Imaging Sciences 2(1) pp.183-202.\n",
      "    \n",
      "    \n",
      "    Examples\n",
      "    --------\n",
      "    \n",
      "    Given an :class:`~graphlab.SFrame` ``sf``, a list of feature columns\n",
      "    [``feature_1`` ... ``feature_K``], and a target column ``target`` with 0 and\n",
      "    1 values, create a\n",
      "    :class:`~graphlab.logistic_classifier.LogisticClassifier` as follows:\n",
      "    \n",
      "    >>> data =  graphlab.SFrame('https://static.turi.com/datasets/regression/houses.csv')\n",
      "    >>> data['is_expensive'] = data['price'] > 30000\n",
      "    >>> model = graphlab.logistic_classifier.create(data, 'is_expensive')\n",
      "    \n",
      "    By default all columns of ``data`` except the target are used as features, but\n",
      "    specific feature columns can be specified manually.\n",
      "    \n",
      "    >>> model = graphlab.logistic_classifier.create(data, 'is_expensive', ['bedroom', 'size'])\n",
      "    \n",
      "    \n",
      "    .. sourcecode:: python\n",
      "    \n",
      "      # L2 regularizer\n",
      "      >>> model_ridge = graphlab.logistic_classifier.create(data, 'is_expensive', l2_penalty=0.1)\n",
      "    \n",
      "      # L1 regularizer\n",
      "      >>> model_lasso = graphlab.logistic_classifier.create(data, 'is_expensive', l2_penalty=0.,\n",
      "                                                                   l1_penalty=1.0)\n",
      "    \n",
      "      # Both L1 and L2 regularizer\n",
      "      >>> model_enet  = graphlab.logistic_classifier.create(data, 'is_expensive', l2_penalty=0.5, l1_penalty=0.5)\n",
      "\n"
     ]
    }
   ],
   "source": [
    "train_data, test_data = products.random_split(0.8, seed=0)\n",
    "# seed is used to gererate random number\n",
    "\n",
    "help(graphlab.logistic_classifier.create)"
   ]
  },
  {
   "cell_type": "code",
   "execution_count": 16,
   "metadata": {
    "collapsed": false
   },
   "outputs": [
    {
     "data": {
      "text/html": [
       "<pre>WARNING: The number of feature dimensions in this problem is very large in comparison with the number of examples. Unless an appropriate regularization value is set, this model may not provide accurate predictions for a validation/test set.</pre>"
      ],
      "text/plain": [
       "WARNING: The number of feature dimensions in this problem is very large in comparison with the number of examples. Unless an appropriate regularization value is set, this model may not provide accurate predictions for a validation/test set."
      ]
     },
     "metadata": {},
     "output_type": "display_data"
    },
    {
     "data": {
      "text/html": [
       "<pre>Logistic regression:</pre>"
      ],
      "text/plain": [
       "Logistic regression:"
      ]
     },
     "metadata": {},
     "output_type": "display_data"
    },
    {
     "data": {
      "text/html": [
       "<pre>--------------------------------------------------------</pre>"
      ],
      "text/plain": [
       "--------------------------------------------------------"
      ]
     },
     "metadata": {},
     "output_type": "display_data"
    },
    {
     "data": {
      "text/html": [
       "<pre>Number of examples          : 133448</pre>"
      ],
      "text/plain": [
       "Number of examples          : 133448"
      ]
     },
     "metadata": {},
     "output_type": "display_data"
    },
    {
     "data": {
      "text/html": [
       "<pre>Number of classes           : 2</pre>"
      ],
      "text/plain": [
       "Number of classes           : 2"
      ]
     },
     "metadata": {},
     "output_type": "display_data"
    },
    {
     "data": {
      "text/html": [
       "<pre>Number of feature columns   : 1</pre>"
      ],
      "text/plain": [
       "Number of feature columns   : 1"
      ]
     },
     "metadata": {},
     "output_type": "display_data"
    },
    {
     "data": {
      "text/html": [
       "<pre>Number of unpacked features : 219217</pre>"
      ],
      "text/plain": [
       "Number of unpacked features : 219217"
      ]
     },
     "metadata": {},
     "output_type": "display_data"
    },
    {
     "data": {
      "text/html": [
       "<pre>Number of coefficients    : 219218</pre>"
      ],
      "text/plain": [
       "Number of coefficients    : 219218"
      ]
     },
     "metadata": {},
     "output_type": "display_data"
    },
    {
     "data": {
      "text/html": [
       "<pre>Starting L-BFGS</pre>"
      ],
      "text/plain": [
       "Starting L-BFGS"
      ]
     },
     "metadata": {},
     "output_type": "display_data"
    },
    {
     "data": {
      "text/html": [
       "<pre>--------------------------------------------------------</pre>"
      ],
      "text/plain": [
       "--------------------------------------------------------"
      ]
     },
     "metadata": {},
     "output_type": "display_data"
    },
    {
     "data": {
      "text/html": [
       "<pre>+-----------+----------+-----------+--------------+-------------------+---------------------+</pre>"
      ],
      "text/plain": [
       "+-----------+----------+-----------+--------------+-------------------+---------------------+"
      ]
     },
     "metadata": {},
     "output_type": "display_data"
    },
    {
     "data": {
      "text/html": [
       "<pre>| Iteration | Passes   | Step size | Elapsed Time | Training-accuracy | Validation-accuracy |</pre>"
      ],
      "text/plain": [
       "| Iteration | Passes   | Step size | Elapsed Time | Training-accuracy | Validation-accuracy |"
      ]
     },
     "metadata": {},
     "output_type": "display_data"
    },
    {
     "data": {
      "text/html": [
       "<pre>+-----------+----------+-----------+--------------+-------------------+---------------------+</pre>"
      ],
      "text/plain": [
       "+-----------+----------+-----------+--------------+-------------------+---------------------+"
      ]
     },
     "metadata": {},
     "output_type": "display_data"
    },
    {
     "data": {
      "text/html": [
       "<pre>| 1         | 5        | 0.000002  | 7.437425     | 0.841481          | 0.839989            |</pre>"
      ],
      "text/plain": [
       "| 1         | 5        | 0.000002  | 7.437425     | 0.841481          | 0.839989            |"
      ]
     },
     "metadata": {},
     "output_type": "display_data"
    },
    {
     "data": {
      "text/html": [
       "<pre>| 2         | 9        | 3.000000  | 13.006999    | 0.947425          | 0.894877            |</pre>"
      ],
      "text/plain": [
       "| 2         | 9        | 3.000000  | 13.006999    | 0.947425          | 0.894877            |"
      ]
     },
     "metadata": {},
     "output_type": "display_data"
    },
    {
     "data": {
      "text/html": [
       "<pre>| 3         | 10       | 3.000000  | 15.081784    | 0.923768          | 0.866232            |</pre>"
      ],
      "text/plain": [
       "| 3         | 10       | 3.000000  | 15.081784    | 0.923768          | 0.866232            |"
      ]
     },
     "metadata": {},
     "output_type": "display_data"
    },
    {
     "data": {
      "text/html": [
       "<pre>| 4         | 11       | 3.000000  | 17.305581    | 0.971779          | 0.912743            |</pre>"
      ],
      "text/plain": [
       "| 4         | 11       | 3.000000  | 17.305581    | 0.971779          | 0.912743            |"
      ]
     },
     "metadata": {},
     "output_type": "display_data"
    },
    {
     "data": {
      "text/html": [
       "<pre>| 5         | 12       | 3.000000  | 19.285622    | 0.975511          | 0.908900            |</pre>"
      ],
      "text/plain": [
       "| 5         | 12       | 3.000000  | 19.285622    | 0.975511          | 0.908900            |"
      ]
     },
     "metadata": {},
     "output_type": "display_data"
    },
    {
     "data": {
      "text/html": [
       "<pre>| 6         | 13       | 3.000000  | 21.375372    | 0.899991          | 0.825967            |</pre>"
      ],
      "text/plain": [
       "| 6         | 13       | 3.000000  | 21.375372    | 0.899991          | 0.825967            |"
      ]
     },
     "metadata": {},
     "output_type": "display_data"
    },
    {
     "data": {
      "text/html": [
       "<pre>| 7         | 15       | 1.000000  | 24.697198    | 0.984548          | 0.921451            |</pre>"
      ],
      "text/plain": [
       "| 7         | 15       | 1.000000  | 24.697198    | 0.984548          | 0.921451            |"
      ]
     },
     "metadata": {},
     "output_type": "display_data"
    },
    {
     "data": {
      "text/html": [
       "<pre>| 8         | 16       | 1.000000  | 26.635398    | 0.985118          | 0.921871            |</pre>"
      ],
      "text/plain": [
       "| 8         | 16       | 1.000000  | 26.635398    | 0.985118          | 0.921871            |"
      ]
     },
     "metadata": {},
     "output_type": "display_data"
    },
    {
     "data": {
      "text/html": [
       "<pre>| 9         | 17       | 1.000000  | 28.665056    | 0.987066          | 0.919709            |</pre>"
      ],
      "text/plain": [
       "| 9         | 17       | 1.000000  | 28.665056    | 0.987066          | 0.919709            |"
      ]
     },
     "metadata": {},
     "output_type": "display_data"
    },
    {
     "data": {
      "text/html": [
       "<pre>| 10        | 18       | 1.000000  | 30.506888    | 0.988715          | 0.916256            |</pre>"
      ],
      "text/plain": [
       "| 10        | 18       | 1.000000  | 30.506888    | 0.988715          | 0.916256            |"
      ]
     },
     "metadata": {},
     "output_type": "display_data"
    },
    {
     "data": {
      "text/html": [
       "<pre>+-----------+----------+-----------+--------------+-------------------+---------------------+</pre>"
      ],
      "text/plain": [
       "+-----------+----------+-----------+--------------+-------------------+---------------------+"
      ]
     },
     "metadata": {},
     "output_type": "display_data"
    },
    {
     "data": {
      "text/html": [
       "<pre>TERMINATED: Iteration limit reached.</pre>"
      ],
      "text/plain": [
       "TERMINATED: Iteration limit reached."
      ]
     },
     "metadata": {},
     "output_type": "display_data"
    },
    {
     "data": {
      "text/html": [
       "<pre>This model may not be optimal. To improve it, consider increasing `max_iterations`.</pre>"
      ],
      "text/plain": [
       "This model may not be optimal. To improve it, consider increasing `max_iterations`."
      ]
     },
     "metadata": {},
     "output_type": "display_data"
    }
   ],
   "source": [
    "sentiment_model = graphlab.logistic_classifier.create(train_data, target = 'sentiment', features = ['word_count'], validation_set=test_data)"
   ]
  },
  {
   "cell_type": "code",
   "execution_count": 17,
   "metadata": {
    "collapsed": false
   },
   "outputs": [
    {
     "name": "stdout",
     "output_type": "stream",
     "text": [
      "Help on method evaluate in module graphlab.toolkits.classifier.logistic_classifier:\n",
      "\n",
      "evaluate(model, *args, **kwargs) method of graphlab.toolkits.classifier.logistic_classifier.LogisticClassifier instance\n",
      "    Evaluate the model by making predictions of target values and comparing\n",
      "    these to actual values.\n",
      "    \n",
      "    Parameters\n",
      "    ----------\n",
      "    dataset : SFrame\n",
      "        Dataset of new observations. Must include columns with the same\n",
      "        names as the target and features used for model training. Additional\n",
      "        columns are ignored.\n",
      "    \n",
      "    metric : str, optional\n",
      "        Name of the evaluation metric.  Possible values are:\n",
      "    \n",
      "        - 'auto'             : Returns all available metrics.\n",
      "        - 'accuracy'         : Classification accuracy (micro average).\n",
      "        - 'auc'              : Area under the ROC curve (macro average)\n",
      "        - 'precision'        : Precision score (macro average)\n",
      "        - 'recall'           : Recall score (macro average)\n",
      "        - 'f1_score'         : F1 score (macro average)\n",
      "        - 'log_loss'         : Log loss\n",
      "        - 'confusion_matrix' : An SFrame with counts of possible prediction/true label combinations.\n",
      "        - 'roc_curve'        : An SFrame containing information needed for an ROC curve\n",
      "    \n",
      "        For more flexibility in calculating evaluation metrics, use the\n",
      "        :class:`~graphlab.evaluation` module.\n",
      "    \n",
      "    missing_value_action : str, optional\n",
      "        Action to perform when missing values are encountered. This can be\n",
      "        one of:\n",
      "    \n",
      "        - 'auto': Default to 'impute'\n",
      "        - 'impute': Proceed with evaluation by filling in the missing\n",
      "          values with the mean of the training data. Missing\n",
      "          values are also imputed if an entire column of data is\n",
      "          missing during evaluation.\n",
      "        - 'error': Do not proceed with evaluation and terminate with\n",
      "          an error message.\n",
      "    \n",
      "    Returns\n",
      "    -------\n",
      "    out : dict\n",
      "        Dictionary of evaluation results where the key is the name of the\n",
      "        evaluation metric (e.g. `accuracy`) and the value is the evaluation\n",
      "        score.\n",
      "    \n",
      "    See Also\n",
      "    ----------\n",
      "    create, predict, classify\n",
      "    \n",
      "    Examples\n",
      "    ----------\n",
      "    .. sourcecode:: python\n",
      "    \n",
      "      >>> data =  graphlab.SFrame('https://static.turi.com/datasets/regression/houses.csv')\n",
      "      >>> data['is_expensive'] = data['price'] > 30000\n",
      "      >>> model = graphlab.logistic_classifier.create(data,\n",
      "      ...                             target='is_expensive',\n",
      "      ...                             features=['bath', 'bedroom', 'size'])\n",
      "      >>> results = model.evaluate(data)\n",
      "      >>> print results['accuracy']\n",
      "\n"
     ]
    }
   ],
   "source": [
    "help(sentiment_model.evaluate)"
   ]
  },
  {
   "cell_type": "code",
   "execution_count": 18,
   "metadata": {
    "collapsed": false
   },
   "outputs": [
    {
     "data": {
      "text/plain": [
       "{'roc_curve': Columns:\n",
       " \tthreshold\tfloat\n",
       " \tfpr\tfloat\n",
       " \ttpr\tfloat\n",
       " \tp\tint\n",
       " \tn\tint\n",
       " \n",
       " Rows: 100001\n",
       " \n",
       " Data:\n",
       " +-----------+----------------+----------------+-------+------+\n",
       " | threshold |      fpr       |      tpr       |   p   |  n   |\n",
       " +-----------+----------------+----------------+-------+------+\n",
       " |    0.0    |      1.0       |      1.0       | 27976 | 5328 |\n",
       " |   1e-05   | 0.909346846847 | 0.998856162425 | 27976 | 5328 |\n",
       " |   2e-05   | 0.896021021021 | 0.998748927652 | 27976 | 5328 |\n",
       " |   3e-05   | 0.886448948949 | 0.998462968259 | 27976 | 5328 |\n",
       " |   4e-05   | 0.879692192192 | 0.998284243637 | 27976 | 5328 |\n",
       " |   5e-05   | 0.875187687688 | 0.998212753789 | 27976 | 5328 |\n",
       " |   6e-05   | 0.872184684685 | 0.998177008865 | 27976 | 5328 |\n",
       " |   7e-05   | 0.868618618619 | 0.998034029168 | 27976 | 5328 |\n",
       " |   8e-05   | 0.864677177177 | 0.997998284244 | 27976 | 5328 |\n",
       " |   9e-05   | 0.860735735736 | 0.997962539319 | 27976 | 5328 |\n",
       " +-----------+----------------+----------------+-------+------+\n",
       " [100001 rows x 5 columns]\n",
       " Note: Only the head of the SFrame is printed.\n",
       " You can use print_rows(num_rows=m, num_columns=n) to print more rows and columns.}"
      ]
     },
     "execution_count": 18,
     "metadata": {},
     "output_type": "execute_result"
    }
   ],
   "source": [
    "sentiment_model.evaluate(test_data,metric='roc_curve')"
   ]
  },
  {
   "cell_type": "code",
   "execution_count": 19,
   "metadata": {
    "collapsed": false
   },
   "outputs": [
    {
     "name": "stdout",
     "output_type": "stream",
     "text": [
      "Canvas is accessible via web browser at the URL: http://localhost:50512/index.html\n",
      "Opening Canvas in default web browser.\n"
     ]
    }
   ],
   "source": [
    "sentiment_model.show(view='Evaluation')"
   ]
  },
  {
   "cell_type": "code",
   "execution_count": 20,
   "metadata": {
    "collapsed": true
   },
   "outputs": [],
   "source": [
    "graphlab.canvas.set_target('ipynb')"
   ]
  },
  {
   "cell_type": "code",
   "execution_count": 21,
   "metadata": {
    "collapsed": false
   },
   "outputs": [
    {
     "data": {
      "application/javascript": [
       "$(\"head\").append($(\"<link/>\").attr({\n",
       "  rel:  \"stylesheet\",\n",
       "  type: \"text/css\",\n",
       "  href: \"//cdnjs.cloudflare.com/ajax/libs/font-awesome/4.1.0/css/font-awesome.min.css\"\n",
       "}));\n",
       "$(\"head\").append($(\"<link/>\").attr({\n",
       "  rel:  \"stylesheet\",\n",
       "  type: \"text/css\",\n",
       "  href: \"https://static.turi.com/products/graphlab-create/2.1/canvas/css/canvas.css\"\n",
       "}));\n",
       "\n",
       "            (function(){\n",
       "\n",
       "                var e = null;\n",
       "                if (typeof element == 'undefined') {\n",
       "                    var scripts = document.getElementsByTagName('script');\n",
       "                    var thisScriptTag = scripts[scripts.length-1];\n",
       "                    var parentDiv = thisScriptTag.parentNode;\n",
       "                    e = document.createElement('div');\n",
       "                    parentDiv.appendChild(e);\n",
       "                } else {\n",
       "                    e = element[0];\n",
       "                }\n",
       "\n",
       "                if (typeof requirejs !== 'undefined') {\n",
       "                    // disable load timeout; ipython_app.js is large and can take a while to load.\n",
       "                    requirejs.config({waitSeconds: 0});\n",
       "                }\n",
       "\n",
       "                require(['https://static.turi.com/products/graphlab-create/2.1/canvas/js/ipython_app.js'], function(IPythonApp){\n",
       "                    var app = new IPythonApp();\n",
       "                    app.attachView('sarray','Categorical', {\"ipython\": true, \"sketch\": {\"complete\": true, \"numeric\": false, \"num_unique\": 30731, \"num_undefined\": 266, \"progress\": 1.0, \"frequent_items\": {\"\": {\"frequency\": 30, \"value\": \"\"}, \"Safety 1st Adapter and Plug Cover\": {\"frequency\": 15, \"value\": \"Safety 1st Adapter ...\"}, \"Sassy Baby Disposable Diaper Sacks, 200-Count\": {\"frequency\": 92, \"value\": \"Sassy Baby ...\"}, \"Safety 1st High-Def Digital Monitor\": {\"frequency\": 36, \"value\": \"Safety 1st High- ...\"}, \"Toysmith Busy Zoo Activity Center\": {\"frequency\": 17, \"value\": \"Toysmith Busy Zoo ...\"}, \"Safety 1st Sound 'n Lights Activity Walker\": {\"frequency\": 20, \"value\": \"Safety 1st Sound ...\"}, \"CherryCreek Decals Cherry Blossom &amp; Birds Decorative Nursery/Room Wall Sticker Decals\": {\"frequency\": 32, \"value\": \"CherryCreek Decals ...\"}, \"Summer Infant Metal Expansion Gate, 6 Foot Wide Extra Tall Walk-Thru, Bronze\": {\"frequency\": 73, \"value\": \"Summer Infant ...\"}, \"aden + anais Classic Muslin Swaddle Blanket, Dino-Roar\": {\"frequency\": 19, \"value\": \"aden + anais ...\"}, \"Philips Avent DECT Baby Monitor with Temperature Sensor\": {\"frequency\": 25, \"value\": \"Philips Avent DECT ...\"}, \"Leachco Easy Teether XL Convertible Crib Rail Cover, Ivory\": {\"frequency\": 17, \"value\": \"Leachco Easy ...\"}, \"OXO Tot Feeding Spoon Set, Green\": {\"frequency\": 49, \"value\": \"OXO Tot Feeding ...\"}, \"Ikea PATRULL Non-Slip Bath Mat - Green Crocodile\": {\"frequency\": 22, \"value\": \"Ikea PATRULL Non- ...\"}, \"Medela Breastmilk Freezing &amp; Storage (*BPA Free) - 80ml Bottles in Retail Packaging #87061 (Pack of 12 Bottles)\": {\"frequency\": 29, \"value\": \"Medela Breastmilk ...\"}, \"Vital Baby Press 'n' Pop Mini Freezer Pots, Orange, 1 Ounce, 8 Pack\": {\"frequency\": 23, \"value\": \"Vital Baby Press ...\"}, \"Levana ClearVu Digital Video Baby Monitor with Color Changing Night Light (LV-TW301)\": {\"frequency\": 29, \"value\": \"Levana ClearVu ...\"}, \"The First Years Babypro Quick Serve Bottle Warmer, Colors May Vary\": {\"frequency\": 118, \"value\": \"The First Years ...\"}, \"Graco Nasal Clear Nasal Aspirator\": {\"frequency\": 76, \"value\": \"Graco Nasal Clear ...\"}, \"Sunshine Kids Cool Shade For Car Window, Black\": {\"frequency\": 19, \"value\": \"Sunshine Kids Cool ...\"}, \"BABYBJORN Baby Carrier Original, Blue Retro\": {\"frequency\": 21, \"value\": \"BABYBJORN Baby ...\"}, \"Bright Starts Rattle and Shake Barbell Rattle, Pretty in Pink\": {\"frequency\": 47, \"value\": \"Bright Starts ...\"}, \"Skip Hop Hug and Hide Activity Toy, Owl\": {\"frequency\": 44, \"value\": \"Skip Hop Hug and ...\"}, \"Safety 1st Oven Front Lock\": {\"frequency\": 66, \"value\": \"Safety 1st Oven ...\"}, \"Graco Secure Coverage Digital Baby Monitor with 1 Parent Unit\": {\"frequency\": 29, \"value\": \"Graco Secure ...\"}, \"Tilty Sippy Cup, Clear, 7 Ounce, 2 Pack\": {\"frequency\": 22, \"value\": \"Tilty Sippy Cup, ...\"}, \"NUK Hello Kitty Silicone Spout Active Cup, 10 Ounce\": {\"frequency\": 27, \"value\": \"NUK Hello Kitty ...\"}, \"25/pk - Enfamil Standard Flow Soft Disposable Nipples\": {\"frequency\": 18, \"value\": \"25/pk - Enfamil ...\"}, \"Ergobaby Swaddler Blanket Pink/Natural Small/Medium\": {\"frequency\": 19, \"value\": \"Ergobaby Swaddler ...\"}, \"Hudson Baby 2 Count Muslin Swaddle Blanket, Blue\": {\"frequency\": 27, \"value\": \"Hudson Baby 2 ...\"}, \"HABA Kringelring Rattle Clutching Toy\": {\"frequency\": 17, \"value\": \"HABA Kringelring ...\"}, \"Dr. Brown's 2 Pack Natural Flow Level 2 Standard Nipple\": {\"frequency\": 28, \"value\": \"Dr. Brown's 2 Pack ...\"}, \"Fisher-Price: Kick &amp; Play Bouncer\": {\"frequency\": 25, \"value\": \"Fisher-Price: Kick ...\"}, \"Mustela Stelatopia Moisturizing Cream 6.7 ounces\": {\"frequency\": 16, \"value\": \"Mustela Stelatopia ...\"}, \"Honeysuckle Breast Milk Storage Bags, 75 Ct (3 Boxes of 25 pcs)\": {\"frequency\": 74, \"value\": \"Honeysuckle Breast ...\"}, \"WubbaNub Tabby Kitten\": {\"frequency\": 39, \"value\": \"WubbaNub Tabby ...\"}, \"Totseat - Stripe in Blue\": {\"frequency\": 32, \"value\": \"Totseat - Stripe ...\"}, \"Luvable Friends Flannel Receiving Blankets, Pink, 5 Pack\": {\"frequency\": 25, \"value\": \"Luvable Friends ...\"}, \"HALO SleepSack Applique Micro-Fleece Wearable Blanket, Blue, Medium\": {\"frequency\": 27, \"value\": \"HALO SleepSack ...\"}, \"Vulli 2 Pack Vanilla Flavored Ring Teethe, Colors May Vary\": {\"frequency\": 40, \"value\": \"Vulli 2 Pack ...\"}, \"BABYBJORN Baby Carrier Original, Black, Cotton\": {\"frequency\": 162, \"value\": \"BABYBJORN Baby ...\"}, \"Prince Lionheart Balance Bike\": {\"frequency\": 18, \"value\": \"Prince Lionheart ...\"}, \"Prince Lionheart Original Slumber Bear with Silkie Blanket - Blue\": {\"frequency\": 16, \"value\": \"Prince Lionheart ...\"}, \"Playtex Drop-Ins System Breast Milk Storage Kit\": {\"frequency\": 24, \"value\": \"Playtex Drop-Ins ...\"}, \"Graco Lauren Classic Crib, Espresso\": {\"frequency\": 51, \"value\": \"Graco Lauren ...\"}, \"Evenflo Big Kid DLX Booster Seat - Foxwood\": {\"frequency\": 18, \"value\": \"Evenflo Big Kid ...\"}, \"OsoCozy - Indian Cotton - Prefold Cloth Diapers Infant 4x8x4\": {\"frequency\": 36, \"value\": \"OsoCozy - Indian ...\"}, \"Sliding Closet Door Lock 2-Pack\": {\"frequency\": 33, \"value\": \"Sliding Closet ...\"}, \"Britax B-Agile Stroller Travel Bag\": {\"frequency\": 19, \"value\": \"Britax B-Agile ...\"}, \"Sunshine Kids Stroller Accessory Buggy Buddy\": {\"frequency\": 144, \"value\": \"Sunshine Kids ...\"}, \"Prince Lionheart bebePOD Flex Plus Baby Seat, Green/Kiwi\": {\"frequency\": 33, \"value\": \"Prince Lionheart ...\"}, \"Sleep Buddy ~ Sleep Training System for Toddlers &amp; Pre-schoolers\": {\"frequency\": 17, \"value\": \"Sleep Buddy ~ ...\"}, \"My Brest Friend Original Pillow, Bluebells\": {\"frequency\": 41, \"value\": \"My Brest Friend ...\"}, \"Neat Solutions 10 Pack Water Resistant Drooler Bib Set, Multi-color\": {\"frequency\": 29, \"value\": \"Neat Solutions 10 ...\"}, \"Delta Canton 4-in-1 Convertible Crib, Dark Cherry\": {\"frequency\": 53, \"value\": \"Delta Canton ...\"}, \"Crown Crafts The Original NoJo BabySling by Dr. Sears - Denim\": {\"frequency\": 18, \"value\": \"Crown Crafts The ...\"}, \"Cosco Alpha Omega Elite Convertible Car Seat\": {\"frequency\": 61, \"value\": \"Cosco Alpha Omega ...\"}, \"The First Year's Infant To Toddler Tub with Sling, Blue\": {\"frequency\": 212, \"value\": \"The First Year's ...\"}, \"Hard Rock Cloth Diaper &amp; Laundry Detergent - Motley Clean\": {\"frequency\": 20, \"value\": \"Hard Rock Cloth ...\"}, \"Planet Wise Hanging Wet/Dry Diaper Bag, Black\": {\"frequency\": 55, \"value\": \"Planet Wise ...\"}, \"Mute Button Pacifier (Baby Blue)\": {\"frequency\": 16, \"value\": \"Mute Button ...\"}, \"Yookidoo Flow 'N Fill Spout Bath Toy (9m+)\": {\"frequency\": 85, \"value\": \"Yookidoo Flow 'N ...\"}, \"Munchkin Mighty Grip Trainer Cup 2-Pack, 8 oz, Colors Vary\": {\"frequency\": 19, \"value\": \"Munchkin Mighty ...\"}, \"Medela 12 Volt Vehicle Lighter Adaptor\": {\"frequency\": 25, \"value\": \"Medela 12 Volt ...\"}, \"Leachco All Nighter - Total Body Pillow - Ivory\": {\"frequency\": 31, \"value\": \"Leachco All ...\"}, \"Summer Infant Elite DuoMat for Car Seat, Black\": {\"frequency\": 54, \"value\": \"Summer Infant ...\"}, \"Baby Banz Hearing Protector Earmuffs, Blue\": {\"frequency\": 63, \"value\": \"Baby Banz Hearing ...\"}, \"Britax Regent Youth Car Seat, Onyx\": {\"frequency\": 30, \"value\": \"Britax Regent ...\"}, \"Edushape Edu-Tiles 36 Piece 6x6ft Play Mat, Letters &amp; Numbers Set\": {\"frequency\": 20, \"value\": \"Edushape Edu-Tiles ...\"}, \"Roving Cove 16-PIECE EXTRA DENSE Safe Corner Cushion - Value Pack - Oyster; Premium Childproofing Corner Guard - Child Safety Home Safety Furniture and Table Edge Corner Protectors\": {\"frequency\": 21, \"value\": \"Roving Cove ...\"}, \"Joovy Caboose Too Rear Seat, Greenie\": {\"frequency\": 18, \"value\": \"Joovy Caboose Too ...\"}, \"Evenflo Triumph Advance LX Convertible Car Seat, Harbortown\": {\"frequency\": 43, \"value\": \"Evenflo Triumph ...\"}, \"Levana Safe N'See Digital Video Baby Monitor with Talk-to-Baby Intercom and Lullaby Control (LV-TW501)\": {\"frequency\": 43, \"value\": \"Levana Safe N'See ...\"}, \"Jeep Cling Sunshade, 2 Pack\": {\"frequency\": 33, \"value\": \"Jeep Cling ...\"}, \"FuzziBunz Perfect Size Cloth Diaper, Cotton Candy, Large 25-40+ lbs\": {\"frequency\": 25, \"value\": \"FuzziBunz Perfect ...\"}, \"Philips AVENT BPA Free Twin Electric Breast Pump\": {\"frequency\": 67, \"value\": \"Philips AVENT BPA ...\"}, \"Susen 1pc Fashion Cute Baby Kids Girls Boys Stretchy Warm Winter Panda Cap Hat Beanie (Hot Pink)\": {\"frequency\": 15, \"value\": \"Susen 1pc Fashion ...\"}, \"Uncle Goose Classic Embossed Alphabet Blocks ABC\": {\"frequency\": 44, \"value\": \"Uncle Goose ...\"}, \"BABYBJORN Travel Crib Light 2, Black\": {\"frequency\": 57, \"value\": \"BABYBJORN Travel ...\"}, \"Jolly Jumper Bumper Bonnet Toddler Head Cushion\": {\"frequency\": 16, \"value\": \"Jolly Jumper ...\"}, \"Fisher-Price: Flutterbye Dreams Lullabye Birdies Soother\": {\"frequency\": 34, \"value\": \"Fisher-Price: ...\"}, \"green sprouts Stacking Cup Set, Colors may vary\": {\"frequency\": 45, \"value\": \"green sprouts ...\"}, \"Naturepedic Waterproof Fitted Crib Pad, 28x52\": {\"frequency\": 16, \"value\": \"Naturepedic ...\"}, \"Gerber Graduates BPA Free 4 Pack Bunch-A-Bowls with Lids, Colors May Vary\": {\"frequency\": 36, \"value\": \"Gerber Graduates ...\"}, \"Nuby Silicone Teether with Bristles, Colors May Vary\": {\"frequency\": 34, \"value\": \"Nuby Silicone ...\"}, \"Dr. Brown's 2 Pack Natural Flow Level 3 Standard Nipple\": {\"frequency\": 21, \"value\": \"Dr. Brown's 2 Pack ...\"}, \"Fisher-Price Table Time Turtle Booster\": {\"frequency\": 26, \"value\": \"Fisher-Price Table ...\"}, \"Lipper International 516P High Chair, Pecan\": {\"frequency\": 16, \"value\": \"Lipper ...\"}, \"The First Years Learning Curve First Keys Teether\": {\"frequency\": 22, \"value\": \"The First Years ...\"}, \"Bumkins Flushable Diaper Liner, Neutral, 100 Pack\": {\"frequency\": 65, \"value\": \"Bumkins Flushable ...\"}, \"VTech Communications Safe &amp; Sound Digital Audio Monitor with two Parent Units\": {\"frequency\": 126, \"value\": \"VTech ...\"}, \"Leachco Back 'N Belly Chic - Taupe\": {\"frequency\": 22, \"value\": \"Leachco Back 'N ...\"}, \"Philips AVENT BPA Free Microwave Steam Sterilizer\": {\"frequency\": 25, \"value\": \"Philips AVENT BPA ...\"}, \"Safety 1st Complete Air Protect 65 Convertible Car Seat, Great Lakes\": {\"frequency\": 31, \"value\": \"Safety 1st ...\"}, \"Gerber Graduates Kiddy Cutlery 3 Piece Fork Set\": {\"frequency\": 36, \"value\": \"Gerber Graduates ...\"}, \"Britax B-Safe Base Kit, Black\": {\"frequency\": 36, \"value\": \"Britax B-Safe Base ...\"}, \"Britax Advocate G4 Convertible Car Seat, Zebra\": {\"frequency\": 16, \"value\": \"Britax Advocate G4 ...\"}, \"Baby Trend Universal Double Snap-N-Go Stroller Frame\": {\"frequency\": 24, \"value\": \"Baby Trend ...\"}, \"Graco SnugRide Click Connect 30/35Infant Car Seat Base, Silver\": {\"frequency\": 34, \"value\": \"Graco SnugRide ...\"}, \"Kanga Care Wet Bag, Crimson\": {\"frequency\": 32, \"value\": \"Kanga Care Wet ...\"}, \"Jeep Backpack Harness, Lion\": {\"frequency\": 22, \"value\": \"Jeep Backpack ...\"}, \"Philips AVENT BPA Free Classic Newborn Flow Nipple, 2-Pack\": {\"frequency\": 44, \"value\": \"Philips AVENT BPA ...\"}, \"Angel Dear Pair and a Spare 3 Piece Blanket Set, Frog\": {\"frequency\": 26, \"value\": \"Angel Dear Pair ...\"}, \"Munchkin Mozart Magic Cube\": {\"frequency\": 183, \"value\": \"Munchkin Mozart ...\"}, \"green sprouts 10 Pack Waterproof Absorbent Terry Bibs, Girls\": {\"frequency\": 55, \"value\": \"green sprouts 10 ...\"}, \"Graco Swing By Me Portable 2-in-1 Swing, Little Hoot\": {\"frequency\": 16, \"value\": \"Graco Swing By Me ...\"}, \"Bebe Au Lait Cotton Nursing Cover - Bali\": {\"frequency\": 127, \"value\": \"Bebe Au Lait ...\"}, \"Fisher-Price Papasan Cradle Swing -  Nature's Touch N1973\": {\"frequency\": 118, \"value\": \"Fisher-Price ...\"}, \"Graco Secure Coverage Digital Baby Monitor with 2 Parent Units\": {\"frequency\": 32, \"value\": \"Graco Secure ...\"}, \"KidCo Magnet Lock Starter Set\": {\"frequency\": 35, \"value\": \"KidCo Magnet Lock ...\"}, \"Kel-Gar Snug Tub - Elephant\": {\"frequency\": 34, \"value\": \"Kel-Gar Snug Tub - ...\"}, \"Munchkin Auto Seat Protector\": {\"frequency\": 39, \"value\": \"Munchkin Auto Seat ...\"}, \"JJ Cole Essentials Blanket Sky/Lemon\": {\"frequency\": 126, \"value\": \"JJ Cole Essentials ...\"}, \"Fisher-Price Potty On-the-Go\": {\"frequency\": 16, \"value\": \"Fisher-Price Potty ...\"}, \"Aden by aden + anais Muslin Burpy Bib, Butterfly Patch\": {\"frequency\": 20, \"value\": \"Aden by aden + ...\"}, \"Dream On Me 3&quot; Portable Crib Mattress\": {\"frequency\": 60, \"value\": \"Dream On Me ...\"}, \"Alva Baby Cloth Diaper 4 layers Antibacterial Bamboo Viscose Inserts Super Water Absorbent 12pcs 12mb\": {\"frequency\": 20, \"value\": \"Alva Baby Cloth ...\"}, \"Summer Infant Day &amp; Night Baby Video Monitor with 5&quot; Screen - White\": {\"frequency\": 27, \"value\": \"Summer Infant Day ...\"}, \"Squatty Potty 7&quot; Toilet Stool-Elimination Aid - Natural Bathroom Relief Through A Toilet Stool\": {\"frequency\": 70, \"value\": \"Squatty Potty ...\"}, \"Kidsme Food Feeder Essential Set\": {\"frequency\": 22, \"value\": \"Kidsme Food Feeder ...\"}, \"Trend Lab Max Dot Blooming Bouquet Hooded Towel\": {\"frequency\": 16, \"value\": \"Trend Lab Max Dot ...\"}, \"Munchkin XTRAGUARD 2 Count Dual Action Multi Use Latches\": {\"frequency\": 111, \"value\": \"Munchkin XTRAGUARD ...\"}, \"Munchie Mug - Top Rated Spill Resistant Snack Cup for Toddlers. Ages 1 to 4 years. Made in AMERICA. - BPA and phthalate free. FDA compliant materials. - Blue Top\": {\"frequency\": 61, \"value\": \"Munchie Mug - Top ...\"}, \"Regalo Extra Tall Top of Stair Gate, White\": {\"frequency\": 24, \"value\": \"Regalo Extra Tall ...\"}, \"Prince Lionheart playMAT, ABC\": {\"frequency\": 16, \"value\": \"Prince Lionheart ...\"}, \"Boon Frog Pod Bath Toy Scoop,Green\": {\"frequency\": 78, \"value\": \"Boon Frog Pod Bath ...\"}, \"Levana Oma Clip-On Portable Baby Movement Monitor with Audible Alarm, White/Orange\": {\"frequency\": 23, \"value\": \"Levana Oma Clip-On ...\"}, \"Sugar Booger &quot;Prehistoric Pals&quot; Feeding Collection Silverware Set\": {\"frequency\": 26, \"value\": \"Sugar Booger ...\"}, \"Gerber Graduates BPA Free 6 Pack Soft Bite Infant Spoon, Colors May Vary\": {\"frequency\": 25, \"value\": \"Gerber Graduates ...\"}, \"Todays Mom Cozy Comfort Pregnancy Pillow - Sky Blue\": {\"frequency\": 101, \"value\": \"Todays Mom Cozy ...\"}, \"Badger Basket 3 Pack Polka Dot Nesting Trapezoid Shape Folding Baskets, Pink\": {\"frequency\": 18, \"value\": \"Badger Basket 3 ...\"}, \"Disney Inflatable Bathtub, Pixar Cars\": {\"frequency\": 32, \"value\": \"Disney Inflatable ...\"}, \"Mommy's Helper Tip Resistant Furniture Safety Brackets\": {\"frequency\": 16, \"value\": \"Mommy's Helper Tip ...\"}, \"KidCo GoPod Portable Activity Seat - Pistachio\": {\"frequency\": 54, \"value\": \"KidCo GoPod ...\"}, \"Gerber Graduates Kiddy Cutlery 3 Piece Spoon Set\": {\"frequency\": 18, \"value\": \"Gerber Graduates ...\"}, \"QuickZip Crib Zipper Sheet - Ecru\": {\"frequency\": 20, \"value\": \"QuickZip Crib ...\"}, \"Medela Calma Breastmilk Feeding Set, 5 Ounce\": {\"frequency\": 32, \"value\": \"Medela Calma ...\"}, \"Boppy Pregnancy Wedge with Cotton Slipcover\": {\"frequency\": 28, \"value\": \"Boppy Pregnancy ...\"}, \"Philips AVENT DECT Baby Monitor with Temperature Sensor and New ECO Mode\": {\"frequency\": 27, \"value\": \"Philips AVENT DECT ...\"}, \"Peg Perego Convertible Infant to Toddler Car Seat, Black\": {\"frequency\": 42, \"value\": \"Peg Perego ...\"}, \"Fisher-Price: Link-a-doos Open-Top Take-Along Swing\": {\"frequency\": 29, \"value\": \"Fisher-Price: ...\"}, \"Joovy Zoom 360 Swivel Wheel Jogging Stroller, Blue\": {\"frequency\": 46, \"value\": \"Joovy Zoom 360 ...\"}, \"Excellante' Wooden High Chair, Walnut (Packaging May Vary)\": {\"frequency\": 28, \"value\": \"Excellante' Wooden ...\"}, \"Balboa Baby Shopping Cart Cover, Diamond\": {\"frequency\": 31, \"value\": \"Balboa Baby ...\"}, \"Philips AVENT Express Food and Bottle Warmer\": {\"frequency\": 45, \"value\": \"Philips AVENT ...\"}, \"Carter's Bound Keepsake Memory Book of Baby's First 5 Years, Laguna\": {\"frequency\": 37, \"value\": \"Carter's Bound ...\"}, \"Dapper Snapper Baby &amp; Toddler Adjustable Belt- Boy's Colors: Navy, Beige and Black\": {\"frequency\": 17, \"value\": \"Dapper Snapper ...\"}, \"Carters Super Soft Printed Changing Pad Cover, Blue\": {\"frequency\": 23, \"value\": \"Carters Super Soft ...\"}, \"Thermos FOOGO Phases Stainless Steel Sippy Cup, 7 Ounce, Blue/Yellow\": {\"frequency\": 31, \"value\": \"Thermos FOOGO ...\"}, \"Baby Briefcase Baby Paperwork Organizer, Mint/Periwinkle\": {\"frequency\": 20, \"value\": \"Baby Briefcase ...\"}, \"Phil &amp; Ted's Me Too! Hook on High Chair Color: Red\": {\"frequency\": 16, \"value\": \"Phil &amp; Ted's ...\"}, \"Medela Pump in style Advanced Power Adaptor 9207010 9V\": {\"frequency\": 20, \"value\": \"Medela Pump in ...\"}, \"Summer Infant Contoured Changing Pad Amazon Frustration Free Packaging\": {\"frequency\": 198, \"value\": \"Summer Infant ...\"}, \"Dream On Me / Mia Moda  Atmosferra Stroller, Nero\": {\"frequency\": 16, \"value\": \"Dream On Me / Mia ...\"}, \"UPPAbaby Vista Stroller, Red/Denny\": {\"frequency\": 23, \"value\": \"UPPAbaby Vista ...\"}, \"Serta Nightstar Extra Firm Crib Mattress\": {\"frequency\": 18, \"value\": \"Serta Nightstar ...\"}, \"Philips AVENT Isis On The Go Set\": {\"frequency\": 57, \"value\": \"Philips AVENT Isis ...\"}, \"*The Art of CureTM *SAFETY KNOTTED* - Mixed Colors - Certified Baltic Amber Baby Teething Necklace - w/The Art of CureTM Jewelry Pouch (SHIPS AND SOLD IN THE USA)\": {\"frequency\": 19, \"value\": \"*The Art of CureTM ...\"}, \"Fisher-Price Newborn Rock 'n Play Sleeper, Yellow\": {\"frequency\": 228, \"value\": \"Fisher-Price ...\"}, \"Dreamscapes Soother\": {\"frequency\": 24, \"value\": \"Dreamscapes ...\"}, \"Lamaze Garden Bug Wrist Rattle &amp; Foot Finder Set\": {\"frequency\": 43, \"value\": \"Lamaze Garden Bug ...\"}, \"North States Supergate Expandable Swing Gate\": {\"frequency\": 25, \"value\": \"North States ...\"}, \"4moms Cleanwater Infant Bath Tub with Digital Thermometer\": {\"frequency\": 16, \"value\": \"4moms Cleanwater ...\"}, \"Evenflo Compact Fold High Chair, Marianna\": {\"frequency\": 28, \"value\": \"Evenflo Compact ...\"}, \"Graco Sarah Classic Convertible Crib, White\": {\"frequency\": 32, \"value\": \"Graco Sarah ...\"}, \"Planet Wise Wet/Dry Diaper Bag, Black\": {\"frequency\": 39, \"value\": \"Planet Wise ...\"}, \"Skip Hop Pronto Changer Diaper Bag, Black\": {\"frequency\": 29, \"value\": \"Skip Hop Pronto ...\"}, \"BRICA Kick Mats (2 pack), Black\": {\"frequency\": 19, \"value\": \"BRICA Kick Mats (2 ...\"}, \"MAM 3 Pack Anti-Colic Bottle Boy, 8 Ounce, Colors May Vary\": {\"frequency\": 26, \"value\": \"MAM 3 Pack Anti- ...\"}, \"Munchkin 2 Pack Mighty Grip Straw Cup, 10 Ounce, Colors May Vary\": {\"frequency\": 30, \"value\": \"Munchkin 2 Pack ...\"}, \"Dr. Brown's Natural Flow Wide Neck Newborn Feeding Set\": {\"frequency\": 22, \"value\": \"Dr. Brown's ...\"}, \"Levana Oma+ Clip-On Portable Baby Movement Monitor with Vibration Alert and Audible Alarm, White/Purple\": {\"frequency\": 19, \"value\": \"Levana Oma+ Clip- ...\"}, \"Green Toys Twist Teether Toy, Colors May Vary\": {\"frequency\": 23, \"value\": \"Green Toys Twist ...\"}, \"Medela Easy Expression Hands-Free Bustier, White, Small\": {\"frequency\": 80, \"value\": \"Medela Easy ...\"}, \"Graco ComfortSport Convertible Car Seat, Zara\": {\"frequency\": 29, \"value\": \"Graco ComfortSport ...\"}, \"Medela PersonalFit Connectors\": {\"frequency\": 17, \"value\": \"Medela PersonalFit ...\"}, \"Beaba Babycook Baby Food Maker\": {\"frequency\": 67, \"value\": \"Beaba Babycook ...\"}, \"BOB Revolution SE Single Stroller, Navy\": {\"frequency\": 141, \"value\": \"BOB Revolution SE ...\"}, \"Mommy's Helper Inflatable Bath Tub Froggie Collection, White/Green, 6-18 Months\": {\"frequency\": 20, \"value\": \"Mommy's Helper ...\"}, \"Britax Car Seat Travel Bag, Black\": {\"frequency\": 33, \"value\": \"Britax Car Seat ...\"}, \"Fisher-Price 2-in-1 Portable Potty\": {\"frequency\": 22, \"value\": \"Fisher-Price ...\"}, \"Edushape Edu-Tiles 25 Piece Solid Play Mat with Edges &amp; Corners\": {\"frequency\": 24, \"value\": \"Edushape Edu-Tiles ...\"}, \"KidCo Spring Action Cabinet Lock 4-pack\": {\"frequency\": 43, \"value\": \"KidCo Spring ...\"}, \"OXO Tot Bottle Drying Rack, Orange\": {\"frequency\": 17, \"value\": \"OXO Tot Bottle ...\"}, \"Graco Blossom Booster Seat, Brown/Tan\": {\"frequency\": 57, \"value\": \"Graco Blossom ...\"}, \"WubbaNub Brown Puppy\": {\"frequency\": 42, \"value\": \"WubbaNub Brown ...\"}, \"Mommy's Helper Outlet Plugs 36 Pack\": {\"frequency\": 88, \"value\": \"Mommy's Helper ...\"}, \"ReSqueeze Reusable Food Pouch (4-pack)\": {\"frequency\": 27, \"value\": \"ReSqueeze Reusable ...\"}, \"Sassy First Sounds Book Set and Cube\": {\"frequency\": 19, \"value\": \"Sassy First Sounds ...\"}, \"Badger Basket Company Sleigh Style Changing Table with Hamper/3 Baskets in White\": {\"frequency\": 19, \"value\": \"Badger Basket ...\"}, \"WubbaNub Green Frog\": {\"frequency\": 25, \"value\": \"WubbaNub Green ...\"}, \"Little Partners Learning Tower - Natural\": {\"frequency\": 35, \"value\": \"Little Partners ...\"}, \"Stork Craft Venetian 4-in-1 Fixed Side Convertible Crib, Cherry\": {\"frequency\": 17, \"value\": \"Stork Craft ...\"}, \"Tiny Love Tummy Time Fun Activity Mat, Frog\": {\"frequency\": 16, \"value\": \"Tiny Love Tummy ...\"}, \"BRICA Fold N' Go Travel Bassinet\": {\"frequency\": 24, \"value\": \"BRICA Fold N' Go ...\"}, \"Munchkin Baby Food Grinder, Light Blue\": {\"frequency\": 27, \"value\": \"Munchkin Baby Food ...\"}, \"Nuby 10 Pack Hangers, Colors May Vary\": {\"frequency\": 17, \"value\": \"Nuby 10 Pack ...\"}, \"Evenflo Jump &amp; Go Baby Exerciser, Red Racer\": {\"frequency\": 26, \"value\": \"Evenflo Jump &amp; ...\"}, \"Slip-X Solutions Tub Tattoos: Clownfish\": {\"frequency\": 29, \"value\": \"Slip-X Solutions ...\"}, \"Bumbo Floor Seat, Aqua\": {\"frequency\": 46, \"value\": \"Bumbo Floor Seat, ...\"}, \"Munchkin Easy-Close Metal Gate, White\": {\"frequency\": 44, \"value\": \"Munchkin Easy- ...\"}, \"Skip Hop Grand Central Diaper Bag, Black\": {\"frequency\": 22, \"value\": \"Skip Hop Grand ...\"}, \"BRICA By-My-Side Safety Harness Backpack, Pink/Gray\": {\"frequency\": 29, \"value\": \"BRICA By-My-Side ...\"}, \"BEABA First Stage Spoon Multi-Pack - Multicolor - 4 pk\": {\"frequency\": 18, \"value\": \"BEABA First Stage ...\"}, \"Chicco Cortina KeyFit 30 Travel System in Adventure\": {\"frequency\": 43, \"value\": \"Chicco Cortina ...\"}, \"Mobi Tykelight GloMate Plus\": {\"frequency\": 16, \"value\": \"Mobi Tykelight ...\"}, \"Bummis Bio-Soft Liner, Small\": {\"frequency\": 65, \"value\": \"Bummis Bio-Soft ...\"}, \"Boon Squirt Baby Food Dispensing Spoon in Pink\": {\"frequency\": 33, \"value\": \"Boon Squirt Baby ...\"}, \"Dr. Sears Nibble Tray, Yellow/Green, 12 Months\": {\"frequency\": 20, \"value\": \"Dr. Sears Nibble ...\"}, \"Philips Avent Electric Steam Sterilizer\": {\"frequency\": 20, \"value\": \"Philips Avent ...\"}, \"Luvable Friends Fitted Pack N Play Sheet, White\": {\"frequency\": 19, \"value\": \"Luvable Friends ...\"}, \"3 Sprouts Storage Bin, Monkey\": {\"frequency\": 38, \"value\": \"3 Sprouts Storage ...\"}, \"Under The Nile Green Bean Toy\": {\"frequency\": 17, \"value\": \"Under The Nile ...\"}, \"Fisher-Price Infant-To-Toddler Rocker, Blue/Green\": {\"frequency\": 196, \"value\": \"Fisher-Price ...\"}, \"Chewbeads Necklace - Jane - Black\": {\"frequency\": 32, \"value\": \"Chewbeads Necklace ...\"}, \"Fantasy Furniture Roundy Chair with Microsuede Ottoman, Hot Pink\": {\"frequency\": 21, \"value\": \"Fantasy Furniture ...\"}, \"North States Supergate Auto-Close Metal Gate\": {\"frequency\": 27, \"value\": \"North States ...\"}, \"NUK Toddler Tooth and Gum Cleanser, 1.4 Ounce, (Colors May Vary)\": {\"frequency\": 18, \"value\": \"NUK Toddler Tooth ...\"}, \"Medela New Pump in Style Original Breast Pump\": {\"frequency\": 20, \"value\": \"Medela New Pump in ...\"}, \"Motorola Digital Video Baby Monitor with 1.5 Inch Color LCD Screen\": {\"frequency\": 22, \"value\": \"Motorola Digital ...\"}, \"Thermos FUNtainer Bottle, Disney Cars, 12 Ounce\": {\"frequency\": 20, \"value\": \"Thermos FUNtainer ...\"}, \"Prince Lionheart Dresser Top Diaper Depot\": {\"frequency\": 22, \"value\": \"Prince Lionheart ...\"}, \"Clevamama Splash and Wrap Baby Bath Towel (Cream)\": {\"frequency\": 25, \"value\": \"Clevamama Splash ...\"}, \"Baby Einstein Sea Dreams Soother\": {\"frequency\": 46, \"value\": \"Baby Einstein Sea ...\"}, \"Classic Connect Graco SnugRide Classic Connect Infant Car Seat Base, Silver\": {\"frequency\": 54, \"value\": \"Classic Connect ...\"}, \"Jolly Jumper Weathershield for Infant Car Seat\": {\"frequency\": 22, \"value\": \"Jolly Jumper ...\"}, \"Bunnies by the Bay Buddy Blanket, Skipit\": {\"frequency\": 22, \"value\": \"Bunnies by the Bay ...\"}, \"Inglesina 2011 Fast Table Chair, Marina\": {\"frequency\": 30, \"value\": \"Inglesina 2011 ...\"}, \"Philips AVENT BPA Free Freeflow Pacifier, 6-18 Months,  Colors and Designs May Vary, 2-Count\": {\"frequency\": 20, \"value\": \"Philips AVENT BPA ...\"}, \"Mommy's Helper Step Up Non-Slip Stepstool Froggie Collection, Green\": {\"frequency\": 23, \"value\": \"Mommy's Helper ...\"}, \"Brica Baby In-Sight Mirror, Gray\": {\"frequency\": 67, \"value\": \"Brica Baby In- ...\"}, \"phil&amp;teds Traveller Crib, Black\": {\"frequency\": 20, \"value\": \"phil&amp;teds ...\"}, \"Prince Lionheart Jumbo Toy Hammock ~ Set of 2\": {\"frequency\": 21, \"value\": \"Prince Lionheart ...\"}, \"Philips AVENT Newborn Starter Set\": {\"frequency\": 57, \"value\": \"Philips AVENT ...\"}, \"Kiddopotamus Tinydiner Placemat, Yellow\": {\"frequency\": 32, \"value\": \"Kiddopotamus ...\"}, \"Medela PersonalFit Breastshields (2/pack) - Large - 27mm\": {\"frequency\": 77, \"value\": \"Medela PersonalFit ...\"}, \"The First Years True Fit Convertible Car Seat, Monet\": {\"frequency\": 67, \"value\": \"The First Years ...\"}, \"MamaDoo Kids Foldable Play Yard Mattress Topper, Blue\": {\"frequency\": 36, \"value\": \"MamaDoo Kids ...\"}, \"Lamaze Soft Chime Garden Musical Toy\": {\"frequency\": 32, \"value\": \"Lamaze Soft Chime ...\"}, \"North States Supergate Extra Tall Easy Close Gate, Bronze\": {\"frequency\": 50, \"value\": \"North States ...\"}, \"WubbaNub Blue Bear\": {\"frequency\": 16, \"value\": \"WubbaNub Blue Bear\"}, \"Especially for Baby Bottle Warmer\": {\"frequency\": 17, \"value\": \"Especially for ...\"}, \"Evenflo SmartSteps Jump and Go, ABC123\": {\"frequency\": 36, \"value\": \"Evenflo SmartSteps ...\"}, \"Boogie Snatcher: Infant, Baby Nose Cleaning Tweezers. Cleans Your Infants Nose For Better Sleep!\": {\"frequency\": 19, \"value\": \"Boogie Snatcher: ...\"}, \"Evenflo Switch A Roo, Apple Book\": {\"frequency\": 19, \"value\": \"Evenflo Switch A ...\"}, \"Summer Infant Baby's Quiet Sounds Video Monitor\": {\"frequency\": 46, \"value\": \"Summer Infant ...\"}, \"Lamaze Early Development Toy, Captain Calamari\": {\"frequency\": 31, \"value\": \"Lamaze Early ...\"}, \"Playtex Drop-Ins Pre-Sterilized Soft Bottle Liners, 8-10 oz. 100 ea\": {\"frequency\": 50, \"value\": \"Playtex Drop-Ins ...\"}, \"Baby Teether Ball, Assorted Colors\": {\"frequency\": 43, \"value\": \"Baby Teether Ball, ...\"}, \"Lite-on-Shoulder Baby Sling\": {\"frequency\": 60, \"value\": \"Lite-on-Shoulder ...\"}, \"Diaper Dude Chicago Cubs Diaper Bag\": {\"frequency\": 85, \"value\": \"Diaper Dude ...\"}, \"Philips AVENT Basic Baby Monitor with DECT Technology\": {\"frequency\": 107, \"value\": \"Philips AVENT ...\"}, \"Summer Infant Deluxe Piddle Pad, Black\": {\"frequency\": 51, \"value\": \"Summer Infant ...\"}, \"Gerber Graduate BPA Free 2 Pack Fun Grips Spill Proof Cup, 7 Ounce, Colors May Vary\": {\"frequency\": 19, \"value\": \"Gerber Graduate ...\"}, \"The First Years Close and Secure Sleeper\": {\"frequency\": 50, \"value\": \"The First Years ...\"}, \"Dr. Brown's BPA Free Polypropylene Natural Flow Wide Neck Bottle, 8 Ounce, 3 Count\": {\"frequency\": 51, \"value\": \"Dr. Brown's BPA ...\"}, \"OXO Tot Baby Food Freezer Tray, White/Green\": {\"frequency\": 41, \"value\": \"OXO Tot Baby Food ...\"}, \"BRICA Seat Belt Adjuster, Gray\": {\"frequency\": 22, \"value\": \"BRICA Seat Belt ...\"}, \"aden + anais Cozy Muslin Sleeping Bag, Alpha Bit, Small\": {\"frequency\": 31, \"value\": \"aden + anais Cozy ...\"}, \"Maxboost iPhone 5S/5 Case - Protective Snap-on Hard Case Slim Rugged Cover [Not compatible to Apple iPhone 6 Air 5c 4s 4 3gs, Screen Protector / Cable is not included] - Ultra Slim Profile Slimmer than coventional otterbox/lifeproof/kate Spade/speck/juicy couture/griffin/element/taktik Case\": {\"frequency\": 23, \"value\": \"Maxboost iPhone ...\"}, \"Kidco Safeway white G2000\": {\"frequency\": 33, \"value\": \"Kidco Safeway ...\"}, \"South Shore Savannah Collection Changing Table, Pure White\": {\"frequency\": 54, \"value\": \"South Shore ...\"}, \"green sprouts 10 Pack Waterproof Absorbent Terry Bibs , Boys\": {\"frequency\": 65, \"value\": \"green sprouts 10 ...\"}, \"Safety 1st Expandable Table Edge Bumper\": {\"frequency\": 16, \"value\": \"Safety 1st ...\"}, \"Tiny Love Gymini Bouncer, Blue/Yellow\": {\"frequency\": 29, \"value\": \"Tiny Love Gymini ...\"}, \"Moonlight Slumber Little Dreamer Dual Firmness All Foam Crib Mattress\": {\"frequency\": 25, \"value\": \"Moonlight Slumber ...\"}, \"Boppy Noggin Nest Head Support, Brown Wheels\": {\"frequency\": 106, \"value\": \"Boppy Noggin Nest ...\"}, \"FuzziBunz Nursing Pads, White, 6 Pack\": {\"frequency\": 20, \"value\": \"FuzziBunz Nursing ...\"}, \"UPPAbaby Rumble Seat\": {\"frequency\": 16, \"value\": \"UPPAbaby Rumble ...\"}, \"Nuby 2-Pack 8 oz No Spill Cup with Super Spout (Color may vary)\": {\"frequency\": 24, \"value\": \"Nuby 2-Pack 8 oz ...\"}, \"Baby Trend Diaper Champ in Blue\": {\"frequency\": 33, \"value\": \"Baby Trend Diaper ...\"}, \"Portable Shower Arm Safe-Grip - Portable Shower Arm Safe-Grip-By Metro Fulfillment House\": {\"frequency\": 16, \"value\": \"Portable Shower ...\"}, \"3 Sprouts Storage Caddy, Mouse\": {\"frequency\": 26, \"value\": \"3 Sprouts Storage ...\"}, \"North States Industries Supergate Extra Wide Swing Gate\": {\"frequency\": 44, \"value\": \"North States ...\"}, \"Maxboost iPhone 5S/5 Case - Protective Snap-on Hard Case Slim Rugged Cover [Not compatible to Apple iPhone 6 Air 5c 4s 4 3gs]\": {\"frequency\": 41, \"value\": \"Maxboost iPhone ...\"}, \"Joovy Caboose Ultralight Stroller, Blueberry\": {\"frequency\": 48, \"value\": \"Joovy Caboose ...\"}, \"Dr. Seuss Short Sleeve Bodysuit and Pants, Blue Cat, 3 Months\": {\"frequency\": 20, \"value\": \"Dr. Seuss Short ...\"}, \"The First Years True Fit C670 Premier Convertible Car Seat\": {\"frequency\": 17, \"value\": \"The First Years ...\"}, \"Dreambaby Retractable Gate, White\": {\"frequency\": 26, \"value\": \"Dreambaby ...\"}, \"NUK Learner Cup BPA Free Silicone Spout, Single Pack, Colors May Vary\": {\"frequency\": 30, \"value\": \"NUK Learner Cup ...\"}, \"Skip Hop Wall Decals, Treetop Friends\": {\"frequency\": 17, \"value\": \"Skip Hop Wall ...\"}, \"Breast Pump Kit for Medela Pump in Style Advanced Breastpump. Include Replacement Tubing for Pump In Style, 2 One-piece Breastshields (Replace Medela Personalfit 24mm), 2 Valves, and 4 Membranes. Replace Medela Personalfit Connector and Breastshield. Suitable for Pump-in-style Released After July 2006.\": {\"frequency\": 28, \"value\": \"Breast Pump Kit ...\"}, \"Fisher-Price Ocean Wonders Aquarium Cradle Swing\": {\"frequency\": 167, \"value\": \"Fisher-Price Ocean ...\"}, \"Hugga-Bebe Infant Support Cushion (Yellow)\": {\"frequency\": 17, \"value\": \"Hugga-Bebe Infant ...\"}, \"Skip Hop Grab &amp; Go Stroller Organizer, Platinum\": {\"frequency\": 24, \"value\": \"Skip Hop Grab ...\"}, \"Playtex Drop-Ins Original BPA Free Nurser Newborn Starter Set\": {\"frequency\": 20, \"value\": \"Playtex Drop-Ins ...\"}, \"Evenflo Splash Mega Exersaucer\": {\"frequency\": 36, \"value\": \"Evenflo Splash ...\"}, \"Boon Flair Pedestal Highchair with Pneumatic Lift,White/Orang\": {\"frequency\": 49, \"value\": \"Boon Flair ...\"}, \"Fisher-Price Rainforest Open-Top Cradle Swing\": {\"frequency\": 56, \"value\": \"Fisher-Price ...\"}, \"Delta City Street Side by Side Stroller, Black\": {\"frequency\": 17, \"value\": \"Delta City Street ...\"}, \"Evenflo Classic Johnny Jump Up, Frogs\": {\"frequency\": 34, \"value\": \"Evenflo Classic ...\"}, \"DaVinci Emily 4-in-1 Convertible Crib with Toddler Rail, Cherry\": {\"frequency\": 88, \"value\": \"DaVinci Emily ...\"}, \"Carter's Memory Book, Wonder\": {\"frequency\": 16, \"value\": \"Carter's Memory ...\"}, \"BFlowerYan Door Stop Finger Pinch Guard , Mixed Color [4pc-pack] (4xanimal)\": {\"frequency\": 20, \"value\": \"BFlowerYan Door ...\"}, \"BOB Infant Car Seat Adapter for Chicco Single Strollers\": {\"frequency\": 38, \"value\": \"BOB Infant Car ...\"}, \"NUK Replacement Silicone Spout, Clear\": {\"frequency\": 24, \"value\": \"NUK Replacement ...\"}, \"Sesame Street Potty Soft Seat, Elmo\": {\"frequency\": 39, \"value\": \"Sesame Street ...\"}, \"Baby Jogger Adjustable Belly Bar\": {\"frequency\": 19, \"value\": \"Baby Jogger ...\"}, \"Bunnies by the Bay Silly Buddy, Emmit\": {\"frequency\": 22, \"value\": \"Bunnies by the Bay ...\"}, \"The Safe Sippy 2 2-in-1 Sippy to Straw Bottle, Pink\": {\"frequency\": 33, \"value\": \"The Safe Sippy 2 ...\"}, \"Arm's Reach Co-Sleeper Mini Bassinet, Natural\": {\"frequency\": 19, \"value\": \"Arm's Reach Co- ...\"}, \"Skip Hop Versa Diaper Bag, Cream Links\": {\"frequency\": 55, \"value\": \"Skip Hop Versa ...\"}, \"Infantino Flip Front 2 Back Carrier, Black\": {\"frequency\": 19, \"value\": \"Infantino Flip ...\"}, \"Kiddyloo Toilet Seat Reducer (Blue/Green) - Toddler Potty Training Seat\": {\"frequency\": 22, \"value\": \"Kiddyloo Toilet ...\"}, \"Squatty Potty 9&quot; Toilet Stool-Elimination Aid - Natural Bathroom Relief Through A Toilet Stool\": {\"frequency\": 76, \"value\": \"Squatty Potty ...\"}, \"Born Free Trainer Cup, Blue\": {\"frequency\": 24, \"value\": \"Born Free Trainer ...\"}, \"Evenflo Comfort Select Auto-Cycling Breast Pump\": {\"frequency\": 22, \"value\": \"Evenflo Comfort ...\"}, \"Munchkin 'White Hot' Duck Bath Toy\": {\"frequency\": 28, \"value\": \"Munchkin 'White ...\"}, \"aden + anais Classic Muslin Swaddle Blanket 2 Pack, For The Birds\": {\"frequency\": 18, \"value\": \"aden + anais ...\"}, \"We Sell Mats Anti-Fatigue 6 Piece Interlocking EVA Foam Flooring Set\": {\"frequency\": 24, \"value\": \"We Sell Mats Anti- ...\"}, \"Carter's Easy Fit Printed Crib Fitted Sheet, Animal\": {\"frequency\": 46, \"value\": \"Carter's Easy Fit ...\"}, \"One Dozen (12) Rubber Duckie Ducky Duck Christmas Nativity Scene\": {\"frequency\": 17, \"value\": \"One Dozen (12) ...\"}, \"The First Years Carry Me Near Sleep System, Cream\": {\"frequency\": 43, \"value\": \"The First Years ...\"}, \"Britax Decathlon Convertible Car Seat, Tiffany\": {\"frequency\": 20, \"value\": \"Britax Decathlon ...\"}, \"Fisher-Price Space Saver High Chair, Scatterbug\": {\"frequency\": 30, \"value\": \"Fisher-Price Space ...\"}, \"Britax Pavilion 70-G3 Convertible Car Seat Seat, Biscotti\": {\"frequency\": 33, \"value\": \"Britax Pavilion ...\"}, \"The World of Eric Carle: The Very Hungry Caterpillar Teether Rattle by Kids Preferred\": {\"frequency\": 16, \"value\": \"The World of Eric ...\"}, \"Thermos FUNtainer Bottle, Disney Princess, 12 Ounce\": {\"frequency\": 29, \"value\": \"Thermos FUNtainer ...\"}, \"Miracle Blanket Baby Swaddle Blanket, Pink\": {\"frequency\": 162, \"value\": \"Miracle Blanket ...\"}, \"Britax B-Safe Infant Car Seat Extra Base\": {\"frequency\": 16, \"value\": \"Britax B-Safe ...\"}, \"myBaby Soundspa Lullaby Sound Machine and Projector\": {\"frequency\": 75, \"value\": \"myBaby Soundspa ...\"}, \"Graco Pack 'n Play Playard with Cuddle Cove Rocking Seat, Winslet\": {\"frequency\": 38, \"value\": \"Graco Pack 'n Play ...\"}, \"Graco FastAction Fold Jogger Click Connect Travel System/Click Connect 35, Chili Red\": {\"frequency\": 16, \"value\": \"Graco FastAction ...\"}, \"Bumkins Waterproof Superbib, Blue Fizz\": {\"frequency\": 49, \"value\": \"Bumkins Waterproof ...\"}, \"Munchkin 3 Count Stay Put Suction Bowl\": {\"frequency\": 98, \"value\": \"Munchkin 3 Count ...\"}, \"Sesame Street Table Topper Disposable Stick-on Placemats with Reusable Pop-up Travel Case, 50-Count\": {\"frequency\": 32, \"value\": \"Sesame Street ...\"}, \"NUK Infant Tooth and Gum Cleanser and Finger Toothbrush Set, 1.4 Ounce\": {\"frequency\": 29, \"value\": \"NUK Infant Tooth ...\"}, \"aden + anais Muslin Stroller Blanket, Jungle Jive\": {\"frequency\": 20, \"value\": \"aden + anais ...\"}, \"Prince Lionheart BoosterPOD, White Base/Lemon\": {\"frequency\": 54, \"value\": \"Prince Lionheart ...\"}, \"The First Years MiSwivel Feeding Seat, Dot to Dot\": {\"frequency\": 19, \"value\": \"The First Years ...\"}, \"3 Sprouts Storage Box, Dog\": {\"frequency\": 24, \"value\": \"3 Sprouts Storage ...\"}, \"Born Free 5 oz. BPA-Free Glass Bottle with ActiveFlow Venting Technology and Bonus Silicone Sleeve, 3-Pack\": {\"frequency\": 39, \"value\": \"Born Free 5 oz. ...\"}, \"Britax Child Cup Holder\": {\"frequency\": 46, \"value\": \"Britax Child Cup ...\"}, \"Vicks SpeedRead Digital Thermometer\": {\"frequency\": 18, \"value\": \"Vicks SpeedRead ...\"}, \"Tiny Love Follow Me Activity Toy, Fred\": {\"frequency\": 37, \"value\": \"Tiny Love Follow ...\"}, \"24 Baby Shower Lotto Game Cards\": {\"frequency\": 16, \"value\": \"24 Baby Shower ...\"}, \"Milkies Milk-Saver Breast Milk Collector Storage BPA Free\": {\"frequency\": 74, \"value\": \"Milkies Milk-Saver ...\"}, \"Fitted Portable Crib Sheet in Yellow Duck Print\": {\"frequency\": 20, \"value\": \"Fitted Portable ...\"}, \"Disney Princess Castle Dreams 2-Piece Sheet Set\": {\"frequency\": 18, \"value\": \"Disney Princess ...\"}, \"Wow Cup for Kids - NEW Innovative 360 Spill Free Drinking Cup - BPA Free - 8 Ounce (Blue)\": {\"frequency\": 16, \"value\": \"Wow Cup for Kids - ...\"}, \"Skip Hop Zoo Lunchie Insulated Lunch Bag, Monkey\": {\"frequency\": 130, \"value\": \"Skip Hop Zoo ...\"}, \"Munchkin 36 Bath Letters and Numbers\": {\"frequency\": 50, \"value\": \"Munchkin 36 Bath ...\"}, \"Kidkusion Toddler Corner Kushions Off White - 4 Pack\": {\"frequency\": 38, \"value\": \"Kidkusion Toddler ...\"}, \"UPPAbaby 2013 G-Luxe Stroller, Sebby Teal\": {\"frequency\": 16, \"value\": \"UPPAbaby 2013 ...\"}, \"Nuk Replacement Spouts - 4 Pack Clear\": {\"frequency\": 21, \"value\": \"Nuk Replacement ...\"}, \"Pumpin' Pal Super Shields, Angled Pumping Flanges, the Best Flanges By Far in a Complete Set of All Sizes Mom Will Need\": {\"frequency\": 42, \"value\": \"Pumpin' Pal Super ...\"}, \"Safety 1st Railnet\": {\"frequency\": 18, \"value\": \"Safety 1st Railnet\"}, \"Trend Lab CribWrap Fleece Rail Cover for Long Rail, Brown, Wide\": {\"frequency\": 28, \"value\": \"Trend Lab CribWrap ...\"}, \"Dr. Brown's 4 oz Natural Flow Baby Bottle, 3 Pack\": {\"frequency\": 63, \"value\": \"Dr. Brown's 4 oz ...\"}, \"Summer Infant Secure Sight Digital Color Video Monitor\": {\"frequency\": 20, \"value\": \"Summer Infant ...\"}, \"OXO Tot On-The-Go Drying Rack and Bottle Brush, Green\": {\"frequency\": 31, \"value\": \"OXO Tot On-The-Go ...\"}, \"Munchkin 2 Pack Fresh Food Feeder, Colors May Vary\": {\"frequency\": 104, \"value\": \"Munchkin 2 Pack ...\"}, \"Baby Einstein Around The World Discovery Center\": {\"frequency\": 26, \"value\": \"Baby Einstein ...\"}, \"J.L. Childress Side Sling Stroller Cargo Net, Black\": {\"frequency\": 17, \"value\": \"J.L. Childress ...\"}, \"Combi Kobuk Air-Thru, Licorice\": {\"frequency\": 16, \"value\": \"Combi Kobuk Air- ...\"}, \"HALO SleepSack 100% Cotton Wearable Blanket, Print Boy, Large\": {\"frequency\": 34, \"value\": \"HALO SleepSack ...\"}, \"aden + anais 2 Pack Muslin Burpy Bib, Princess Posie\": {\"frequency\": 52, \"value\": \"aden + anais 2 ...\"}, \"Fisher-Price Deluxe Newborn Rock N Play Sleeper, My Little Sweetie\": {\"frequency\": 24, \"value\": \"Fisher-Price ...\"}, \"High Back Full Bucket Toddler Infant Swing Seat - Seat Only, Yellow with SSS logo Sticker\": {\"frequency\": 26, \"value\": \"High Back Full ...\"}, \"Dreambaby Super Toy Hammock and Toy Chain\": {\"frequency\": 33, \"value\": \"Dreambaby Super ...\"}, \"Booginhead SippiGrip - Blue\": {\"frequency\": 17, \"value\": \"Booginhead ...\"}, \"JJ Cole Collections Diaper Caddy, Blue Stripe\": {\"frequency\": 44, \"value\": \"JJ Cole ...\"}, \"Taggies Developmental Baby Doll\": {\"frequency\": 15, \"value\": \"Taggies ...\"}, \"Fisher-Price Royal Stepstool Potty, Blue\": {\"frequency\": 17, \"value\": \"Fisher-Price Royal ...\"}, \"Munchkin Arm and Hammer Diaper Pail, White\": {\"frequency\": 57, \"value\": \"Munchkin Arm and ...\"}, \"The First Years Indigo Stroller, Red\": {\"frequency\": 24, \"value\": \"The First Years ...\"}, \"North States Pressure Mount Diamond Mesh Wood Gate\": {\"frequency\": 42, \"value\": \"North States ...\"}, \"BRICA By-My-Side Safety Harness Backpack, Blue\": {\"frequency\": 18, \"value\": \"BRICA By-My-Side ...\"}, \"Munchkin Twisty Figure 8 Teether\": {\"frequency\": 37, \"value\": \"Munchkin Twisty ...\"}, \"Graco RoomFor2 Stand and Ride Classic Connect Stroller, Metropolis\": {\"frequency\": 45, \"value\": \"Graco RoomFor2 ...\"}, \"Snoozy Organic  2 PACK Flannel Cotton Anti Allergy Waterproof Multi Use Pad, 18&quot; x 27&quot;\": {\"frequency\": 18, \"value\": \"Snoozy Organic  2 ...\"}, \"Diaper Dekor Plus Refills 2 Pack\": {\"frequency\": 44, \"value\": \"Diaper Dekor Plus ...\"}, \"Skip Hop Bento Diaper Tote Bag, Black\": {\"frequency\": 21, \"value\": \"Skip Hop Bento ...\"}, \"The Safe Sippy Cup, Blue\": {\"frequency\": 18, \"value\": \"The Safe Sippy ...\"}, \"Fisher-Price Newborn-to-Toddler Portable Rocker\": {\"frequency\": 21, \"value\": \"Fisher-Price ...\"}, \"5 Pack - Black Foam Microphone Windscreens (Lifetime Warranty, Bulk Packaging)\": {\"frequency\": 18, \"value\": \"5 Pack - Black ...\"}, \"Bumbo Floor Seat Cover, Dots\": {\"frequency\": 20, \"value\": \"Bumbo Floor Seat ...\"}, \"Boppy Changing Pad Liners 3-Pack - White\": {\"frequency\": 35, \"value\": \"Boppy Changing Pad ...\"}, \"Playtex Diaper Genie On The Go Dispenser\": {\"frequency\": 27, \"value\": \"Playtex Diaper ...\"}, \"Infant Optics DXR-5 2.4 GHz Digital Video Baby Monitor with Night Vision\": {\"frequency\": 519, \"value\": \"Infant Optics ...\"}, \"Hooter Hiders Nursing Cover - Aero\": {\"frequency\": 28, \"value\": \"Hooter Hiders ...\"}, \"KidCo Auto Close ConfigureGate - Black\": {\"frequency\": 30, \"value\": \"KidCo Auto Close ...\"}, \"Delta Universal 6 Drawer Dresser, Black Cherry\": {\"frequency\": 51, \"value\": \"Delta Universal 6 ...\"}, \"Trumpette Howdy Bouncy Rubber Cow, White\": {\"frequency\": 23, \"value\": \"Trumpette Howdy ...\"}, \"Summer Infant Multi-Use Deco Extra Tall Walk-Thru Gate, Bronze\": {\"frequency\": 205, \"value\": \"Summer Infant ...\"}, \"GroVia BioLiners One Size Unscented - 200 Count\": {\"frequency\": 45, \"value\": \"GroVia BioLiners ...\"}, \"The First Years 2 Pack 9 Ounce Insulated Sippy Cup, Disney Princess\": {\"frequency\": 51, \"value\": \"The First Years 2 ...\"}, \"Philips AVENT BPA Free Classic Polypropylene Essentials Gift Set\": {\"frequency\": 33, \"value\": \"Philips AVENT BPA ...\"}, \"Kushies Flushable Biodegradable Diaper Liners, 100 Sheets\": {\"frequency\": 31, \"value\": \"Kushies Flushable ...\"}, \"Oh Katy One Size Pocket Diaper, Berry\": {\"frequency\": 17, \"value\": \"Oh Katy One Size ...\"}, \"Baby Brezza Formula Pro One Step Food Maker\": {\"frequency\": 23, \"value\": \"Baby Brezza ...\"}, \"OXO Tot Flip-In Hamper, Gray/Green\": {\"frequency\": 34, \"value\": \"OXO Tot Flip-In ...\"}, \"Medela Contact Nipple Shield, Small\": {\"frequency\": 19, \"value\": \"Medela Contact ...\"}, \"Munchkin Steam Guard Microwave Sterilizer\": {\"frequency\": 21, \"value\": \"Munchkin Steam ...\"}, \"Infantino Breathe Vented Carrier, Grey\": {\"frequency\": 35, \"value\": \"Infantino Breathe ...\"}, \"Sunshine Kids New Radian 80 Convertible Car Seat - SuperCool\": {\"frequency\": 18, \"value\": \"Sunshine Kids New ...\"}, \"American Baby Company 100% Cotton Value Jersey Knit Cradle Sheet, Blue\": {\"frequency\": 18, \"value\": \"American Baby ...\"}, \"Boon Grass Countertop Drying Rack, Green\": {\"frequency\": 118, \"value\": \"Boon Grass ...\"}, \"Evenflo 3 Pack Classic Glass Bottle, 4-Ounce\": {\"frequency\": 33, \"value\": \"Evenflo 3 Pack ...\"}, \"See Me Smile Infant Mirror Tan Bear\": {\"frequency\": 21, \"value\": \"See Me Smile ...\"}, \"Playtex Sip Ease Replacement Valve - 2 Pk\": {\"frequency\": 23, \"value\": \"Playtex Sip Ease ...\"}, \"Earlyears Lil Shopper Play Set\": {\"frequency\": 53, \"value\": \"Earlyears Lil ...\"}, \"Fisher-Price Ducky Fun 3-in-1 Potty\": {\"frequency\": 18, \"value\": \"Fisher-Price Ducky ...\"}, \"Bummis Super Brite Diaper Cover, Pink, 8-16 Pounds\": {\"frequency\": 21, \"value\": \"Bummis Super Brite ...\"}, \"The First Years Wave Stroller, Crimson Red\": {\"frequency\": 23, \"value\": \"The First Years ...\"}, \"Philips AVENT Isis iQ Duo Twin Electronic Breast Pump\": {\"frequency\": 23, \"value\": \"Philips AVENT Isis ...\"}, \"Dwinguler Eco-friendly Kids Play Mat - Safari Tour (Large)\": {\"frequency\": 26, \"value\": \"Dwinguler Eco- ...\"}, \"Bright Starts Comfort and Harmony Portable Swing, Florabella\": {\"frequency\": 51, \"value\": \"Bright Starts ...\"}, \"ERGObaby Organic Baby Carrier, Desert Bloom\": {\"frequency\": 44, \"value\": \"ERGObaby Organic ...\"}, \"Hudson Baby Plush Blanket with Satin Trim and Backing\": {\"frequency\": 28, \"value\": \"Hudson Baby Plush ...\"}, \"Infantino Twist and Fold Gym, Baby Animals\": {\"frequency\": 18, \"value\": \"Infantino Twist ...\"}, \"Britax Boulevard 70-G3 Convertible Car Seat Seat, Onyx\": {\"frequency\": 69, \"value\": \"Britax Boulevard ...\"}, \"Playtex Diaper Genie - First Refill Included\": {\"frequency\": 78, \"value\": \"Playtex Diaper ...\"}, \"Munchkin Bobble Bee Suction Toy\": {\"frequency\": 19, \"value\": \"Munchkin Bobble ...\"}, \"Prince Lionheart 2 Count Faucet Extender, Gray/Pink\": {\"frequency\": 26, \"value\": \"Prince Lionheart 2 ...\"}, \"North States Supergate Pressure Mount Clear Choice Wood Gate\": {\"frequency\": 38, \"value\": \"North States ...\"}, \"Basic Comfort Contoured Changing Pad by Summer Infant\": {\"frequency\": 20, \"value\": \"Basic Comfort ...\"}, \"Gerber Plastic Pants, 18 Months, Fits 24-28 lbs. (4 pairs)\": {\"frequency\": 26, \"value\": \"Gerber Plastic ...\"}, \"American Baby Company 100% Cotton Percale Ruffle Crib Skirt, Celery\": {\"frequency\": 24, \"value\": \"American Baby ...\"}, \"Cosco Juvenile Funsport Play Yard, Kontiki\": {\"frequency\": 36, \"value\": \"Cosco Juvenile ...\"}, \"Graco Classic Ride 50 Convertible Car Seat, Boyton\": {\"frequency\": 22, \"value\": \"Graco Classic Ride ...\"}, \"Graco Pack 'n Play Element Playard, Metropolis\": {\"frequency\": 23, \"value\": \"Graco Pack 'n Play ...\"}, \"Mumi&amp;Bubi Solids Starter Kit, 42 x 1oz Cubes In Two Compact Baby Food Freezer Storage Trays, Plus Free e-Recipes\": {\"frequency\": 64, \"value\": \"Mumi&amp;Bubi ...\"}, \"Britax Marathon in Ashley Floral\": {\"frequency\": 19, \"value\": \"Britax Marathon in ...\"}, \"Baby Safe Ink Print Kit - Basic\": {\"frequency\": 26, \"value\": \"Baby Safe Ink ...\"}, \"Fisher-Price Little Superstar Step N' Play Piano\": {\"frequency\": 16, \"value\": \"Fisher-Price ...\"}, \"Evenflo Portable BabySuite 300, Marianna\": {\"frequency\": 33, \"value\": \"Evenflo Portable ...\"}, \"Playtex 3 Pack VentAire Standard Bottles, 9 Ounce (Colors may vary)\": {\"frequency\": 85, \"value\": \"Playtex 3 Pack ...\"}, \"BabySmart Cooshee Booster Seat Classicwith Travel Bag, Onyx\": {\"frequency\": 33, \"value\": \"BabySmart Cooshee ...\"}, \"make my day Silicone Baby Bib, Purple\": {\"frequency\": 29, \"value\": \"make my day ...\"}, \"BOB Infant Car Seat Adapter For Single Strollers\": {\"frequency\": 24, \"value\": \"BOB Infant Car ...\"}, \"Fisher-Price Zen Collection High Chair\": {\"frequency\": 21, \"value\": \"Fisher-Price Zen ...\"}, \"Turtlemeter, the Baby Bath Floating Turtle Toy and Bath Tub Thermometer\": {\"frequency\": 78, \"value\": \"Turtlemeter, the ...\"}, \"Infantino Merry Monkey Gym\": {\"frequency\": 21, \"value\": \"Infantino Merry ...\"}, \"Jeep Protective Floor Mat\": {\"frequency\": 22, \"value\": \"Jeep Protective ...\"}, \"Graco Highback TurboBooster Car Seat, Spitfire\": {\"frequency\": 110, \"value\": \"Graco Highback ...\"}, \"Vital Baby Toddler Straw Cup, Orange, 10 Ounce\": {\"frequency\": 34, \"value\": \"Vital Baby Toddler ...\"}, \"Joovy Cool Essentials Parent Organizer\": {\"frequency\": 17, \"value\": \"Joovy Cool ...\"}, \"Lifefactory 2 Pack Multi Sensory Silicone Teether, Sky/Spring Green\": {\"frequency\": 71, \"value\": \"Lifefactory 2 Pack ...\"}, \"Gerber Birdseye 10 Count 3-Ply Prefold Cloth Diapers, White\": {\"frequency\": 22, \"value\": \"Gerber Birdseye 10 ...\"}, \"Playtex Baby Drop-Ins Premium Nurser Bottle Feeding Set\": {\"frequency\": 49, \"value\": \"Playtex Baby Drop- ...\"}, \"The Art of CureTM *SAFETY KNOTTED* Honey 1x1 - Certified Baltic Amber Baby Teething Necklace - w/The Art of CureTM Jewelry Pouch (SHIPS AND SOLD IN THE USA)\": {\"frequency\": 24, \"value\": \"The Art of CureTM ...\"}, \"Graco Ipo Stroller, Spitfire\": {\"frequency\": 32, \"value\": \"Graco Ipo ...\"}, \"Medela Pump in Style Advanced Backpack\": {\"frequency\": 53, \"value\": \"Medela Pump in ...\"}, \"DadGear Backpack Diaper Bag - Red Retro Stripe\": {\"frequency\": 35, \"value\": \"DadGear Backpack ...\"}, \"Jolly Jumper Arctic Sneak A Peek Infant Car Seat Cover Black\": {\"frequency\": 26, \"value\": \"Jolly Jumper ...\"}, \"KidCo Outlet Plug Cover\": {\"frequency\": 34, \"value\": \"KidCo Outlet Plug ...\"}, \"Dream On Me 3&quot; Foam Playard Mattress, White\": {\"frequency\": 19, \"value\": \"Dream On Me ...\"}, \"Neat Solutions Neat-Ware Table Topper, 60-Count\": {\"frequency\": 31, \"value\": \"Neat Solutions ...\"}, \"JJ Cole Bundleme Lite, Pink, Infant\": {\"frequency\": 17, \"value\": \"JJ Cole Bundleme ...\"}, \"Ju-Ju-Be Be Prepared Diaper Bag, Black/Silver\": {\"frequency\": 26, \"value\": \"Ju-Ju-Be Be ...\"}, \"Evenflo Exersaucer Mega Circus\": {\"frequency\": 31, \"value\": \"Evenflo Exersaucer ...\"}, \"OsoCozy Better Fit Unbleached Prefolds (Infant 4x8x4 Fits 6-16 lbs.) - Dozen\": {\"frequency\": 25, \"value\": \"OsoCozy Better Fit ...\"}, \"BreathableBaby Breathable Mesh Crib Liner, White\": {\"frequency\": 189, \"value\": \"BreathableBaby ...\"}, \"Seat Belt Buckle Guard\": {\"frequency\": 17, \"value\": \"Seat Belt Buckle ...\"}, \"Avent Isis Manual Breast Pump\": {\"frequency\": 105, \"value\": \"Avent Isis Manual ...\"}, \"OXO Perfect Pull Wipes Dispenser, Pink\": {\"frequency\": 92, \"value\": \"OXO Perfect Pull ...\"}, \"25 mm One-Piece Breastshield w/ Valve and Membrane for Medela Breast Pumps; Set of 2; Made by Maymom\": {\"frequency\": 15, \"value\": \"25 mm One-Piece ...\"}, \"Graco Baby Einstein Discover and Play Entertainer\": {\"frequency\": 67, \"value\": \"Graco Baby ...\"}, \"Fisher Price - Aquarium Take-along Swing\": {\"frequency\": 29, \"value\": \"Fisher Price - ...\"}, \"Sealy Soybean Foam-Core Crib Mattress\": {\"frequency\": 51, \"value\": \"Sealy Soybean ...\"}, \"Under the Sea Tropical Fish Nursery/Kids Room Wall Art Sticker Decals\": {\"frequency\": 27, \"value\": \"Under the Sea ...\"}, \"Evenflo Triumph 65 DLX Seat, Lincoln\": {\"frequency\": 22, \"value\": \"Evenflo Triumph 65 ...\"}, \"Tadpoles Four Bulb Chandelier, Pink\": {\"frequency\": 16, \"value\": \"Tadpoles Four Bulb ...\"}, \"Philips Avent BPA Free Classic Bottle to First Cup Trainer, 4+ Months, Clear\": {\"frequency\": 25, \"value\": \"Philips Avent BPA ...\"}, \"Graco Backless TurboBooster Seat, Galaxy\": {\"frequency\": 70, \"value\": \"Graco Backless ...\"}, \"Skip Hop Moby Bathtub Elbow Rest, Blue\": {\"frequency\": 16, \"value\": \"Skip Hop Moby ...\"}, \"Traffic Light Lamp\": {\"frequency\": 18, \"value\": \"Traffic Light Lamp\"}, \"TotShield Stove Guard for Free Standing Gas and Electric Stove\": {\"frequency\": 21, \"value\": \"TotShield Stove ...\"}, \"Mimijumi 8 Ounce Baby Bottle, Very Hungry\": {\"frequency\": 27, \"value\": \"Mimijumi 8 Ounce ...\"}, \"The First Years Compass B540 Booster Seat, Abstract O's\": {\"frequency\": 68, \"value\": \"The First Years ...\"}, \"Fisher-Price Cheer for Me Potty\": {\"frequency\": 26, \"value\": \"Fisher-Price Cheer ...\"}, \"Earlyears Roll n Swirl Ball Ramp\": {\"frequency\": 61, \"value\": \"Earlyears Roll n ...\"}, \"Baby Trend Single Snap N' Go Stroller\": {\"frequency\": 17, \"value\": \"Baby Trend Single ...\"}, \"Vulli Sophie the Giraffe Teether Set of 2\": {\"frequency\": 44, \"value\": \"Vulli Sophie the ...\"}, \"Medela Freestyle Breast Pump\": {\"frequency\": 65, \"value\": \"Medela Freestyle ...\"}, \"Chicco KeyFit &amp; KeyFit30 Infant Car Seat Base - Anthracite\": {\"frequency\": 55, \"value\": \"Chicco KeyFit ...\"}, \"Skip Hop Zoo Little Kid Luggage, Dog\": {\"frequency\": 47, \"value\": \"Skip Hop Zoo ...\"}, \"Munchkin Bottle and Nipple Brush, Colors May Vary\": {\"frequency\": 40, \"value\": \"Munchkin Bottle ...\"}, \"Joovy Caboose Stand On Tandem Stroller, Black\": {\"frequency\": 104, \"value\": \"Joovy Caboose ...\"}, \"Chicco NextFit Convertible Car Seat, Mystique\": {\"frequency\": 58, \"value\": \"Chicco NextFit ...\"}, \"Fresh Baby So Easy Baby Food and Breast Milk Trays\": {\"frequency\": 80, \"value\": \"Fresh Baby So Easy ...\"}, \"NUK Hello Kitty Silicone Spout Learner Cup, 5 Ounce\": {\"frequency\": 18, \"value\": \"NUK Hello Kitty ...\"}, \"Bummis Swimmi Cloth Diapers, Turtles, Small (9-15 lbs)\": {\"frequency\": 29, \"value\": \"Bummis Swimmi ...\"}, \"Jeep Wrangler Twin Sport All-Weather Stroller, Heat\": {\"frequency\": 19, \"value\": \"Jeep Wrangler Twin ...\"}, \"Munchkin Lazy Buoys Bathtub Toys\": {\"frequency\": 21, \"value\": \"Munchkin Lazy ...\"}, \"Fisher-Price Discover 'n Grow Jumperoo\": {\"frequency\": 31, \"value\": \"Fisher-Price ...\"}, \"Safety 1st 2 Pack Custom Fit All Purpose Strap\": {\"frequency\": 86, \"value\": \"Safety 1st 2 Pack ...\"}, \"Dream On Me 3&quot; Rounded Corner Playard Mattress, White/Brown\": {\"frequency\": 35, \"value\": \"Dream On Me ...\"}, \"Philips AVENT BPA Free Single Electric Breast Pump\": {\"frequency\": 24, \"value\": \"Philips AVENT BPA ...\"}, \"Angel Dear Blankie, Green Frog\": {\"frequency\": 120, \"value\": \"Angel Dear ...\"}, \"Britax Roundabout 55 Convertible Car Seat, Isabella\": {\"frequency\": 76, \"value\": \"Britax Roundabout ...\"}, \"Athena Nadia 3 in 1 Crib with Toddler Rail, Cherry\": {\"frequency\": 22, \"value\": \"Athena Nadia 3 in ...\"}, \"BABYBJORN Toilet Trainer - White/Red\": {\"frequency\": 135, \"value\": \"BABYBJORN Toilet ...\"}, \"Bright Starts Petals and Friends Activity Gym\": {\"frequency\": 22, \"value\": \"Bright Starts ...\"}, \"Summer Infant Rayshade Stroller Cover\": {\"frequency\": 27, \"value\": \"Summer Infant ...\"}, \"Bamboobies 2 Pair Ultra-Thin Regular Nursing Pads, Pale Pink\": {\"frequency\": 78, \"value\": \"Bamboobies 2 Pair ...\"}, \"Jeep Deluxe Stroller Weather Shield\": {\"frequency\": 24, \"value\": \"Jeep Deluxe ...\"}, \"Luvable Friends Infant Pillow Case, Traditional Blue Print\": {\"frequency\": 21, \"value\": \"Luvable Friends ...\"}, \"Fisher-Price Baby Papasan Infant Seat Nature's Wonder\": {\"frequency\": 19, \"value\": \"Fisher-Price Baby ...\"}, \"Graco Sweet Slumber Sound Machine, White\": {\"frequency\": 96, \"value\": \"Graco Sweet ...\"}, \"Similac SimplySmart Starter Set\": {\"frequency\": 18, \"value\": \"Similac ...\"}, \"Snuza Portable Baby Movement Monitor\": {\"frequency\": 56, \"value\": \"Snuza Portable ...\"}, \"Graco FastAction Fold Jogger Click Connect Stroller, Grapeade\": {\"frequency\": 29, \"value\": \"Graco FastAction ...\"}, \"Aquatopia Deluxe Safety Bath Thermometer Alarm, Green\": {\"frequency\": 57, \"value\": \"Aquatopia Deluxe ...\"}, \"Delta Portable Mini Crib, Cherry\": {\"frequency\": 22, \"value\": \"Delta Portable ...\"}, \"Similac SimplySmart Bottle, 4 Ounce\": {\"frequency\": 32, \"value\": \"Similac ...\"}, \"JJ Cole Arctic Bundleme, Cocoa/Lagoon, Infant\": {\"frequency\": 16, \"value\": \"JJ Cole Arctic ...\"}, \"Aden + Anais Issie Security Blanket Set Declan Elephants\": {\"frequency\": 22, \"value\": \"Aden + Anais Issie ...\"}, \"Fisher-Price Portable Rocker, Newborn-to-Toddler\": {\"frequency\": 60, \"value\": \"Fisher-Price ...\"}, \"Kick Mats - Deluxe Car Seat Back Protectors 2 Pack - Keep Your Car Seats 100% Clean From All The Stains And Scuffmarks Left By The Kids With These Auto-Protective Seat Covers - Designed For Most Vehicles - Protect Your Investment - Lifetime Guarantee\": {\"frequency\": 85, \"value\": \"Kick Mats - Deluxe ...\"}, \"RECARO ProBOOSTER High Back Booster Car Seat, Riley\": {\"frequency\": 20, \"value\": \"RECARO ProBOOSTER ...\"}, \"DaVinci Alpha Mini Rocking Crib - Natural\": {\"frequency\": 31, \"value\": \"DaVinci Alpha Mini ...\"}, \"Jeep Jogging Stroller Weather Shield\": {\"frequency\": 24, \"value\": \"Jeep Jogging ...\"}, \"BABYBJORN Baby Carrier Active, White, Mesh\": {\"frequency\": 32, \"value\": \"BABYBJORN Baby ...\"}, \"Dream On Me Classic Toddler Bed, Cherry\": {\"frequency\": 40, \"value\": \"Dream On Me ...\"}, \"Graco LiteRider Classic Connect Stroller, Pasadena\": {\"frequency\": 38, \"value\": \"Graco LiteRider ...\"}, \"Combi All in One Activity Walker, Pink\": {\"frequency\": 60, \"value\": \"Combi All in One ...\"}, \"The First Years Lanolin Free Nipple Butter, 2 Ounce\": {\"frequency\": 17, \"value\": \"The First Years ...\"}, \"Fisher-Price Stride to Ride Walker\": {\"frequency\": 27, \"value\": \"Fisher-Price ...\"}, \"Comotomo Silicone Baby Teether, Blue\": {\"frequency\": 47, \"value\": \"Comotomo Silicone ...\"}, \"Dream On Me, 3 in 1 Portable Convertible Crib, Cherry\": {\"frequency\": 21, \"value\": \"Dream On Me, 3 in ...\"}, \"Skip Hop Swipe Baby Wipes Case\": {\"frequency\": 28, \"value\": \"Skip Hop Swipe ...\"}, \"Philips AVENT Microwave Steam Sterilizer\": {\"frequency\": 23, \"value\": \"Philips AVENT ...\"}, \"PRIMO Folding Potty with Handles, White granite\": {\"frequency\": 89, \"value\": \"PRIMO Folding ...\"}, \"ULTRASCALE MBSC-55 Digital Baby Pet Scale\": {\"frequency\": 21, \"value\": \"ULTRASCALE MBSC-55 ...\"}, \"Sugar Booger Kiddie Play Back Pack, Prehistoric Pals\": {\"frequency\": 16, \"value\": \"Sugar Booger ...\"}, \"Jolly Jumper Bath Tub Toy Bag\": {\"frequency\": 44, \"value\": \"Jolly Jumper Bath ...\"}, \"MOBI Tykelight WallMate, Monkey\": {\"frequency\": 18, \"value\": \"MOBI Tykelight ...\"}, \"Fisher-Price Precious Planet Sky Blue High Chair\": {\"frequency\": 38, \"value\": \"Fisher-Price ...\"}, \"Graco Pack 'N Play Playard with Bassinet in Rise and Shine\": {\"frequency\": 194, \"value\": \"Graco Pack 'N Play ...\"}, \"Dappi Waterproof 100% Vinyl Diaper Pants, 3Pack, White, Newborn\": {\"frequency\": 45, \"value\": \"Dappi Waterproof ...\"}, \"Zoli Baby On-the-Go Snack/Formula Dispsenser - 2 oz\": {\"frequency\": 21, \"value\": \"Zoli Baby On-the- ...\"}, \"QuickZip Crib Sheet Set, White\": {\"frequency\": 18, \"value\": \"QuickZip Crib ...\"}, \"Carters Velour Playard Fitted Sheet, Ecru\": {\"frequency\": 50, \"value\": \"Carters Velour ...\"}, \"The First Years Spinning Drying Rack, White\": {\"frequency\": 128, \"value\": \"The First Years ...\"}, \"Prince Lionheart Premium Wipe Warmer\": {\"frequency\": 25, \"value\": \"Prince Lionheart ...\"}, \"Star Kids Snack and Play Travel Tray\": {\"frequency\": 96, \"value\": \"Star Kids Snack ...\"}, \"The First Years: Clear and Near 2.4 GHz Monitor\": {\"frequency\": 19, \"value\": \"The First Years: ...\"}, \"Chicco Keyfit Caddy Stroller Frame\": {\"frequency\": 37, \"value\": \"Chicco Keyfit ...\"}, \"Skip Hop Via Messenger Diaper Bag Black\": {\"frequency\": 18, \"value\": \"Skip Hop Via ...\"}, \"Medela Calma Breastmilk Feeding Nipple\": {\"frequency\": 18, \"value\": \"Medela Calma ...\"}, \"The First Years Everywhere Gate\": {\"frequency\": 51, \"value\": \"The First Years ...\"}, \"Boppy Pillow with Luxe Slipcover, Monkey\": {\"frequency\": 18, \"value\": \"Boppy Pillow with ...\"}, \"Munchkin 2 Pack Silicone Spoons, Colors May Vary\": {\"frequency\": 18, \"value\": \"Munchkin 2 Pack ...\"}, \"Wimmer Ferguson Wimmer Infant Stim Mobile To Go\": {\"frequency\": 23, \"value\": \"Wimmer Ferguson ...\"}, \"Snugli Front and Backpack Carrier\": {\"frequency\": 19, \"value\": \"Snugli Front and ...\"}, \"Prince Lionheart Warmies Wipes Warmer\": {\"frequency\": 26, \"value\": \"Prince Lionheart ...\"}, \"Zo-li Bot Straw Sippy Cup 6oz\": {\"frequency\": 131, \"value\": \"Zo-li Bot Straw ...\"}, \"Learning Curve True Fit Convertible Car Seat, Pink Butterfly\": {\"frequency\": 27, \"value\": \"Learning Curve ...\"}, \"Rumparooz Cloth Diaper Cover, White Snap\": {\"frequency\": 20, \"value\": \"Rumparooz Cloth ...\"}, \"Sesame Street Potty Topper Disposable Stick-in-Place Toilet Seat Covers, 40-Count\": {\"frequency\": 17, \"value\": \"Sesame Street ...\"}, \"Infantino Squeeze Pouches, 50-Count\": {\"frequency\": 21, \"value\": \"Infantino Squeeze ...\"}, \"KidCo Convertible Crib Bed Rail Finish: Natural\": {\"frequency\": 12, \"value\": \"KidCo Convertible ...\"}, \"OXO Tot Bottle Brush with Nipple Cleaner and Stand, Green\": {\"frequency\": 120, \"value\": \"OXO Tot Bottle ...\"}, \"Skip Hop Moby Bath Kneeler, Blue\": {\"frequency\": 22, \"value\": \"Skip Hop Moby Bath ...\"}, \"The First Years - Crib CD Player\": {\"frequency\": 33, \"value\": \"The First Years - ...\"}, \"Shermag Glider Rocker Combo, Pecan with Oatmeal\": {\"frequency\": 40, \"value\": \"Shermag Glider ...\"}, \"Megaseat Infant Floor Seat with Safety Belt, Ruby Red\": {\"frequency\": 17, \"value\": \"Megaseat Infant ...\"}, \"BubbleBum Inflatable Car Booster Seat\": {\"frequency\": 75, \"value\": \"BubbleBum ...\"}, \"The First Years 2 Pack GumDrop Infant Pacifier, Blue/Green\": {\"frequency\": 17, \"value\": \"The First Years 2 ...\"}, \"Xpress Trainer Pro-All In One-Real Simple Potty Training Round/Standard Family Toilet Seat\": {\"frequency\": 21, \"value\": \"Xpress Trainer ...\"}, \"Summer Infant 3D lite Convenience Stroller, Black\": {\"frequency\": 25, \"value\": \"Summer Infant 3D ...\"}, \"Protect-a-Bub Single Compact Sunshade, Black\": {\"frequency\": 17, \"value\": \"Protect-a-Bub ...\"}, \"Arm's Reach Co-Sleeper Bassinet Leg Extension Kit, Natural\": {\"frequency\": 21, \"value\": \"Arm's Reach Co- ...\"}, \"Munchkin High Speed Bottle and Food Warmer with Pacifier Cleaning Basket\": {\"frequency\": 27, \"value\": \"Munchkin High ...\"}, \"KidCo Bath Toy Organizer Storage Basket\": {\"frequency\": 79, \"value\": \"KidCo Bath Toy ...\"}, \"ALEX&reg; Toys - Bathtime Fun Hoops For The Tub 694\": {\"frequency\": 16, \"value\": \"ALEX&reg; Toys - ...\"}, \"Munchkin Sesame Street Toddler Fork and Spoon, Elmo\": {\"frequency\": 53, \"value\": \"Munchkin Sesame ...\"}, \"900 MHz Home Connection Monitor\": {\"frequency\": 25, \"value\": \"900 MHz Home ...\"}, \"Fisher-Price Rainforest Jumperoo\": {\"frequency\": 437, \"value\": \"Fisher-Price ...\"}, \"Lamaze Play &amp; Grow Rusty the Robot Take Along Toy\": {\"frequency\": 24, \"value\": \"Lamaze Play &amp; ...\"}, \"aden + anais Classic Muslin Swaddle Blanket 4 Pack, Blue and White (Previous Model)\": {\"frequency\": 20, \"value\": \"aden + anais ...\"}, \"Arm &amp; Hammer Secure Comfort Potty Seat, Colors May Vary\": {\"frequency\": 74, \"value\": \"Arm &amp; Hammer ...\"}, \"BabyKicks 3 Pack Joey-Bunz Premium, Small\": {\"frequency\": 19, \"value\": \"BabyKicks 3 Pack ...\"}, \"Munchkin Powdered Formula Dispenser, Colors May Vary\": {\"frequency\": 5, \"value\": \"Munchkin Powdered ...\"}, \"Tiny Love Gymini Move and Play Activity Gym, Animals\": {\"frequency\": 35, \"value\": \"Tiny Love Gymini ...\"}, \"Safety 1st 900 Mhz Sight And Sound Nursery Monitor System\": {\"frequency\": 37, \"value\": \"Safety 1st 900 Mhz ...\"}, \"Sassy Developmental Bath Toy, Catch and Count Net\": {\"frequency\": 27, \"value\": \"Sassy ...\"}, \"Xpress Trainer Pro-All In One-Real Simple Potty Training Elongated Family Toilet Seat\": {\"frequency\": 17, \"value\": \"Xpress Trainer ...\"}, \"Fisher-Price Coco Sorbet Soothing Motions Glider\": {\"frequency\": 46, \"value\": \"Fisher-Price Coco ...\"}, \"Witch Hazel Distillate (Alcohol Free) 8 Ounces\": {\"frequency\": 21, \"value\": \"Witch Hazel ...\"}, \"Evenflo Journey 300 Stroller with Embrace 35 Car Seat, Koi\": {\"frequency\": 30, \"value\": \"Evenflo Journey ...\"}, \"American Baby Company 100% Organic Cotton Interlock Fitted Pack N Play Sheet, Natural\": {\"frequency\": 82, \"value\": \"American Baby ...\"}, \"Fisher-Price Luv U Zoo Deluxe Musical Mobile Gym\": {\"frequency\": 16, \"value\": \"Fisher-Price Luv U ...\"}, \"Disney Soft Potty and Step Stool Combo Set, Pixar Cars\": {\"frequency\": 20, \"value\": \"Disney Soft Potty ...\"}, \"Dr. Brown's Natural Flow Cleaning Brush, 4 Pack\": {\"frequency\": 55, \"value\": \"Dr. Brown's ...\"}, \"FitBALL Seating Disc 15&quot; Iridescent Blue (Poly Bag)\": {\"frequency\": 18, \"value\": \"FitBALL Seating ...\"}, \"Badger Basket Baby Changing Table with Six Baskets, Black\": {\"frequency\": 35, \"value\": \"Badger Basket Baby ...\"}, \"Ikea Baby Bib Set with Sleaves-kladd Prickar\": {\"frequency\": 21, \"value\": \"Ikea Baby Bib Set ...\"}, \"Playtex Premium Nurser Newborn Gift Set\": {\"frequency\": 36, \"value\": \"Playtex Premium ...\"}, \"Comotomo 2 Pack Silicone Replacement Nipple, Clear, Variable Flow\": {\"frequency\": 18, \"value\": \"Comotomo 2 Pack ...\"}, \"Prince Lionheart bebePOD Flex Baby Seat, Mint\": {\"frequency\": 23, \"value\": \"Prince Lionheart ...\"}, \"Mary Meyer Wubbanub Plush Pacifier, Cutsie Caterpillar\": {\"frequency\": 116, \"value\": \"Mary Meyer ...\"}, \"Eddie Bauer 2 Pack Cling SunShade\": {\"frequency\": 16, \"value\": \"Eddie Bauer 2 Pack ...\"}, \"Disney Cars Folding Potty Seat\": {\"frequency\": 17, \"value\": \"Disney Cars ...\"}, \"Fisher-Price Deluxe Newborn Rock 'N Play Sleeper, My Little Sweetie\": {\"frequency\": 23, \"value\": \"Fisher-Price ...\"}, \"Bright Starts Ingenuity Automatic Bouncer, Bella Vista\": {\"frequency\": 17, \"value\": \"Bright Starts ...\"}, \"4Moms Mamaroo Infant Seat, Orange\": {\"frequency\": 32, \"value\": \"4Moms Mamaroo ...\"}, \"Nuby 2 Count 2 Handle Cup with No Spill Super Spout, Colors May Vary\": {\"frequency\": 22, \"value\": \"Nuby 2 Count 2 ...\"}, \"Mary Meyer Christening Plush Rattle, Lamb\": {\"frequency\": 19, \"value\": \"Mary Meyer ...\"}, \"Chicco Lil Piano Splash Walker\": {\"frequency\": 31, \"value\": \"Chicco Lil Piano ...\"}, \"OXO Tot Plate, Green\": {\"frequency\": 18, \"value\": \"OXO Tot Plate, ...\"}, \"Summer Infant Custom Fit Walk-Thru Gate, Tan\": {\"frequency\": 18, \"value\": \"Summer Infant ...\"}, \"Prince Lionheart pottyPOD, Blue\": {\"frequency\": 21, \"value\": \"Prince Lionheart ...\"}, \"Hello Kitty diecut face shape Area Rug 30 X 25 inches\": {\"frequency\": 21, \"value\": \"Hello Kitty diecut ...\"}, \"Munchkin 6 Pack Soft-Tip Infant Spoon\": {\"frequency\": 149, \"value\": \"Munchkin 6 Pack ...\"}, \"Nojo Toddler Satin Pillow\": {\"frequency\": 21, \"value\": \"Nojo Toddler Satin ...\"}, \"Diono RadianR100 Convertible Car Seat, Dune\": {\"frequency\": 55, \"value\": \"Diono RadianR100 ...\"}, \"BabyHawk Mei Tai Baby Carrier, Black/Lime Motifs\": {\"frequency\": 22, \"value\": \"BabyHawk Mei Tai ...\"}, \"Prince Lionheart Seat Neat, Black/Grey\": {\"frequency\": 18, \"value\": \"Prince Lionheart ...\"}, \"Lansinoh Soothies Gel Pads, 2 Count\": {\"frequency\": 24, \"value\": \"Lansinoh Soothies ...\"}, \"Chicco Cortina Keyfit 30 Travel System, Miro\": {\"frequency\": 20, \"value\": \"Chicco Cortina ...\"}, \"BABYBJORN Potty Chair - Red\": {\"frequency\": 221, \"value\": \"BABYBJORN Potty ...\"}, \"Baby Buddy Secure-A-Toy, Navy/Red\": {\"frequency\": 122, \"value\": \"Baby Buddy ...\"}, \"DEX Products Grab N Go Bottle Warmer BWC-01\": {\"frequency\": 17, \"value\": \"DEX Products Grab ...\"}, \"Kidkusion Hearth Kushion Taupe\": {\"frequency\": 27, \"value\": \"Kidkusion Hearth ...\"}, \"Fisher-Price Ocean Wonders Bath Center - Aquarium\": {\"frequency\": 42, \"value\": \"Fisher-Price Ocean ...\"}, \"dexbaby Safe Sleeper Convertible Crib Bed Rail, White\": {\"frequency\": 61, \"value\": \"dexbaby Safe ...\"}, \"Fisher-Price Precious Planet Kick and Play Piano\": {\"frequency\": 35, \"value\": \"Fisher-Price ...\"}, \"Parent Units Fridge Guard, White\": {\"frequency\": 29, \"value\": \"Parent Units ...\"}, \"Sensible Lines Milk Trays\": {\"frequency\": 16, \"value\": \"Sensible Lines ...\"}, \"Britax Second Seat for B-Ready Stroller, Red\": {\"frequency\": 17, \"value\": \"Britax Second Seat ...\"}, \"WallStickersUSA Contemporary Wall Sticker Decal, Tree Branches, Leaves, Lovebirds, and Hearts, X-Large\": {\"frequency\": 16, \"value\": \"WallStickersUSA ...\"}, \"Stork Craft Hoop Glider, Espresso/Beige\": {\"frequency\": 16, \"value\": \"Stork Craft Hoop ...\"}, \"Peter Potty Toddler Urinal\": {\"frequency\": 27, \"value\": \"Peter Potty ...\"}, \"Chicco Lullaby LX Playard, Adventure\": {\"frequency\": 28, \"value\": \"Chicco Lullaby LX ...\"}, \"Evenflo Big Kid Booster Car Seat - Silver Birch\": {\"frequency\": 21, \"value\": \"Evenflo Big Kid ...\"}, \"Dreambaby Extra Tall Swing Closed Security Gate, Black\": {\"frequency\": 19, \"value\": \"Dreambaby Extra ...\"}, \"Pearhead Babyprints Photo Frame\": {\"frequency\": 27, \"value\": \"Pearhead ...\"}, \"SOHO Designs Baby Walker - Learn how to walk assistant\": {\"frequency\": 18, \"value\": \"SOHO Designs Baby ...\"}, \"Angel Dear Curved Pillow, Light Brown Puppy\": {\"frequency\": 16, \"value\": \"Angel Dear Curved ...\"}, \"Playtex TrainingTime Soft Spout Cup, 6 Ounce, 2 Pack, Color May Vary\": {\"frequency\": 55, \"value\": \"Playtex ...\"}, \"Prince Lionheart Table Edge Guard with 4 Corners, Grey\": {\"frequency\": 77, \"value\": \"Prince Lionheart ...\"}, \"Kolcraft Pure Sleep Therapeutic 150 Crib Mattress\": {\"frequency\": 27, \"value\": \"Kolcraft Pure ...\"}, \"Graco TotBloc Pack 'N Play with Carry Bag, Bugs Quilt\": {\"frequency\": 131, \"value\": \"Graco TotBloc Pack ...\"}, \"Philips AVENT BPA Free Bottle Brush, Blue\": {\"frequency\": 50, \"value\": \"Philips AVENT BPA ...\"}, \"Constructive Eating 3 Piece Construction Worksite Utensil Set\": {\"frequency\": 33, \"value\": \"Constructive ...\"}, \"Boppy Pillow with Brocade Slipcover, Black and White\": {\"frequency\": 66, \"value\": \"Boppy Pillow with ...\"}, \"Chicco Smart Support Backpack, Red\": {\"frequency\": 35, \"value\": \"Chicco Smart ...\"}, \"Baby Care Play Mat - Pingko Friends (Large)\": {\"frequency\": 86, \"value\": \"Baby Care Play Mat ...\"}, \"NUK Disney Winnie the Pooh 10 Ounces Active Cup Silicone Spout, 12+ Months\": {\"frequency\": 28, \"value\": \"NUK Disney Winnie ...\"}, \"Summer Infant Swaddleme MicroFleece Adjustable Infant Wrap, Blue, Small/Medium\": {\"frequency\": 61, \"value\": \"Summer Infant ...\"}, \"Evenflo Amp Performance No Back Booster Car Seat, Green\": {\"frequency\": 24, \"value\": \"Evenflo Amp ...\"}, \"Fisher-Price Luv U Zoo Jumperoo\": {\"frequency\": 85, \"value\": \"Fisher-Price Luv U ...\"}, \"BRICA Seat Guardian Car Seat Protector\": {\"frequency\": 40, \"value\": \"BRICA Seat ...\"}, \"Dr. Brown's Drying Rack\": {\"frequency\": 17, \"value\": \"Dr. Brown's Drying ...\"}, \"Prince Lionheart Multi-Purpose Toy Hammock\": {\"frequency\": 29, \"value\": \"Prince Lionheart ...\"}, \"Fisher-Price Precious Planet  Blue Sky Jumperoo\": {\"frequency\": 34, \"value\": \"Fisher-Price ...\"}, \"Dreambaby Extra Tall Swing Close Gate with Extensions, White\": {\"frequency\": 80, \"value\": \"Dreambaby Extra ...\"}, \"Graco Stanton Convertible Crib, Classic Cherry\": {\"frequency\": 23, \"value\": \"Graco Stanton ...\"}, \"Summer Infant SwaddlePod, Ivory, Newborn\": {\"frequency\": 22, \"value\": \"Summer Infant ...\"}, \"Britax 2 Pack EZ-Cling Sun Shades, Black\": {\"frequency\": 151, \"value\": \"Britax 2 Pack EZ- ...\"}, \"Peace of Mind Two 900 Mhz Baby Receivers, Monitor\": {\"frequency\": 32, \"value\": \"Peace of Mind Two ...\"}, \"Britax Roundabout 55 Convertible Car Seat, Silverlake\": {\"frequency\": 21, \"value\": \"Britax Roundabout ...\"}, \"Mommy's Helper Cushie Traveler\": {\"frequency\": 38, \"value\": \"Mommy's Helper ...\"}, \"Stroller Hook Clips - Luxury Stroller Hook Clips For Bags Or Diaper Bags - Guaranteed To Last, Won't Break Like The Cheaper Plastic Ones - Carabiner Stroller Hook Clip Locks For Added Security Keeping Your Valuables Safe At All Times - Protect Your Investment - These Stroller Hook Clips Come With a Lifetime NO-Hassle Free Replacement Guarantee!\": {\"frequency\": 16, \"value\": \"Stroller Hook ...\"}, \"Dream On Me 3&quot; Extra Firm Portable Crib Mattress, White\": {\"frequency\": 33, \"value\": \"Dream On Me ...\"}, \"Sesame's Elmo Bath Mat 'splish Splash'\": {\"frequency\": 24, \"value\": \"Sesame's Elmo Bath ...\"}, \"Britax Back Seat Mirror\": {\"frequency\": 107, \"value\": \"Britax Back Seat ...\"}, \"Tiny Love Soothe 'n Groove Mobile, Blue\": {\"frequency\": 27, \"value\": \"Tiny Love Soothe ...\"}, \"Graco Pack 'n Play Playard with Newborn Napper Station DLX, Jacqueline\": {\"frequency\": 34, \"value\": \"Graco Pack 'n Play ...\"}, \"SoHo Pink with Black &amp; White Zebra Chenille Crib Nursery Bedding 10 pcs Set\": {\"frequency\": 19, \"value\": \"SoHo Pink with ...\"}, \"Puj Flyte - Compact Infant Bath (White)\": {\"frequency\": 23, \"value\": \"Puj Flyte - ...\"}, \"Munchkin Arm and Hammer Nursery Fresheners, 5 Pack, Lavender or Citrus\": {\"frequency\": 64, \"value\": \"Munchkin Arm and ...\"}, \"NoJo 2 Pack Dot Changing Table Cover - Ivory withSnow Dots\": {\"frequency\": 16, \"value\": \"NoJo 2 Pack Dot ...\"}, \"New Boba Wrap in Red with Matching Carrying Pouch : Infant Baby Carrier : Preemie - 18months (Previously Sleepy Wrap)\": {\"frequency\": 63, \"value\": \"New Boba Wrap in ...\"}, \"VTech Communications Safe &amp; Sound Digital Audio Monitor\": {\"frequency\": 213, \"value\": \"VTech ...\"}, \"Lamaze Musical Inchworm\": {\"frequency\": 59, \"value\": \"Lamaze Musical ...\"}, \"Simba Baby Safety Nail Cutter- Baby Safety Scissors-Manicure Accessory-Easy To Control than Fingernail Clipper-1 pc\": {\"frequency\": 16, \"value\": \"Simba Baby Safety ...\"}, \"JJ Cole Car Seat Cover, Khaki\": {\"frequency\": 30, \"value\": \"JJ Cole Car Seat ...\"}, \"CTA Digital 2-in-1 iPotty with Activity Seat for iPad\": {\"frequency\": 49, \"value\": \"CTA Digital 2-in-1 ...\"}, \"Dundee Burp Cloths/Diapers - White\": {\"frequency\": 21, \"value\": \"Dundee Burp ...\"}, \"Graco Blossom 4-In-1 Seating System, Sapphire\": {\"frequency\": 78, \"value\": \"Graco Blossom ...\"}, \"Thirsties Diaper Cover, Celery, X-Small (6-12 lbs)\": {\"frequency\": 56, \"value\": \"Thirsties Diaper ...\"}, \"Lamaze Octotunes Musical Toy\": {\"frequency\": 20, \"value\": \"Lamaze Octotunes ...\"}, \"UPPAbaby G-Luxe Stroller, Black Jake\": {\"frequency\": 23, \"value\": \"UPPAbaby G-Luxe ...\"}, \"Baby Bath Tub Ring Seat New in Box By KETER - Blue Best Price\": {\"frequency\": 44, \"value\": \"Baby Bath Tub Ring ...\"}, \"Child Airplane Travel Harness - Cares Safety Restraint System - The Only FAA Approved Child Flying Safety Device\": {\"frequency\": 99, \"value\": \"Child Airplane ...\"}, \"Regalo Extra Wide 58 Inch WideSpan Walk Through Safety Gate, White\": {\"frequency\": 76, \"value\": \"Regalo Extra Wide ...\"}, \"Comotomo Baby Bottle, Green/Pink, 5 Ounce, 2-Count\": {\"frequency\": 45, \"value\": \"Comotomo Baby ...\"}, \"BOB Single Snack Tray, Black\": {\"frequency\": 21, \"value\": \"BOB Single Snack ...\"}, \"Travel Buddies Rusty Robot Luggage, Blue, Red, Yellow\": {\"frequency\": 17, \"value\": \"Travel Buddies ...\"}, \"JJ Cole Original Infant Bundleme, Apple, Infant\": {\"frequency\": 54, \"value\": \"JJ Cole Original ...\"}, \"BRICA Infant Comfort Canopy Car Seat Cover\": {\"frequency\": 22, \"value\": \"BRICA Infant ...\"}, \"Boppy Luxe - Clouds\": {\"frequency\": 30, \"value\": \"Boppy Luxe - ...\"}, \"Munchkin Sprout Drying Rack\": {\"frequency\": 58, \"value\": \"Munchkin Sprout ...\"}, \"DaVinci Kalani 4-in-1 Convertible Crib with Toddler Rail, Cherry\": {\"frequency\": 102, \"value\": \"DaVinci Kalani ...\"}, \"Medi-Rub Foot Massager 2000 Plus\": {\"frequency\": 19, \"value\": \"Medi-Rub Foot ...\"}, \"Podee Baby Feeding System\": {\"frequency\": 24, \"value\": \"Podee Baby Feeding ...\"}, \"Leachco Snoogle Total Body Pillow\": {\"frequency\": 366, \"value\": \"Leachco Snoogle ...\"}, \"Electronic Digital Caliper 6&quot; with Extra large LCD Display Screen with Carrying Case\": {\"frequency\": 30, \"value\": \"Electronic Digital ...\"}, \"Snoogle Chic Total Body Pillow\": {\"frequency\": 43, \"value\": \"Snoogle Chic Total ...\"}, \"Stairway Gate Installation Kit (K12) by KidCo\": {\"frequency\": 35, \"value\": \"Stairway Gate ...\"}, \"Summer Infant Baby Touch Digital Color Video Monitor\": {\"frequency\": 120, \"value\": \"Summer Infant Baby ...\"}, \"Britax Roundabout G4 Convertible Car Seat, Onyx\": {\"frequency\": 15, \"value\": \"Britax Roundabout ...\"}, \"Aden by aden + anais Muslin Sleeping Bag, Oh Boy, Small\": {\"frequency\": 48, \"value\": \"Aden by aden + ...\"}, \"JJ Cole Collections Strap Cover in Pink\": {\"frequency\": 27, \"value\": \"JJ Cole ...\"}, \"Infantino Compact 2-in-1 Shopping Cart Cover\": {\"frequency\": 46, \"value\": \"Infantino Compact ...\"}, \"Fisher-Price Laugh and Learn Jumperoo\": {\"frequency\": 49, \"value\": \"Fisher-Price Laugh ...\"}, \"Carters Easy Fit Jersey Crib Fitted Sheet, Pink\": {\"frequency\": 45, \"value\": \"Carters Easy Fit ...\"}, \"Safety 1st Bath Toy Bag\": {\"frequency\": 47, \"value\": \"Safety 1st Bath ...\"}, \"Goodbyn Bynto Food Container, Red\": {\"frequency\": 20, \"value\": \"Goodbyn Bynto Food ...\"}, \"Regalo My Cot Portable Toddler Bed, Pink\": {\"frequency\": 60, \"value\": \"Regalo My Cot ...\"}, \"NUK Cook-n-Blend Baby Food Maker\": {\"frequency\": 16, \"value\": \"NUK Cook-n-Blend ...\"}, \"Britax Pavilion 70-G3 Convertible Car Seat Seat, Onyx\": {\"frequency\": 24, \"value\": \"Britax Pavilion ...\"}, \"Lamaze Freddie The Firefly Musical Mobile\": {\"frequency\": 17, \"value\": \"Lamaze Freddie The ...\"}, \"Philips AVENT iQ24 Steam Sterilizer\": {\"frequency\": 25, \"value\": \"Philips AVENT iQ24 ...\"}, \"NUK Trendline Silicone Spout Learner Cup, Blue/Orange Dots, 5-Ounce\": {\"frequency\": 17, \"value\": \"NUK Trendline ...\"}, \"Fisher-Price Musical Mobile, Rainforest Peek-a-Boo Leaves\": {\"frequency\": 99, \"value\": \"Fisher-Price ...\"}, \"Playtex Playtex VentAire Advanced Standard Bottle Gift Set\": {\"frequency\": 61, \"value\": \"Playtex Playtex ...\"}, \"Medela Quick Clean Breastpump &amp; Accessory Wipes\": {\"frequency\": 19, \"value\": \"Medela Quick Clean ...\"}, \"BRICA Stay-In-Place Baby Mirror, Black\": {\"frequency\": 23, \"value\": \"BRICA Stay-In- ...\"}, \"Graco Highback Turbo Booster Seat, Megan\": {\"frequency\": 36, \"value\": \"Graco Highback ...\"}, \"Leachco Bath 'N Bumper - Cushioned Bath Tub - Blue Fish\": {\"frequency\": 19, \"value\": \"Leachco Bath 'N ...\"}, \"Britax B-Ready Stroller, Black\": {\"frequency\": 84, \"value\": \"Britax B-Ready ...\"}, \"Waterproof Baby Bibs with Snaps for Girls &amp; Boys, Gift Box 10 Pack, Solid Colors\": {\"frequency\": 63, \"value\": \"Waterproof Baby ...\"}, \"HALO SleepSack Micro-Fleece Wearable Blanket, Soft Pink, Small\": {\"frequency\": 118, \"value\": \"HALO SleepSack ...\"}, \"Baby Einstein Musical Motion Activity Jumper, Blue\": {\"frequency\": 96, \"value\": \"Baby Einstein ...\"}, \"Medela Spare Membranes for Breatpumps 6 Pack\": {\"frequency\": 19, \"value\": \"Medela Spare ...\"}, \"Munchkin Deluxe Bottle Brush, Colors May Vary\": {\"frequency\": 37, \"value\": \"Munchkin Deluxe ...\"}, \"Baby Jogger 2013 City Select Stroller with Second Seat - Onyx\": {\"frequency\": 18, \"value\": \"Baby Jogger 2013 ...\"}, \"Fuzzibunz One Size Diaper White, 7-35 Pounds\": {\"frequency\": 30, \"value\": \"Fuzzibunz One Size ...\"}, \"Bummis Fabulous Wet Diaper Bag, Green, Small\": {\"frequency\": 16, \"value\": \"Bummis Fabulous ...\"}, \"Lamaze Play &amp; Grow Stretch the Giraffe Take Along Toy\": {\"frequency\": 16, \"value\": \"Lamaze Play &amp; ...\"}, \"Lamaze Play &amp; Grow Mortimer the Moose Take Along Toy\": {\"frequency\": 58, \"value\": \"Lamaze Play &amp; ...\"}, \"Hudson Baby Organic Receiving Blanket, Pink\": {\"frequency\": 18, \"value\": \"Hudson Baby ...\"}, \"American Baby Company Jersey Knit Crib Sheet, Lavender\": {\"frequency\": 52, \"value\": \"American Baby ...\"}, \"Munchkin Lulla-Vibe Vibrating Mattress Pad\": {\"frequency\": 35, \"value\": \"Munchkin Lulla- ...\"}, \"My Brest Friend Twins Plus Deluxe Nursing Pillow, Green, 0-12 Months\": {\"frequency\": 18, \"value\": \"My Brest Friend ...\"}, \"JJ Cole Caprice Diaper Bag, Black with Cream Pattern\": {\"frequency\": 19, \"value\": \"JJ Cole Caprice ...\"}, \"OXO Tot  12 Piece Baby Block Set\": {\"frequency\": 16, \"value\": \"OXO Tot  12 Piece ...\"}, \"The First Years Star Teething Blanket\": {\"frequency\": 63, \"value\": \"The First Years ...\"}, \"Munchkin Traveling Flash Cards\": {\"frequency\": 32, \"value\": \"Munchkin Traveling ...\"}, \"Summer Infant Character Change Pad Cover, Butterfly Ladybug\": {\"frequency\": 53, \"value\": \"Summer Infant ...\"}, \"Tiny Love Musical Stack and Ball Game, Orange Elephant\": {\"frequency\": 16, \"value\": \"Tiny Love Musical ...\"}, \"Fisher-Price My Little Lamb Deluxe Infant Seat\": {\"frequency\": 16, \"value\": \"Fisher-Price My ...\"}, \"WubbaNub (tm) DRAGON Pacifier!\": {\"frequency\": 27, \"value\": \"WubbaNub (tm) ...\"}, \"The First Years Breastflow Starter Set\": {\"frequency\": 52, \"value\": \"The First Years ...\"}, \"Baby Smart Cooshie Booster Seat - Blue\": {\"frequency\": 24, \"value\": \"Baby Smart Cooshie ...\"}, \"Pura Stainless Kiki Infant Bottle Stainless Steel, 11 Ounce, Natural\": {\"frequency\": 18, \"value\": \"Pura Stainless ...\"}, \"EZ Squeezees Refillable Food Pouches,sold in pack of 3. 3 pouches each\": {\"frequency\": 18, \"value\": \"EZ Squeezees ...\"}, \"The First Years Disney Pooh Soft Potty Seat\": {\"frequency\": 50, \"value\": \"The First Years ...\"}, \"Diono RadianRXT Convertible Car Seat, Plum\": {\"frequency\": 148, \"value\": \"Diono RadianRXT ...\"}, \"Fisher-Price Potty Training, Froggy\": {\"frequency\": 111, \"value\": \"Fisher-Price Potty ...\"}, \"Fisher-Price Rainforest Deluxe Auto Mirror\": {\"frequency\": 21, \"value\": \"Fisher-Price ...\"}, \"TUPPERWARE Shape O Ball Toy\": {\"frequency\": 29, \"value\": \"TUPPERWARE Shape O ...\"}, \"The Floppy Seat: Deluxe Shopping Cart Seat Cover with EZ Carry Storage Bag!\": {\"frequency\": 21, \"value\": \"The Floppy Seat: ...\"}, \"Sealy Baby Posturepedic Mattress\": {\"frequency\": 20, \"value\": \"Sealy Baby ...\"}, \"CHILL BABY Mustache Pacifier\": {\"frequency\": 31, \"value\": \"CHILL BABY ...\"}, \"Colgate Classica I Foam Crib Mattress, White\": {\"frequency\": 32, \"value\": \"Colgate Classica I ...\"}, \"Spectra Dew 350 Advanced Double Electric Hospital Grade Breast Pump with Tote!\": {\"frequency\": 18, \"value\": \"Spectra Dew 350 ...\"}, \"Medela Pump &amp; Save Breastmilk Bags - 50 pack-5 oz\": {\"frequency\": 61, \"value\": \"Medela Pump &amp; ...\"}, \"mybaby HoMedics SoundSpa On-The-Go\": {\"frequency\": 50, \"value\": \"mybaby HoMedics ...\"}, \"Wimmer-Ferguson Infant Stim-Mobile\": {\"frequency\": 75, \"value\": \"Wimmer-Ferguson ...\"}, \"OsoCozy 6 Pack Prefolds Unbleached Cloth Diapers, Size 1\": {\"frequency\": 65, \"value\": \"OsoCozy 6 Pack ...\"}, \"Smart Mom Teething Bling Donut Shaped Pendant Necklace (Onyx)\": {\"frequency\": 33, \"value\": \"Smart Mom Teething ...\"}, \"Summer Infant Plush Pals Changing Pad Cover, Green/Brown (Monkey)\": {\"frequency\": 48, \"value\": \"Summer Infant ...\"}, \"Lamaze Early Development Toy, Sir Prance A Lot\": {\"frequency\": 25, \"value\": \"Lamaze Early ...\"}, \"Munchkin Star Fountain, Colors May Vary\": {\"frequency\": 22, \"value\": \"Munchkin Star ...\"}, \"Munchkin Scoop Drain and Store Bath Toy Organizer, Blue\": {\"frequency\": 17, \"value\": \"Munchkin Scoop ...\"}, \"Kaboost Portable Chair Booster, Green\": {\"frequency\": 28, \"value\": \"Kaboost Portable ...\"}, \"Contours Options 3 Wheeler Stroller II, Cinnamon\": {\"frequency\": 17, \"value\": \"Contours Options 3 ...\"}, \"JL Childress Crib Mobile Attachment Clamp, White\": {\"frequency\": 21, \"value\": \"JL Childress Crib ...\"}, \"Baby Einstein Count and Compose Piano\": {\"frequency\": 40, \"value\": \"Baby Einstein ...\"}, \"Munchkin Arm &amp; HammerDiaper Bag Refills, 72-Count\": {\"frequency\": 23, \"value\": \"Munchkin Arm &amp; ...\"}, \"Pognae Baby Carrier (Black)\": {\"frequency\": 23, \"value\": \"Pognae Baby ...\"}, \"Proudbody Deluxe Pregnancy Belly Cast Kit\": {\"frequency\": 20, \"value\": \"Proudbody Deluxe ...\"}, \"aden + anais Classic Muslin Sleeping bag, Butterflies, Large\": {\"frequency\": 30, \"value\": \"aden + anais ...\"}, \"BABYBJORN Original Carrier - City Black\": {\"frequency\": 66, \"value\": \"BABYBJORN Original ...\"}, \"Exergen Temporal Artery Thermometer\": {\"frequency\": 30, \"value\": \"Exergen Temporal ...\"}, \"Dr. Brown's Natural Flow Newborn Feeding Set\": {\"frequency\": 28, \"value\": \"Dr. Brown's ...\"}, \"HALO SleepSack 100% Wearable Blanket Applique, Elephant, Small\": {\"frequency\": 19, \"value\": \"HALO SleepSack ...\"}, \"Dream On Me Classic 2 in 1 Convertible Stationary Side Crib, Cherry\": {\"frequency\": 37, \"value\": \"Dream On Me ...\"}, \"Evenflo Aura Select Travel System - Caroline\": {\"frequency\": 17, \"value\": \"Evenflo Aura ...\"}, \"Graco Ready2Grow Classic Connect LX Stroller, Metropolis\": {\"frequency\": 33, \"value\": \"Graco Ready2Grow ...\"}, \"My Brest Friend Inflatable Travel Nursing Pillow in Green Paisley\": {\"frequency\": 20, \"value\": \"My Brest Friend ...\"}, \"Philips AVENT BPA Free Classic Polypropylene Bottle, Opaque, 4 Ounce, 2 Pack\": {\"frequency\": 63, \"value\": \"Philips AVENT BPA ...\"}, \"Britax Frontier 85 Combination Booster Car Seat, Red Rock\": {\"frequency\": 190, \"value\": \"Britax Frontier 85 ...\"}, \"GRACO Backless TurboBooster Car Seat, Groovy\": {\"frequency\": 20, \"value\": \"GRACO Backless ...\"}, \"Summer Infant  Multi Use Extra Tall Walk-Thru Gate, White\": {\"frequency\": 65, \"value\": \"Summer Infant ...\"}, \"Lambs &amp; Ivy Nap Mat, Pink Monkey\": {\"frequency\": 37, \"value\": \"Lambs &amp; Ivy ...\"}, \"Kalencom 2-in-1 Potette Plus Red\": {\"frequency\": 157, \"value\": \"Kalencom 2-in-1 ...\"}, \"Munchkin Five Multi Cups\": {\"frequency\": 40, \"value\": \"Munchkin Five ...\"}, \"Munchkin Nursery Projector and Sound System, White\": {\"frequency\": 216, \"value\": \"Munchkin Nursery ...\"}, \"Nuby 2-Pack 10 oz No-Spill Cup with Flexi Straw, Colors May Vary\": {\"frequency\": 25, \"value\": \"Nuby 2-Pack 10 oz ...\"}, \"Graco Tot Wheels V Mobile Entertainer Center\": {\"frequency\": 27, \"value\": \"Graco Tot Wheels V ...\"}, \"Graco Shelby Classic 4 in 1 Convertible Crib, Cappuccino\": {\"frequency\": 26, \"value\": \"Graco Shelby ...\"}, \"Fisher-Price Ipad Apptivity Seat, Newborn-to-Toddler\": {\"frequency\": 36, \"value\": \"Fisher-Price Ipad ...\"}, \"BooginHead PaciGrip Pacifier Holder, Peach Delight\": {\"frequency\": 18, \"value\": \"BooginHead ...\"}, \"babyletto Hudson 3 in 1 Convertible Crib with Toddler Rail, Espresso/White\": {\"frequency\": 22, \"value\": \"babyletto Hudson 3 ...\"}, \"Munchkin Wood and Steel Designer Gate, Dark Wood/Silver\": {\"frequency\": 34, \"value\": \"Munchkin Wood and ...\"}, \"Medela Tender Care(TM) Hydrogel Pads\": {\"frequency\": 16, \"value\": \"Medela Tender ...\"}, \"Motorola MBP33 Wireless Video Baby Monitor with Infrared Night Vision and Zoom, 2.8 Inch\": {\"frequency\": 128, \"value\": \"Motorola MBP33 ...\"}, \"Sealy Sweet Pea 2-in-1 Maternity and Nursing Pillow, Cappuccino\": {\"frequency\": 22, \"value\": \"Sealy Sweet Pea ...\"}, \"Jeep Universal Stroller Hook, 2 Pack\": {\"frequency\": 23, \"value\": \"Jeep Universal ...\"}, \"Capri Stroller - Red Tech\": {\"frequency\": 16, \"value\": \"Capri Stroller - ...\"}, \"Imse Vimse Flushable Liner - 200 count (Baby)\": {\"frequency\": 25, \"value\": \"Imse Vimse ...\"}, \"Summer Infant 3-Stage Super Seat\": {\"frequency\": 16, \"value\": \"Summer Infant ...\"}, \"Britax Parkway SG-2 Booster Car Seat, Pewter Dots\": {\"frequency\": 38, \"value\": \"Britax Parkway ...\"}, \"Graco Victoria Non Drop Side 5 In 1 Convertible Crib, White\": {\"frequency\": 21, \"value\": \"Graco Victoria Non ...\"}, \"Luvable Friends 12 Pack Washcloths, Blue\": {\"frequency\": 22, \"value\": \"Luvable Friends 12 ...\"}, \"Dream On Me 2 in 1 Portable Folding Stationary Side Crib, Cherry\": {\"frequency\": 19, \"value\": \"Dream On Me 2 in 1 ...\"}, \"Baby Merlin's Magic Sleepsuit 3-6 months - Blue Small\": {\"frequency\": 90, \"value\": \"Baby Merlin's ...\"}, \"Philips AVENT Translucent Orthodontic Infant Pacifier, Clear, 0-6 Months\": {\"frequency\": 20, \"value\": \"Philips AVENT ...\"}, \"Baby Shower Cap, Shampoo Visor, Bath Visor\": {\"frequency\": 16, \"value\": \"Baby Shower Cap, ...\"}, \"Joovy Caboose Ultralight Stand On Tandem Stroller, Black\": {\"frequency\": 42, \"value\": \"Joovy Caboose ...\"}, \"Leachco Cuddle-U Nursing Pillow And More\": {\"frequency\": 61, \"value\": \"Leachco Cuddle-U ...\"}, \"Evenflo Position and Lock Wood Gate, Tan\": {\"frequency\": 15, \"value\": \"Evenflo Position ...\"}, \"Boon Snack Ball - Snack Container in Orange/Blue\": {\"frequency\": 16, \"value\": \"Boon Snack Ball - ...\"}, \"Keekaroo Height Right High Chair, Infant Insert and Tray Combo, Natural/Cherry\": {\"frequency\": 30, \"value\": \"Keekaroo Height ...\"}, \"Spasilk 10 pack Soft Terry Washcloth, Blue\": {\"frequency\": 45, \"value\": \"Spasilk 10 pack ...\"}, \"Britax 2013 B-Agile Stroller, Granite\": {\"frequency\": 27, \"value\": \"Britax 2013 ...\"}, \"PottyCover - Disposable toilet seat covers. (6 individually packaged seat covers in each bag.)\": {\"frequency\": 53, \"value\": \"PottyCover - ...\"}, \"SoftShells Breast Shell Soothers - Sore Nipples\": {\"frequency\": 20, \"value\": \"SoftShells Breast ...\"}, \"Kushies 6 Pack Wash Cloth Set, White\": {\"frequency\": 16, \"value\": \"Kushies 6 Pack ...\"}, \"Ciao! Baby Portable Travel High Chair, Black\": {\"frequency\": 44, \"value\": \"Ciao! Baby ...\"}, \"Razbaby RaZ-berry Teether, Red\": {\"frequency\": 129, \"value\": \"Razbaby RaZ-berry ...\"}, \"The First Years Hands Free Gate Extension\": {\"frequency\": 23, \"value\": \"The First Years ...\"}, \"Medela Breastmilk Collection and Storage Bottles 8oz (250ml) - 2 Each\": {\"frequency\": 30, \"value\": \"Medela Breastmilk ...\"}, \"BABYBJORN Cover for Baby Carrier - City Black\": {\"frequency\": 25, \"value\": \"BABYBJORN Cover ...\"}, \"Comotomo Natural Feel Baby Bottle Single Pack, Pink, 8 Ounces\": {\"frequency\": 68, \"value\": \"Comotomo Natural ...\"}, \"Woombie Convertible Baby Swaddler (Big Baby 14-19 lbs, Little Monster)\": {\"frequency\": 25, \"value\": \"Woombie ...\"}, \"Sunshine Systems LEDGP14 GlowPanel 14 Watt LED Grow Light\": {\"frequency\": 18, \"value\": \"Sunshine Systems ...\"}, \"DaVinci Jayden 4 in 1 Crib with Toddler Rail, Ebony\": {\"frequency\": 16, \"value\": \"DaVinci Jayden 4 ...\"}, \"North States Superyard Play Yard, Grey, 6 Panel\": {\"frequency\": 259, \"value\": \"North States ...\"}, \"Tadpoles 36 Sq Ft ABC Floor Mat, Pink/Brown\": {\"frequency\": 31, \"value\": \"Tadpoles 36 Sq Ft ...\"}, \"Safety 1st Sleepy Baby Nail Clipper\": {\"frequency\": 34, \"value\": \"Safety 1st Sleepy ...\"}, \"Fisher-Price Booster Seat, Blue/Green/Gray\": {\"frequency\": 473, \"value\": \"Fisher-Price ...\"}, \"Bumkins Reusable Sandwich and Snack Bag, Bright Blue, Large\": {\"frequency\": 53, \"value\": \"Bumkins Reusable ...\"}, \"Sassy Bathtime Pals Squirt and Float Toys\": {\"frequency\": 83, \"value\": \"Sassy Bathtime ...\"}, \"Little Green Pouch - Reusable Food Pouch - 4pk\": {\"frequency\": 121, \"value\": \"Little Green Pouch ...\"}, \"Stork Craft Tuscany 4 in 1 Fixed Side Convertible Crib, White\": {\"frequency\": 74, \"value\": \"Stork Craft ...\"}, \"Elegant Baby Plush Microfiber Blankie - Pastel Blue\": {\"frequency\": 28, \"value\": \"Elegant Baby Plush ...\"}, \"Evenflo Big Kid High Back SI Car Seat Booster, Alexa\": {\"frequency\": 35, \"value\": \"Evenflo Big Kid ...\"}, \"Summer Infant Snuzzler, Ivory\": {\"frequency\": 109, \"value\": \"Summer Infant ...\"}, \"UPPAbaby Stroller Parent Organizer, Black\": {\"frequency\": 16, \"value\": \"UPPAbaby Stroller ...\"}, \"Munchkin Travel Bottle Warmer, Gray\": {\"frequency\": 25, \"value\": \"Munchkin Travel ...\"}, \"Boppy Infant and Toddler Head Support, Grey\": {\"frequency\": 28, \"value\": \"Boppy Infant and ...\"}, \"Heininger  1027 CommuteMate Seat Belt Strap Adjuster\": {\"frequency\": 28, \"value\": \"Heininger  1027 ...\"}, \"Lamaze Classic Discovery Book\": {\"frequency\": 18, \"value\": \"Lamaze Classic ...\"}, \"Baby Jogger City Mini GT Single Stroller, Shadow/Orange\": {\"frequency\": 46, \"value\": \"Baby Jogger City ...\"}, \"Chicco KeyFit 30 Infant Car Seat, Midori\": {\"frequency\": 109, \"value\": \"Chicco KeyFit 30 ...\"}, \"Leachco Podster Sling-Style Infant Seat Lounger, Sage Pin Dot\": {\"frequency\": 46, \"value\": \"Leachco Podster ...\"}, \"Fisher-Price Sensory Selections Bouncer\": {\"frequency\": 17, \"value\": \"Fisher-Price ...\"}, \"Stork Craft Hoop Glider and Ottoman, White/Beige\": {\"frequency\": 59, \"value\": \"Stork Craft Hoop ...\"}, \"Mommy's Helper Toilet Seat Lid-Lok\": {\"frequency\": 86, \"value\": \"Mommy's Helper ...\"}, \"Fisher-Price Baby Papasan\": {\"frequency\": 59, \"value\": \"Fisher-Price Baby ...\"}, \"Dreambaby Pressure Mount Hallway Gate with Extensions, Black\": {\"frequency\": 30, \"value\": \"Dreambaby Pressure ...\"}, \"Summer Infant Day and Night Handheld Color Video Monitor with 1.8&quot; Screen - Silver\": {\"frequency\": 106, \"value\": \"Summer Infant Day ...\"}, \"Bumbo Step Stool, Pink\": {\"frequency\": 25, \"value\": \"Bumbo Step Stool, ...\"}, \"Prince Lionheart washPOD Bathe, Blue\": {\"frequency\": 19, \"value\": \"Prince Lionheart ...\"}, \"Nuby No Spill Flip-it Cup, 12 Ounce, Colors May Vary\": {\"frequency\": 30, \"value\": \"Nuby No Spill ...\"}, \"Northstate Superyard Playgate Light Gray\": {\"frequency\": 52, \"value\": \"Northstate ...\"}, \"Stork Craft Beatrice Combo Tower Chest, White\": {\"frequency\": 29, \"value\": \"Stork Craft ...\"}, \"Kolcraft Cozy Soft Portable Crib Mattress, Lily\": {\"frequency\": 35, \"value\": \"Kolcraft Cozy Soft ...\"}, \"Regalo Easy Open 50 Inch Super Wide Walk Thru Gate - White\": {\"frequency\": 201, \"value\": \"Regalo Easy Open ...\"}, \"KidCo Safeway Safety Gate, White\": {\"frequency\": 24, \"value\": \"KidCo Safeway ...\"}, \"The First Years American Red Cross Deluxe Nail Clipper with Magnifier\": {\"frequency\": 32, \"value\": \"The First Years ...\"}, \"Infantino Twist and Fold Activity Gym, Vintage Boy\": {\"frequency\": 75, \"value\": \"Infantino Twist ...\"}, \"Infant Optics DXR-8 Pan/Tilt/Zoom 3.5&quot; Video Baby Monitor With Interchangeable Optical Lens\": {\"frequency\": 39, \"value\": \"Infant Optics ...\"}, \"Fisher-Price Aquarium Take-Along Swing\": {\"frequency\": 32, \"value\": \"Fisher-Price ...\"}, \"Manhattan Toy Snuggle Pod, Peanut\": {\"frequency\": 49, \"value\": \"Manhattan Toy ...\"}, \"Dr. Brown's Bottle Warmer\": {\"frequency\": 102, \"value\": \"Dr. Brown's Bottle ...\"}, \"Cool Gear Travel Potty\": {\"frequency\": 20, \"value\": \"Cool Gear Travel ...\"}, \"Baby Buddy: Baby's 1st Toothbrush\": {\"frequency\": 75, \"value\": \"Baby Buddy: Baby's ...\"}, \"Philips AVENT BPA Free Natural Medium Flow Nipples, 2-Pack\": {\"frequency\": 18, \"value\": \"Philips AVENT BPA ...\"}, \"Safety 1st Clear View Stove Knob Covers 5-Pack\": {\"frequency\": 68, \"value\": \"Safety 1st Clear ...\"}, \"Badger Basket Moses Basket, Pink Gingham\": {\"frequency\": 15, \"value\": \"Badger Basket ...\"}, \"Regalo My Cot Portable Bed, Royal Blue\": {\"frequency\": 194, \"value\": \"Regalo My Cot ...\"}, \"Playtex 3 Pack BPA Free VentAire Wide Bottles, 9 Ounce (Colors may vary)\": {\"frequency\": 69, \"value\": \"Playtex 3 Pack BPA ...\"}, \"Skip Hop Duo Deluxe, Black\": {\"frequency\": 95, \"value\": \"Skip Hop Duo ...\"}, \"Obersee Kid's All-in-One Pre-School Backpacks with Integrated Cooler, Rhinestone Angel Wings\": {\"frequency\": 33, \"value\": \"Obersee Kid's All- ...\"}, \"Dolly Come Ride with Me Seat\": {\"frequency\": 17, \"value\": \"Dolly Come Ride ...\"}, \"Ergobaby Performance Collection Charcoal Grey Carrier\": {\"frequency\": 19, \"value\": \"Ergobaby ...\"}, \"Sesame Street Inflatable Bathtub, Blue/White\": {\"frequency\": 18, \"value\": \"Sesame Street ...\"}, \"Baby Einstein Rattle and Teethe, Caterpillar, Colors May Vary\": {\"frequency\": 18, \"value\": \"Baby Einstein ...\"}, \"Skip Hop Tubby Bath Toy Organizer, Orange\": {\"frequency\": 32, \"value\": \"Skip Hop Tubby ...\"}, \"Frenchie Mini Couture Tuxedo Bib with 3D Applique, Black\": {\"frequency\": 19, \"value\": \"Frenchie Mini ...\"}, \"Safety 1st Hospital's Choice Accu Scan Ear Thermometer\": {\"frequency\": 16, \"value\": \"Safety 1st ...\"}, \"Primo Ducka Toilet Set Reducer (White)\": {\"frequency\": 23, \"value\": \"Primo Ducka Toilet ...\"}, \"myBaby SoundSpa Portable\": {\"frequency\": 37, \"value\": \"myBaby SoundSpa ...\"}, \"Bumbo Seat Play Tray, Ivory\": {\"frequency\": 35, \"value\": \"Bumbo Seat Play ...\"}, \"Philips AVENT 8 Ounce Natural Glass Bottle, 1-Pack\": {\"frequency\": 22, \"value\": \"Philips AVENT 8 ...\"}, \"Prince Lionheart Jumbo Toy Hammock\": {\"frequency\": 205, \"value\": \"Prince Lionheart ...\"}, \"Boon Water Bugs Floating Bath Toys with Net,Orange\": {\"frequency\": 46, \"value\": \"Boon Water Bugs ...\"}, \"DaVinci Parker 4 in 1 Crib with Toddler Rail, Pure White\": {\"frequency\": 35, \"value\": \"DaVinci Parker 4 ...\"}, \"Lamaze Symphony Motion Gym, Space\": {\"frequency\": 23, \"value\": \"Lamaze Symphony ...\"}, \"Graco SnugRider Infant Car Seat Stroller Frame\": {\"frequency\": 80, \"value\": \"Graco SnugRider ...\"}, \"Born Free 5 oz. BPA-Free High-Heat Resistant Classic Bottle with ActiveFlow Venting Technology, 3-Pack\": {\"frequency\": 20, \"value\": \"Born Free 5 oz. ...\"}, \"Summer Infant Tiny Diner, Pink\": {\"frequency\": 40, \"value\": \"Summer Infant Tiny ...\"}, \"OXO Tot Mini Dust Pan And Brush Set, Orange\": {\"frequency\": 16, \"value\": \"OXO Tot Mini Dust ...\"}, \"Dr. Brown's 8 oz. Natural Flow Wide Neck Bottle, 3 Pack\": {\"frequency\": 36, \"value\": \"Dr. Brown's 8 oz. ...\"}, \"Playtex Insulator/Playtime Cup, 9 Ounce, 2 Pack, Colors May Vary\": {\"frequency\": 36, \"value\": \"Playtex ...\"}, \"Bumkins Junior Bib, Blue Fizz\": {\"frequency\": 47, \"value\": \"Bumkins Junior ...\"}, \"Tiny Love Symphony-in-Motion Remote Mobile\": {\"frequency\": 29, \"value\": \"Tiny Love ...\"}, \"Dex Products Universal Safe Sleeper Bed Rail\": {\"frequency\": 26, \"value\": \"Dex Products ...\"}, \"Angelcare Bath Support, Blue\": {\"frequency\": 18, \"value\": \"Angelcare Bath ...\"}, \"Door Monkey, Childproof Door Lock &amp; Pinch Guard\": {\"frequency\": 133, \"value\": \"Door Monkey, ...\"}, \"Born Free Twin Pack Wide Neck Bottles, 5 Ounce\": {\"frequency\": 50, \"value\": \"Born Free Twin ...\"}, \"Boppy Water Resistant Protective Cover\": {\"frequency\": 17, \"value\": \"Boppy Water ...\"}, \"Boppy Prenatal Total Body Pillow\": {\"frequency\": 59, \"value\": \"Boppy Prenatal ...\"}, \"Dr. Brown's Natural Flow Standard Storage Travel Caps Replacement, 3 Pack\": {\"frequency\": 38, \"value\": \"Dr. Brown's ...\"}, \"Boppy Newborn Lounger, Geo\": {\"frequency\": 44, \"value\": \"Boppy Newborn ...\"}, \"Summer Cushystraps Super Soft Strap Covers, Pink Bunnies\": {\"frequency\": 16, \"value\": \"Summer Cushystraps ...\"}, \"JJ Cole Collections System Diaper Bag, Black Damask\": {\"frequency\": 23, \"value\": \"JJ Cole ...\"}, \"Baby Nasal Aspirator Vacuum Suction Pigeon (Made in Japan)\": {\"frequency\": 19, \"value\": \"Baby Nasal ...\"}, \"Starting Small Monkey Novelty Hamper in Brown,  18 x 11 x 24\": {\"frequency\": 54, \"value\": \"Starting Small ...\"}, \"Baby Aspen Sweet Tee Three Piece Golf Layette Set in Golf Cart Packaging\": {\"frequency\": 24, \"value\": \"Baby Aspen Sweet ...\"}, \"Lotus Travel Crib and Portable Baby Playard\": {\"frequency\": 42, \"value\": \"Lotus Travel Crib ...\"}, \"Baby Einstein Baby Neptune Activity Center\": {\"frequency\": 45, \"value\": \"Baby Einstein Baby ...\"}, \"Munchkin Click Lock Re-usable Sippy Cups, 10 Ounce, 8-Count\": {\"frequency\": 20, \"value\": \"Munchkin Click ...\"}, \"Summer Infant Metal Expansion Gate, 6 Foot Wide Extra Tall Walk-Thru\": {\"frequency\": 18, \"value\": \"Summer Infant ...\"}, \"Safety 1st Outlet Cover with Cord Shortener\": {\"frequency\": 18, \"value\": \"Safety 1st Outlet ...\"}, \"Thermos FOOGO Phases Straw Bottle, Blue/Yellow, 11 Ounce\": {\"frequency\": 57, \"value\": \"Thermos FOOGO ...\"}, \"Graco SnugRide Classic Connect 30/35 Infant Car Seat Base, Silver\": {\"frequency\": 23, \"value\": \"Graco SnugRide ...\"}, \"Graco Pack 'N Play with Newborn Napper Elite, Vance\": {\"frequency\": 22, \"value\": \"Graco Pack 'N Play ...\"}, \"Munchkin Click Lock 2 Count Sippy Cup, 9 ounce\": {\"frequency\": 32, \"value\": \"Munchkin Click ...\"}, \"North States Supergate Classic Plastic Gate Mounts 5 Different Ways\": {\"frequency\": 51, \"value\": \"North States ...\"}, \"Medela 5 oz Breastmilk Bottle Set (3 Bottles)\": {\"frequency\": 55, \"value\": \"Medela 5 oz ...\"}, \"Dr. Brown's 3-pack 8-ounce Standard Bottles\": {\"frequency\": 44, \"value\": \"Dr. Brown's 3-pack ...\"}, \"VTech Communications Safe &amp; Sounds Full Color Video and Audio Monitor\": {\"frequency\": 50, \"value\": \"VTech ...\"}, \"Bright Starts Bounce-A-Bout Activity Center, Neutral\": {\"frequency\": 17, \"value\": \"Bright Starts ...\"}, \"Safety 1st Safe-Glow Nursery Monitor 2 Receiver Set\": {\"frequency\": 54, \"value\": \"Safety 1st Safe- ...\"}, \"The First Years Take &amp; Toss Straw Cups, 10 Ounce, 4 Pack\": {\"frequency\": 30, \"value\": \"The First Years ...\"}, \"Vulli So'Pure Teether, Sophie the Giraffe\": {\"frequency\": 40, \"value\": \"Vulli So'Pure ...\"}, \"Philips Avent Double Electric Comfort Breast Pump\": {\"frequency\": 26, \"value\": \"Philips Avent ...\"}, \"BabyMoon Pod - For Head Support &amp; Neck Support (Blue)\": {\"frequency\": 28, \"value\": \"BabyMoon Pod - For ...\"}, \"Fisher-Price Step &amp; Play Piano\": {\"frequency\": 29, \"value\": \"Fisher-Price Step ...\"}, \"Ju-Ju-Be Be Quick Wristlet Bag, Black and Silver\": {\"frequency\": 23, \"value\": \"Ju-Ju-Be Be Quick ...\"}, \"BOB Revolution SE Duallie Stroller, Navy\": {\"frequency\": 36, \"value\": \"BOB Revolution SE ...\"}, \"bumGenius One-Size Hook &amp; Loop Closure Cloth Diaper 4.0 - Blossom\": {\"frequency\": 16, \"value\": \"bumGenius One-Size ...\"}, \"Elegant Baby 6 Piece Bath Squirties Gift Set in Vinyl Zip Bag, City\": {\"frequency\": 18, \"value\": \"Elegant Baby 6 ...\"}, \"Baby Einstein Caterpillar and Friends Play Gym\": {\"frequency\": 24, \"value\": \"Baby Einstein ...\"}, \"Diono RadianR120 Convertible Car Seat, Storm\": {\"frequency\": 19, \"value\": \"Diono RadianR120 ...\"}, \"Goldbug Animal 2 in 1 Harness, Cow\": {\"frequency\": 21, \"value\": \"Goldbug Animal 2 ...\"}, \"SugarBooger Vroom Jumbo Splat Mat\": {\"frequency\": 25, \"value\": \"SugarBooger Vroom ...\"}, \"Playtex DisneyInsulator Spout Cup, Finding Nemo, 9 Ounce, 2-Count\": {\"frequency\": 16, \"value\": \"Playtex ...\"}, \"NUK Fill &amp; Freeze Pops\": {\"frequency\": 18, \"value\": \"NUK Fill &amp; ...\"}, \"Lansinoh Manual Breast Pump\": {\"frequency\": 53, \"value\": \"Lansinoh Manual ...\"}, \"Boppy Bare Naked Pillow\": {\"frequency\": 40, \"value\": \"Boppy Bare Naked ...\"}, \"Safety 1st Lock Release Fridge Latch\": {\"frequency\": 19, \"value\": \"Safety 1st Lock ...\"}, \"American Baby Company Heavenly Soft Chenille Fitted Contoured Changing Pad Cover,Ecru\": {\"frequency\": 22, \"value\": \"American Baby ...\"}, \"Prince Lionheart Flexibath Foldable Bathtub, White\": {\"frequency\": 41, \"value\": \"Prince Lionheart ...\"}, \"Fisher-Price Zen Collection Cradle Swing\": {\"frequency\": 64, \"value\": \"Fisher-Price Zen ...\"}, \"Sticky Bellies -Sticky Bellies Monthly Milestone Stickers - Oh Sew Ready : Maternity : 12-40 Weeks\": {\"frequency\": 32, \"value\": \"Sticky Bellies ...\"}, \"The First Years Simple &amp; Secure Stair Gate\": {\"frequency\": 23, \"value\": \"The First Years ...\"}, \"Pigeon Nail Scissor (New Born Baby) Made in Japan\": {\"frequency\": 19, \"value\": \"Pigeon Nail ...\"}, \"Jolly Jumper Stroller Caddy - Stroller Handlebar Organizer\": {\"frequency\": 44, \"value\": \"Jolly Jumper ...\"}, \"Recaro Vivo High Back Booster Car Seat, Midnight Desert Micofiber\": {\"frequency\": 22, \"value\": \"Recaro Vivo High ...\"}, \"Baby B'Air Toddler Flight Vest - Red\": {\"frequency\": 16, \"value\": \"Baby B'Air Toddler ...\"}, \"Eddie Bauer Infant Car Seat tan\": {\"frequency\": 16, \"value\": \"Eddie Bauer Infant ...\"}, \"Thinkbaby Thinkster Straw Bottle, 9 Ounce, Natural/Orange\": {\"frequency\": 17, \"value\": \"Thinkbaby ...\"}, \"Satsuma Designs Organic Wash Cloths and Wipes 5 Pack, White\": {\"frequency\": 20, \"value\": \"Satsuma Designs ...\"}, \"BABYBJORN Travel Crib Light , Blue\": {\"frequency\": 41, \"value\": \"BABYBJORN Travel ...\"}, \"Safety 1st Prograde Finger Pinch Preventer (Pack of 2)\": {\"frequency\": 24, \"value\": \"Safety 1st ...\"}, \"Bumkins Waterproof Sleeved Bib - On-The-Go\": {\"frequency\": 80, \"value\": \"Bumkins Waterproof ...\"}, \"Wubbanub Infant Plush Toy Pacifier - Monkey\": {\"frequency\": 78, \"value\": \"Wubbanub Infant ...\"}, \"Evenflo Soft And Wide Gate Taupe &amp; Chocolate\": {\"frequency\": 40, \"value\": \"Evenflo Soft And ...\"}, \"Sassy Look Photo Book\": {\"frequency\": 23, \"value\": \"Sassy Look Photo ...\"}, \"OsoCozy 6 Pack Birdseye Flat Unbleached Diapers\": {\"frequency\": 17, \"value\": \"OsoCozy 6 Pack ...\"}, \"Ulubulu Universal Pacifier Clip, Oliver Owl\": {\"frequency\": 32, \"value\": \"Ulubulu Universal ...\"}, \"JL Childress Gate Check Bag for Umbrella Strollers, Red\": {\"frequency\": 35, \"value\": \"JL Childress Gate ...\"}, \"Gerber Training Pants 3 Pack, Blue/White, 2T\": {\"frequency\": 23, \"value\": \"Gerber Training ...\"}, \"Redmon Fun and Fitness Exercise Equipment for Kids - Tread Mill\": {\"frequency\": 19, \"value\": \"Redmon Fun and ...\"}, \"Boon Glo Nightlight with Portable Balls,White\": {\"frequency\": 28, \"value\": \"Boon Glo ...\"}, \"Bright Starts Walk-A-Bout Walker, Cute Frog\": {\"frequency\": 48, \"value\": \"Bright Starts ...\"}, \"OXO Tot Roll Up Bib, Aqua\": {\"frequency\": 34, \"value\": \"OXO Tot Roll Up ...\"}, \"Neat Solutions Dora the Explorer Potty Topper Disposable Stick-in-Place Toilet Seat Covers, 10-Count\": {\"frequency\": 21, \"value\": \"Neat Solutions ...\"}, \"B.box Essential Sippy Cup in Blue - 6 Oz\": {\"frequency\": 26, \"value\": \"B.box Essential ...\"}, \"Ameda 4 Pack Breast Milk Storage Bottles, 4 Ounce\": {\"frequency\": 18, \"value\": \"Ameda 4 Pack ...\"}, \"BABYBJORN Little Potty - Red\": {\"frequency\": 39, \"value\": \"BABYBJORN Little ...\"}, \"RayShade&reg; UV Protective Stroller Shade Improves Sun Protection for Strollers, Joggers and Prams Black\": {\"frequency\": 41, \"value\": \"RayShade&reg; UV ...\"}, \"Summer Infant Ultimate Crib Sheet, 52&quot; x 28&quot;\": {\"frequency\": 56, \"value\": \"Summer Infant ...\"}, \"COZY BABY NASAL ASPIRATOR - This Snot Sucker Cleans Away Baby's Blocked Nose FAST - Its The Best Nasal Suction Tool On The Market To Relieve Blocked Nasal Congestion Quick - No Filters - Washable And Reusable - Great Baby Shower Gift - 100% Money Back Guarantee.\": {\"frequency\": 21, \"value\": \"COZY BABY NASAL ...\"}, \"Baby Ddrops&reg; 400 IU 90 drops\": {\"frequency\": 56, \"value\": \"Baby Ddrops&reg; ...\"}, \"Boppy Newborn Lounger\": {\"frequency\": 16, \"value\": \"Boppy Newborn ...\"}, \"Pigeon Baby Nose Cleaning Tweezers Pigeon (Made in Japan)\": {\"frequency\": 21, \"value\": \"Pigeon Baby Nose ...\"}, \"Baby Banana Bendable Training Toothbrush, Toddler\": {\"frequency\": 28, \"value\": \"Baby Banana ...\"}, \"Serta Perfect Start Crib Mattress, White\": {\"frequency\": 12, \"value\": \"Serta Perfect ...\"}, \"RECARO Performance RIDE Convertible Car Seats, Vibe\": {\"frequency\": 35, \"value\": \"RECARO Performance ...\"}, \"Fantasy Furniture Roundy Rocking Chair Gingham, Pink\": {\"frequency\": 18, \"value\": \"Fantasy Furniture ...\"}, \"JJ Cole Urban Bundleme, Ice, Infant\": {\"frequency\": 84, \"value\": \"JJ Cole Urban ...\"}, \"Bumkins Waterproof Zippered Wet Bag, Blue Cat\": {\"frequency\": 33, \"value\": \"Bumkins Waterproof ...\"}, \"Britax Chaperone Infant Car Seat, Black\": {\"frequency\": 28, \"value\": \"Britax Chaperone ...\"}, \"Disney Jake and the Neverland Pirates 4 Piece Toddler Bedding Set\": {\"frequency\": 17, \"value\": \"Disney Jake and ...\"}, \"(1) Cresci Products Window Wedge (2 Per Pack) WHITE color\": {\"frequency\": 26, \"value\": \"(1) Cresci ...\"}, \"ERGObaby Organic Baby Carrier, Dark Chocolate\": {\"frequency\": 16, \"value\": \"ERGObaby Organic ...\"}, \"[Award winning] Kidsme Food Feeder (Small size),  Blue/Yellow\": {\"frequency\": 36, \"value\": \"[Award winning] ...\"}, \"OXO Tot On-the-Go Wipes Dispenser, Pink\": {\"frequency\": 48, \"value\": \"OXO Tot On-the-Go ...\"}, \"Britax Frontier 85 SICT Booster Seat, Cardinal\": {\"frequency\": 48, \"value\": \"Britax Frontier 85 ...\"}, \"Burlington Baby Wicker Hamper, White\": {\"frequency\": 22, \"value\": \"Burlington Baby ...\"}, \"Dreambaby Stroller Fan, White/Blue\": {\"frequency\": 88, \"value\": \"Dreambaby Stroller ...\"}, \"Multi-Purpose Reversible (Bright Colors or Neutral Charcoal) Foam Floor Mats (BIG Tiles 25&quot; x 25&quot; x .53&quot;!!!), Anti-fatigue Mat, for Business, Home, Basement, Workshop, Kitchen, Children's Rooms (Child Safe), Pool Area, Gym and Exercise, Gardens, Garage, Laundry Rooms, Etc.\": {\"frequency\": 19, \"value\": \"Multi-Purpose ...\"}, \"Tadpoles Triple Layer Tulle Crib Skirt in White\": {\"frequency\": 16, \"value\": \"Tadpoles Triple ...\"}, \"Kids Preferred The World of Eric Carle The Very Hungry Caterpillar Toy, Wood Pull\": {\"frequency\": 16, \"value\": \"Kids Preferred The ...\"}, \"The First Years On-The-Go Booster Seat, Safari\": {\"frequency\": 18, \"value\": \"The First Years ...\"}, \"HALO Early Walker SleepSack Micro Fleece Wearable Blanket, Blue, Large\": {\"frequency\": 17, \"value\": \"HALO Early Walker ...\"}, \"Britax Vehicle Seat Protector\": {\"frequency\": 33, \"value\": \"Britax Vehicle ...\"}, \"Neat Solutions Baby Einstein Biodegradable Table Topper Disposable Stick-on Placemat , 30-Count\": {\"frequency\": 25, \"value\": \"Neat Solutions ...\"}, \"Safety 1st Alpha Omega Elite Convertible Car Seat, Seaside Bay\": {\"frequency\": 21, \"value\": \"Safety 1st Alpha ...\"}, \"Pearhead Babyprints Desk Frame, Mahogany\": {\"frequency\": 23, \"value\": \"Pearhead ...\"}, \"Munchkin Two Snack Catchers, Colors May Vary\": {\"frequency\": 102, \"value\": \"Munchkin Two Snack ...\"}, \"Fisher-Price Zen Collection Gliding Bassinet\": {\"frequency\": 16, \"value\": \"Fisher-Price Zen ...\"}, \"Jolly Jumper with Stand\": {\"frequency\": 24, \"value\": \"Jolly Jumper with ...\"}, \"Dream On Me 3&quot; Playard Mattress, White\": {\"frequency\": 104, \"value\": \"Dream On Me ...\"}, \"Tenergy T-1199BE Universal NiMH Battery Charger\": {\"frequency\": 26, \"value\": \"Tenergy T-1199BE ...\"}, \"MAM BPA Free 5 oz Bottle for Boy, 3-Pack ((Patterns and motifs may vary)\": {\"frequency\": 31, \"value\": \"MAM BPA Free 5 oz ...\"}, \"Evenflo Tribute Sport Convertible Car Seat, Daisy Doodle\": {\"frequency\": 28, \"value\": \"Evenflo Tribute ...\"}, \"Dr. Brown's Bottle Brush\": {\"frequency\": 42, \"value\": \"Dr. Brown's Bottle ...\"}, \"Dr. Brown's Double Electric Breast Pump\": {\"frequency\": 22, \"value\": \"Dr. Brown's Double ...\"}, \"Cloud b Gentle Giraffe On The Go Travel Sound Machine with Four Soothing Sounds\": {\"frequency\": 34, \"value\": \"Cloud b Gentle ...\"}, \"Munchkin Powdered Formula Dispenser Combo Pack, Colors May Vary\": {\"frequency\": 64, \"value\": \"Munchkin Powdered ...\"}, \"Evenflo Soft N Wide Gate\": {\"frequency\": 27, \"value\": \"Evenflo Soft N ...\"}, \"Sunshine Kids Easy View Back Seat Mirror\": {\"frequency\": 45, \"value\": \"Sunshine Kids Easy ...\"}, \"Infantino Plenty Feature Packed Cart &amp; Highchair Cover Mosaic Stripe\": {\"frequency\": 23, \"value\": \"Infantino Plenty ...\"}, \"Sassy Soft Sided Toy Organizer\": {\"frequency\": 23, \"value\": \"Sassy Soft Sided ...\"}, \"Stokke Tripp Trapp Highchair, Red\": {\"frequency\": 59, \"value\": \"Stokke Tripp Trapp ...\"}, \"Sealy Baby Firm Rest Crib Mattress\": {\"frequency\": 37, \"value\": \"Sealy Baby Firm ...\"}, \"Skip Hop Zoo Pack Little Kid Backpack, Dog\": {\"frequency\": 276, \"value\": \"Skip Hop Zoo Pack ...\"}, \"Medela Disposable Nursing Bra Pads, 60 Count\": {\"frequency\": 20, \"value\": \"Medela Disposable ...\"}, \"Clay Hanging Keepsake Kit (Makes 2 Plaques)\": {\"frequency\": 30, \"value\": \"Clay Hanging ...\"}, \"Podee Double Pack Feeding System\": {\"frequency\": 33, \"value\": \"Podee Double Pack ...\"}, \"bumGenius Diaper Sprayer\": {\"frequency\": 31, \"value\": \"bumGenius Diaper ...\"}, \"TL Care Organic Cotton Nursing Pads, Natural, 6 Count\": {\"frequency\": 112, \"value\": \"TL Care Organic ...\"}, \"Carters Easy Fit Jersey Bassinet Fitted Sheet, White\": {\"frequency\": 27, \"value\": \"Carters Easy Fit ...\"}, \"Delta Eclipse Changing Table, Black Cherry\": {\"frequency\": 28, \"value\": \"Delta Eclipse ...\"}, \"Graco SnugRide Classic Connect 30/35 Infant Car Seat Base, Tan\": {\"frequency\": 38, \"value\": \"Graco SnugRide ...\"}, \"North States Supergate Easy Close Metal Gate, White\": {\"frequency\": 168, \"value\": \"North States ...\"}, \"Bright Starts Clack and Slide Activity Ball\": {\"frequency\": 59, \"value\": \"Bright Starts ...\"}, \"Summer Infant Newborn-To-Toddler Bath Center &amp; Shower\": {\"frequency\": 49, \"value\": \"Summer Infant ...\"}, \"Philips Avent 3 Pack 9oz Bottles\": {\"frequency\": 174, \"value\": \"Philips Avent 3 ...\"}, \"OXO Tot Tub Drain Stopper, Blue\": {\"frequency\": 56, \"value\": \"OXO Tot Tub Drain ...\"}, \"Infantino Activity Triangle\": {\"frequency\": 57, \"value\": \"Infantino Activity ...\"}, \"Zoli Gummy Sticks Baby Gum Massagers, Green/Orange\": {\"frequency\": 85, \"value\": \"Zoli Gummy Sticks ...\"}, \"Bright Starts Bounce Bounce Baby Activity Zone\": {\"frequency\": 42, \"value\": \"Bright Starts ...\"}, \"Fisher-Price Rainforest Healthy Care High Chair\": {\"frequency\": 36, \"value\": \"Fisher-Price ...\"}, \"Fisher Price Nesting Action Vehicles\": {\"frequency\": 25, \"value\": \"Fisher Price ...\"}, \"Leachco Preggle Comfort Air-Flow Body Pillow, Ivory/Khaki\": {\"frequency\": 27, \"value\": \"Leachco Preggle ...\"}, \"DaVinci Sleepwell Twilight 6-Inch Ultra Firm Deluxe Crib Mattress\": {\"frequency\": 18, \"value\": \"DaVinci Sleepwell ...\"}, \"Dr. Brown's BPA Free Polypropylene Natural Flow Bottle Newborn Feeding Set\": {\"frequency\": 80, \"value\": \"Dr. Brown's BPA ...\"}, \"Chicco DJ Baby Walker, Splash\": {\"frequency\": 60, \"value\": \"Chicco DJ Baby ...\"}, \"Graco SnugRide Click Connect 35 Car Seat, Tangerine\": {\"frequency\": 29, \"value\": \"Graco SnugRide ...\"}, \"Baby Jogger City Elite Single Stroller, Black\": {\"frequency\": 18, \"value\": \"Baby Jogger City ...\"}, \"Boob-ease Organic Cotton + Bamboo Fleece + Flax Seeds Soothing Therapy Pillows\": {\"frequency\": 20, \"value\": \"Boob-ease Organic ...\"}, \"Mommy's Helper Contoured Cushie Step Up\": {\"frequency\": 100, \"value\": \"Mommy's Helper ...\"}, \"Mustachifier - The Gentleman Mustache Pacifier\": {\"frequency\": 41, \"value\": \"Mustachifier - The ...\"}, \"Evenflo ABC SmartSteps ExerSaucer\": {\"frequency\": 21, \"value\": \"Evenflo ABC ...\"}, \"C.R. Gibson Bound Keepsake Memory Book of Baby's First 5 Years, Lulu\": {\"frequency\": 53, \"value\": \"C.R. Gibson Bound ...\"}, \"Roundabout Convertible Car Seat - Grey Wicker\": {\"frequency\": 22, \"value\": \"Roundabout ...\"}, \"aden + anais Rayon from Bamboo Swaddle Blanket 3 Pack, Earthly\": {\"frequency\": 90, \"value\": \"aden + anais Rayon ...\"}, \"Balboa Baby Dr. Sears Adjustable Sling, Blue Plaid\": {\"frequency\": 17, \"value\": \"Balboa Baby Dr. ...\"}, \"Traveling Toddler Car Seat Travel Accessory\": {\"frequency\": 86, \"value\": \"Traveling Toddler ...\"}, \"KF Baby Finger Pinch Guard [Set of 5], with kilofly Refrigerator Magnet\": {\"frequency\": 24, \"value\": \"KF Baby Finger ...\"}, \"BRICA Deluxe Kick Mats (2 pack)\": {\"frequency\": 34, \"value\": \"BRICA Deluxe Kick ...\"}, \"Lansinoh Double Electric Breast Pump, BPA-free\": {\"frequency\": 26, \"value\": \"Lansinoh Double ...\"}, \"Evenflo ExerSaucer Triple Fun - Jungle\": {\"frequency\": 41, \"value\": \"Evenflo ExerSaucer ...\"}, \"Luvable Friends 4-Pack Flannel Receiving Blankets, Blue\": {\"frequency\": 36, \"value\": \"Luvable Friends ...\"}, \"Kid'Sleep Classic, Blue\": {\"frequency\": 68, \"value\": \"Kid'Sleep Classic, ...\"}, \"Boba Air Baby Carrier, Black\": {\"frequency\": 23, \"value\": \"Boba Air Baby ...\"}, \"Colorado Tote\": {\"frequency\": 18, \"value\": \"Colorado Tote\"}, \"Munchkin Baby Bath Ball, Colors May Vary\": {\"frequency\": 21, \"value\": \"Munchkin Baby Bath ...\"}, \"Summer Infant  8 Panel Playsafe Playard, Tan\": {\"frequency\": 18, \"value\": \"Summer Infant  8 ...\"}, \"Lil Rinser Splashguard in Purple\": {\"frequency\": 52, \"value\": \"Lil Rinser ...\"}, \"Summer Infant 2 Pack Cotton Knit Swaddleme, Safari (Small/Medium)\": {\"frequency\": 49, \"value\": \"Summer Infant 2 ...\"}, \"Saddle Style Soaker Mattress Pad - Will Absorb 6 Cups of Liquid - Made in America (34&quot; X 36&quot;)\": {\"frequency\": 22, \"value\": \"Saddle Style ...\"}, \"Lamaze Play &amp; Grow Freddie the Firefly Take Along Toy\": {\"frequency\": 187, \"value\": \"Lamaze Play &amp; ...\"}, \"Sassy Soft Swimmers Animal Characters Bath Toy, 3 Pack\": {\"frequency\": 27, \"value\": \"Sassy Soft ...\"}, \"Chewy Tubes Knobby Super Chew Red\": {\"frequency\": 24, \"value\": \"Chewy Tubes Knobby ...\"}, \"Skip Hop Dash Deluxe Charcoal\": {\"frequency\": 26, \"value\": \"Skip Hop Dash ...\"}, \"Bean B Clean Baby Scalp Massaging Brush for Cradle Cap\": {\"frequency\": 27, \"value\": \"Bean B Clean Baby ...\"}, \"aden + anais 3 Pack Muslin Snap Bib, Jungle Jam\": {\"frequency\": 49, \"value\": \"aden + anais 3 ...\"}, \"The First Years Disney Pixar Cars  Rev and Go Potty System\": {\"frequency\": 55, \"value\": \"The First Years ...\"}, \"Jumpster Doorway Jumper - Jackpot\": {\"frequency\": 28, \"value\": \"Jumpster Doorway ...\"}, \"Britax Infant Car Seat Adapter Frame\": {\"frequency\": 17, \"value\": \"Britax Infant Car ...\"}, \"Kalencom Laminated Buckle Bag, Multi Paisley Watermelon\": {\"frequency\": 17, \"value\": \"Kalencom Laminated ...\"}, \"Regalo My Chair Portable Chair, Royal\": {\"frequency\": 30, \"value\": \"Regalo My Chair ...\"}, \"Baby Reusable Boy Pocket Cloth Diapers, 6 pcs + 6 Inserts\": {\"frequency\": 27, \"value\": \"Baby Reusable Boy ...\"}, \"Dream On Me Full Size 2 in 1 Folding Stationary Side Crib, Espresso\": {\"frequency\": 17, \"value\": \"Dream On Me Full ...\"}, \"BooginHead Squeez'Ems Reusable Food Pouches (4 Pouches)\": {\"frequency\": 26, \"value\": \"BooginHead ...\"}, \"LA Baby Countour Changing Pad 30&quot;, White\": {\"frequency\": 19, \"value\": \"LA Baby Countour ...\"}, \"Thudguard Baby Safety Helmet - Blue\": {\"frequency\": 24, \"value\": \"Thudguard Baby ...\"}, \"New Mommy Advice Cards -24ct- Party Supplies\": {\"frequency\": 17, \"value\": \"New Mommy Advice ...\"}, \"Bibimals Baby Bibs (Safari Pack) Button Latch Better for Long Hair - Funny Cool Cute 2 Pack of Bibs with Food Catcher Pocket Made From Waterproof Washable Silicone Plastic, Best for Use with Girl or Boy Infants and Babies - Your Baby Will Love These Silly Animal Face Bibs, Great Baby Shower Gift, Lifetime Guarantee - [Add These Bibs to Your Baby Registry Today]\": {\"frequency\": 16, \"value\": \"Bibimals Baby Bibs ...\"}, \"bumGenius Freetime All-In-One One-Size Snap Closure Cloth Diaper - White\": {\"frequency\": 21, \"value\": \"bumGenius Freetime ...\"}, \"Lamaze Early Development Toy, Marina the Mermaid\": {\"frequency\": 27, \"value\": \"Lamaze Early ...\"}, \"Bestever Baby Mat, Pink Bear\": {\"frequency\": 59, \"value\": \"Bestever Baby Mat, ...\"}, \"Graco Contempo Highchair, Forecaster\": {\"frequency\": 24, \"value\": \"Graco Contempo ...\"}, \"Think King Mighty Buggy Hook for Stroller, Wheelchair, Rollator, Walker, 2 Pack\": {\"frequency\": 39, \"value\": \"Think King Mighty ...\"}, \"Kair Air Cushioned Bath Visor, Blue\": {\"frequency\": 34, \"value\": \"Kair Air Cushioned ...\"}, \"The HERO Pocket Cloth Diaper (English Periwinkle) by Coqu&iacute; Baby\": {\"frequency\": 16, \"value\": \"The HERO Pocket ...\"}, \"The First Years Jet Stroller, Red/Black\": {\"frequency\": 251, \"value\": \"The First Years ...\"}, \"Ju-Ju-Be Paci Pod Pacifier Holder, Lilac Lace\": {\"frequency\": 26, \"value\": \"Ju-Ju-Be Paci Pod ...\"}, \"Kidco Y Spindle\": {\"frequency\": 30, \"value\": \"Kidco Y Spindle\"}, \"Lollaland Lollacup, Good Green\": {\"frequency\": 48, \"value\": \"Lollaland ...\"}, \"Medela Swing Breastpump\": {\"frequency\": 66, \"value\": \"Medela Swing ...\"}, \"Munchkin Gone Fishin' Bath Toy\": {\"frequency\": 23, \"value\": \"Munchkin Gone ...\"}, \"Philips AVENT Twin Pack Nipplette\": {\"frequency\": 25, \"value\": \"Philips AVENT Twin ...\"}, \"My Brest Friend Deluxe Pillow, Blue\": {\"frequency\": 18, \"value\": \"My Brest Friend ...\"}, \"Contours Options LT Tandem Stroller, Valencia Gold\": {\"frequency\": 26, \"value\": \"Contours Options ...\"}, \"Fisher-Price Deluxe Bouncer, My Little Snugabunny\": {\"frequency\": 99, \"value\": \"Fisher-Price ...\"}, \"iBaby M3 Baby monitor for iPhone\": {\"frequency\": 24, \"value\": \"iBaby M3 Baby ...\"}, \"Safety 1st Exchangeable Tip 3 in 1 Thermometer\": {\"frequency\": 18, \"value\": \"Safety 1st ...\"}, \"Bright Starts Around We Go Activity Station, Tropical Fun\": {\"frequency\": 41, \"value\": \"Bright Starts ...\"}, \"WubbaNub Elephant\": {\"frequency\": 19, \"value\": \"WubbaNub Elephant\"}, \"Medela One-Piece Breastshield w/ Valve and Membrane\": {\"frequency\": 19, \"value\": \"Medela One-Piece ...\"}, \"BRICA Corner Bath Basket Toy Organizer\": {\"frequency\": 32, \"value\": \"BRICA Corner Bath ...\"}, \"BRICA Super Scoop Bath Toy Organizer\": {\"frequency\": 95, \"value\": \"BRICA Super Scoop ...\"}, \"One Step Ahead Secure Transitions Inflatable Baby Tub\": {\"frequency\": 35, \"value\": \"One Step Ahead ...\"}, \"Britax Parkway SGL Booster Seat, Cardinal\": {\"frequency\": 58, \"value\": \"Britax Parkway SGL ...\"}, \"Medela Freestyle Spare Parts Kit\": {\"frequency\": 17, \"value\": \"Medela Freestyle ...\"}, \"Woolzies 3 XL Wool Dryer Balls ,Natural Fabric Softener\": {\"frequency\": 27, \"value\": \"Woolzies 3 XL Wool ...\"}, \"American Baby Company Waterproof Quilted Cotton Portable/Mini Crib Mattress Pad Cover, White\": {\"frequency\": 75, \"value\": \"American Baby ...\"}, \"Munchkin Deluxe Dishwasher Basket, Colors May Vary\": {\"frequency\": 52, \"value\": \"Munchkin Deluxe ...\"}, \"Fisher-Price Space Saver High Chair, Pink\": {\"frequency\": 71, \"value\": \"Fisher-Price Space ...\"}, \"Levana Lila Digital Baby Video Monitor with Night Vision and Talk to Baby Intercom 32000 (White)\": {\"frequency\": 17, \"value\": \"Levana Lila ...\"}, \"Boon Benders Adaptable Utensils, Blue Raspberry/Tangerine\": {\"frequency\": 19, \"value\": \"Boon Benders ...\"}, \"Contours Options 3 Wheel Stroller, Berkley\": {\"frequency\": 22, \"value\": \"Contours Options 3 ...\"}, \"Mam Nipples Slow Flow, 0+ months, 2 pack\": {\"frequency\": 27, \"value\": \"Mam Nipples Slow ...\"}, \"Munchkin Baby Care Cart\": {\"frequency\": 16, \"value\": \"Munchkin Baby Care ...\"}, \"Baby Safe Disposable Feeder (Pack of One)\": {\"frequency\": 32, \"value\": \"Baby Safe ...\"}, \"Cloud b Sleep Sheep On The Go Travel Sound Machine with Four Soothing Sounds\": {\"frequency\": 100, \"value\": \"Cloud b Sleep ...\"}, \"Stroller Hook - 2 Pack of Multi Purpose Hooks - Hanger for Baby Diaper Bags, Groceries, Clothing, Purse - Great Accessory for Mommy when Jogging, Walking or Shopping - Best 100% Money Back Guarantee\": {\"frequency\": 24, \"value\": \"Stroller Hook - 2 ...\"}, \"DaVinci Emily 3-Drawer Changer Dresser, Ebony\": {\"frequency\": 17, \"value\": \"DaVinci Emily ...\"}, \"Medela Supplemental Nursing System\": {\"frequency\": 17, \"value\": \"Medela ...\"}, \"Joovy Scooter X2 Double Stroller, Greenie\": {\"frequency\": 35, \"value\": \"Joovy Scooter X2 ...\"}, \"Medela Breast Pump Accessory Set\": {\"frequency\": 29, \"value\": \"Medela Breast Pump ...\"}, \"Happi Tummi Removable Waistband - Blue\": {\"frequency\": 38, \"value\": \"Happi Tummi ...\"}, \"Trend Lab Dr. Seuss Wall Clock, ABC\": {\"frequency\": 19, \"value\": \"Trend Lab Dr. ...\"}, \"HALO Big Kids SleepSack Lightweight Knit Wearable Blanket, Pink, 2-3T\": {\"frequency\": 18, \"value\": \"HALO Big Kids ...\"}, \"Fisher-Price Royal Potty\": {\"frequency\": 33, \"value\": \"Fisher-Price Royal ...\"}, \"Prince Lionheart Ever-Fresh Replacement Pillows for Ultimate Wipes Warmer\": {\"frequency\": 25, \"value\": \"Prince Lionheart ...\"}, \"Thirsties 3 Pack Boys Fab Doublers Soft Cotton Velour, Ocean Blue/Meadow/White, Large\": {\"frequency\": 26, \"value\": \"Thirsties 3 Pack ...\"}, \"Boon Stem Grass and Lawn Drying Rack Accessory,Yellow\": {\"frequency\": 35, \"value\": \"Boon Stem Grass ...\"}, \"The First Years Take and Toss 28-Piece Feeding Variety Pack\": {\"frequency\": 23, \"value\": \"The First Years ...\"}, \"Yookidoo Stack 'N' Spray Tub Fountain\": {\"frequency\": 46, \"value\": \"Yookidoo Stack 'N' ...\"}, \"The Mommy Hook, Black with Black Pad\": {\"frequency\": 51, \"value\": \"The Mommy Hook, ...\"}, \"The Original Woombie Baby Cocoon Swaddle (Big Baby (14-19 lbs), Aqua Stripe)\": {\"frequency\": 48, \"value\": \"The Original ...\"}, \"NUK Disney Winnie the Pooh 5 Ounces Learner Cup Silicone Spout, 6+ Months\": {\"frequency\": 22, \"value\": \"NUK Disney Winnie ...\"}, \"My Brest Friend Deluxe Pillow, Light Green\": {\"frequency\": 36, \"value\": \"My Brest Friend ...\"}, \"American Baby Company Organic Cotton Quilted Waterproof Sheet Saver, Natural\": {\"frequency\": 16, \"value\": \"American Baby ...\"}, \"Philips AVENT Soothie Pacifier, 0-3 Months, 2-Pack, Pink/Purple\": {\"frequency\": 120, \"value\": \"Philips AVENT ...\"}, \"HALO SleepSack Micro-Fleece Swaddle, Soft Pink, Newborn\": {\"frequency\": 75, \"value\": \"HALO SleepSack ...\"}, \"Kidkusion Kid Safe Banister Guard\": {\"frequency\": 28, \"value\": \"Kidkusion Kid Safe ...\"}, \"Maxi Cosi Pria 70 Convertible Car Seat, Sweet Cerise\": {\"frequency\": 35, \"value\": \"Maxi Cosi Pria 70 ...\"}, \"Skip Hop Zoo Straw Bottle, Ladybug, 12 Ounce\": {\"frequency\": 51, \"value\": \"Skip Hop Zoo Straw ...\"}, \"Summer Infant Slumber Buddies, Frog\": {\"frequency\": 23, \"value\": \"Summer Infant ...\"}, \"Munchkin Dora the Explorer Bath Squirters\": {\"frequency\": 21, \"value\": \"Munchkin Dora the ...\"}, \"Medela Contact Nipple Shield - Standard Size (24mm)\": {\"frequency\": 19, \"value\": \"Medela Contact ...\"}, \"EZ-Freeze Cereal on the Go (Colors May Vary)\": {\"frequency\": 21, \"value\": \"EZ-Freeze Cereal ...\"}, \"Friendly Toys, Little Playzone with Electronic Sound and Lights\": {\"frequency\": 75, \"value\": \"Friendly Toys, ...\"}, \"Safety 1st Easy Saver Diaper Pail\": {\"frequency\": 22, \"value\": \"Safety 1st Easy ...\"}, \"Combi Flare Lightweight Stroller in Mandarin\": {\"frequency\": 22, \"value\": \"Combi Flare ...\"}, \"Fisher-Price Healthy Care Booster Seat, Green/Blue\": {\"frequency\": 66, \"value\": \"Fisher-Price ...\"}, \"green sprouts Wooden Brush and Comb Set, Natural\": {\"frequency\": 22, \"value\": \"green sprouts ...\"}, \"OXO Tot On-the-Go Feeding Spoon, Green\": {\"frequency\": 19, \"value\": \"OXO Tot On-the-Go ...\"}, \"Evenflo Top of Stair Gate\": {\"frequency\": 49, \"value\": \"Evenflo Top of ...\"}, \"Fisher-Price Cradle 'N Swing,  My Little Snugabunny\": {\"frequency\": 264, \"value\": \"Fisher-Price ...\"}, \"Summer Infant Complete Coverage Color Video Monitor Set with 7&quot; LCD Screen and 1.8&quot; Handheld Unit\": {\"frequency\": 33, \"value\": \"Summer Infant ...\"}, \"Munchkin Caterpillar Spillers Stacking Cups\": {\"frequency\": 25, \"value\": \"Munchkin ...\"}, \"HALO Early Walker SleepSack Lightweight Knit Wearable Blanket, Blue, Large\": {\"frequency\": 26, \"value\": \"HALO Early Walker ...\"}, \"Lily's Home Starry Night Projector and Sound Shooter. With 6 Lullabies and 4 Nature Sounds. Large LCD Alarm Clock\": {\"frequency\": 29, \"value\": \"Lily's Home Starry ...\"}, \"Sassy Baby Food Nurser, Colors May Vary\": {\"frequency\": 33, \"value\": \"Sassy Baby Food ...\"}, \"Boppy Cottony Cute 2-Sided Slipcover, Polka Stripe Green\": {\"frequency\": 21, \"value\": \"Boppy Cottony Cute ...\"}, \"Infant Bucket Seat Liner Color: Pink\": {\"frequency\": 21, \"value\": \"Infant Bucket Seat ...\"}, \"Safety 1st Whale and Baby Spout Guard\": {\"frequency\": 22, \"value\": \"Safety 1st Whale ...\"}, \"Urban Infant Tot Cot Daycare, Planet\": {\"frequency\": 17, \"value\": \"Urban Infant Tot ...\"}, \"NUK Ultra Thin Breast Pads, Pack of 2, White, 120-Count\": {\"frequency\": 36, \"value\": \"NUK Ultra Thin ...\"}, \"Carters Super Soft Dot Changing Pad Cover, Chocolate\": {\"frequency\": 48, \"value\": \"Carters Super Soft ...\"}, \"Babe Ease Original Clean Shopper, Blue Zoo\": {\"frequency\": 16, \"value\": \"Babe Ease Original ...\"}, \"Britax Car Seat Travel Cart, Black\": {\"frequency\": 27, \"value\": \"Britax Car Seat ...\"}, \"Dr. Brown's Microwave Steam Sterilizer\": {\"frequency\": 23, \"value\": \"Dr. Brown's ...\"}, \"Baby Brezza Temperature Control Kettle, White/Grey\": {\"frequency\": 29, \"value\": \"Baby Brezza ...\"}, \"Joovy Nook Highchair, White Leatherette\": {\"frequency\": 21, \"value\": \"Joovy Nook ...\"}, \"Buggy Bagg Elite Shopping Cart Cover, Groovy\": {\"frequency\": 16, \"value\": \"Buggy Bagg Elite ...\"}, \"Diaper Dekor Plus 2-Pack Refill Biodegradable\": {\"frequency\": 18, \"value\": \"Diaper Dekor Plus ...\"}, \"Safety 1st Wide Doorways Fabric Gate, Natural\": {\"frequency\": 18, \"value\": \"Safety 1st Wide ...\"}, \"Lansinoh mOmma Feeding Bottle, 5 Ounce\": {\"frequency\": 62, \"value\": \"Lansinoh mOmma ...\"}, \"Woombie Air Ventilated Baby Swaddle ~ Choose Size/Color (Big Baby 14-19 lbs, Love Print)\": {\"frequency\": 19, \"value\": \"Woombie Air ...\"}, \"Regalo Top of Stair Gate, White\": {\"frequency\": 18, \"value\": \"Regalo Top of ...\"}, \"Prince Lionheart Soft Booster Seat in Green\": {\"frequency\": 76, \"value\": \"Prince Lionheart ...\"}, \"Playtex Embrace Breast Pump System\": {\"frequency\": 22, \"value\": \"Playtex Embrace ...\"}, \"Spasilk 100% Cotton Hooded Terry Bath Towel with 4 Washcloths, Beige\": {\"frequency\": 19, \"value\": \"Spasilk 100% ...\"}, \"WubbaNub Pink Bear\": {\"frequency\": 18, \"value\": \"WubbaNub Pink Bear\"}, \"The First Years Clean Air Diaper Disposal System\": {\"frequency\": 29, \"value\": \"The First Years ...\"}, \"Aden and Anais UpAwaySwddleBlnkts\": {\"frequency\": 180, \"value\": \"Aden and Anais ...\"}, \"Leachco Back 'N Belly Contoured Body Pillow, Ivory\": {\"frequency\": 263, \"value\": \"Leachco Back 'N ...\"}, \"The First Years 2 Pack GumDrop Newborn Pacifier, Blue/Green\": {\"frequency\": 19, \"value\": \"The First Years 2 ...\"}, \"Safety 1st Alpha Omega Elite Convertible Car Seat, Lamont\": {\"frequency\": 42, \"value\": \"Safety 1st Alpha ...\"}, \"Fisher-Price Deluxe Jumperoo\": {\"frequency\": 77, \"value\": \"Fisher-Price ...\"}, \"BabyPlus Prenatal Education System\": {\"frequency\": 40, \"value\": \"BabyPlus Prenatal ...\"}, \"Lorex BB2411 2.4&quot; Sweet Peek Video Baby Monitor with IR Night Vision and Zoom, White\": {\"frequency\": 27, \"value\": \"Lorex BB2411 ...\"}, \"Mommy's Helper Kid Keeper\": {\"frequency\": 20, \"value\": \"Mommy's Helper Kid ...\"}, \"Summer Infant SwaddleMe Adjustable Infant Wrap, 3-Pack, Mom &amp; Baby\": {\"frequency\": 74, \"value\": \"Summer Infant ...\"}, \"KidCo Angle-Mount Safeway Gate\": {\"frequency\": 22, \"value\": \"KidCo Angle-Mount ...\"}, \"BABYBJORN Soft Bib 2 Pack - Red/Blue\": {\"frequency\": 116, \"value\": \"BABYBJORN Soft Bib ...\"}, \"Foscam FBM3501 Digital Video Baby Monitor - 2.4 Ghz with Pan/Tilt, Nightvision and Two-Way Audio/Video Camera with 3.5-Inch LCD (White/Gray)\": {\"frequency\": 61, \"value\": \"Foscam FBM3501 ...\"}, \"Metal Wall Decor Butterfly Sculpture 29x15\": {\"frequency\": 18, \"value\": \"Metal Wall Decor ...\"}, \"Jeep Liberty Renegade Walker, Storm\": {\"frequency\": 19, \"value\": \"Jeep Liberty ...\"}, \"JJ Cole Satchel Diaper Bag, Green Arbor\": {\"frequency\": 49, \"value\": \"JJ Cole Satchel ...\"}, \"Diaper Dekor Plus Diaper Disposal System\": {\"frequency\": 113, \"value\": \"Diaper Dekor Plus ...\"}, \"Prince Lionheart Fireplace Guard with Two Corners\": {\"frequency\": 20, \"value\": \"Prince Lionheart ...\"}, \"Sassy Developmental Sensory Ball Set - Inspires Touch\": {\"frequency\": 24, \"value\": \"Sassy ...\"}, \"Ameda Purely Yours Breast Pump\": {\"frequency\": 62, \"value\": \"Ameda Purely Yours ...\"}, \"Thirsties Duo Wrap Diaper Cover with Hook and Loop, Aqua, Size 1\": {\"frequency\": 17, \"value\": \"Thirsties Duo Wrap ...\"}, \"Safety 1st 2 Count Side By Side Cabinet Lock\": {\"frequency\": 25, \"value\": \"Safety 1st 2 Count ...\"}, \"RECARO ProSPORT Combination Harness To Booster Car Seat, Blue Opal\": {\"frequency\": 73, \"value\": \"RECARO ProSPORT ...\"}, \"Munchkin Feeding Set, 15 Pack\": {\"frequency\": 35, \"value\": \"Munchkin Feeding ...\"}, \"The Shrunks Indoor Toddler Inflatable Travel Bed\": {\"frequency\": 87, \"value\": \"The Shrunks Indoor ...\"}, \"Prince Lionheart Corner Guards, Chocolate Brown\": {\"frequency\": 47, \"value\": \"Prince Lionheart ...\"}, \"Diaper Genie Essentials Diaper Disposal Pail withStarter Refill, 100-Count\": {\"frequency\": 17, \"value\": \"Diaper Genie ...\"}, \"Davinci Jenny Lind 3-in-1 Convertible Crib, Cherry\": {\"frequency\": 40, \"value\": \"Davinci Jenny Lind ...\"}, \"Precious Moments&reg; Prayer Doll - Girl\": {\"frequency\": 17, \"value\": \"Precious ...\"}, \"Exergen Temporal Artery Thermometer MODEL# TAT-2000C\": {\"frequency\": 143, \"value\": \"Exergen Temporal ...\"}, \"Evenflo Exersaucer Triple Fun Active Learning Center, Life in The Amazon\": {\"frequency\": 26, \"value\": \"Evenflo Exersaucer ...\"}, \"Tiny Love Symphony in Motion Farm Animal Mobile (Styles May Vary)\": {\"frequency\": 21, \"value\": \"Tiny Love Symphony ...\"}, \"Fisher-Price My Little Snugabunny Newborn Rock n' Play Sleeper\": {\"frequency\": 66, \"value\": \"Fisher-Price My ...\"}, \"The Art of CureTM *SAFETY KNOTTED* Raw Butterscotch - Certified Baltic Amber Baby Teething Necklace - w/The Art of Cure Jewelry Pouch (SHIPS AND SOLD IN USA)\": {\"frequency\": 21, \"value\": \"The Art of CureTM ...\"}, \"My Little Seat Infant Seats, Blue Fish\": {\"frequency\": 18, \"value\": \"My Little Seat ...\"}, \"Baby Einstein Take Along Tunes\": {\"frequency\": 526, \"value\": \"Baby Einstein Take ...\"}, \"Gerber 12-Pack Flatfold Birdseye Cloth Diapers - White\": {\"frequency\": 21, \"value\": \"Gerber 12-Pack ...\"}, \"Fisher-Price Healthy Care Booster Seat, Yellow and Orange\": {\"frequency\": 20, \"value\": \"Fisher-Price ...\"}, \"Levana LV-TW502 Safe N' See Advanced 3.5-Inch Digital Video Wireless Baby Monitor with Talk to Baby Intercom and Remote Controlled Lullabies\": {\"frequency\": 18, \"value\": \"Levana LV-TW502 ...\"}, \"Graco 4 Gallon Cool Mist Humidifier\": {\"frequency\": 30, \"value\": \"Graco 4 Gallon ...\"}, \"Hook 'n' Stroll Stroller Accessory, Black\": {\"frequency\": 35, \"value\": \"Hook 'n' Stroll ...\"}, \"Susen Safe Shampoo Shower Bathing Protect Soft Cap Hat for Baby Children Kids (Blue)\": {\"frequency\": 55, \"value\": \"Susen Safe Shampoo ...\"}, \"Leachco Safer Bather Infant Bath Pad, Blue Fish\": {\"frequency\": 124, \"value\": \"Leachco Safer ...\"}, \"dexbaby Womb Sounds Bear Audio Pacifier, Brown\": {\"frequency\": 17, \"value\": \"dexbaby Womb ...\"}, \"Kiinde Kozii\": {\"frequency\": 64, \"value\": \"Kiinde Kozii\"}, \"Nuby 2 Handle Flip n' Sip Straw Cup, 8 Ounce, 12 Months +, Colors May Vary\": {\"frequency\": 28, \"value\": \"Nuby 2 Handle Flip ...\"}, \"Safety 1st On-the-Go Fold-Up Booster Seat\": {\"frequency\": 28, \"value\": \"Safety 1st On-the- ...\"}, \"Boon Flo Water Deflector and Protective Faucet Cover with Bubble Bath Dispenser,Green\": {\"frequency\": 46, \"value\": \"Boon Flo Water ...\"}, \"*The Art of CureTM *SAFETY KNOTTED* Lemon - Certified Baltic Amber Baby Teething Necklace w/&quot;THE ART OF CURETM&quot; Jewelry Pouch (SHIPS AND SOLD IN USA)\": {\"frequency\": 21, \"value\": \"*The Art of CureTM ...\"}, \"Rockin' Green Classic Rock Lavender Mint Revival 45oz\": {\"frequency\": 34, \"value\": \"Rockin' Green ...\"}, \"Safety 1st Alpha Elite Convertible Car Seat, Dolce Latte\": {\"frequency\": 21, \"value\": \"Safety 1st Alpha ...\"}, \"Evenflo Chase LX - Aqua Optical\": {\"frequency\": 25, \"value\": \"Evenflo Chase LX - ...\"}, \"Booginhead SippiGrip, Black\": {\"frequency\": 17, \"value\": \"Booginhead ...\"}, \"bumGenius One-Size Cloth Diaper Twilight\": {\"frequency\": 31, \"value\": \"bumGenius One-Size ...\"}, \"BabyKicks 3 Pack Joey-Bunz, Small\": {\"frequency\": 30, \"value\": \"BabyKicks 3 Pack ...\"}, \"Summer Infant Deluxe PiddlePad\": {\"frequency\": 37, \"value\": \"Summer Infant ...\"}, \"Medela Breastmilk Storage Solution\": {\"frequency\": 16, \"value\": \"Medela Breastmilk ...\"}, \"Clek Olli Booster Seat Blacktop\": {\"frequency\": 19, \"value\": \"Clek Olli Booster ...\"}, \"Pearhead Babyprints Keepsake, Year-Round\": {\"frequency\": 32, \"value\": \"Pearhead ...\"}, \"Regalo Extra Tall Widespan Gate, White\": {\"frequency\": 21, \"value\": \"Regalo Extra Tall ...\"}, \"Britax Marathon 70 Convertible Car Seat (Previous Version), Onyx\": {\"frequency\": 63, \"value\": \"Britax Marathon 70 ...\"}, \"OXO Tot Divided Feeding Dish, Aqua\": {\"frequency\": 21, \"value\": \"OXO Tot Divided ...\"}, \"KidCo BabySteps Electric Food Mill - White\": {\"frequency\": 29, \"value\": \"KidCo BabySteps ...\"}, \"Kids Line Cascade Bow Diaper Bag, Black\": {\"frequency\": 16, \"value\": \"Kids Line Cascade ...\"}, \"Natursutten BPA-Free Natural Rubber Pacifier, Orthodontic, 0-6 Months\": {\"frequency\": 31, \"value\": \"Natursutten BPA- ...\"}, \"Jeep Cherokee Sport Stroller, Brick Red\": {\"frequency\": 83, \"value\": \"Jeep Cherokee ...\"}, \"Mother's Touch Deluxe Baby Bather\": {\"frequency\": 18, \"value\": \"Mother's Touch ...\"}, \"Evenflo Snugli Comfort Vent Carrier\": {\"frequency\": 20, \"value\": \"Evenflo Snugli ...\"}, \"Maple Teethers\": {\"frequency\": 16, \"value\": \"Maple Teethers\"}, \"Graco DuoDiner LX Highchair, Metropolis\": {\"frequency\": 22, \"value\": \"Graco DuoDiner LX ...\"}, \"Regalo Easy Step Extra Tall Walk Thru Gate - White\": {\"frequency\": 89, \"value\": \"Regalo Easy Step ...\"}, \"Dream On Me 4 in 1 Aden Convertible Mini Crib, Natural\": {\"frequency\": 23, \"value\": \"Dream On Me 4 in 1 ...\"}, \"Luvable Friends 6 Pack Washcloths, Blue\": {\"frequency\": 20, \"value\": \"Luvable Friends 6 ...\"}, \"South Shore Savannah Collection 4-Drawer Chest, White\": {\"frequency\": 19, \"value\": \"South Shore ...\"}, \"Skip Hop Zoo Safety Harness, Monkey\": {\"frequency\": 25, \"value\": \"Skip Hop Zoo ...\"}, \"Snap 'N Go Infant Car Seat Carrier\": {\"frequency\": 44, \"value\": \"Snap 'N Go Infant ...\"}, \"DEX Products Sound Sleeper SS-01\": {\"frequency\": 93, \"value\": \"DEX Products Sound ...\"}, \"Prince Lionheart Faucet Extender, Gumball Green\": {\"frequency\": 30, \"value\": \"Prince Lionheart ...\"}, \"OXO Tot Bottle Brush with Nipple Cleaner, Orange\": {\"frequency\": 20, \"value\": \"OXO Tot Bottle ...\"}, \"Philips AVENT Range BPA-Free Front Teeth Teether, Classic\": {\"frequency\": 23, \"value\": \"Philips AVENT ...\"}, \"Combi Activity Walker Black\": {\"frequency\": 16, \"value\": \"Combi Activity ...\"}, \"Status Veneto Glider and Nursing Ottoman, White/Beige\": {\"frequency\": 20, \"value\": \"Status Veneto ...\"}, \"Odorless Diaper Pail by Safety 1st\": {\"frequency\": 27, \"value\": \"Odorless Diaper ...\"}, \"Prince Lionheart Ultimate Wipes Warmer\": {\"frequency\": 136, \"value\": \"Prince Lionheart ...\"}, \"Munchkin Arm and Hammer Bag Refill, 36 Bags\": {\"frequency\": 23, \"value\": \"Munchkin Arm and ...\"}, \"BABYBJORN Safe Step - Blue\": {\"frequency\": 77, \"value\": \"BABYBJORN Safe ...\"}, \"Fisher-Price Space Saver Swing and Seat, Discover'N Grow\": {\"frequency\": 49, \"value\": \"Fisher-Price Space ...\"}, \"Baby Einstein Octoplush\": {\"frequency\": 51, \"value\": \"Baby Einstein ...\"}, \"FISHER PRICE SINGING STAR GYM\": {\"frequency\": 37, \"value\": \"FISHER PRICE ...\"}, \"Munchkin 3 Piece Silly Sandwich Cutter Set\": {\"frequency\": 19, \"value\": \"Munchkin 3 Piece ...\"}, \"Britax Frontier Booster Car Seat\": {\"frequency\": 20, \"value\": \"Britax Frontier ...\"}, \"Summer Infant Best View Handheld Color Video Monitor with 2.5&quot; Screen\": {\"frequency\": 53, \"value\": \"Summer Infant Best ...\"}, \"Medela 9 Volt Vehicle Lighter Adaptor\": {\"frequency\": 20, \"value\": \"Medela 9 Volt ...\"}, \"Safety 1st Magnetic Locking System Complete\": {\"frequency\": 76, \"value\": \"Safety 1st ...\"}, \"BABYBJORN Baby Carrier Miracle, Black/Silver, Cotton Mix\": {\"frequency\": 46, \"value\": \"BABYBJORN Baby ...\"}, \"Safety 1st Crystal Clear Audio Monitor, White\": {\"frequency\": 16, \"value\": \"Safety 1st Crystal ...\"}, \"Graco SnugRide 32 Infant Car Seat, Zurich\": {\"frequency\": 21, \"value\": \"Graco SnugRide 32 ...\"}, \"Baby K'tan Breeze Baby Carrier, White, Large\": {\"frequency\": 26, \"value\": \"Baby K'tan Breeze ...\"}, \"Cloud B Tranquil Turtle - Aqua\": {\"frequency\": 69, \"value\": \"Cloud B Tranquil ...\"}, \"Munchkin 4 Pack Re-Usable Twist Tight Spill Proof Cup, 10 Ounce, Colors May Vary\": {\"frequency\": 20, \"value\": \"Munchkin 4 Pack ...\"}, \"Tiny Love Classic Mobile\": {\"frequency\": 35, \"value\": \"Tiny Love Classic ...\"}, \"Britax Boulevard 70 CS Convertible Car Seat (Previous Version), Waverly\": {\"frequency\": 23, \"value\": \"Britax Boulevard ...\"}, \"Tiny Love Take-Along Arch, Sunny Stroll\": {\"frequency\": 217, \"value\": \"Tiny Love Take- ...\"}, \"phil&amp;teds Lobster Highchair, Red\": {\"frequency\": 30, \"value\": \"phil&amp;teds ...\"}, \"PRIMO EuroBath, Pearl White\": {\"frequency\": 173, \"value\": \"PRIMO EuroBath, ...\"}, \"Fisher-Price Cradle 'N Swing, Luv U Zoo\": {\"frequency\": 43, \"value\": \"Fisher-Price ...\"}, \"Regalo Hide Away Extra Long Bed Rail, White\": {\"frequency\": 74, \"value\": \"Regalo Hide Away ...\"}, \"Chicco Caddy Hook On Chair, Red\": {\"frequency\": 46, \"value\": \"Chicco Caddy Hook ...\"}, \"Nuby Super Spout 2 Pack No Spill Replacement Spouts, Clear\": {\"frequency\": 18, \"value\": \"Nuby Super Spout 2 ...\"}, \"Elegant Baby 8 Piece Bath Squirties Gift Set in Vinyl Zip Bag, Sea\": {\"frequency\": 17, \"value\": \"Elegant Baby 8 ...\"}, \"Guava Kids Unisex Baby Guava Mitts - Bubbles/Lime - Small/Medium\": {\"frequency\": 62, \"value\": \"Guava Kids Unisex ...\"}, \"Stork Craft Beatrice 5 Drawer Chest, White\": {\"frequency\": 38, \"value\": \"Stork Craft ...\"}, \"Graco Baby SnugGlider Infant Car Seat Swing Frame\": {\"frequency\": 27, \"value\": \"Graco Baby ...\"}, \"NUK/Gerber Seal N Go Disposible Liner, 50-Count\": {\"frequency\": 41, \"value\": \"NUK/Gerber Seal N ...\"}, \"Baby Trend Diaper Champ\": {\"frequency\": 298, \"value\": \"Baby Trend Diaper ...\"}, \"Philips AVENT BPA Free Nighttime Infant Pacifier, 0-6 Months,  Colors May Vary, 2-Count\": {\"frequency\": 19, \"value\": \"Philips AVENT BPA ...\"}, \"Britax B-Nimble Stroller, Red\": {\"frequency\": 19, \"value\": \"Britax B-Nimble ...\"}, \"Sesame Street Construction Zone 4 Piece Toddler Set\": {\"frequency\": 27, \"value\": \"Sesame Street ...\"}, \"Nuby Paci Cradle Pacifier Box, Colors may vary\": {\"frequency\": 21, \"value\": \"Nuby Paci Cradle ...\"}, \"Philips Avent Express Baby Food and Bottle Warmer\": {\"frequency\": 35, \"value\": \"Philips Avent ...\"}, \"Mommy's Helper Safe-er-Grip Foot Rest\": {\"frequency\": 56, \"value\": \"Mommy's Helper ...\"}, \"Summer Infant Comfy Bath Sponge\": {\"frequency\": 38, \"value\": \"Summer Infant ...\"}, \"HALO SleepSack Big Kids Micro-Fleece Wearable Blanket, Red, 2T- 3T\": {\"frequency\": 44, \"value\": \"HALO SleepSack Big ...\"}, \"Vullie Sophie Giraffe and Pie Pink - Natural Rubber and Food Paint Details Set of 2\": {\"frequency\": 18, \"value\": \"Vullie Sophie ...\"}, \"Summer Infant Swaddleme Pure Love Adjustable Infant Wrap, Alligator\": {\"frequency\": 31, \"value\": \"Summer Infant ...\"}, \"Stork Craft Rocking Horse, Oak\": {\"frequency\": 32, \"value\": \"Stork Craft ...\"}, \"Samsung Wireless Video Security Monitoring System\": {\"frequency\": 36, \"value\": \"Samsung Wireless ...\"}, \"Summer Infant Step-By-Step Potty Trainer and Step Stool, Blue/ Green\": {\"frequency\": 22, \"value\": \"Summer Infant ...\"}, \"Joovy Kooper Umbrella Stroller, Yellow\": {\"frequency\": 22, \"value\": \"Joovy Kooper ...\"}, \"Soothing Dreams Monistor with Remote Control, Fisher-Price\": {\"frequency\": 39, \"value\": \"Soothing Dreams ...\"}, \"BreathableBaby Breathable Bumper for Portable and Cradle Cribs, White\": {\"frequency\": 26, \"value\": \"BreathableBaby ...\"}, \"Vital Baby Unbelievabowl Set, Orange\": {\"frequency\": 18, \"value\": \"Vital Baby ...\"}, \"Lamaze Cloth Book, Panda's Pals\": {\"frequency\": 126, \"value\": \"Lamaze Cloth Book, ...\"}, \"Badger Basket Elegance Round Baby Bassinet, White with Ecru Waffle\": {\"frequency\": 21, \"value\": \"Badger Basket ...\"}, \"Britax Head and Body Support Pillow, Iron/Gray\": {\"frequency\": 34, \"value\": \"Britax Head and ...\"}, \"Regalo 192-Inch Super Wide Gate and Play Yard\": {\"frequency\": 52, \"value\": \"Regalo 192-Inch ...\"}, \"BRICA Baby In-Sight Auto Mirror for in Car Safety\": {\"frequency\": 19, \"value\": \"BRICA Baby In- ...\"}, \"Kidkusion Jumbo Edge Kushion, Black\": {\"frequency\": 17, \"value\": \"Kidkusion Jumbo ...\"}, \"Harmony Kids Standard Rocker, Hot Pink\": {\"frequency\": 91, \"value\": \"Harmony Kids ...\"}, \"Fisher-Price Rainforest Bouncer\": {\"frequency\": 79, \"value\": \"Fisher-Price ...\"}, \"Prince Lionheart Versa Formula Mixer\": {\"frequency\": 20, \"value\": \"Prince Lionheart ...\"}, \"Philips AVENT Digital Screen Baby Monitor with DECT Technology\": {\"frequency\": 31, \"value\": \"Philips AVENT ...\"}, \"DaVinci Full/Twin Size Conversion Rail Kit - Natural\": {\"frequency\": 16, \"value\": \"DaVinci Full/Twin ...\"}, \"NUK 2 Pack Replacement valves Spill Proof Cup, Colors May Vary\": {\"frequency\": 22, \"value\": \"NUK 2 Pack ...\"}, \"Graco My Ride 65 LX Convertible Car Seat, Rane\": {\"frequency\": 80, \"value\": \"Graco My Ride 65 ...\"}, \"Bummis Reusable Fleece Liners\": {\"frequency\": 24, \"value\": \"Bummis Reusable ...\"}, \"Keep-it-Kleen Pacifier - Adam Airplane\": {\"frequency\": 24, \"value\": \"Keep-it-Kleen ...\"}, \"Fantasy Furniture Roundy Chair Gingham, Pink\": {\"frequency\": 27, \"value\": \"Fantasy Furniture ...\"}, \"Jolly Jumper Sneak a Peek Sneak-a-Peek Infant Carseat Cover Deluxe - Black\": {\"frequency\": 39, \"value\": \"Jolly Jumper Sneak ...\"}, \"Westminster Hand Boilers (Colors May Vary)\": {\"frequency\": 28, \"value\": \"Westminster Hand ...\"}, \"Summer Infant Bibbity, Pink\": {\"frequency\": 21, \"value\": \"Summer Infant ...\"}, \"Philips Avent Manual Comfort Breast Pump\": {\"frequency\": 20, \"value\": \"Philips Avent ...\"}, \"Maymom Breast Pump Kit for Medela Pump in Style Pump; 2 Breastshields (Compare to Medela Personalfit 24 mm Shield with Personal Fit Connector), 4 Valves, 6 Membranes, &amp; 2 Replacement Tubing for Pump in Style Advanced Sold After July 2006; Replacement Parts for Medela Breast Shield, Medela Tubing, Medela Valves and Medela Membranes\": {\"frequency\": 27, \"value\": \"Maymom Breast Pump ...\"}, \"Fisher-Price Adorable Animals Baby's Bouncer\": {\"frequency\": 38, \"value\": \"Fisher-Price ...\"}, \"Safety 1st Deluxe 4-in-1 Bath Station\": {\"frequency\": 139, \"value\": \"Safety 1st Deluxe ...\"}, \"The First Years 3-in-1 Kickin Coaster Seat, Green/Yellow\": {\"frequency\": 18, \"value\": \"The First Years ...\"}, \"Primo 4-In-1 Soft Seat Toilet Trainer and Step Stool White with Pastel Blue Seat\": {\"frequency\": 42, \"value\": \"Primo 4-In-1 Soft ...\"}, \"Graco Ready2Grow Classic Connect Stroller, Forecaster\": {\"frequency\": 22, \"value\": \"Graco Ready2Grow ...\"}, \"Sunshine Kids Mighty Tite Seat Belt Tightener\": {\"frequency\": 34, \"value\": \"Sunshine Kids ...\"}, \"Boon Dive Bath Tub Appliques\": {\"frequency\": 18, \"value\": \"Boon Dive Bath Tub ...\"}, \"Fisher-Price Ocean Wonders Aquarium Bouncer\": {\"frequency\": 83, \"value\": \"Fisher-Price Ocean ...\"}, \"Itzy Ritzy Travel Happens Sealed Wet Bag, Avocado Damask\": {\"frequency\": 26, \"value\": \"Itzy Ritzy Travel ...\"}, \"C.R. Gibson Memory Book, Baby Bots\": {\"frequency\": 28, \"value\": \"C.R. Gibson Memory ...\"}, \"Lansinoh TheraPearl 3-in-1 Breast Therapy\": {\"frequency\": 16, \"value\": \"Lansinoh ...\"}, \"OXO Tot Straw Cup, Aqua, 11 Ounce\": {\"frequency\": 30, \"value\": \"OXO Tot Straw Cup, ...\"}, \"Set of 3 Construction Utensils with Construction Plate\": {\"frequency\": 16, \"value\": \"Set of 3 ...\"}, \"Sassy: Baby Food Nursers 4oz - 2pk(Green) [Baby Product]\": {\"frequency\": 27, \"value\": \"Sassy: Baby Food ...\"}, \"Leachco Snoogle Loop Contoured Fit Body Pillow, Ivory\": {\"frequency\": 31, \"value\": \"Leachco Snoogle ...\"}, \"Boppy Prenatal Sleep Wedge\": {\"frequency\": 48, \"value\": \"Boppy Prenatal ...\"}, \"Englacha Plastic Board Rider, Black\": {\"frequency\": 17, \"value\": \"Englacha Plastic ...\"}, \"Kiddopotamus Cradler Adjustable Head Support for Newborns to Toddlers, Ivory Teddy Bears\": {\"frequency\": 21, \"value\": \"Kiddopotamus ...\"}, \"Dr. Brown's Soft Spout Training Cup, 6 Ounce, Colors May Vary\": {\"frequency\": 19, \"value\": \"Dr. Brown's Soft ...\"}, \"TYKE TOTER Front Mount Child Bicycle Seat (Age 2-5 yrs., Weight Limit 45 Lbs.)\": {\"frequency\": 26, \"value\": \"TYKE TOTER Front ...\"}, \"Summer Infant Snuzzler, Black Velboa\": {\"frequency\": 27, \"value\": \"Summer Infant ...\"}, \"Britax Boulevard 70 Convertible Car Seat, Silver Birch\": {\"frequency\": 26, \"value\": \"Britax Boulevard ...\"}, \"*SPECIAL PROMOTION*The Art of CureTM *SAFETY KNOTTED* Honey - Certified Baltic Amber Baby Teething Necklace w/The Art of CureTM Jewelry Pouch (SHIPS AND SOLD IN USA)\": {\"frequency\": 51, \"value\": \"*SPECIAL ...\"}, \"Maxboost Fusion Snap-on iPhone 5S/5 Case - Navy Blue (Fit Fusion Battery Case for iPhone 5S/5)\": {\"frequency\": 37, \"value\": \"Maxboost Fusion ...\"}, \"ERGObaby Original Baby Carrier, Galaxy Grey\": {\"frequency\": 31, \"value\": \"ERGObaby Original ...\"}, \"Baby Jogger 2011 City Mini Double Stroller, Black/Black\": {\"frequency\": 17, \"value\": \"Baby Jogger 2011 ...\"}, \"PumpEase Classic Collection hands-free pumping bra - Verry Cherry - M\": {\"frequency\": 80, \"value\": \"PumpEase Classic ...\"}, \"Graco DuoGlider LX Stroller in Fortune\": {\"frequency\": 24, \"value\": \"Graco DuoGlider LX ...\"}, \"Safety 1st Heavenly Dreams White Crib Mattress\": {\"frequency\": 149, \"value\": \"Safety 1st ...\"}, \"Baby Buddy Natural Bath Sponge, Natural\": {\"frequency\": 17, \"value\": \"Baby Buddy Natural ...\"}, \"KidCo Door Knob Lock ** 5 PACK ** (WHITE)\": {\"frequency\": 26, \"value\": \"KidCo Door Knob ...\"}, \"Cardinal Gates Patio Door Guardian, White\": {\"frequency\": 18, \"value\": \"Cardinal Gates ...\"}, \"Vulli Chan Pie Gnon Natural Rubber Teether - Blue Chan\": {\"frequency\": 60, \"value\": \"Vulli Chan Pie ...\"}, \"Jeep Shopping Cart and High Chair Cover\": {\"frequency\": 16, \"value\": \"Jeep Shopping Cart ...\"}, \"Thirsties Hemp Inserts 2 Pack, Small 6-18 Lbs\": {\"frequency\": 52, \"value\": \"Thirsties Hemp ...\"}, \"Mommy's Helper Car Seat Sun Shade\": {\"frequency\": 38, \"value\": \"Mommy's Helper Car ...\"}, \"Safety 1st Space Saver Fold-Up Bath Tub\": {\"frequency\": 36, \"value\": \"Safety 1st Space ...\"}, \"Fisher-Price Comfy Time Bouncer\": {\"frequency\": 62, \"value\": \"Fisher-Price Comfy ...\"}, \"Baby Chef Ultimate Baby Food Maker\": {\"frequency\": 25, \"value\": \"Baby Chef Ultimate ...\"}, \"Babiators Unisex-Baby Infant Ops Junior Sunglasses, Black, Small\": {\"frequency\": 60, \"value\": \"Babiators Unisex- ...\"}, \"Baby Einstein Neptune Ocean Adventure Gym\": {\"frequency\": 50, \"value\": \"Baby Einstein ...\"}, \"green sprouts Silicone Freezer Tray, Green\": {\"frequency\": 22, \"value\": \"green sprouts ...\"}, \"North States Supergate Ergo Safety Gate, Ivory\": {\"frequency\": 18, \"value\": \"North States ...\"}, \"Philips AVENT BPA Free Natural Polypropylene Bottle, 9 Ounce, 1 Pack\": {\"frequency\": 54, \"value\": \"Philips AVENT BPA ...\"}, \"Baby Trend High Chair Palm Tree\": {\"frequency\": 18, \"value\": \"Baby Trend High ...\"}, \"Sassy Fascination Station\": {\"frequency\": 30, \"value\": \"Sassy Fascination ...\"}, \"We Sell Mats 36 Sq Ft Alphabet and Number Floor Mat\": {\"frequency\": 42, \"value\": \"We Sell Mats 36 Sq ...\"}, \"Graco Glider LX Gliding Swing, Peyton\": {\"frequency\": 34, \"value\": \"Graco Glider LX ...\"}, \"Skip Hop ZOOtensils Fork and Spoon, Ladybug\": {\"frequency\": 32, \"value\": \"Skip Hop ...\"}, \"Puj Snug - Ultra Soft Spout Cover (Aqua)\": {\"frequency\": 36, \"value\": \"Puj Snug - Ultra ...\"}, \"Postpartum Support Girdle Belt w/zipper Support Belly Band Medical-Grade Compression Bellefit\": {\"frequency\": 33, \"value\": \"Postpartum Support ...\"}, \"Dexbaby Safe Lift Universal Crib Wedge, White\": {\"frequency\": 33, \"value\": \"Dexbaby Safe Lift ...\"}, \"Kushies 5 Pack Reusable Ultra Diapers for Infants\": {\"frequency\": 20, \"value\": \"Kushies 5 Pack ...\"}, \"The First Years Ignite Stroller\": {\"frequency\": 209, \"value\": \"The First Years ...\"}, \"Tiny Love Super Mat\": {\"frequency\": 40, \"value\": \"Tiny Love Super ...\"}, \"Safety 1st Vantage High Back Booster Car Seat, Nitron\": {\"frequency\": 21, \"value\": \"Safety 1st Vantage ...\"}, \"Safety 1st Power Strip Cover\": {\"frequency\": 16, \"value\": \"Safety 1st Power ...\"}, \"Baby Starters Plush Snuggle Buddy, Blue Monkey\": {\"frequency\": 43, \"value\": \"Baby Starters ...\"}, \"ERGObaby Heart2Heart Infant Insert, Natural\": {\"frequency\": 37, \"value\": \"ERGObaby ...\"}, \"Luvable Friends Flannel Fitted Crib Sheet, Yellow Circle\": {\"frequency\": 22, \"value\": \"Luvable Friends ...\"}, \"Car Seat Protector - Luxury Car Seat Protector Mat Will Instantly Keep Your Leather or Cloth Back Seat Clean From Scuffmarks Left By Your Kids Feet, Stains Or Spills - Custom Designed With a Super Anti-Slip Backing To Stop Your Baby's Car Seat From Slipping Which Makes Sure Your Baby is Safe at All Times - This Car Seat Protector Comes With a Lifetime NO-Hassle Free Replacement Guarantee!\": {\"frequency\": 16, \"value\": \"Car Seat Protector ...\"}, \"9V Auto Adapter Car Vehicle Lighter adapter for Medela Pump-in-Style Replaces Part # 67174 Retail Packaging\": {\"frequency\": 22, \"value\": \"9V Auto Adapter ...\"}, \"BRICA Roll 'n Go Car Seat Transporter\": {\"frequency\": 30, \"value\": \"BRICA Roll 'n Go ...\"}, \"Kidkusion Toddler Edge Kushions Black\": {\"frequency\": 47, \"value\": \"Kidkusion Toddler ...\"}, \"Sliding Door Locks\": {\"frequency\": 22, \"value\": \"Sliding Door Locks\"}, \"Stork Craft Portofino 4-in-1 Fixed Side Convertible Crib and Changer, Espresso\": {\"frequency\": 51, \"value\": \"Stork Craft ...\"}, \"The Original Tummy Tub Baby Bath - Clear\": {\"frequency\": 19, \"value\": \"The Original Tummy ...\"}, \"Trio of Sunshine&reg; Polishing Cloths for Sterling Silver, Gold, Brass and Copper Metal Jewelry (Set of 3 Tubes)\": {\"frequency\": 17, \"value\": \"Trio of ...\"}, \"Safety 1st Perfect Fit Gate\": {\"frequency\": 21, \"value\": \"Safety 1st Perfect ...\"}, \"Green Eats 4 Pack Snack Bowl, Blue\": {\"frequency\": 17, \"value\": \"Green Eats 4 Pack ...\"}, \"The First Years  Deluxe Fold and Go Diapering Kit, Black/Gray\": {\"frequency\": 21, \"value\": \"The First Years ...\"}, \"Munchkin Light My Way Nightlight\": {\"frequency\": 20, \"value\": \"Munchkin Light My ...\"}, \"Philips AVENT 11 Ounce BPA Free Classic Polypropylene Bottle, 1-Pack\": {\"frequency\": 20, \"value\": \"Philips AVENT 11 ...\"}, \"Infantino Union Ergonomic Carrier, Gray\": {\"frequency\": 32, \"value\": \"Infantino Union ...\"}, \"HALO SleepSack 100% Cotton Swaddle, Soft Pink, Newborn\": {\"frequency\": 86, \"value\": \"HALO SleepSack ...\"}, \"Piyo Piyo Yellow Baby Nail Scissors\": {\"frequency\": 99, \"value\": \"Piyo Piyo Yellow ...\"}, \"Disney 4 Piece Toddler Bedding Set, Taking The Race\": {\"frequency\": 32, \"value\": \"Disney 4 Piece ...\"}, \"Graco Lauren Dressing Table, White\": {\"frequency\": 33, \"value\": \"Graco Lauren ...\"}, \"Carters Wrap Me Up Receiving Blanket, 4 Pack, Green\": {\"frequency\": 28, \"value\": \"Carters Wrap Me Up ...\"}, \"Jeep Overland Limited Jogging Stroller with Front Fixed Wheel, Fierce\": {\"frequency\": 40, \"value\": \"Jeep Overland ...\"}, \"Jeep Car Seat Travel Bag\": {\"frequency\": 72, \"value\": \"Jeep Car Seat ...\"}, \"OXO Tot Seedling Youth Booster Seat, Green\": {\"frequency\": 39, \"value\": \"OXO Tot Seedling ...\"}, \"Prince Lionheart weePOD, Green\": {\"frequency\": 28, \"value\": \"Prince Lionheart ...\"}, \"Earlyears Fill n Fun Water Mat Toy\": {\"frequency\": 39, \"value\": \"Earlyears Fill n ...\"}, \"Safety 1st Crystal Clear Baby Monitor, White\": {\"frequency\": 54, \"value\": \"Safety 1st Crystal ...\"}, \"Ameda Purely Yours Breast Pump - Carry All\": {\"frequency\": 60, \"value\": \"Ameda Purely Yours ...\"}, \"Medela Nursing Stool\": {\"frequency\": 21, \"value\": \"Medela Nursing ...\"}, \"Summer Infant Sure and Secure Double Bedrail, Blue\": {\"frequency\": 32, \"value\": \"Summer Infant Sure ...\"}, \"Tadpoles Playmat Set, Modern/Multi\": {\"frequency\": 35, \"value\": \"Tadpoles Playmat ...\"}, \"The First Years Stack N Count Cups\": {\"frequency\": 42, \"value\": \"The First Years ...\"}, \"Philips AVENT BPA Free Contemporary Freeflow Pacifier, 0-6 Months, 2-Pack, Colors and Designs May Vary\": {\"frequency\": 37, \"value\": \"Philips AVENT BPA ...\"}, \"Carters Easy Fit Sateen Crib Fitted Sheet, Ecru\": {\"frequency\": 24, \"value\": \"Carters Easy Fit ...\"}, \"Dr. Brown's Designed To Nourish My Dot Storage Labels, 72-Count, Colors May Vary\": {\"frequency\": 17, \"value\": \"Dr. Brown's ...\"}, \"Baby Aspen Let The Fin Begin Terry Shark Robe, Blue, 0-9 Months\": {\"frequency\": 21, \"value\": \"Baby Aspen Let The ...\"}, \"Boba Classic Baby Carrier, Dusk\": {\"frequency\": 24, \"value\": \"Boba Classic Baby ...\"}, \"Philips AVENT 9 Ounce BPA Free Natural Drinking Cup, 1-Pack, Red\": {\"frequency\": 49, \"value\": \"Philips AVENT 9 ...\"}, \"Orbit Baby Stroller Travel System G2, Black\": {\"frequency\": 16, \"value\": \"Orbit Baby ...\"}, \"Professional Clinical Large LCD Non-contact Infrared Thermometer - Forehead (Fahrenheit Readings)\": {\"frequency\": 30, \"value\": \"Professional ...\"}, \"Chicco Ct0.6 Capri Lightweight Stroller, Red\": {\"frequency\": 17, \"value\": \"Chicco Ct0.6 Capri ...\"}, \"Graco Contempo Highchair, Rittenhouse\": {\"frequency\": 20, \"value\": \"Graco Contempo ...\"}, \"Moby Wrap UV SPF 50+ 100% Cotton Baby Carrier, Sand\": {\"frequency\": 33, \"value\": \"Moby Wrap UV SPF ...\"}, \"Fisher-Price 2-in-1 Projection Mobile, Precious Planet\": {\"frequency\": 141, \"value\": \"Fisher-Price ...\"}, \"Peg-Perego Prima Pappa Best High Chair, Paloma\": {\"frequency\": 20, \"value\": \"Peg-Perego Prima ...\"}, \"Playtex Lil' Gripper/Anytime 9 Ounce Straw Cup, 2 Count, Colors May Vary\": {\"frequency\": 20, \"value\": \"Playtex Lil' ...\"}, \"Munchkin Five Sea Squirts\": {\"frequency\": 36, \"value\": \"Munchkin Five Sea ...\"}, \"Medela Value Pack Bpa-free Feeding Gift Set : New Wide Base Nipple\": {\"frequency\": 18, \"value\": \"Medela Value Pack ...\"}, \"Ocean Wonders Musical Aquarium Crib Attachment\": {\"frequency\": 63, \"value\": \"Ocean Wonders ...\"}, \"Luvable Friends 3 Pack Assorted Sippy Cups &amp; Lids, Pink Assorted\": {\"frequency\": 24, \"value\": \"Luvable Friends 3 ...\"}, \"Kidco Auto Close HearthGate Black Pet Gate\": {\"frequency\": 21, \"value\": \"Kidco Auto Close ...\"}, \"5 Piece Dark Gray Suit with Shirt, Vest, and Tie - Size 10\": {\"frequency\": 30, \"value\": \"5 Piece Dark Gray ...\"}, \"Quick Clean Breastpump Accessory Wipes 24 Pack\": {\"frequency\": 32, \"value\": \"Quick Clean ...\"}, \"babyletto Modo 3 in 1 Crib with Toddler Rail, Espresso\": {\"frequency\": 22, \"value\": \"babyletto Modo 3 ...\"}, \"Fisher-Price Space Saver High Chair - Tan\": {\"frequency\": 33, \"value\": \"Fisher-Price Space ...\"}, \"Summer Infant Duomat\": {\"frequency\": 17, \"value\": \"Summer Infant ...\"}, \"Gerber Birdseye 10 Count Flatfold Cloth Diapers, White\": {\"frequency\": 40, \"value\": \"Gerber Birdseye 10 ...\"}, \"Philips AVENT BPA Free Classic Polypropylene Bottle, Pink, 9 Ounce, 3 Pack\": {\"frequency\": 22, \"value\": \"Philips AVENT BPA ...\"}, \"Playtex Diaper Genie Elite Diaper Disposal Pail, White\": {\"frequency\": 138, \"value\": \"Playtex Diaper ...\"}, \"Snappi Cloth Diaper Fasteners - Toddler Size 2 - Pack of 2 (Mint Green, White)\": {\"frequency\": 15, \"value\": \"Snappi Cloth ...\"}, \"NTM-910YIC - Sony Baby Call Nursery Monitor\": {\"frequency\": 265, \"value\": \"NTM-910YIC - Sony ...\"}, \"Animal Planet's Big Tub of Dinosaurs\": {\"frequency\": 42, \"value\": \"Animal Planet's ...\"}, \"Baby Trend Expedition LX Travel System, Millennium\": {\"frequency\": 28, \"value\": \"Baby Trend ...\"}, \"KidCo Center Gateway - White\": {\"frequency\": 26, \"value\": \"KidCo Center ...\"}, \"Britax Advocate 70 CS Click &amp; Safe Convertible Car Seat (Previous Version), Onyx\": {\"frequency\": 31, \"value\": \"Britax Advocate 70 ...\"}, \"Sugarbooger Classic Lunch Sack, Dia De Los Muertos\": {\"frequency\": 22, \"value\": \"Sugarbooger ...\"}, \"Best Bottom Cloth Diapers - Snap - Orange Sherbet\": {\"frequency\": 33, \"value\": \"Best Bottom Cloth ...\"}, \"Upspring Baby Walking Wings Learning To Walk Assistant Blue\": {\"frequency\": 19, \"value\": \"Upspring Baby ...\"}, \"Fisher-Price Papasan Cradle Swing, Butterfly Garden\": {\"frequency\": 172, \"value\": \"Fisher-Price ...\"}, \"Baby Brezza One Step Baby Food Maker, White/Grey\": {\"frequency\": 46, \"value\": \"Baby Brezza One ...\"}, \"Kushies &quot;On the Go&quot; 2 Pack Wet Bag, Green  (Patterns and Colors May Vary)\": {\"frequency\": 30, \"value\": \"Kushies &quot;On ...\"}, \"Kinderglo Portable Fun and Safe Rechargeable Night Light, Quarter Moon\": {\"frequency\": 49, \"value\": \"Kinderglo Portable ...\"}, \"Motorola Digital Audio Baby Monitor\": {\"frequency\": 19, \"value\": \"Motorola Digital ...\"}, \"Trend Lab Storage Caddy, Ultrasuede Brown/Pink\": {\"frequency\": 34, \"value\": \"Trend Lab Storage ...\"}, \"Re-Play Divided Plates, Aqua, Green, Orange, 3-Count\": {\"frequency\": 49, \"value\": \"Re-Play Divided ...\"}, \"Ju-Ju-Be B.F.F. Diaper Bag, Black/Silver\": {\"frequency\": 32, \"value\": \"Ju-Ju-Be B.F.F. ...\"}, \"&quot;A Little Pillow Company&quot; Hypoallergenic TODDLER PILLOW in White - 13&quot;x18&quot; (Ages 2 - 4)\": {\"frequency\": 29, \"value\": \"&quot;A Little ...\"}, \"Mustela 2-In-1 Hair &amp; Body Shampoo 6.76 ounces\": {\"frequency\": 19, \"value\": \"Mustela 2-In-1 ...\"}, \"MAM Love and Affection 2 Pack Pacifier Clips, Colors May Vary\": {\"frequency\": 16, \"value\": \"MAM Love and ...\"}, \"Kalencom Potette Plus Liners - 30 Liners\": {\"frequency\": 32, \"value\": \"Kalencom Potette ...\"}, \"Ikea 36 Pcs Kalas Kids Plastic BPA Free Flatware, Bowl, Plate, Tumbler Set, Colorful\": {\"frequency\": 34, \"value\": \"Ikea 36 Pcs Kalas ...\"}, \"Sassy No Scratch Bottle Brush, Colors May Vary\": {\"frequency\": 16, \"value\": \"Sassy No Scratch ...\"}, \"Lamaze Crib Soother, Northern Lights\": {\"frequency\": 17, \"value\": \"Lamaze Crib ...\"}, \"Baby Einstein Musical Motion Activity Jumper\": {\"frequency\": 17, \"value\": \"Baby Einstein ...\"}, \"Dr. Brown's BPA Free Polypropylene Natural Flow Standard Neck Bottle, 4 oz - 3-Pack\": {\"frequency\": 23, \"value\": \"Dr. Brown's BPA ...\"}, \"The First Years Newborn to Toddler Reclining Feeding Seat\": {\"frequency\": 43, \"value\": \"The First Years ...\"}, \"Samsung SEW-3037W Wireless Pan Tilt Video Baby Monitor Infrared Night Vision and Zoom, 3.5 inch\": {\"frequency\": 115, \"value\": \"Samsung SEW-3037W ...\"}, \"Philips AVENT Washable Nursing Pads, 6-Count\": {\"frequency\": 49, \"value\": \"Philips AVENT ...\"}, \"Bright Starts Pretty in Pink Put and Take Purse\": {\"frequency\": 16, \"value\": \"Bright Starts ...\"}, \"My Brest Friend Pillow, Sunburst\": {\"frequency\": 64, \"value\": \"My Brest Friend ...\"}, \"Dr. Brown's 3 Pack BPA Free Polypropylene Bottle, 8 oz\": {\"frequency\": 64, \"value\": \"Dr. Brown's 3 Pack ...\"}, \"Dr. Brown's Natural Flow Standard Glass Bottles,  4 Ounce, 2-Count\": {\"frequency\": 29, \"value\": \"Dr. Brown's ...\"}, \"Nursery Fresh Refill for Diaper Genie 4 Pack, 1,088 Count\": {\"frequency\": 34, \"value\": \"Nursery Fresh ...\"}, \"HALO SleepSack Micro-Fleece Early Walker Wearable Blanket, Baby Blue, Large\": {\"frequency\": 75, \"value\": \"HALO SleepSack ...\"}, \"Jolly Jumper Auto Seat Back Protector - 2 Pack\": {\"frequency\": 22, \"value\": \"Jolly Jumper Auto ...\"}, \"Infantino Swift Classic Carrier Black\": {\"frequency\": 94, \"value\": \"Infantino Swift ...\"}, \"DaVinci Elizabeth II Convertible Toddler Bed in White\": {\"frequency\": 18, \"value\": \"DaVinci Elizabeth ...\"}, \"P'Kolino Little Sofa Lounge, Red\": {\"frequency\": 19, \"value\": \"P'Kolino Little ...\"}, \"Fisher-Price Rainforest Peek-a-Boo Soother, Waterfall\": {\"frequency\": 23, \"value\": \"Fisher-Price ...\"}, \"Animals Alphabet Baby Nursery Peel &amp; Stick Wall Art Sticker Decals for Boys and Girls\": {\"frequency\": 40, \"value\": \"Animals Alphabet ...\"}, \"Summer Infant Little Looster\": {\"frequency\": 32, \"value\": \"Summer Infant ...\"}, \"Sesame Street Framed Friends Green Folding Travel Potty Seat\": {\"frequency\": 20, \"value\": \"Sesame Street ...\"}, \"Fisher-Price Luv U Zoo EZ Clean High Chair\": {\"frequency\": 67, \"value\": \"Fisher-Price Luv U ...\"}, \"3 Packs of NUK Replacement Silicone Spout, Clear\": {\"frequency\": 21, \"value\": \"3 Packs of NUK ...\"}, \"Withings Smart Baby Monitor, White\": {\"frequency\": 44, \"value\": \"Withings Smart ...\"}, \"Juvenile Solutions Baby Cubes (2 oz/Pack of 8)\": {\"frequency\": 20, \"value\": \"Juvenile Solutions ...\"}, \"Baby Jogger 2010 City Mini Single Stroller, Black/Black\": {\"frequency\": 16, \"value\": \"Baby Jogger 2010 ...\"}, \"Munchkin Easy-Close Extra Tall and Wide Metal Gate, Dark Grey\": {\"frequency\": 27, \"value\": \"Munchkin Easy- ...\"}, \"Philips AVENT BPA Free Bottle, 4 Ounce, Dual Pack\": {\"frequency\": 35, \"value\": \"Philips AVENT BPA ...\"}, \"Cosco Flat-Fold High Chair, Zambia\": {\"frequency\": 19, \"value\": \"Cosco Flat-Fold ...\"}, \"The First Years Microwave Sterilizer\": {\"frequency\": 16, \"value\": \"The First Years ...\"}, \"HALO SleepSack Micro Fleece Wearable Blanket, Print Boy, Small\": {\"frequency\": 31, \"value\": \"HALO SleepSack ...\"}, \"Beaba Multiportion Freezer Tray - Orange\": {\"frequency\": 40, \"value\": \"Beaba Multiportion ...\"}, \"Chicco Capri Lightweight Stroller, Tangerine\": {\"frequency\": 47, \"value\": \"Chicco Capri ...\"}, \"Stork Craft Beatrice 4 Drawer Chest, White\": {\"frequency\": 20, \"value\": \"Stork Craft ...\"}, \"Baby Einstein Baby Neptune Ocean Orchestra Musical Toy\": {\"frequency\": 19, \"value\": \"Baby Einstein Baby ...\"}, \"BRICA Fold N' Go Travel Booster Seat, Gray/Black/Green\": {\"frequency\": 40, \"value\": \"BRICA Fold N' Go ...\"}, \"Evenflo Summit Easy Walk-Thru Gate\": {\"frequency\": 32, \"value\": \"Evenflo Summit ...\"}, \"Dream Collection Doll Feeding Time Set with Pacifier\": {\"frequency\": 20, \"value\": \"Dream Collection ...\"}, \"2 Tubing for Medela Pump in Style and New Pump in Style Advanced Breast Pump - BPA Free, Steam Heat Tolerant; Replacement for Medela Part # 87212, 8007156, 8007212; Made by Maymom (One Pack)\": {\"frequency\": 21, \"value\": \"2 Tubing for ...\"}, \"Kiddopotamus SwaddleMe 100% Cotton Knit, Small, Sage\": {\"frequency\": 17, \"value\": \"Kiddopotamus ...\"}, \"Spray Pal - Cloth Diaper Sprayer Splatter Shield\": {\"frequency\": 28, \"value\": \"Spray Pal - Cloth ...\"}, \"The First Years Breastflow Milk Storage Organizer\": {\"frequency\": 71, \"value\": \"The First Years ...\"}, \"Jeep Cherokee Sport Stroller, Siren\": {\"frequency\": 27, \"value\": \"Jeep Cherokee ...\"}, \"The First Years True Choice P400 Premium Digital Monitor, 2 Parent Unit\": {\"frequency\": 33, \"value\": \"The First Years ...\"}, \"Cozy Car Seat Microfiber and Fleece Cover- Pink\": {\"frequency\": 26, \"value\": \"Cozy Car Seat ...\"}, \"Dappi Waterproof 100% Nylon Diaper Pants, 2 Pack, White, Small\": {\"frequency\": 43, \"value\": \"Dappi Waterproof ...\"}, \"Digital Connect Digital Baby Monitor - 1 Parent Unit\": {\"frequency\": 23, \"value\": \"Digital Connect ...\"}, \"ERGObaby Original Doll Carrier, Galaxy Grey\": {\"frequency\": 34, \"value\": \"ERGObaby Original ...\"}, \"Carters Quilted Woven Playard Fitted Sheet, Animal\": {\"frequency\": 26, \"value\": \"Carters Quilted ...\"}, \"Disney Mickey Mouse Space Adventures 4 Piece Toddler Set, Blue\": {\"frequency\": 19, \"value\": \"Disney Mickey ...\"}, \"Playtex Diaper Genie Essentials Diaper Disposal Pail\": {\"frequency\": 34, \"value\": \"Playtex Diaper ...\"}, \"Regalo Easy Step Walk Thru Gate, White\": {\"frequency\": 334, \"value\": \"Regalo Easy Step ...\"}, \"Skip Hop Reversible Plush Blanket, Alphabet Zoo\": {\"frequency\": 21, \"value\": \"Skip Hop ...\"}, \"C.R. Gibson First Year Calendar, Alex\": {\"frequency\": 22, \"value\": \"C.R. Gibson First ...\"}, \"Lifefactory 9-Ounce Glass Bottle, Raspberry\": {\"frequency\": 22, \"value\": \"Lifefactory ...\"}, \"Levana Wireless Audio Baby Monitor with Sound Indicator LEDs (LV-TW100)\": {\"frequency\": 21, \"value\": \"Levana Wireless ...\"}, \"Sassy Rattlin Rings, Blue/Black\": {\"frequency\": 34, \"value\": \"Sassy Rattlin ...\"}, \"Lamaze Tug &amp; Play Activity Knot Take Along Toy\": {\"frequency\": 18, \"value\": \"Lamaze Tug &amp; ...\"}, \"Lamaze High-Contrast Panda Rattle\": {\"frequency\": 22, \"value\": \"Lamaze High- ...\"}, \"2 in 1 Professional Clinical RY230 Large LCD Non-contact Infrared Thermometer - Forehead and Surface\": {\"frequency\": 41, \"value\": \"2 in 1 ...\"}, \"C.R. Gibson Thank You Notes, 10 Boxed, Alligator\": {\"frequency\": 17, \"value\": \"C.R. Gibson Thank ...\"}, \"[Award Winning] Kidsme Food Feeder (Large size)\": {\"frequency\": 46, \"value\": \"[Award Winning] ...\"}, \"Kidco Anti-Tip TV Strap - 2 Pack\": {\"frequency\": 17, \"value\": \"Kidco Anti-Tip TV ...\"}, \"Snappi Cloth Diaper Fasteners - Pack of 5 (2 Mint Green, 2 White, 1 Blue)\": {\"frequency\": 24, \"value\": \"Snappi Cloth ...\"}, \"3 Pack Snack Trap (colors may vary)\": {\"frequency\": 31, \"value\": \"3 Pack Snack Trap ...\"}, \"Summer Infant By Your Side Sleeper Portable Bedding\": {\"frequency\": 27, \"value\": \"Summer Infant By ...\"}, \"Mommy's Helper Slide-Lok Bi-Fold Door Lock\": {\"frequency\": 68, \"value\": \"Mommy's Helper ...\"}, \"BOB Sport Utility Duallie Stroller, Orange\": {\"frequency\": 16, \"value\": \"BOB Sport Utility ...\"}, \"Britax Marathon G4 Convertible Car Seat, Cowmooflage\": {\"frequency\": 31, \"value\": \"Britax Marathon G4 ...\"}, \"Playtex Lil' Gripper/TrainingTime Straw Trainer Cup, 6 Ounce , Colors May Vary\": {\"frequency\": 39, \"value\": \"Playtex Lil' Gripp ...\"}, \"Diono Radian Travel Bag, Black\": {\"frequency\": 19, \"value\": \"Diono Radian ...\"}, \"Rhino Toys Oball Rattle,  Colors May Vary\": {\"frequency\": 22, \"value\": \"Rhino Toys Oball ...\"}, \"UPPAbaby 2013 G-lite Stroller, Denny Red\": {\"frequency\": 18, \"value\": \"UPPAbaby 2013 ...\"}, \"NUK Active Silicone Spout Learning Cup, Ladybug, 10-Ounce\": {\"frequency\": 26, \"value\": \"NUK Active ...\"}, \"Rumparooz Reusable Cloth Pocket Diaper, Ladder 6, Aplix\": {\"frequency\": 25, \"value\": \"Rumparooz Reusable ...\"}, \"Evenflo Home D&eacute;cor Wood Gate, Natural Oak\": {\"frequency\": 19, \"value\": \"Evenflo Home ...\"}, \"Wabi Baby Electric Steam Baby Bottle Sterilizer and Dryer\": {\"frequency\": 16, \"value\": \"Wabi Baby Electric ...\"}, \"Thirsties Duo Wrap Snap, Ocean Blue, Size One (6-18 lbs)\": {\"frequency\": 140, \"value\": \"Thirsties Duo Wrap ...\"}, \"DEX Products Closet Cubby\": {\"frequency\": 17, \"value\": \"DEX Products ...\"}, \"Cosco High Back Booster, Ava\": {\"frequency\": 16, \"value\": \"Cosco High Back ...\"}, \"Trend Lab Fleece CribWrap Rail Covers for Crib Sides (Set of 2), Pink, Wide\": {\"frequency\": 27, \"value\": \"Trend Lab Fleece ...\"}, \"GumDrop Pacifier Full-Term Natural Scent Orange 5 Pack\": {\"frequency\": 21, \"value\": \"GumDrop Pacifier ...\"}, \"JJ Cole Original Infant Bundle Me, Graphite\": {\"frequency\": 37, \"value\": \"JJ Cole Original ...\"}, \"Evenflo Crosstown Soft Portable Travel Gate\": {\"frequency\": 42, \"value\": \"Evenflo Crosstown ...\"}, \"Leachco Snoogle Chic Total Body Pregnancy Pillow with Easy on-off Zippered Cover - Sunny Circles\": {\"frequency\": 17, \"value\": \"Leachco Snoogle ...\"}, \"Baby's My First Photo Album of Family &amp; Friends\": {\"frequency\": 53, \"value\": \"Baby's My First ...\"}, \"Safety 1st Alpha Elite 65 Infant Car Seat, Rachel\": {\"frequency\": 18, \"value\": \"Safety 1st Alpha ...\"}, \"Trend Lab Caterpillar Blooming Bouquet Burp Cloths, Set of 4\": {\"frequency\": 20, \"value\": \"Trend Lab ...\"}, \"Pourty Easy-to-Pour Potty, Blue\": {\"frequency\": 26, \"value\": \"Pourty Easy-to- ...\"}, \"Graco Charleston Non-Drop Classic Crib, Cherry\": {\"frequency\": 20, \"value\": \"Graco Charleston ...\"}, \"The First Years Compass Pathway B570 Adjustable Booster Seat, Black and Khaki\": {\"frequency\": 25, \"value\": \"The First Years ...\"}, \"Graco Affix Backless Youth Booster Seat with Latch System, Sailor\": {\"frequency\": 43, \"value\": \"Graco Affix ...\"}, \"The First Years Breastflow Mipump Single Electric Breast Pump\": {\"frequency\": 22, \"value\": \"The First Years ...\"}, \"Arm's Reach Mini Co-Sleeper Bassinet - Natural\": {\"frequency\": 23, \"value\": \"Arm's Reach Mini ...\"}, \"Eddie Bauer Velboa Play Yard Sheet, Ecru\": {\"frequency\": 23, \"value\": \"Eddie Bauer Velboa ...\"}, \"Philips AVENT BPA Free ISIS iQ Duo Twin Electric Breast Pump, White\": {\"frequency\": 18, \"value\": \"Philips AVENT BPA ...\"}, \"Carters Super Soft Bumper, Pink\": {\"frequency\": 56, \"value\": \"Carters Super Soft ...\"}, \"The First Years Massaging Action Teether\": {\"frequency\": 38, \"value\": \"The First Years ...\"}, \"Itzy Ritzy Snack HappensSnack Mini Reusable Snack Bag, Social Circle Pink, 2-Count\": {\"frequency\": 39, \"value\": \"Itzy Ritzy Snack ...\"}, \"BOB Sport Utility Single Stroller, Blue\": {\"frequency\": 18, \"value\": \"BOB Sport Utility ...\"}, \"Levana Jena Digital Baby Video Monitor with 8 Hour Rechargeable Battery and Talk to Baby Intercom\": {\"frequency\": 108, \"value\": \"Levana Jena ...\"}, \"Lilly Gold Sit 'n Stroll 5-in-1 Combination Car Seat/Stroller\": {\"frequency\": 16, \"value\": \"Lilly Gold Sit 'n ...\"}, \"Munchkin Mighty Grip Flip Straw Cups 2-Pack, 10- Ounce (Colors Vary)\": {\"frequency\": 31, \"value\": \"Munchkin Mighty ...\"}, \"Boon Squirt Silicone Baby Food Dispensing Spoon,Green\": {\"frequency\": 20, \"value\": \"Boon Squirt ...\"}, \"Eddie Bauer Car Seat Travel Bag\": {\"frequency\": 22, \"value\": \"Eddie Bauer Car ...\"}, \"Carters Keep Me Dry Water Resistant Flannel Crib Pad, White\": {\"frequency\": 25, \"value\": \"Carters Keep Me ...\"}, \"Medela Single Deluxe Battery/Electric Breastpump\": {\"frequency\": 31, \"value\": \"Medela Single ...\"}, \"Philips AVENT 3-in-1 Electric Steam Sterilizer\": {\"frequency\": 69, \"value\": \"Philips AVENT ...\"}, \"Brown Monkey Baby Bottle Holder for Hands Free Bottle Feeding by Bebe Bottle Sling, LLC\": {\"frequency\": 17, \"value\": \"Brown Monkey Baby ...\"}, \"Graco Bumper Jumper in Little Jungle\": {\"frequency\": 132, \"value\": \"Graco Bumper ...\"}, \"Bright Starts Start Your Senses Sensory Giraffe\": {\"frequency\": 19, \"value\": \"Bright Starts ...\"}, \"Infantino Cloud Cart Cover, Numbers\": {\"frequency\": 22, \"value\": \"Infantino Cloud ...\"}, \"BABYBJORN Smart Potty - Red\": {\"frequency\": 66, \"value\": \"BABYBJORN Smart ...\"}, \"Playtex Nurser With Drop-Ins Liner, 4 Ounce, Colors May Vary, 3-Count\": {\"frequency\": 45, \"value\": \"Playtex Nurser ...\"}, \"aden + anais Muslin Dream Blanket, For The Birds - Owl\": {\"frequency\": 52, \"value\": \"aden + anais ...\"}, \"Em's 4 Bubs Hearing Protection Baby Earmuffs Size 0-18 Months (Black)\": {\"frequency\": 23, \"value\": \"Em's 4 Bubs ...\"}, \"Baby Trend Activity Walker\": {\"frequency\": 18, \"value\": \"Baby Trend ...\"}, \"Fisher-Price Cradle n Swing, My Little Lamb\": {\"frequency\": 81, \"value\": \"Fisher-Price ...\"}, \"Baby Einstein Press and Play Pal Toy, Neptune\": {\"frequency\": 41, \"value\": \"Baby Einstein ...\"}, \"Munchkin 2 Pack Mighty Grip Spill-Proof Cup, 10 Ounce, Colors May Vary\": {\"frequency\": 17, \"value\": \"Munchkin 2 Pack ...\"}, \"Philips AVENT Comfort Breast Shell Set, 2-Pack\": {\"frequency\": 29, \"value\": \"Philips AVENT ...\"}, \"Nosefrida Baby Nasal Aspirator with 4 filters and 20 Additional Filters\": {\"frequency\": 163, \"value\": \"Nosefrida Baby ...\"}, \"Motorola MBP36 Remote Wireless Video Baby Monitor with 3.5-Inch Color LCD Screen, Infrared Night Vision and Remote Camera Pan, Tilt, and Zoom\": {\"frequency\": 180, \"value\": \"Motorola MBP36 ...\"}, \"Baby Jogger City Select Single Stroller, Onyx\": {\"frequency\": 23, \"value\": \"Baby Jogger City ...\"}, \"Boon Lawn Countertop Drying Rack, Green\": {\"frequency\": 58, \"value\": \"Boon Lawn ...\"}, \"North States Superyard 3 in 1 Wood Gate\": {\"frequency\": 38, \"value\": \"North States ...\"}, \"Safety 1st OnBoard 35 Adjustable Infant Car Seat Base, Black\": {\"frequency\": 37, \"value\": \"Safety 1st OnBoard ...\"}, \"Baby Jogger 2012 City Mini Single Stroller, Green/Gray\": {\"frequency\": 38, \"value\": \"Baby Jogger 2012 ...\"}, \"CribWrap Crib Wrap 3PC Rail Cover Set By Trend Lab - 1- 51&quot; Front Rail Cover &amp; 2- 27&quot; Side Rail Covers &amp; Bonus Cloud B Plush Rattle, Blue Fleece\": {\"frequency\": 18, \"value\": \"CribWrap Crib Wrap ...\"}, \"Cosco Scenera Convertible Car Seat Black\": {\"frequency\": 34, \"value\": \"Cosco Scenera ...\"}, \"Fresh N Freeze 2 oz. Reusable Baby Food Containers 12-Pack\": {\"frequency\": 52, \"value\": \"Fresh N Freeze 2 ...\"}, \"Kiddopotamus Snuzzler Complete Head and Body Support, Ivory Fleece &amp; Navy Trim\": {\"frequency\": 18, \"value\": \"Kiddopotamus ...\"}, \"WubbaNub Giraffe\": {\"frequency\": 97, \"value\": \"WubbaNub Giraffe\"}, \"Maxboost Fusion Snap-on iPhone 5S/5 Case - Pink (Fit Fusion Battery Case for iPhone 5S/5)\": {\"frequency\": 15, \"value\": \"Maxboost Fusion ...\"}, \"The First Years John Deere Massaging Corn Teether\": {\"frequency\": 22, \"value\": \"The First Years ...\"}, \"bumGenius Elemental One-Size Diaper - White\": {\"frequency\": 17, \"value\": \"bumGenius ...\"}, \"Medela Pump in Style Advanced Breast Pump with Shoulder Bag\": {\"frequency\": 18, \"value\": \"Medela Pump in ...\"}, \"Nuby 3-D Snack Keeper, Monster\": {\"frequency\": 36, \"value\": \"Nuby 3-D Snack ...\"}, \"Medela Pump in Style Advanced Double Breast Pump\": {\"frequency\": 31, \"value\": \"Medela Pump in ...\"}, \"Badger Basket Company Natural Baby Moses Basket with Hood - Blue Gingham Bedding\": {\"frequency\": 17, \"value\": \"Badger Basket ...\"}, \"Baby Deedee Sleep Nest Lite Baby Sleeping Bag, Heather Gray Lime, Small (0-6 Months)\": {\"frequency\": 16, \"value\": \"Baby Deedee Sleep ...\"}, \"Summer Infant Deluxe Comfort Booster- Tan\": {\"frequency\": 65, \"value\": \"Summer Infant ...\"}, \"Re-Play 3 Count Bowls, Pink, Green, Orange\": {\"frequency\": 19, \"value\": \"Re-Play 3 Count ...\"}, \"Squooshi Reusable Food Pouch, Small Lion/Bluebird, 2.5 Ounce, 4-Count\": {\"frequency\": 17, \"value\": \"Squooshi Reusable ...\"}, \"Mommys Helper Safe Plate Electrical Outlet Covers Standard, White\": {\"frequency\": 45, \"value\": \"Mommys Helper Safe ...\"}, \"Skip Hop Treetop Friends Activity Gym\": {\"frequency\": 47, \"value\": \"Skip Hop Treetop ...\"}, \"Philips AVENT BPA Free Infant Bottle Starter Set\": {\"frequency\": 20, \"value\": \"Philips AVENT BPA ...\"}, \"Kiddopotamus SwaddleMe Microfleece, Small, Blue\": {\"frequency\": 67, \"value\": \"Kiddopotamus ...\"}, \"Lambs &amp; Ivy Basket, Espresso\": {\"frequency\": 20, \"value\": \"Lambs &amp; Ivy ...\"}, \"Summer Infant Changing Pad Cover, Who Loves You Owl\": {\"frequency\": 18, \"value\": \"Summer Infant ...\"}, \"American Baby Company Heavenly Soft Chenille Crib Sheet, Ecru\": {\"frequency\": 28, \"value\": \"American Baby ...\"}, \"Simple Wishes Hands-Free Breastpump Bra, Pink, XS-L\": {\"frequency\": 547, \"value\": \"Simple Wishes ...\"}, \"Clevamama ClevaFoam Toddler Pillow, Cream\": {\"frequency\": 16, \"value\": \"Clevamama ...\"}, \"Supergate Extra-Wide Gate, Ivory\": {\"frequency\": 30, \"value\": \"Supergate Extra- ...\"}, \"One Direction Life-size Stand-up Cutout- Niall\": {\"frequency\": 41, \"value\": \"One Direction ...\"}, \"Playtex BPA Free VentAire Wide Bottle Newborn Starter Set (Packaging may vary)\": {\"frequency\": 44, \"value\": \"Playtex BPA Free ...\"}, \"Levana BABYVIEW20 Interference Free Digital Wireless Video Baby Monitor with Night Light Lullaby Camera\": {\"frequency\": 80, \"value\": \"Levana BABYVIEW20 ...\"}, \"Prince Lionheart Wheely Bug, Ladybug, Large\": {\"frequency\": 83, \"value\": \"Prince Lionheart ...\"}, \"Dr. Brown's Formula Mixing Pitcher\": {\"frequency\": 144, \"value\": \"Dr. Brown's ...\"}, \"Britax Pavilion G4 Convertible Car Seat, Cowmooflage\": {\"frequency\": 16, \"value\": \"Britax Pavilion G4 ...\"}, \"PBnJ baby Paci Holder, Big Pink/Purple Dots\": {\"frequency\": 18, \"value\": \"PBnJ baby Paci ...\"}, \"Magic Bumpers Portable Child Safety Bed Guard Rail 48 Inch - Set of Two\": {\"frequency\": 38, \"value\": \"Magic Bumpers ...\"}, \"Graco 1 Second Ear Thermometer\": {\"frequency\": 23, \"value\": \"Graco 1 Second Ear ...\"}, \"The First Years miPump Double Electric Breast Pump\": {\"frequency\": 48, \"value\": \"The First Years ...\"}, \"Maxi-Cosi Pria 70 with Tiny Fit Convertible Car Seat\": {\"frequency\": 24, \"value\": \"Maxi-Cosi Pria 70 ...\"}, \"Inglesina 2013 Fast Table Chair, Liquirizia\": {\"frequency\": 128, \"value\": \"Inglesina 2013 ...\"}, \"Regalo Hide Away Double Sided Bed Rail - White\": {\"frequency\": 52, \"value\": \"Regalo Hide Away ...\"}, \"The First Years Sit and Store Parent Bathing Seat and Stepstool\": {\"frequency\": 17, \"value\": \"The First Years ...\"}, \"Britax Boulevard G4 Convertible Car Seat, Onyx\": {\"frequency\": 16, \"value\": \"Britax Boulevard ...\"}, \"Cloud B Twilight Ladybug - Pink\": {\"frequency\": 49, \"value\": \"Cloud B Twilight ...\"}, \"Dream On Me Classic Sleigh Toddler Bed, White\": {\"frequency\": 50, \"value\": \"Dream On Me ...\"}, \"Thirsties 6 Pack Fab Wipes, Boy\": {\"frequency\": 37, \"value\": \"Thirsties 6 Pack ...\"}, \"Kinderglo Portable Fun and Safe Rechargeable Night Light, Elephant\": {\"frequency\": 27, \"value\": \"Kinderglo Portable ...\"}, \"Snoogle Chic Jersey - Snoogle Replacement Cover with Zipper for Easy Use - Heather Gray\": {\"frequency\": 29, \"value\": \"Snoogle Chic ...\"}, \"Sassy Spin Shine Rattle Developmental Toy\": {\"frequency\": 24, \"value\": \"Sassy Spin Shine ...\"}, \"The First Years Newborn Pacifiers - 2 Pack\": {\"frequency\": 16, \"value\": \"The First Years ...\"}, \"MobiCam Audio Video Baby Monitoring System\": {\"frequency\": 34, \"value\": \"MobiCam Audio ...\"}, \"Britax Pinnacle 90 Booster Car Seat, Broadway\": {\"frequency\": 44, \"value\": \"Britax Pinnacle 90 ...\"}, \"Nuby 5 Count Splish Splash Stacking Bath Cups\": {\"frequency\": 17, \"value\": \"Nuby 5 Count ...\"}, \"Sassy Wonder Wheel\": {\"frequency\": 107, \"value\": \"Sassy Wonder Wheel\"}, \"DEX Products Pregnancy Pillow PP-01\": {\"frequency\": 34, \"value\": \"DEX Products ...\"}, \"Britax Pioneer 70 Harness-2-Booster Car Seat, Kiwi\": {\"frequency\": 29, \"value\": \"Britax Pioneer 70 ...\"}, \"Prince Lionheart Diaper Depot Clear\": {\"frequency\": 41, \"value\": \"Prince Lionheart ...\"}, \"OXO Tot Training Cup, Aqua, 7 Ounce\": {\"frequency\": 18, \"value\": \"OXO Tot Training ...\"}, \"Giant Peel &amp; Stick Nursery Decal - Forest Animals &amp; Flowers Tree for Boys &amp; Girls (Tree Assembles 4.7 Feet Tall)\": {\"frequency\": 26, \"value\": \"Giant Peel &amp; ...\"}, \"Evenflo Big Kid AMP No Back Booster Car Seat, Red\": {\"frequency\": 25, \"value\": \"Evenflo Big Kid ...\"}, \"American Baby Company Organic Embroidered Receiving Blanket, Mocha\": {\"frequency\": 16, \"value\": \"American Baby ...\"}, \"Sound N Lights Monitor with Dual Receivers\": {\"frequency\": 44, \"value\": \"Sound N Lights ...\"}, \"Aqueduck Faucet Extender, Pink\": {\"frequency\": 136, \"value\": \"Aqueduck Faucet ...\"}, \"Safety 1st Swing Shut Toilet Lock\": {\"frequency\": 19, \"value\": \"Safety 1st Swing ...\"}, \"Sunshine Kids Radian65 Convertible Car Seat - Champagne\": {\"frequency\": 19, \"value\": \"Sunshine Kids ...\"}, \"Mobi TykeLight Portable GloMate\": {\"frequency\": 42, \"value\": \"Mobi TykeLight ...\"}, \"Contours Options Tandem II Stroller, Tangerine\": {\"frequency\": 16, \"value\": \"Contours Options ...\"}, \"Luvable Friends Fitted Knit Crib Sheet, White\": {\"frequency\": 44, \"value\": \"Luvable Friends ...\"}, \"Joovy Tricycoo Tricycle, Greenie\": {\"frequency\": 23, \"value\": \"Joovy Tricycoo ...\"}, \"Skip Hop Bath Spout Cover, Moby\": {\"frequency\": 148, \"value\": \"Skip Hop Bath ...\"}, \"Graco Sweetpeace Newborn Soothing Center, 2008\": {\"frequency\": 36, \"value\": \"Graco Sweetpeace ...\"}, \"Kidkusion Gummi Crib Rail\": {\"frequency\": 58, \"value\": \"Kidkusion Gummi ...\"}, \"Britax Marathon 70 Convertible Car Seat, Cowmooflage\": {\"frequency\": 42, \"value\": \"Britax Marathon 70 ...\"}, \"Graco Digital Deluxe iMonitor Baby Monitor\": {\"frequency\": 20, \"value\": \"Graco Digital ...\"}, \"Sassy Go Go Bugs, Styles May Vary\": {\"frequency\": 21, \"value\": \"Sassy Go Go Bugs, ...\"}, \"Cloth Diaper Sprayer--styles may vary\": {\"frequency\": 31, \"value\": \"Cloth Diaper ...\"}, \"Joovy Spoon Walker, Greenie\": {\"frequency\": 32, \"value\": \"Joovy Spoon ...\"}, \"Sleepy Wrap Classic Wrap Baby Carrier, Dark Pink, 0-18 Months\": {\"frequency\": 45, \"value\": \"Sleepy Wrap ...\"}, \"BRICA Stretch-to-Fit Window Shade\": {\"frequency\": 40, \"value\": \"BRICA Stretch-to- ...\"}, \"Boppy Travel Pillow, Mama Dot/Basket Green\": {\"frequency\": 23, \"value\": \"Boppy Travel ...\"}, \"OXO Tot Fork and Spoon Set, Green\": {\"frequency\": 51, \"value\": \"OXO Tot Fork and ...\"}, \"JJ Cole Bundleme Shearling Baby Hat, 0 - 6 Months\": {\"frequency\": 17, \"value\": \"JJ Cole Bundleme ...\"}, \"HALO SleepSack Plush Dot Velboa Wearable Blanket, Cream, Medium\": {\"frequency\": 18, \"value\": \"HALO SleepSack ...\"}, \"Summer Infant Secure Surround Play Safe Play Yard, Tan\": {\"frequency\": 63, \"value\": \"Summer Infant ...\"}, \"eWonderWorld Rainbow (6 Colors) foam Wonder Mats: Extra Thick 36 Pieces 12&quot; X 12&quot; X ~9/16&quot;\": {\"frequency\": 18, \"value\": \"eWonderWorld ...\"}, \"Lamaze Play &amp; Grow Jacques the Peacock Take Along Toy\": {\"frequency\": 103, \"value\": \"Lamaze Play &amp; ...\"}, \"The First Years Mickey Mouse 4 Piece Feeding Set\": {\"frequency\": 27, \"value\": \"The First Years ...\"}, \"Fisher-Price Potty Training, Learn-to-Flush\": {\"frequency\": 30, \"value\": \"Fisher-Price Potty ...\"}, \"Night &amp; Day Bottle Warmer\": {\"frequency\": 21, \"value\": \"Night &amp; Day ...\"}, \"Kushies Deluxe Flannel Change Pad, Yellow with Brown Dots\": {\"frequency\": 61, \"value\": \"Kushies Deluxe ...\"}, \"Britax B-Safe Infant Car Seat, Black\": {\"frequency\": 54, \"value\": \"Britax B-Safe ...\"}, \"Graco SnugRider Elite Stroller &amp; Car Seat Carrier\": {\"frequency\": 38, \"value\": \"Graco SnugRider ...\"}, \"Philips AVENT BPA Free Classic Bottle Sealing Discs\": {\"frequency\": 20, \"value\": \"Philips AVENT BPA ...\"}, \"ThumbGuard LG (7-15 yrs.)\": {\"frequency\": 28, \"value\": \"ThumbGuard LG ...\"}, \"Philips AVENT Disposable Nursing Pads,  100-Count\": {\"frequency\": 16, \"value\": \"Philips AVENT ...\"}, \"Graco Backless TurboBooster Car Seat, Jeweled Princess\": {\"frequency\": 35, \"value\": \"Graco Backless ...\"}, \"Safety 1st OnSide Air Protect Convertible Car Seat, Adeline Black\": {\"frequency\": 36, \"value\": \"Safety 1st OnSide ...\"}, \"Safety Leash for Pedometer - 6 units. Help Prevent Pedometor loss\": {\"frequency\": 28, \"value\": \"Safety Leash for ...\"}, \"Razbaby Raz-Berry silicone Teethers Double Pack Both Colors in One Package.\": {\"frequency\": 23, \"value\": \"Razbaby Raz-Berry ...\"}, \"Dex Products Safe Sleeper Bed Rail Ultra\": {\"frequency\": 33, \"value\": \"Dex Products Safe ...\"}, \"Tubing Replacement (Pack of 2) for Medela Pump in Style and New Pump in Style Advanced Breast Pump 87212 &amp; 8007212 &amp; 8007156 - 100% BPA FREE\": {\"frequency\": 16, \"value\": \"Tubing Replacement ...\"}, \"Philips Avent DECT Baby Monitor with Temperature Sensor and Night Mode\": {\"frequency\": 18, \"value\": \"Philips Avent DECT ...\"}, \"Lansinoh mOmma Bottle with NaturalWave Nipple, 8 Ounce\": {\"frequency\": 18, \"value\": \"Lansinoh mOmma ...\"}, \"North States Supergate Top-Notch Gate\": {\"frequency\": 34, \"value\": \"North States ...\"}, \"Thirsties Duo Wrap, Honeydew, Size Two (18-40 lbs)\": {\"frequency\": 55, \"value\": \"Thirsties Duo ...\"}, \"ZoLi BOT XL Straw Sippy Cup (Green) - 9 oz.\": {\"frequency\": 23, \"value\": \"ZoLi BOT XL Straw ...\"}, \"BooginHead Pacifier Holder, Pink Polka Dot\": {\"frequency\": 123, \"value\": \"BooginHead ...\"}, \"Orbelle 3-6T Toddler Bed, Natural\": {\"frequency\": 65, \"value\": \"Orbelle 3-6T ...\"}, \"Graco Jump N Jive Doorway Jumper with Interactive Musical Mat\": {\"frequency\": 19, \"value\": \"Graco Jump N Jive ...\"}, \"Flip: One-Size Snap Closure Diaper Cover - Blossom\": {\"frequency\": 16, \"value\": \"Flip: One-Size ...\"}, \"Lamaze Wrist Rattles\": {\"frequency\": 19, \"value\": \"Lamaze Wrist ...\"}, \"BRICA Deluxe Snack Pod Stroller Drink and Snack Holder, Gray\": {\"frequency\": 18, \"value\": \"BRICA Deluxe Snack ...\"}, \"Ergobaby Waist Extensions Baby Carrier Accessories\": {\"frequency\": 18, \"value\": \"Ergobaby Waist ...\"}, \"Munchkin Diaper Duty Organizer, Colors May Vary\": {\"frequency\": 21, \"value\": \"Munchkin Diaper ...\"}, \"Aquatopia Deluxe Safety Easy Bath Kneeler, Blue\": {\"frequency\": 19, \"value\": \"Aquatopia Deluxe ...\"}, \"Bumkins Reusable Flannel Wipes, 12 Count, Natural\": {\"frequency\": 26, \"value\": \"Bumkins Reusable ...\"}, \"Recaro Vivo High Back Booster, Carbon\": {\"frequency\": 26, \"value\": \"Recaro Vivo High ...\"}, \"Sunshine Kids Radian XTSL Convertible Car Seat, Bentley\": {\"frequency\": 28, \"value\": \"Sunshine Kids ...\"}, \"OsoCozy Flannel Baby Wipes - 15 pack (White)\": {\"frequency\": 45, \"value\": \"OsoCozy Flannel ...\"}, \"Summer Infant SwaddlePod 2-Pack, Hungry Caterpillar, Newborn\": {\"frequency\": 27, \"value\": \"Summer Infant ...\"}, \"Fisher-Price Kick and Play Piano Gym, Pink\": {\"frequency\": 34, \"value\": \"Fisher-Price Kick ...\"}, \"Safety 1st Simple Step Diaper Pail\": {\"frequency\": 48, \"value\": \"Safety 1st Simple ...\"}, \"Food Mill - BabySteps Kid Co 1 Pk\": {\"frequency\": 30, \"value\": \"Food Mill - ...\"}, \"Bamboobies Super-Soft Washable Nursing Pads - All Pale Pink\": {\"frequency\": 31, \"value\": \"Bamboobies Super- ...\"}, \"Graco Pack 'N Play Playard with Reversible Napper and Changer, Roman\": {\"frequency\": 47, \"value\": \"Graco Pack 'N Play ...\"}, \"Lifefactory Glass Baby Bottle with Silicone Sleeve, Raspberry, 9 Ounce\": {\"frequency\": 50, \"value\": \"Lifefactory Glass ...\"}, \"Boon Naked Collapsible Baby Bathtub, Blue/White\": {\"frequency\": 18, \"value\": \"Boon Naked ...\"}, \"Cardinal Gates Door Guardian, Brass\": {\"frequency\": 32, \"value\": \"Cardinal Gates ...\"}, \"Dream On Me Full Size Play Yard, Gray\": {\"frequency\": 16, \"value\": \"Dream On Me Full ...\"}, \"Stork Craft Aspen Combo Dresser Chest, Natural\": {\"frequency\": 61, \"value\": \"Stork Craft Aspen ...\"}, \"Disney 4 Piece Minnie's Fluttery Friends Toddler Bedding Set, Lavender\": {\"frequency\": 28, \"value\": \"Disney 4 Piece ...\"}, \"Eddie Bauer Harness Buddy, Monkey\": {\"frequency\": 22, \"value\": \"Eddie Bauer ...\"}, \"Britax Advocate 70-G3 Convertible Car Seat, Onyx\": {\"frequency\": 72, \"value\": \"Britax Advocate ...\"}, \"Boon Animal Bag Stuffed Animal Storage, Blue Raspberry\": {\"frequency\": 37, \"value\": \"Boon Animal Bag ...\"}, \"Mommy's Helper Contoured Cushie Tushie Potty Seat\": {\"frequency\": 20, \"value\": \"Mommy's Helper ...\"}, \"Beco Gemini Baby Carrier - Paige\": {\"frequency\": 71, \"value\": \"Beco Gemini Baby ...\"}, \"Sunshine Kids Ultra Mat - Gray\": {\"frequency\": 22, \"value\": \"Sunshine Kids ...\"}, \"Arm's Reach Natural Original Co-Sleeper\": {\"frequency\": 33, \"value\": \"Arm's Reach ...\"}, \"Snuza Baby Monitor, Hero\": {\"frequency\": 55, \"value\": \"Snuza Baby ...\"}, \"Graco Ultra Clear  49MHZ Baby Monitor\": {\"frequency\": 25, \"value\": \"Graco Ultra Clear ...\"}, \"Angel Dear Cuddle Twin Set, Brown Puppy\": {\"frequency\": 24, \"value\": \"Angel Dear Cuddle ...\"}, \"Yummi Pouch (Set of 6)\": {\"frequency\": 62, \"value\": \"Yummi Pouch (Set ...\"}, \"OXO Tot Sprout Chair, Orange/Birch\": {\"frequency\": 40, \"value\": \"OXO Tot Sprout ...\"}, \"BEABA Babycook PRO - Sorbet\": {\"frequency\": 18, \"value\": \"BEABA Babycook PRO ...\"}, \"American Baby Company Celery Stripe 100% Cotton Percale Crib Sheet\": {\"frequency\": 24, \"value\": \"American Baby ...\"}, \"BABYBJORN Comfort Carrier - Gray, Organic\": {\"frequency\": 22, \"value\": \"BABYBJORN Comfort ...\"}, \"L'ovedbaby 4-in-1 Nursing Shawl Out-on-the-Town Brown\": {\"frequency\": 20, \"value\": \"L'ovedbaby 4-in-1 ...\"}, \"Kalencom On the Go Potty, Blue\": {\"frequency\": 31, \"value\": \"Kalencom On the Go ...\"}, \"The Ultimate Baby Wrap in Navy\": {\"frequency\": 21, \"value\": \"The Ultimate Baby ...\"}, \"Planet Wise Wet Diaper Bag, Black, Small\": {\"frequency\": 148, \"value\": \"Planet Wise Wet ...\"}, \"Milkscreen: Home Test to Detect Alcohol in Breast Milk 8 Test Strips\": {\"frequency\": 19, \"value\": \"Milkscreen: Home ...\"}, \"Thirsties Duo All in One Snap, Blackbird, Size One (6-18 lbs)\": {\"frequency\": 22, \"value\": \"Thirsties Duo All ...\"}, \"Evenflo Jenny Jump Up Jumper, Pink/Gray/White\": {\"frequency\": 17, \"value\": \"Evenflo Jenny Jump ...\"}, \"Noodlehead Travel Buddies Neck Pillow - Dog\": {\"frequency\": 23, \"value\": \"Noodlehead Travel ...\"}, \"Joovy Room&sup2; Portable Playard, Red\": {\"frequency\": 62, \"value\": \"Joovy Room&sup2; ...\"}, \"Luvable Friends Fitted Crib Sheet, Construction\": {\"frequency\": 26, \"value\": \"Luvable Friends ...\"}, \"The First Years American Red Cross Deluxe Baby Healthcare and Grooming Kit\": {\"frequency\": 16, \"value\": \"The First Years ...\"}, \"Summer Infant Deluxe Day &amp; Night Handheld Color Video Monitor with 2.5&quot; Screen - Pink\": {\"frequency\": 65, \"value\": \"Summer Infant ...\"}, \"Tiny Love Take Along Mobile, Animal Friends\": {\"frequency\": 118, \"value\": \"Tiny Love Take ...\"}, \"Econobum One Size Cloth Diapers Trial Pack (White)\": {\"frequency\": 25, \"value\": \"Econobum One Size ...\"}, \"Boba 3G Baby Carrier, Montenegro Black\": {\"frequency\": 42, \"value\": \"Boba 3G Baby ...\"}, \"OXO Tot Dishwasher Basket, Orange\": {\"frequency\": 19, \"value\": \"OXO Tot Dishwasher ...\"}, \"Munchkin High Capacity Drying Rack, White\": {\"frequency\": 22, \"value\": \"Munchkin High ...\"}, \"Skip Hop Studio Diaper Bag, Black Dot\": {\"frequency\": 77, \"value\": \"Skip Hop Studio ...\"}, \"Britax Advocate 65 CS Click &amp; Safe Convertible Car Seat, Onyx\": {\"frequency\": 16, \"value\": \"Britax Advocate 65 ...\"}, \"Safety 1st Go Hybrid Convertible Booster, Waterloo\": {\"frequency\": 20, \"value\": \"Safety 1st Go ...\"}, \"Graco Pack N Play Playard with Bassinet, Pasadena\": {\"frequency\": 60, \"value\": \"Graco Pack N Play ...\"}, \"Sassy Crib and Floor Mirror\": {\"frequency\": 87, \"value\": \"Sassy Crib and ...\"}, \"Evenflo Compact Fold High Chair, Covington\": {\"frequency\": 17, \"value\": \"Evenflo Compact ...\"}, \"One Pack BPA Free Replacement Tubing for Medela Pump in Style and New Pump in Style Advanced Breast Pump\": {\"frequency\": 16, \"value\": \"One Pack BPA Free ...\"}, \"Munchkin Steam Guard Microwave Sterilizer Bags, 6 Pack, White\": {\"frequency\": 32, \"value\": \"Munchkin Steam ...\"}, \"American Baby Company Quilted Fitted Waterproof Fitted Cradle Mattress Pad Cover\": {\"frequency\": 19, \"value\": \"American Baby ...\"}, \"Kinderglo Portable Fun and Safe Rechargeable Night Light, Hippo\": {\"frequency\": 23, \"value\": \"Kinderglo Portable ...\"}, \"Britax Stroller Organizer, Black\": {\"frequency\": 89, \"value\": \"Britax Stroller ...\"}, \"Carters Easy Fit Velour Plush Crib Fitted Sheet, Chocolate\": {\"frequency\": 113, \"value\": \"Carters Easy Fit ...\"}, \"The First Years Night and Day Bottle Warmer System\": {\"frequency\": 42, \"value\": \"The First Years ...\"}, \"Evenflo Portable Ultrasaucer\": {\"frequency\": 54, \"value\": \"Evenflo Portable ...\"}, \"Thermos Foogo Leak-Proof Stainless Steel 10-Ounce Food Jar, Pink\": {\"frequency\": 210, \"value\": \"Thermos Foogo ...\"}, \"HALO SleepSack 100% Cotton Wearable Blanket, Soft Pink, Small\": {\"frequency\": 114, \"value\": \"HALO SleepSack ...\"}, \"Potty Time Potty Watch - Blue\": {\"frequency\": 87, \"value\": \"Potty Time Potty ...\"}, \"Custom Fit KidCo Configure Gate - White\": {\"frequency\": 32, \"value\": \"Custom Fit KidCo ...\"}, \"Nuby 4 Pack Spoon and Fork, Colors May Vary\": {\"frequency\": 14, \"value\": \"Nuby 4 Pack Spoon ...\"}, \"Chewbeads Necklace - Perry Necklace - Black\": {\"frequency\": 16, \"value\": \"Chewbeads Necklace ...\"}, \"Luvable Friends Geometric Print Fitted Knit Crib Sheet, Blue\": {\"frequency\": 17, \"value\": \"Luvable Friends ...\"}, \"Evenflo SimpleStep Pressure Gate Taupe\": {\"frequency\": 25, \"value\": \"Evenflo SimpleStep ...\"}, \"Growing Up Green Wood Step Stool, Natural\": {\"frequency\": 43, \"value\": \"Growing Up Green ...\"}, \"American Baby Company 100% Cotton Value Jersey Knit Fitted Portable/Mini Sheet, Celery\": {\"frequency\": 111, \"value\": \"American Baby ...\"}, \"Vulli Sophie the Giraffe Teether\": {\"frequency\": 723, \"value\": \"Vulli Sophie the ...\"}, \"DaVinci Sleigh Toddler Bed - Honey Oak\": {\"frequency\": 28, \"value\": \"DaVinci Sleigh ...\"}, \"Disney Cars Step Stool\": {\"frequency\": 32, \"value\": \"Disney Cars Step ...\"}, \"Safety 1st Kirby Inflatable Tub\": {\"frequency\": 41, \"value\": \"Safety 1st Kirby ...\"}, \"TL Care Organic Cotton Mittens, Natural, 0-3 Months\": {\"frequency\": 27, \"value\": \"TL Care Organic ...\"}, \"Graco Silhouette Pack 'N Play Playard, Carlisle\": {\"frequency\": 18, \"value\": \"Graco Silhouette ...\"}, \"Arms Reach Co-Sleeper brand Mini Co-Sleeper Bassinet - Natural\": {\"frequency\": 19, \"value\": \"Arms Reach Co- ...\"}, \"Hand Held Scalp Head Massager - Set of Three ( Colors May Vary )\": {\"frequency\": 157, \"value\": \"Hand Held Scalp ...\"}, \"Samsung SEW-3036WN Wireless Video Baby Monitor IR Night Vision Zoom 3.5 inch\": {\"frequency\": 42, \"value\": \"Samsung SEW-3036WN ...\"}, \"Sugar Booger &quot;Yee Haw&quot; Feeding Collection Divided Suction Plate\": {\"frequency\": 18, \"value\": \"Sugar Booger ...\"}, \"Summer Infant CushyStraps, Pink\": {\"frequency\": 43, \"value\": \"Summer Infant ...\"}, \"Fisher-Price Rainforest Waterfall Peek-a-Boo Soother\": {\"frequency\": 33, \"value\": \"Fisher-Price ...\"}, \"Tiny Love Sweet Island Dreams Mobile\": {\"frequency\": 83, \"value\": \"Tiny Love Sweet ...\"}, \"Sunshine Kids Seat Belt Pillow, Grey\": {\"frequency\": 19, \"value\": \"Sunshine Kids Seat ...\"}, \"Philips AVENT Day Disposable Breast Pads, 60-Count\": {\"frequency\": 28, \"value\": \"Philips AVENT Day ...\"}, \"The First Years Hands Free Gate\": {\"frequency\": 170, \"value\": \"The First Years ...\"}, \"BABYBJORN Baby Carrier Active, Black/Red\": {\"frequency\": 37, \"value\": \"BABYBJORN Baby ...\"}, \"Pikibu I-See-You Car Family Mirror, Black\": {\"frequency\": 30, \"value\": \"Pikibu I-See-You ...\"}, \"Medela 150 Ml Storage Bottle Case of 10 BPA FREE\": {\"frequency\": 21, \"value\": \"Medela 150 Ml ...\"}, \"Baby Jogger 2011 City Mini Single Stroller, Black/Black\": {\"frequency\": 19, \"value\": \"Baby Jogger 2011 ...\"}, \"Fisher-Price Discover 'n Grow Storybook Projection Soother\": {\"frequency\": 27, \"value\": \"Fisher-Price ...\"}, \"Summer Infant Quickchange Portable Changing Pad, Black\": {\"frequency\": 25, \"value\": \"Summer Infant ...\"}, \"Evenflo Tribute 5 Convertible Car Seat, Ella\": {\"frequency\": 95, \"value\": \"Evenflo Tribute 5 ...\"}, \"Sesame Street Bath Tub Faucet Cover - Elmo\": {\"frequency\": 22, \"value\": \"Sesame Street Bath ...\"}, \"North States Supergate Extra Wide Wire Mesh Gate\": {\"frequency\": 40, \"value\": \"North States ...\"}, \"Child to Cherish Handprints Tower Of Time Kit in Pink\": {\"frequency\": 20, \"value\": \"Child to Cherish ...\"}, \"Safety 1st Sit Booster Seat, Green\": {\"frequency\": 18, \"value\": \"Safety 1st Sit ...\"}, \"Bright Starts Lots of Links- Solid Colors\": {\"frequency\": 65, \"value\": \"Bright Starts Lots ...\"}, \"Boon Fluid Sippy Cup,Blue/Orange\": {\"frequency\": 16, \"value\": \"Boon Fluid Sippy ...\"}, \"Moby Wrap Original 100% Cotton Baby Carrier, Red\": {\"frequency\": 181, \"value\": \"Moby Wrap Original ...\"}, \"Medela Pump in Style Advanced Breast Pump with On the Go Tote\": {\"frequency\": 82, \"value\": \"Medela Pump in ...\"}, \"EvenFlo SmartSteps Exersaucer Entertainer\": {\"frequency\": 36, \"value\": \"EvenFlo SmartSteps ...\"}, \"Skip Hop Zoo Bib, Dog\": {\"frequency\": 24, \"value\": \"Skip Hop Zoo Bib, ...\"}, \"BabyComfyNose Nasal Aspirator (Blue)\": {\"frequency\": 92, \"value\": \"BabyComfyNose ...\"}, \"EveryDay Willow Wool Dryer Balls Gift Set of 3, Natural\": {\"frequency\": 19, \"value\": \"EveryDay Willow ...\"}, \"Prince Lionheart weePOD Basix, Ash Grey\": {\"frequency\": 53, \"value\": \"Prince Lionheart ...\"}, \"Fisher-Price Private Connection Monitor with Dual Receivers - White and Grey\": {\"frequency\": 24, \"value\": \"Fisher-Price ...\"}, \"Evenflo 6 Pack Classic Glass Bottle, 8-Ounce\": {\"frequency\": 40, \"value\": \"Evenflo 6 Pack ...\"}, \"The First Years 3 Pack Breastflow Bottle, 9 Ounce\": {\"frequency\": 50, \"value\": \"The First Years 3 ...\"}, \"Dreambaby Sliding Locks, 3 Pack\": {\"frequency\": 28, \"value\": \"Dreambaby Sliding ...\"}, \"Supergate Deluxe D&eacute;cor Metal Gate, Espresso\": {\"frequency\": 92, \"value\": \"Supergate Deluxe ...\"}, \"Sassy Pop n' Push Car\": {\"frequency\": 57, \"value\": \"Sassy Pop n' Push ...\"}, \"Baby K'tan Baby Carrier, Black, X-Large\": {\"frequency\": 97, \"value\": \"Baby K'tan Baby ...\"}, \"Redmon Bongo Buckets\": {\"frequency\": 21, \"value\": \"Redmon Bongo ...\"}, \"ProGradeTM Lever Handle Lock by Safety 1st\": {\"frequency\": 17, \"value\": \"ProGradeTM Lever ...\"}, \"Flingshot Flying Monkey\": {\"frequency\": 36, \"value\": \"Flingshot Flying ...\"}, \"Skip Hop Dunks Stacking Bath Toy, Blue, Green, Yellow\": {\"frequency\": 21, \"value\": \"Skip Hop Dunks ...\"}, \"Bumkins Waterproof Starterbib, Blue Fizz\": {\"frequency\": 23, \"value\": \"Bumkins Waterproof ...\"}, \"Tenergy 8 pcs C Size 5000 mAh high capacity high rate NiMH Rechargeable batteries\": {\"frequency\": 22, \"value\": \"Tenergy 8 pcs C ...\"}, \"Fisher-Price Precious Planet Healthy Care Booster\": {\"frequency\": 16, \"value\": \"Fisher-Price ...\"}, \"OXO Tot 4-Piece Feeding Set, Green\": {\"frequency\": 24, \"value\": \"OXO Tot 4-Piece ...\"}, \"Goldbug Animal 2 in 1 Harness, Horse\": {\"frequency\": 48, \"value\": \"Goldbug Animal 2 ...\"}, \"BABYBJORN Soft Bib, Red\": {\"frequency\": 98, \"value\": \"BABYBJORN Soft ...\"}, \"Dexbaby Nursery Organizer, White\": {\"frequency\": 33, \"value\": \"Dexbaby Nursery ...\"}, \"Wee Gallery Art Cards for Baby, Sea Collection\": {\"frequency\": 39, \"value\": \"Wee Gallery Art ...\"}, \"Fisher-Price Kick and Play Piano Gym, Discover 'N Grow\": {\"frequency\": 178, \"value\": \"Fisher-Price Kick ...\"}, \"Fisher-Price Booster Seat, Rainforest\": {\"frequency\": 81, \"value\": \"Fisher-Price ...\"}, \"Motorola Blink1 Wi-Fi Video Camera for Remote Viewing with iPhone and Android Smartphones and Tablets, Red\": {\"frequency\": 18, \"value\": \"Motorola Blink1 ...\"}, \"GumDrop Pacifier Full-Term Natural Scent Blue 5 Pack\": {\"frequency\": 20, \"value\": \"GumDrop Pacifier ...\"}, \"Fisher-Price Newborn Rock 'n Play Sleeper,  Rainforest Friends\": {\"frequency\": 21, \"value\": \"Fisher-Price ...\"}, \"Blooming Bath Baby Bath - Hot Pink\": {\"frequency\": 33, \"value\": \"Blooming Bath Baby ...\"}, \"MOBI Digital Ultra Thermometer\": {\"frequency\": 23, \"value\": \"MOBI Digital Ultra ...\"}, \"timi &amp; leslie Charlie 7-Piece Diaper Bag Set, Light Brown\": {\"frequency\": 23, \"value\": \"timi &amp; leslie ...\"}, \"Carter's First Year Calendar, Laguna\": {\"frequency\": 25, \"value\": \"Carter's First ...\"}, \"Diono Travel Pal Car Storage\": {\"frequency\": 19, \"value\": \"Diono Travel Pal ...\"}, \"Cardinal Gates Stairway Special Gate, Black\": {\"frequency\": 25, \"value\": \"Cardinal Gates ...\"}, \"Mountain Buggy Duet Double Buggy Stroller, Black/Flint\": {\"frequency\": 16, \"value\": \"Mountain Buggy ...\"}, \"Econobum Full Kit\": {\"frequency\": 17, \"value\": \"Econobum Full Kit\"}, \"Itzy Ritzy Snack Happens Reusable Snack Bag, Rodeo Drive\": {\"frequency\": 106, \"value\": \"Itzy Ritzy Snack ...\"}, \"Gund Baby Lena Lamb Musical Toy, Jesus Loves Me\": {\"frequency\": 22, \"value\": \"Gund Baby Lena ...\"}, \"Luvable Friends 6-Pack Flannel Receiving Blankets, Blue\": {\"frequency\": 31, \"value\": \"Luvable Friends ...\"}, \"Tommee Tippee Travel Bottle and Food Warmer\": {\"frequency\": 35, \"value\": \"Tommee Tippee ...\"}, \"Seventh Generation Chlorine Free Baby Wipes Refill 350ct.\": {\"frequency\": 110, \"value\": \"Seventh Generation ...\"}, \"Summer Infant 3-Stage Superseat Highchair, Green\": {\"frequency\": 102, \"value\": \"Summer Infant ...\"}, \"4Moms 2014 Mamaroo Classic- Classic Black\": {\"frequency\": 44, \"value\": \"4Moms 2014 Mamaroo ...\"}, \"Prince Lionheart Backseat Kick Mat, Black\": {\"frequency\": 18, \"value\": \"Prince Lionheart ...\"}, \"PRIMO Infant Bath Seat (White)\": {\"frequency\": 32, \"value\": \"PRIMO Infant Bath ...\"}, \"OXO Tot Baby Blocks Freezer Storage Containers 2 Ounce, Set 6, Clear\": {\"frequency\": 89, \"value\": \"OXO Tot Baby ...\"}, \"Graco imonitor Vibe 2 Parent\": {\"frequency\": 17, \"value\": \"Graco imonitor ...\"}, \"Britax 2012 B-Agile Stroller, Red\": {\"frequency\": 75, \"value\": \"Britax 2012 ...\"}, \"Sassy Ring O' Links Rattle Developmental Toy\": {\"frequency\": 47, \"value\": \"Sassy Ring O' ...\"}, \"Munchkin Deluxe Drying Rack\": {\"frequency\": 20, \"value\": \"Munchkin Deluxe ...\"}, \"Evenflo Bounce and Learn Bee Exersaucer\": {\"frequency\": 62, \"value\": \"Evenflo Bounce and ...\"}, \"NUK Gerber Graduates Rest Easy Spoons, 5-Count\": {\"frequency\": 17, \"value\": \"NUK Gerber ...\"}, \"Bumkins Waterproof Zippered Wet/Dry Bag, Blue Owl\": {\"frequency\": 26, \"value\": \"Bumkins Waterproof ...\"}, \"Badger Basket Three Basket Set, Pink\": {\"frequency\": 19, \"value\": \"Badger Basket ...\"}, \"Skip Hop 20 Piece 70&quot;x56&quot; PlaySpot Floor Mat, Blue/Gold\": {\"frequency\": 27, \"value\": \"Skip Hop 20 Piece ...\"}, \"Inglesina 2010 Fast Table Chair, Ecru\": {\"frequency\": 16, \"value\": \"Inglesina 2010 ...\"}, \"Crown Crafts The Original NoJo BabySling by Dr. Sears in Black Chambray\": {\"frequency\": 28, \"value\": \"Crown Crafts The ...\"}, \"Susen Safe Shampoo Shower Bathing Protect Soft Cap Hat for Baby Children Kids (Pink)\": {\"frequency\": 20, \"value\": \"Susen Safe Shampoo ...\"}, \"Britax Boulevard Convertible Car Seat, Onyx\": {\"frequency\": 21, \"value\": \"Britax Boulevard ...\"}, \"Graco Affix Highback Booster Seat with Latch System, Atomic\": {\"frequency\": 41, \"value\": \"Graco Affix ...\"}, \"Tiny Love Musical Nature Stroll Toy Bar\": {\"frequency\": 41, \"value\": \"Tiny Love Musical ...\"}, \"Motorola Additional Camera for Motorola MBP36 Baby Monitor, Brown with White\": {\"frequency\": 30, \"value\": \"Motorola ...\"}, \"Inclined to Sleep\": {\"frequency\": 30, \"value\": \"Inclined to Sleep\"}, \"Britax B-Agile and B-Safe Travel System, Red\": {\"frequency\": 24, \"value\": \"Britax B-Agile and ...\"}, \"Evenflo AMP Graphics No Back Car Seat Booster, Retro Flowers\": {\"frequency\": 28, \"value\": \"Evenflo AMP ...\"}, \"Boon Catch Bowl with Spill Catcher,Blue/Orange\": {\"frequency\": 16, \"value\": \"Boon Catch Bowl ...\"}, \"Cloud b Twilight Constellation Night Light, Turtle\": {\"frequency\": 490, \"value\": \"Cloud b Twilight ...\"}, \"Simple Wishes Honeysuckle Breastmilk Storage Bags, 25-Count\": {\"frequency\": 49, \"value\": \"Simple Wishes ...\"}, \"The First Years True Fit SI C680 Car Seat, Naturalization\": {\"frequency\": 17, \"value\": \"The First Years ...\"}, \"6 Ounce Portable Reusable Resealable and Refillable Food Pouch for Baby Food (6-Pack) By Precious Tummies. Great for Applesauce, Juices, Smoothies, Yogurt, Puree, and More. Perfect Accessory For Meals on the Go and Lunch Box Snacks. Double Reinforced Top Zipper Leak Guard To Prevent Leaks.\": {\"frequency\": 20, \"value\": \"6 Ounce Portable ...\"}, \"GumDrop Pacifier Full-Term Natural Scent Pink 5 Pack\": {\"frequency\": 26, \"value\": \"GumDrop Pacifier ...\"}, \"LA Baby 4 Sided Changing Pad 32&quot;, White\": {\"frequency\": 37, \"value\": \"LA Baby 4 Sided ...\"}, \"Kidswitch Light Switch Extender- 3 Pack\": {\"frequency\": 64, \"value\": \"Kidswitch Light ...\"}, \"Cloud b Twilight Constellation Night Light, Sea Turtle\": {\"frequency\": 132, \"value\": \"Cloud b Twilight ...\"}, \"Snuza Hero Baby Movement Monitor\": {\"frequency\": 52, \"value\": \"Snuza Hero Baby ...\"}, \"Britax Kick Mats (2-Pack, Black)\": {\"frequency\": 81, \"value\": \"Britax Kick Mats ...\"}, \"Philips AVENT Digital Video Baby Monitor\": {\"frequency\": 25, \"value\": \"Philips AVENT ...\"}, \"Bright Starts Grab and Stack Blocks\": {\"frequency\": 75, \"value\": \"Bright Starts Grab ...\"}, \"Nosefrida Nasal Aspirator with addtional 20 Hygiene Filters\": {\"frequency\": 30, \"value\": \"Nosefrida Nasal ...\"}, \"Infant Optics Add-On Camera for DXR-5 2.4 Ghz Video Monitor (DXR-871)\": {\"frequency\": 18, \"value\": \"Infant Optics Add- ...\"}, \"KidCo Angle Mount Safeway  - Black\": {\"frequency\": 24, \"value\": \"KidCo Angle Mount ...\"}, \"Graco DuoGlider Classic Connect Stroller, Dragonfly\": {\"frequency\": 28, \"value\": \"Graco DuoGlider ...\"}, \"HALO SleepSack Comfort Mesh Early Walker Wearable Blanket, Blue Dog, Large\": {\"frequency\": 17, \"value\": \"HALO SleepSack ...\"}, \"Ring Snuggies ~ Ring Sizer / Assorted Sizes Adjuster Set of Six Per Pack\": {\"frequency\": 34, \"value\": \"Ring Snuggies ~ ...\"}, \"JJ Cole Mode Diaper Tote Bag, Cocoa Tree\": {\"frequency\": 18, \"value\": \"JJ Cole Mode ...\"}, \"Natursutten BPA-Free Natural Rubber Pacifier, Rounded, 12 Months\": {\"frequency\": 22, \"value\": \"Natursutten BPA- ...\"}, \"Simmons Kids Beautyrest Beginnings Sleepy Whispers Ultra Deluxe 2 n 1 Crib and Toddler Mattress, Neutral\": {\"frequency\": 25, \"value\": \"Simmons Kids ...\"}, \"Baby Einstein Bendy Ball\": {\"frequency\": 139, \"value\": \"Baby Einstein ...\"}, \"Leachco Snoogle Mini Compact Side Sleeper, Sage/White dot\": {\"frequency\": 40, \"value\": \"Leachco Snoogle ...\"}, \"Summer Infant SwaddleMe Organic Adjustable Infant Wrap, Ivory, Large\": {\"frequency\": 21, \"value\": \"Summer Infant ...\"}, \"Britax B-Agile Stroller Child Tray\": {\"frequency\": 32, \"value\": \"Britax B-Agile ...\"}, \"Two Peas in a Pod - Ceramic Salt &amp; Pepper Shakers in Ivy Print Gift Box\": {\"frequency\": 20, \"value\": \"Two Peas in a Pod ...\"}, \"Contours Lite Stroller, Tangerine\": {\"frequency\": 82, \"value\": \"Contours Lite ...\"}, \"BABYBJORN BabySitter Wooden Toy\": {\"frequency\": 25, \"value\": \"BABYBJORN ...\"}, \"DaVinci Emily Mini Crib - White\": {\"frequency\": 28, \"value\": \"DaVinci Emily Mini ...\"}, \"Balboa Baby Nursing Cover, Blue Plaid\": {\"frequency\": 20, \"value\": \"Balboa Baby ...\"}, \"KidGear The Teethifier II\": {\"frequency\": 17, \"value\": \"KidGear The ...\"}, \"Britax Roundabout 55 Convertible Car Seat (Previous Version), Onyx\": {\"frequency\": 34, \"value\": \"Britax Roundabout ...\"}, \"Safety 1st Grip N' Twist Door Knob Cover, 4-Count\": {\"frequency\": 20, \"value\": \"Safety 1st Grip N' ...\"}, \"The First Years 4 Pack Take And Toss Spill Proof Cups, 10 Ounce, Colors May Vary\": {\"frequency\": 19, \"value\": \"The First Years 4 ...\"}, \"The First Years Soft Grip Trainer Seat, Blue\": {\"frequency\": 22, \"value\": \"The First Years ...\"}, \"Diono Ultra Mat Full-Size Seat Protector, Black\": {\"frequency\": 18, \"value\": \"Diono Ultra Mat ...\"}, \"Luvable Friends 12 Washcloths With Bonus Toy, Blue\": {\"frequency\": 17, \"value\": \"Luvable Friends 12 ...\"}, \"Evenflo 6 Pack Classic Glass Bottle, 4-Ounce\": {\"frequency\": 27, \"value\": \"Evenflo 6 Pack ...\"}, \"Nosefrida Hygiene Filters\": {\"frequency\": 25, \"value\": \"Nosefrida Hygiene ...\"}, \"Nuk Clear Replacement Spouts - 6 PACK Clear\": {\"frequency\": 22, \"value\": \"Nuk Clear ...\"}, \"Fisher-Price Newborn Rock n' Play Sleeper, Yellow\": {\"frequency\": 26, \"value\": \"Fisher-Price ...\"}, \"Maxboost Fusion Snap-on iPhone 5S/5 Case - Red (Fit Fusion Battery Case for iPhone 5S/5)\": {\"frequency\": 20, \"value\": \"Maxboost Fusion ...\"}, \"Chicco 360 Hook on High Chair, Midori\": {\"frequency\": 37, \"value\": \"Chicco 360 Hook on ...\"}, \"Britax Boulevard 70 CS Convertible Car Seat, Biscotti\": {\"frequency\": 34, \"value\": \"Britax Boulevard ...\"}, \"Lansinoh mOmma Straw Cup with Dual Handles, Orange\": {\"frequency\": 20, \"value\": \"Lansinoh mOmma ...\"}, \"Baby Deedee Sleep Nest Baby Sleeping Bag, Dream Blue, Small (0-6 Months)\": {\"frequency\": 63, \"value\": \"Baby Deedee Sleep ...\"}, \"FunBites Hearts - Cuts kids' food into fun-shaped bite-sized pieces . . . Great for picky eaters and bento!\": {\"frequency\": 19, \"value\": \"FunBites Hearts - ...\"}, \"NUK Gerber GraduatesFun Grips Hard Spout Sippy Cups, Boy, 10 Ounce, 4-Count\": {\"frequency\": 22, \"value\": \"NUK Gerber ...\"}, \"North States 3 in 1 Metal Superyard 2 Panel Extension, Taupe\": {\"frequency\": 20, \"value\": \"North States 3 in ...\"}, \"Tommee Tippee Bottle, 9 Ounce, 3 Count\": {\"frequency\": 26, \"value\": \"Tommee Tippee ...\"}, \"Evenflo AMP High Back Car Seat Booster, Pink Angles\": {\"frequency\": 81, \"value\": \"Evenflo AMP High ...\"}, \"Bright Starts Around We Go Activity Station, Doodle Bugs\": {\"frequency\": 79, \"value\": \"Bright Starts ...\"}, \"Baby Einstein Lights &amp; Melodies Mirror\": {\"frequency\": 17, \"value\": \"Baby Einstein ...\"}, \"Kushies Waterproof Bib with Sleeves, Blue Circle, Infant\": {\"frequency\": 22, \"value\": \"Kushies Waterproof ...\"}, \"Proudbody My Little Prints Baby-Safe Ink Pad, Blue\": {\"frequency\": 51, \"value\": \"Proudbody My ...\"}, \"WubbaNub Lamb\": {\"frequency\": 45, \"value\": \"WubbaNub Lamb\"}, \"Mommys Helper Cushie Traveler Folding Padded Potty Seat with Carry Bag, White with Frog Design\": {\"frequency\": 16, \"value\": \"Mommys Helper ...\"}, \"BOB Infant Car Seat Adapter for Graco Single Strollers\": {\"frequency\": 17, \"value\": \"BOB Infant Car ...\"}, \"Philips AVENT BPA Free Classic Infant Starter Gift Set\": {\"frequency\": 68, \"value\": \"Philips AVENT BPA ...\"}, \"Leachco Prop 'R Shopper - Shopping Cart Cover - Sage Pin Dot\": {\"frequency\": 38, \"value\": \"Leachco Prop 'R ...\"}, \"Baby Food Containers- Sprout Cups - Reusable Stackable Storage Cups (12 Pack) with Tray and Dry-erase Marker - 100% BPA Free (2 Oz)\": {\"frequency\": 23, \"value\": \"Baby Food ...\"}, \"Britax Parkway SGL Belt-Positioning Booster Seat, Cub Pink\": {\"frequency\": 36, \"value\": \"Britax Parkway SGL ...\"}, \"Safety 1St Comfy Cushy 3-in-1 Potty\": {\"frequency\": 28, \"value\": \"Safety 1St Comfy ...\"}, \"Medela Breastmilk Bottle Spare Parts\": {\"frequency\": 28, \"value\": \"Medela Breastmilk ...\"}, \"Merino Kids Baby Sleep Sack For Babies 0-2 Years, Banbury\": {\"frequency\": 20, \"value\": \"Merino Kids Baby ...\"}, \"Zo-li Buzz B. Baby Nail Trimmer\": {\"frequency\": 32, \"value\": \"Zo-li Buzz B. Baby ...\"}, \"Stork Craft Rochester Stages Crib with Drawer\": {\"frequency\": 20, \"value\": \"Stork Craft ...\"}, \"Tiny Love 3 in 1 Rocker Napper, Brown\": {\"frequency\": 52, \"value\": \"Tiny Love 3 in 1 ...\"}, \"Snappi Cloth Diaper Fasteners - Pack of 3 (Mint color mix)\": {\"frequency\": 26, \"value\": \"Snappi Cloth ...\"}, \"Summer Infant, Ultimate Training Pad - Twin Mattress, 38&quot; x 28&quot;\": {\"frequency\": 20, \"value\": \"Summer Infant, ...\"}, \"Maxboost Fusion Snap-on iPhone 5S/5 Case - Grey (Fit Fusion Battery Case for iPhone 5S/5)\": {\"frequency\": 21, \"value\": \"Maxboost Fusion ...\"}, \"Motorola MBP26 Wireless 2.4 GHz Video Baby Monitor with 2.4&quot; Color LCD Screen, Infrared Night Vision and Remote Camera Pan and Tilt\": {\"frequency\": 28, \"value\": \"Motorola MBP26 ...\"}, \"Gerber Graduates BPA Free 2 Pack Fun Grips spill Proof Cup, 10 Ounce, Colors May Vary\": {\"frequency\": 39, \"value\": \"Gerber Graduates ...\"}, \"Philips AVENT BPA Free Formula Dispenser/Snack Cup\": {\"frequency\": 16, \"value\": \"Philips AVENT BPA ...\"}, \"Itzbeen Pocket Nanny Baby Care Timer, Blue\": {\"frequency\": 163, \"value\": \"Itzbeen Pocket ...\"}, \"LA Baby 4 Sided Changing Pad 30&quot;, White\": {\"frequency\": 29, \"value\": \"LA Baby 4 Sided ...\"}, \"Born Free Tru-Temp Bottle Warming System\": {\"frequency\": 18, \"value\": \"Born Free Tru-Temp ...\"}, \"Nuby 2 Pack Nurtur Care Infa Feeder Set, 4 Ounce, Colors May Vary\": {\"frequency\": 30, \"value\": \"Nuby 2 Pack Nurtur ...\"}, \"Munchkin White Hot Inflatable Duck Tub\": {\"frequency\": 72, \"value\": \"Munchkin White Hot ...\"}, \"Planet Wise Reusable Diaper Pail Liner, Avocado\": {\"frequency\": 97, \"value\": \"Planet Wise ...\"}, \"Fisher Price Fisher Price Fastfinder Deluxe Messenger Bag\": {\"frequency\": 20, \"value\": \"Fisher Price ...\"}, \"Summer Infant Lil' Loo Potty, Pink\": {\"frequency\": 58, \"value\": \"Summer Infant Lil' ...\"}, \"Pearhead Babyprints Keepsake Wall Frame, White\": {\"frequency\": 21, \"value\": \"Pearhead ...\"}, \"Lulu Ladybug Rocker by Rockabye\": {\"frequency\": 17, \"value\": \"Lulu Ladybug ...\"}, \"Baby Vac Nasal Aspirator 2012 Model\": {\"frequency\": 30, \"value\": \"Baby Vac Nasal ...\"}, \"BOB Handlebar Console, Duallie\": {\"frequency\": 20, \"value\": \"BOB Handlebar ...\"}, \"Angelcare Baby Sound Monitor, White\": {\"frequency\": 78, \"value\": \"Angelcare Baby ...\"}, \"Sony 900 MHz BabyCall Nursery Monitor with Receivers\": {\"frequency\": 51, \"value\": \"Sony 900 MHz ...\"}, \"Fisher-Price Precious Planet Whale of a Tub\": {\"frequency\": 62, \"value\": \"Fisher-Price ...\"}, \"Sesame Street Elmo Adventure Potty Chair\": {\"frequency\": 29, \"value\": \"Sesame Street Elmo ...\"}, \"Munchkin Click Lock 2 Count Flip Straw Cup, 9 ounce\": {\"frequency\": 18, \"value\": \"Munchkin Click ...\"}, \"3 Sprouts Laundry Hamper, Deer\": {\"frequency\": 28, \"value\": \"3 Sprouts Laundry ...\"}, \"Britax Marathon 70-G3 Convertible Car Seat, Onyx\": {\"frequency\": 167, \"value\": \"Britax Marathon ...\"}, \"Safety 1st Tubside Bath Seat\": {\"frequency\": 49, \"value\": \"Safety 1st Tubside ...\"}, \"RECARO ProRIDE Convertible Car Seat, Misty\": {\"frequency\": 148, \"value\": \"RECARO ProRIDE ...\"}, \"The First Years Disney/Pixar Cars Simple and Secure Booster\": {\"frequency\": 16, \"value\": \"The First Years ...\"}, \"Baby Einstein Musical Motion Activity Jumper, Green\": {\"frequency\": 22, \"value\": \"Baby Einstein ...\"}, \"Munchkin Dora The Explorer Toddler Dining Set\": {\"frequency\": 52, \"value\": \"Munchkin Dora The ...\"}, \"Playtex Diaper Genie Twist- Away Pail System\": {\"frequency\": 76, \"value\": \"Playtex Diaper ...\"}, \"babyletto Madison Swivel Glider, Mocha\": {\"frequency\": 24, \"value\": \"babyletto Madison ...\"}, \"The First Years 1 Pack Breastflow Bottle, 9 Ounce\": {\"frequency\": 23, \"value\": \"The First Years 1 ...\"}, \"Munchkin Travel Booster Seat\": {\"frequency\": 32, \"value\": \"Munchkin Travel ...\"}, \"Kissa's Pail Liner, White\": {\"frequency\": 47, \"value\": \"Kissa's Pail ...\"}, \"Summer Infant Tiny Diner for Highchairs, Blue\": {\"frequency\": 38, \"value\": \"Summer Infant Tiny ...\"}, \"Carters Everyday Easy Printed Boa Blanket, Ecru Circles\": {\"frequency\": 16, \"value\": \"Carters Everyday ...\"}, \"Furniture Wall Straps (Set of 2)\": {\"frequency\": 16, \"value\": \"Furniture Wall ...\"}, \"Munchkin Click Lock Fresh Food Freezer Pops\": {\"frequency\": 19, \"value\": \"Munchkin Click ...\"}, \"Summer Infant Metal Expansion Gate, 6 Foot Wide Walk-Thru, Neutral finish\": {\"frequency\": 56, \"value\": \"Summer Infant ...\"}, \"Philips AVENT BPA Free Standard Breast Pump Conversion Kit\": {\"frequency\": 21, \"value\": \"Philips AVENT BPA ...\"}, \"Safety 1st Sounds n Lights Discovery Walker, Dino\": {\"frequency\": 27, \"value\": \"Safety 1st Sounds ...\"}, \"Aden By aden + anais Muslin Swaddle Blanket 4 Pack, Oh My!\": {\"frequency\": 130, \"value\": \"Aden By aden + ...\"}, \"Britax Frontier 90 Booster Car Seat, Zebra\": {\"frequency\": 102, \"value\": \"Britax Frontier 90 ...\"}, \"Diono Radian Angle Adjuster\": {\"frequency\": 42, \"value\": \"Diono Radian Angle ...\"}, \"Summer Infant Best View Handheld Color Video Monitor, Sliver/White\": {\"frequency\": 34, \"value\": \"Summer Infant Best ...\"}, \"Boon Fluid -No-Spill Toddler Cup in Orange/Blue\": {\"frequency\": 24, \"value\": \"Boon Fluid -No- ...\"}, \"Summer Infant Ultra Plush Change Pad Cover, Blue\": {\"frequency\": 99, \"value\": \"Summer Infant ...\"}, \"Philips Avent Express Microwave Sterilizer\": {\"frequency\": 63, \"value\": \"Philips Avent ...\"}, \"OXO Tot Straw and Sippy Cup Top Cleaning Set, Orange\": {\"frequency\": 46, \"value\": \"OXO Tot Straw and ...\"}, \"Today's Mom Cozy Cuddler Pregnancy Pillow - White\": {\"frequency\": 22, \"value\": \"Today's Mom Cozy ...\"}, \"Bumkins 3 Pack Waterproof SuperBib\": {\"frequency\": 176, \"value\": \"Bumkins 3 Pack ...\"}, \"Fisher-Price Luv U Zoo Snuggle Cub Soother Mobile\": {\"frequency\": 19, \"value\": \"Fisher-Price Luv U ...\"}, \"Carters Easy Fit Jersey Portable Crib Fitted Sheet, Pink\": {\"frequency\": 25, \"value\": \"Carters Easy Fit ...\"}, \"Boppy Cottony Cute Slipcover, Emily's Garden\": {\"frequency\": 38, \"value\": \"Boppy Cottony Cute ...\"}, \"Sunshine Kids Dry Seat Pad, Grey\": {\"frequency\": 25, \"value\": \"Sunshine Kids Dry ...\"}, \"Nuby Icybite Hard/Soft Teething Keys\": {\"frequency\": 22, \"value\": \"Nuby Icybite ...\"}, \"Infantino Sash Mei Tai Carrier Black/Gray\": {\"frequency\": 61, \"value\": \"Infantino Sash Mei ...\"}, \"BRICA goPad Diaper Changer\": {\"frequency\": 23, \"value\": \"BRICA goPad Diaper ...\"}, \"Replacement Tubing (Retail Pack of 2) for Medela Pump in Style and New Pump in Style Advanced Breast Pump - 100% BPA FREE\": {\"frequency\": 85, \"value\": \"Replacement Tubing ...\"}, \"Simple Wishes D Lite Hands Free Breastpump Bra, Soft Pink, Large to Plus Size\": {\"frequency\": 52, \"value\": \"Simple Wishes D ...\"}, \"JL Childress Wheelie Car Seat Travel Bag, Black\": {\"frequency\": 39, \"value\": \"JL Childress ...\"}, \"babyletto Mercer 3-in-1 Convertible Crib with Toddler Rail, Two Tone\": {\"frequency\": 20, \"value\": \"babyletto Mercer ...\"}, \"Prince Lionheart 2 Stage Seatsaver, Black\": {\"frequency\": 82, \"value\": \"Prince Lionheart 2 ...\"}, \"Bright Starts License to Drool Teether\": {\"frequency\": 30, \"value\": \"Bright Starts ...\"}, \"Edushape 4&quot; Sensory Balls, Set of 4, Solid\": {\"frequency\": 24, \"value\": \"Edushape 4&quot; ...\"}, \"Kiddopotamus Dreamsie Sleeper with Sleeves Microfleece Large, Ivory\": {\"frequency\": 18, \"value\": \"Kiddopotamus ...\"}, \"American Baby Company 100% Cotton Percale Fitted Portable/Mini Crib Sheet, Pink Dots\": {\"frequency\": 17, \"value\": \"American Baby ...\"}, \"Aquaus Toilet Bidet Handle / Diaper Sprayer with ** BONUS ** Rockin' Green Laundry Detergent and Tooth Tissue sample\": {\"frequency\": 17, \"value\": \"Aquaus Toilet ...\"}, \"Munchkin Cleaning Brush Set\": {\"frequency\": 30, \"value\": \"Munchkin Cleaning ...\"}, \"Cloud b Tranquil Turtle Night Light, Ocean\": {\"frequency\": 19, \"value\": \"Cloud b Tranquil ...\"}, \"OsoCozy Chinese Prefold Diapers, Infant 4x6x4\": {\"frequency\": 18, \"value\": \"OsoCozy Chinese ...\"}, \"Clevamama ClevaFoam Baby Pillow, Cream\": {\"frequency\": 16, \"value\": \"Clevamama ...\"}, \"Wubbanub Infant Pacifiers (Pink Kitty)\": {\"frequency\": 17, \"value\": \"Wubbanub Infant ...\"}, \"Bummis Super Whisper Wrap, White, 30 Pounds\": {\"frequency\": 16, \"value\": \"Bummis Super ...\"}, \"RECARO Performance SPORT Combination Harness to Booster, Vibe\": {\"frequency\": 34, \"value\": \"RECARO Performance ...\"}, \"JJ Cole Premaxx Sling Carrier - New Edition Red Orange\": {\"frequency\": 19, \"value\": \"JJ Cole Premaxx ...\"}, \"Evenflo Exersaucer Smartsteps Jump &amp; Go\": {\"frequency\": 16, \"value\": \"Evenflo Exersaucer ...\"}, \"Baby Bottle Labels, Self-laminating - Great for Daycare\": {\"frequency\": 34, \"value\": \"Baby Bottle ...\"}, \"Dream On Me 3&quot; Foam Graco Pack 'n Play Mattress\": {\"frequency\": 82, \"value\": \"Dream On Me ...\"}, \"Munchkin Arm &amp; Hammer Diaper Pail withRefill Bags, 10-Count\": {\"frequency\": 24, \"value\": \"Munchkin Arm &amp; ...\"}, \"my best friend Inflatable breast feeding pillow\": {\"frequency\": 18, \"value\": \"my best friend ...\"}, \"Safety 1st Soothing Mist Ultrasonic Humidifier\": {\"frequency\": 60, \"value\": \"Safety 1st ...\"}, \"Baby Einstein Seek &amp; Discover Activity Gym\": {\"frequency\": 62, \"value\": \"Baby Einstein Seek ...\"}, \"Superyard Colorplay Ultimate Playard\": {\"frequency\": 16, \"value\": \"Superyard ...\"}, \"Fisher-Price Luv U Zoo Crib 'N Go Projector Soother\": {\"frequency\": 39, \"value\": \"Fisher-Price Luv U ...\"}, \"Thermos FOOGO Phases Stainless Steel Straw Bottle, Pink/Purple, 10 Ounce\": {\"frequency\": 139, \"value\": \"Thermos FOOGO ...\"}, \"Stork Craft Tuscany Glider and Ottoman, Cherry/Beige\": {\"frequency\": 58, \"value\": \"Stork Craft ...\"}, \"Dr. Brown's Gia Nursing Pillow\": {\"frequency\": 18, \"value\": \"Dr. Brown's Gia ...\"}, \"Hotslings Adjustable Pouch Baby Sling, Graham Cracker, Large\": {\"frequency\": 16, \"value\": \"Hotslings ...\"}, \"Sassy 2 Count Grow Up Cup, Purple/Orange, 9 Ounce\": {\"frequency\": 25, \"value\": \"Sassy 2 Count Grow ...\"}, \"Evenflo ExerSaucer Delux - Wild Thing\": {\"frequency\": 16, \"value\": \"Evenflo ExerSaucer ...\"}, \"Britax Boulevard 70 Convertible Car Seat (Previous Version), Onyx\": {\"frequency\": 33, \"value\": \"Britax Boulevard ...\"}, \"The First Years Natural Comfort Breast Pump\": {\"frequency\": 16, \"value\": \"The First Years ...\"}, \"Cloud b Sound Machine Soother, Sleep Sheep\": {\"frequency\": 152, \"value\": \"Cloud b Sound ...\"}, \"Soft Gear My Booster Seat, Mint\": {\"frequency\": 26, \"value\": \"Soft Gear My ...\"}, \"Carters Keep Me Dry Flannel Lap Pads, Ecru, 3 Pack\": {\"frequency\": 58, \"value\": \"Carters Keep Me ...\"}, \"bumGenius One-Size Snap Closure Cloth Diaper 4.0 - Bubble\": {\"frequency\": 65, \"value\": \"bumGenius One-Size ...\"}, \"UPPAbaby G-Luxe Stroller, Jake/Black\": {\"frequency\": 18, \"value\": \"UPPAbaby G-Luxe ...\"}, \"Cuisinart BFM-1000 Baby Food Maker and Bottle Warmer\": {\"frequency\": 28, \"value\": \"Cuisinart BFM-1000 ...\"}, \"JJ Cole Original Infant Bundleme, Khaki\": {\"frequency\": 19, \"value\": \"JJ Cole Original ...\"}, \"Fisher-Price Ocean Wonders Projector Soother\": {\"frequency\": 16, \"value\": \"Fisher-Price Ocean ...\"}, \"Dr. Brown's Designed To Nourish 4 Pack Long Spatula Spoon, Colors May Vary\": {\"frequency\": 18, \"value\": \"Dr. Brown's ...\"}, \"BRICA Baby In-Sight Magical Firefly Auto Mirror for in Car Safety\": {\"frequency\": 22, \"value\": \"BRICA Baby In- ...\"}, \"Nuby 2 Pack Replacement Silicone Spouts\": {\"frequency\": 17, \"value\": \"Nuby 2 Pack ...\"}, \"Chicco Liteway Stroller, Fuego\": {\"frequency\": 39, \"value\": \"Chicco Liteway ...\"}, \"CherryCreek Decals Giant Spring Flower Garden &amp; Tree Baby/Nursery Wall Sticker Decals for Boys and Girls (Tree 4.4 Feet Tall)\": {\"frequency\": 20, \"value\": \"CherryCreek Decals ...\"}, \"Dr. Brown's Standard Dishwashing Basket, Polypropylene\": {\"frequency\": 20, \"value\": \"Dr. Brown's ...\"}, \"Boon Frog Pod Suction Cup Bracket\": {\"frequency\": 20, \"value\": \"Boon Frog Pod ...\"}, \"Cradle Mattress - 18 X 36 X 2&quot; Thick\": {\"frequency\": 17, \"value\": \"Cradle Mattress - ...\"}, \"Evenflo Big Kid Booster Car Seat - Mercury\": {\"frequency\": 18, \"value\": \"Evenflo Big Kid ...\"}, \"Graco SimpleSwitch Highchair and Booster, Pasadena\": {\"frequency\": 54, \"value\": \"Graco SimpleSwitch ...\"}, \"Carters Keep Me Dry Flannel Bassinet Pad, Green/Yellow\": {\"frequency\": 52, \"value\": \"Carters Keep Me ...\"}, \"Graco DuetSoothe Swing + Rocker, Winslet\": {\"frequency\": 16, \"value\": \"Graco DuetSoothe ...\"}, \"aden + anais 3 Pack Muslin Washcloths, Water Baby\": {\"frequency\": 19, \"value\": \"aden + anais 3 ...\"}, \"green sprouts Warming Plate, Sage\": {\"frequency\": 26, \"value\": \"green sprouts ...\"}, \"Fisher-Price Rainforest Melodies and Lights Deluxe Gym\": {\"frequency\": 218, \"value\": \"Fisher-Price ...\"}, \"Maxi-Cosi Priori Convertible Car Seat, Gipsy\": {\"frequency\": 19, \"value\": \"Maxi-Cosi Priori ...\"}, \"Baby Trend Diaper Champ Deluxe, Blue\": {\"frequency\": 31, \"value\": \"Baby Trend Diaper ...\"}, \"NUK Mash &amp; Serve Bowl\": {\"frequency\": 100, \"value\": \"NUK Mash &amp; ...\"}, \"Lamaze High-Contrast Discovery Shapes Activity Puzzle &amp; Crib Gallery\": {\"frequency\": 27, \"value\": \"Lamaze High- ...\"}, \"Medela Harmony Manual Breast Pump\": {\"frequency\": 113, \"value\": \"Medela Harmony ...\"}, \"GroVia Cloth Wipes, 12 count\": {\"frequency\": 44, \"value\": \"GroVia Cloth ...\"}, \"Bellybuds&reg; | Baby-Bump Sound System\": {\"frequency\": 23, \"value\": \"Bellybuds&reg; | ...\"}, \"Evenflo Single Breast Pump\": {\"frequency\": 20, \"value\": \"Evenflo Single ...\"}, \"C.R. Gibson Keepsake Chest, Jack\": {\"frequency\": 20, \"value\": \"C.R. Gibson ...\"}, \"Graco Nautilus 3-in-1 Car Seat, Matrix\": {\"frequency\": 386, \"value\": \"Graco Nautilus ...\"}, \"Ameda Purely Yours Ultra Breast Pump\": {\"frequency\": 20, \"value\": \"Ameda Purely Yours ...\"}, \"Baby Banana Bendable Training Toothbrush, Infant\": {\"frequency\": 149, \"value\": \"Baby Banana ...\"}, \"Keekaroo Height Right High Chair with Tray, Natural\": {\"frequency\": 37, \"value\": \"Keekaroo Height ...\"}, \"Regalo Easy Diner Portable Hook-On High Chair\": {\"frequency\": 101, \"value\": \"Regalo Easy Diner ...\"}, \"Britax Advocate 70 CS Convertible Car Seat, Zebra\": {\"frequency\": 22, \"value\": \"Britax Advocate 70 ...\"}, \"Munchkin Arm &amp; Hammer Disposable Changing Pad - 10 Pack\": {\"frequency\": 37, \"value\": \"Munchkin Arm &amp; ...\"}, \"Munchkin Warm Glow Wipe Warmer and Diaper Bag Dispenser Set (Colors may vary)\": {\"frequency\": 16, \"value\": \"Munchkin Warm Glow ...\"}, \"ERGObaby Original Baby Carrier, Camel\": {\"frequency\": 128, \"value\": \"ERGObaby Original ...\"}, \"BRICA Bath Kneeler\": {\"frequency\": 17, \"value\": \"BRICA Bath Kneeler\"}, \"Celebration Candles 1-21 Year Numbered Birthday Candle, Pink\": {\"frequency\": 20, \"value\": \"Celebration ...\"}, \"Infantino Squeeze Station\": {\"frequency\": 28, \"value\": \"Infantino Squeeze ...\"}}, \"size\": 166752}, \"selected_variable\": {\"name\": [\"<SArray>\"], \"dtype\": \"str\", \"view_component\": \"Categorical\", \"view_file\": \"sarray\", \"descriptives\": {\"rows\": 166752}, \"type\": \"SArray\", \"view_components\": [\"Categorical\"]}, \"histogram\": null}, e);\n",
       "                });\n",
       "            })();\n",
       "        "
      ]
     },
     "metadata": {},
     "output_type": "display_data"
    }
   ],
   "source": [
    "products['name'].show()"
   ]
  },
  {
   "cell_type": "code",
   "execution_count": 22,
   "metadata": {
    "collapsed": true
   },
   "outputs": [],
   "source": [
    "giraffe_reviews = products[products['name'] == 'Vulli Sophie the Giraffe Teether']"
   ]
  },
  {
   "cell_type": "code",
   "execution_count": 23,
   "metadata": {
    "collapsed": false
   },
   "outputs": [
    {
     "data": {
      "text/html": [
       "<div style=\"max-height:1000px;max-width:1500px;overflow:auto;\"><table frame=\"box\" rules=\"cols\">\n",
       "    <tr>\n",
       "        <th style=\"padding-left: 1em; padding-right: 1em; text-align: center\">name</th>\n",
       "        <th style=\"padding-left: 1em; padding-right: 1em; text-align: center\">review</th>\n",
       "        <th style=\"padding-left: 1em; padding-right: 1em; text-align: center\">rating</th>\n",
       "        <th style=\"padding-left: 1em; padding-right: 1em; text-align: center\">word_count</th>\n",
       "        <th style=\"padding-left: 1em; padding-right: 1em; text-align: center\">sentiment</th>\n",
       "    </tr>\n",
       "    <tr>\n",
       "        <td style=\"padding-left: 1em; padding-right: 1em; text-align: center; vertical-align: top\">Vulli Sophie the Giraffe<br>Teether ...</td>\n",
       "        <td style=\"padding-left: 1em; padding-right: 1em; text-align: center; vertical-align: top\">He likes chewing on all<br>the parts especially the ...</td>\n",
       "        <td style=\"padding-left: 1em; padding-right: 1em; text-align: center; vertical-align: top\">5.0</td>\n",
       "        <td style=\"padding-left: 1em; padding-right: 1em; text-align: center; vertical-align: top\">{'and': 1L, 'all': 1L,<br>'because': 1L, 'it': 1L, ...</td>\n",
       "        <td style=\"padding-left: 1em; padding-right: 1em; text-align: center; vertical-align: top\">1</td>\n",
       "    </tr>\n",
       "    <tr>\n",
       "        <td style=\"padding-left: 1em; padding-right: 1em; text-align: center; vertical-align: top\">Vulli Sophie the Giraffe<br>Teether ...</td>\n",
       "        <td style=\"padding-left: 1em; padding-right: 1em; text-align: center; vertical-align: top\">My son loves this toy and<br>fits great in the diaper ...</td>\n",
       "        <td style=\"padding-left: 1em; padding-right: 1em; text-align: center; vertical-align: top\">5.0</td>\n",
       "        <td style=\"padding-left: 1em; padding-right: 1em; text-align: center; vertical-align: top\">{'and': 1L, 'right': 1L,<br>'help': 1L, 'just': 1L, ...</td>\n",
       "        <td style=\"padding-left: 1em; padding-right: 1em; text-align: center; vertical-align: top\">1</td>\n",
       "    </tr>\n",
       "    <tr>\n",
       "        <td style=\"padding-left: 1em; padding-right: 1em; text-align: center; vertical-align: top\">Vulli Sophie the Giraffe<br>Teether ...</td>\n",
       "        <td style=\"padding-left: 1em; padding-right: 1em; text-align: center; vertical-align: top\">There really should be a<br>large warning on the  ...</td>\n",
       "        <td style=\"padding-left: 1em; padding-right: 1em; text-align: center; vertical-align: top\">1.0</td>\n",
       "        <td style=\"padding-left: 1em; padding-right: 1em; text-align: center; vertical-align: top\">{'and': 2L, 'all': 1L,<br>'latex.': 1L, 'being': ...</td>\n",
       "        <td style=\"padding-left: 1em; padding-right: 1em; text-align: center; vertical-align: top\">0</td>\n",
       "    </tr>\n",
       "    <tr>\n",
       "        <td style=\"padding-left: 1em; padding-right: 1em; text-align: center; vertical-align: top\">Vulli Sophie the Giraffe<br>Teether ...</td>\n",
       "        <td style=\"padding-left: 1em; padding-right: 1em; text-align: center; vertical-align: top\">All the moms in my moms'<br>group got Sophie for ...</td>\n",
       "        <td style=\"padding-left: 1em; padding-right: 1em; text-align: center; vertical-align: top\">5.0</td>\n",
       "        <td style=\"padding-left: 1em; padding-right: 1em; text-align: center; vertical-align: top\">{'and': 2L, 'one!': 1L,<br>'all': 1L, 'love': 1L, ...</td>\n",
       "        <td style=\"padding-left: 1em; padding-right: 1em; text-align: center; vertical-align: top\">1</td>\n",
       "    </tr>\n",
       "    <tr>\n",
       "        <td style=\"padding-left: 1em; padding-right: 1em; text-align: center; vertical-align: top\">Vulli Sophie the Giraffe<br>Teether ...</td>\n",
       "        <td style=\"padding-left: 1em; padding-right: 1em; text-align: center; vertical-align: top\">I was a little skeptical<br>on whether Sophie was ...</td>\n",
       "        <td style=\"padding-left: 1em; padding-right: 1em; text-align: center; vertical-align: top\">5.0</td>\n",
       "        <td style=\"padding-left: 1em; padding-right: 1em; text-align: center; vertical-align: top\">{'and': 3L, 'all': 1L,<br>'old': 1L, 'her.': 1L, ...</td>\n",
       "        <td style=\"padding-left: 1em; padding-right: 1em; text-align: center; vertical-align: top\">1</td>\n",
       "    </tr>\n",
       "    <tr>\n",
       "        <td style=\"padding-left: 1em; padding-right: 1em; text-align: center; vertical-align: top\">Vulli Sophie the Giraffe<br>Teether ...</td>\n",
       "        <td style=\"padding-left: 1em; padding-right: 1em; text-align: center; vertical-align: top\">I have been reading about<br>Sophie and was going  ...</td>\n",
       "        <td style=\"padding-left: 1em; padding-right: 1em; text-align: center; vertical-align: top\">5.0</td>\n",
       "        <td style=\"padding-left: 1em; padding-right: 1em; text-align: center; vertical-align: top\">{'and': 6L, 'seven': 1L,<br>'already': 1L, 'love': ...</td>\n",
       "        <td style=\"padding-left: 1em; padding-right: 1em; text-align: center; vertical-align: top\">1</td>\n",
       "    </tr>\n",
       "    <tr>\n",
       "        <td style=\"padding-left: 1em; padding-right: 1em; text-align: center; vertical-align: top\">Vulli Sophie the Giraffe<br>Teether ...</td>\n",
       "        <td style=\"padding-left: 1em; padding-right: 1em; text-align: center; vertical-align: top\">My neice loves her sophie<br>and has spent hours ...</td>\n",
       "        <td style=\"padding-left: 1em; padding-right: 1em; text-align: center; vertical-align: top\">5.0</td>\n",
       "        <td style=\"padding-left: 1em; padding-right: 1em; text-align: center; vertical-align: top\">{'and': 4L, 'drooling,':<br>1L, 'love': 1L, 'her.': ...</td>\n",
       "        <td style=\"padding-left: 1em; padding-right: 1em; text-align: center; vertical-align: top\">1</td>\n",
       "    </tr>\n",
       "    <tr>\n",
       "        <td style=\"padding-left: 1em; padding-right: 1em; text-align: center; vertical-align: top\">Vulli Sophie the Giraffe<br>Teether ...</td>\n",
       "        <td style=\"padding-left: 1em; padding-right: 1em; text-align: center; vertical-align: top\">What a friendly face!<br>And those mesmerizing ...</td>\n",
       "        <td style=\"padding-left: 1em; padding-right: 1em; text-align: center; vertical-align: top\">5.0</td>\n",
       "        <td style=\"padding-left: 1em; padding-right: 1em; text-align: center; vertical-align: top\">{'and': 3L, 'chew': 1L,<br>\"don't\": 1L, 'is': 1L, ...</td>\n",
       "        <td style=\"padding-left: 1em; padding-right: 1em; text-align: center; vertical-align: top\">1</td>\n",
       "    </tr>\n",
       "    <tr>\n",
       "        <td style=\"padding-left: 1em; padding-right: 1em; text-align: center; vertical-align: top\">Vulli Sophie the Giraffe<br>Teether ...</td>\n",
       "        <td style=\"padding-left: 1em; padding-right: 1em; text-align: center; vertical-align: top\">We got this just for my<br>son to chew on instea ...</td>\n",
       "        <td style=\"padding-left: 1em; padding-right: 1em; text-align: center; vertical-align: top\">5.0</td>\n",
       "        <td style=\"padding-left: 1em; padding-right: 1em; text-align: center; vertical-align: top\">{'chew': 2L, 'because':<br>1L, 'just': 2L, 'what': ...</td>\n",
       "        <td style=\"padding-left: 1em; padding-right: 1em; text-align: center; vertical-align: top\">1</td>\n",
       "    </tr>\n",
       "    <tr>\n",
       "        <td style=\"padding-left: 1em; padding-right: 1em; text-align: center; vertical-align: top\">Vulli Sophie the Giraffe<br>Teether ...</td>\n",
       "        <td style=\"padding-left: 1em; padding-right: 1em; text-align: center; vertical-align: top\">This product is without a<br>doubt the best on the ...</td>\n",
       "        <td style=\"padding-left: 1em; padding-right: 1em; text-align: center; vertical-align: top\">5.0</td>\n",
       "        <td style=\"padding-left: 1em; padding-right: 1em; text-align: center; vertical-align: top\">{'and': 4L, 'on': 2L,<br>'teething': 1L, 'just': ...</td>\n",
       "        <td style=\"padding-left: 1em; padding-right: 1em; text-align: center; vertical-align: top\">1</td>\n",
       "    </tr>\n",
       "</table>\n",
       "[? rows x 5 columns]<br/>Note: Only the head of the SFrame is printed. This SFrame is lazily evaluated.<br/>You can use sf.materialize() to force materialization.\n",
       "</div>"
      ],
      "text/plain": [
       "Columns:\n",
       "\tname\tstr\n",
       "\treview\tstr\n",
       "\trating\tfloat\n",
       "\tword_count\tdict\n",
       "\tsentiment\tint\n",
       "\n",
       "Rows: Unknown\n",
       "\n",
       "Data:\n",
       "+-------------------------------+-------------------------------+--------+\n",
       "|              name             |             review            | rating |\n",
       "+-------------------------------+-------------------------------+--------+\n",
       "| Vulli Sophie the Giraffe T... | He likes chewing on all th... |  5.0   |\n",
       "| Vulli Sophie the Giraffe T... | My son loves this toy and ... |  5.0   |\n",
       "| Vulli Sophie the Giraffe T... | There really should be a l... |  1.0   |\n",
       "| Vulli Sophie the Giraffe T... | All the moms in my moms' g... |  5.0   |\n",
       "| Vulli Sophie the Giraffe T... | I was a little skeptical o... |  5.0   |\n",
       "| Vulli Sophie the Giraffe T... | I have been reading about ... |  5.0   |\n",
       "| Vulli Sophie the Giraffe T... | My neice loves her sophie ... |  5.0   |\n",
       "| Vulli Sophie the Giraffe T... | What a friendly face!  And... |  5.0   |\n",
       "| Vulli Sophie the Giraffe T... | We got this just for my so... |  5.0   |\n",
       "| Vulli Sophie the Giraffe T... | This product is without a ... |  5.0   |\n",
       "+-------------------------------+-------------------------------+--------+\n",
       "+-------------------------------+-----------+\n",
       "|           word_count          | sentiment |\n",
       "+-------------------------------+-----------+\n",
       "| {'and': 1L, 'all': 1L, 'be... |     1     |\n",
       "| {'and': 1L, 'right': 1L, '... |     1     |\n",
       "| {'and': 2L, 'all': 1L, 'la... |     0     |\n",
       "| {'and': 2L, 'one!': 1L, 'a... |     1     |\n",
       "| {'and': 3L, 'all': 1L, 'ol... |     1     |\n",
       "| {'and': 6L, 'seven': 1L, '... |     1     |\n",
       "| {'and': 4L, 'drooling,': 1... |     1     |\n",
       "| {'and': 3L, 'chew': 1L, \"d... |     1     |\n",
       "| {'chew': 2L, 'because': 1L... |     1     |\n",
       "| {'and': 4L, 'on': 2L, 'tee... |     1     |\n",
       "+-------------------------------+-----------+\n",
       "[? rows x 5 columns]\n",
       "Note: Only the head of the SFrame is printed. This SFrame is lazily evaluated.\n",
       "You can use sf.materialize() to force materialization."
      ]
     },
     "execution_count": 23,
     "metadata": {},
     "output_type": "execute_result"
    }
   ],
   "source": [
    "giraffe_reviews"
   ]
  },
  {
   "cell_type": "code",
   "execution_count": 24,
   "metadata": {
    "collapsed": false
   },
   "outputs": [
    {
     "data": {
      "application/javascript": [
       "$(\"head\").append($(\"<link/>\").attr({\n",
       "  rel:  \"stylesheet\",\n",
       "  type: \"text/css\",\n",
       "  href: \"//cdnjs.cloudflare.com/ajax/libs/font-awesome/4.1.0/css/font-awesome.min.css\"\n",
       "}));\n",
       "$(\"head\").append($(\"<link/>\").attr({\n",
       "  rel:  \"stylesheet\",\n",
       "  type: \"text/css\",\n",
       "  href: \"https://static.turi.com/products/graphlab-create/2.1/canvas/css/canvas.css\"\n",
       "}));\n",
       "\n",
       "            (function(){\n",
       "\n",
       "                var e = null;\n",
       "                if (typeof element == 'undefined') {\n",
       "                    var scripts = document.getElementsByTagName('script');\n",
       "                    var thisScriptTag = scripts[scripts.length-1];\n",
       "                    var parentDiv = thisScriptTag.parentNode;\n",
       "                    e = document.createElement('div');\n",
       "                    parentDiv.appendChild(e);\n",
       "                } else {\n",
       "                    e = element[0];\n",
       "                }\n",
       "\n",
       "                if (typeof requirejs !== 'undefined') {\n",
       "                    // disable load timeout; ipython_app.js is large and can take a while to load.\n",
       "                    requirejs.config({waitSeconds: 0});\n",
       "                }\n",
       "\n",
       "                require(['https://static.turi.com/products/graphlab-create/2.1/canvas/js/ipython_app.js'], function(IPythonApp){\n",
       "                    var app = new IPythonApp();\n",
       "                    app.attachView('sarray','Categorical', {\"ipython\": true, \"sketch\": {\"std\": 1.2955234342005149, \"complete\": true, \"min\": 1.0, \"max\": 5.0, \"quantile\": [1.0, 1.0, 1.0, 1.0, 1.0, 1.0, 1.0, 1.0, 1.0, 1.0, 2.0, 2.0, 2.0, 2.0, 2.0, 2.0, 4.0, 4.0, 4.0, 4.0, 4.0, 4.0, 4.0, 4.0, 4.0, 4.0, 4.0, 4.0, 4.0, 4.0, 4.0, 4.0, 4.0, 4.0, 4.0, 4.0, 5.0, 5.0, 5.0, 5.0, 5.0, 5.0, 5.0, 5.0, 5.0, 5.0, 5.0, 5.0, 5.0, 5.0, 5.0, 5.0, 5.0, 5.0, 5.0, 5.0, 5.0, 5.0, 5.0, 5.0, 5.0, 5.0, 5.0, 5.0, 5.0, 5.0, 5.0, 5.0, 5.0, 5.0, 5.0, 5.0, 5.0, 5.0, 5.0, 5.0, 5.0, 5.0, 5.0, 5.0, 5.0, 5.0, 5.0, 5.0, 5.0, 5.0, 5.0, 5.0, 5.0, 5.0, 5.0, 5.0, 5.0, 5.0, 5.0, 5.0, 5.0, 5.0, 5.0, 5.0, 5.0], \"median\": 5.0, \"numeric\": true, \"num_unique\": 4, \"num_undefined\": 0, \"var\": 1.6783809685626958, \"progress\": 1.0, \"size\": 166752, \"frequent_items\": {\"1.0\": {\"frequency\": 15183, \"value\": 1.0}, \"2.0\": {\"frequency\": 11310, \"value\": 2.0}, \"4.0\": {\"frequency\": 33205, \"value\": 4.0}, \"5.0\": {\"frequency\": 107054, \"value\": 5.0}}, \"mean\": 4.233190606409501}, \"selected_variable\": {\"name\": [\"<SArray>\"], \"dtype\": \"float\", \"view_component\": \"Categorical\", \"view_file\": \"sarray\", \"descriptives\": {\"rows\": 166752}, \"type\": \"SArray\", \"view_components\": [\"Numeric\", \"Categorical\"]}, \"histogram\": {\"progress\": 1.0, \"histogram\": {\"max\": 5.076199999999998, \"bins\": [15183, 0, 0, 11310, 0, 0, 0, 0, 33205, 0, 0, 107054], \"min\": 0.929000000000014}, \"min\": 1.0, \"complete\": 1, \"max\": 5.0}}, e);\n",
       "                });\n",
       "            })();\n",
       "        "
      ]
     },
     "metadata": {},
     "output_type": "display_data"
    }
   ],
   "source": [
    "products['rating'].show(view='Categorical')"
   ]
  },
  {
   "cell_type": "code",
   "execution_count": 25,
   "metadata": {
    "collapsed": true
   },
   "outputs": [],
   "source": [
    "del giraffe_reviews['sentiment']"
   ]
  },
  {
   "cell_type": "code",
   "execution_count": 26,
   "metadata": {
    "collapsed": false
   },
   "outputs": [
    {
     "data": {
      "text/html": [
       "<div style=\"max-height:1000px;max-width:1500px;overflow:auto;\"><table frame=\"box\" rules=\"cols\">\n",
       "    <tr>\n",
       "        <th style=\"padding-left: 1em; padding-right: 1em; text-align: center\">name</th>\n",
       "        <th style=\"padding-left: 1em; padding-right: 1em; text-align: center\">review</th>\n",
       "        <th style=\"padding-left: 1em; padding-right: 1em; text-align: center\">rating</th>\n",
       "        <th style=\"padding-left: 1em; padding-right: 1em; text-align: center\">word_count</th>\n",
       "    </tr>\n",
       "    <tr>\n",
       "        <td style=\"padding-left: 1em; padding-right: 1em; text-align: center; vertical-align: top\">Vulli Sophie the Giraffe<br>Teether ...</td>\n",
       "        <td style=\"padding-left: 1em; padding-right: 1em; text-align: center; vertical-align: top\">He likes chewing on all<br>the parts especially the ...</td>\n",
       "        <td style=\"padding-left: 1em; padding-right: 1em; text-align: center; vertical-align: top\">5.0</td>\n",
       "        <td style=\"padding-left: 1em; padding-right: 1em; text-align: center; vertical-align: top\">{'and': 1L, 'all': 1L,<br>'because': 1L, 'it': 1L, ...</td>\n",
       "    </tr>\n",
       "    <tr>\n",
       "        <td style=\"padding-left: 1em; padding-right: 1em; text-align: center; vertical-align: top\">Vulli Sophie the Giraffe<br>Teether ...</td>\n",
       "        <td style=\"padding-left: 1em; padding-right: 1em; text-align: center; vertical-align: top\">My son loves this toy and<br>fits great in the diaper ...</td>\n",
       "        <td style=\"padding-left: 1em; padding-right: 1em; text-align: center; vertical-align: top\">5.0</td>\n",
       "        <td style=\"padding-left: 1em; padding-right: 1em; text-align: center; vertical-align: top\">{'and': 1L, 'right': 1L,<br>'help': 1L, 'just': 1L, ...</td>\n",
       "    </tr>\n",
       "    <tr>\n",
       "        <td style=\"padding-left: 1em; padding-right: 1em; text-align: center; vertical-align: top\">Vulli Sophie the Giraffe<br>Teether ...</td>\n",
       "        <td style=\"padding-left: 1em; padding-right: 1em; text-align: center; vertical-align: top\">There really should be a<br>large warning on the  ...</td>\n",
       "        <td style=\"padding-left: 1em; padding-right: 1em; text-align: center; vertical-align: top\">1.0</td>\n",
       "        <td style=\"padding-left: 1em; padding-right: 1em; text-align: center; vertical-align: top\">{'and': 2L, 'all': 1L,<br>'latex.': 1L, 'being': ...</td>\n",
       "    </tr>\n",
       "    <tr>\n",
       "        <td style=\"padding-left: 1em; padding-right: 1em; text-align: center; vertical-align: top\">Vulli Sophie the Giraffe<br>Teether ...</td>\n",
       "        <td style=\"padding-left: 1em; padding-right: 1em; text-align: center; vertical-align: top\">All the moms in my moms'<br>group got Sophie for ...</td>\n",
       "        <td style=\"padding-left: 1em; padding-right: 1em; text-align: center; vertical-align: top\">5.0</td>\n",
       "        <td style=\"padding-left: 1em; padding-right: 1em; text-align: center; vertical-align: top\">{'and': 2L, 'one!': 1L,<br>'all': 1L, 'love': 1L, ...</td>\n",
       "    </tr>\n",
       "    <tr>\n",
       "        <td style=\"padding-left: 1em; padding-right: 1em; text-align: center; vertical-align: top\">Vulli Sophie the Giraffe<br>Teether ...</td>\n",
       "        <td style=\"padding-left: 1em; padding-right: 1em; text-align: center; vertical-align: top\">I was a little skeptical<br>on whether Sophie was ...</td>\n",
       "        <td style=\"padding-left: 1em; padding-right: 1em; text-align: center; vertical-align: top\">5.0</td>\n",
       "        <td style=\"padding-left: 1em; padding-right: 1em; text-align: center; vertical-align: top\">{'and': 3L, 'all': 1L,<br>'old': 1L, 'her.': 1L, ...</td>\n",
       "    </tr>\n",
       "    <tr>\n",
       "        <td style=\"padding-left: 1em; padding-right: 1em; text-align: center; vertical-align: top\">Vulli Sophie the Giraffe<br>Teether ...</td>\n",
       "        <td style=\"padding-left: 1em; padding-right: 1em; text-align: center; vertical-align: top\">I have been reading about<br>Sophie and was going  ...</td>\n",
       "        <td style=\"padding-left: 1em; padding-right: 1em; text-align: center; vertical-align: top\">5.0</td>\n",
       "        <td style=\"padding-left: 1em; padding-right: 1em; text-align: center; vertical-align: top\">{'and': 6L, 'seven': 1L,<br>'already': 1L, 'love': ...</td>\n",
       "    </tr>\n",
       "    <tr>\n",
       "        <td style=\"padding-left: 1em; padding-right: 1em; text-align: center; vertical-align: top\">Vulli Sophie the Giraffe<br>Teether ...</td>\n",
       "        <td style=\"padding-left: 1em; padding-right: 1em; text-align: center; vertical-align: top\">My neice loves her sophie<br>and has spent hours ...</td>\n",
       "        <td style=\"padding-left: 1em; padding-right: 1em; text-align: center; vertical-align: top\">5.0</td>\n",
       "        <td style=\"padding-left: 1em; padding-right: 1em; text-align: center; vertical-align: top\">{'and': 4L, 'drooling,':<br>1L, 'love': 1L, 'her.': ...</td>\n",
       "    </tr>\n",
       "    <tr>\n",
       "        <td style=\"padding-left: 1em; padding-right: 1em; text-align: center; vertical-align: top\">Vulli Sophie the Giraffe<br>Teether ...</td>\n",
       "        <td style=\"padding-left: 1em; padding-right: 1em; text-align: center; vertical-align: top\">What a friendly face!<br>And those mesmerizing ...</td>\n",
       "        <td style=\"padding-left: 1em; padding-right: 1em; text-align: center; vertical-align: top\">5.0</td>\n",
       "        <td style=\"padding-left: 1em; padding-right: 1em; text-align: center; vertical-align: top\">{'and': 3L, 'chew': 1L,<br>\"don't\": 1L, 'is': 1L, ...</td>\n",
       "    </tr>\n",
       "    <tr>\n",
       "        <td style=\"padding-left: 1em; padding-right: 1em; text-align: center; vertical-align: top\">Vulli Sophie the Giraffe<br>Teether ...</td>\n",
       "        <td style=\"padding-left: 1em; padding-right: 1em; text-align: center; vertical-align: top\">We got this just for my<br>son to chew on instea ...</td>\n",
       "        <td style=\"padding-left: 1em; padding-right: 1em; text-align: center; vertical-align: top\">5.0</td>\n",
       "        <td style=\"padding-left: 1em; padding-right: 1em; text-align: center; vertical-align: top\">{'chew': 2L, 'because':<br>1L, 'just': 2L, 'what': ...</td>\n",
       "    </tr>\n",
       "    <tr>\n",
       "        <td style=\"padding-left: 1em; padding-right: 1em; text-align: center; vertical-align: top\">Vulli Sophie the Giraffe<br>Teether ...</td>\n",
       "        <td style=\"padding-left: 1em; padding-right: 1em; text-align: center; vertical-align: top\">This product is without a<br>doubt the best on the ...</td>\n",
       "        <td style=\"padding-left: 1em; padding-right: 1em; text-align: center; vertical-align: top\">5.0</td>\n",
       "        <td style=\"padding-left: 1em; padding-right: 1em; text-align: center; vertical-align: top\">{'and': 4L, 'on': 2L,<br>'teething': 1L, 'just': ...</td>\n",
       "    </tr>\n",
       "</table>\n",
       "[10 rows x 4 columns]<br/>\n",
       "</div>"
      ],
      "text/plain": [
       "Columns:\n",
       "\tname\tstr\n",
       "\treview\tstr\n",
       "\trating\tfloat\n",
       "\tword_count\tdict\n",
       "\n",
       "Rows: 10\n",
       "\n",
       "Data:\n",
       "+-------------------------------+-------------------------------+--------+\n",
       "|              name             |             review            | rating |\n",
       "+-------------------------------+-------------------------------+--------+\n",
       "| Vulli Sophie the Giraffe T... | He likes chewing on all th... |  5.0   |\n",
       "| Vulli Sophie the Giraffe T... | My son loves this toy and ... |  5.0   |\n",
       "| Vulli Sophie the Giraffe T... | There really should be a l... |  1.0   |\n",
       "| Vulli Sophie the Giraffe T... | All the moms in my moms' g... |  5.0   |\n",
       "| Vulli Sophie the Giraffe T... | I was a little skeptical o... |  5.0   |\n",
       "| Vulli Sophie the Giraffe T... | I have been reading about ... |  5.0   |\n",
       "| Vulli Sophie the Giraffe T... | My neice loves her sophie ... |  5.0   |\n",
       "| Vulli Sophie the Giraffe T... | What a friendly face!  And... |  5.0   |\n",
       "| Vulli Sophie the Giraffe T... | We got this just for my so... |  5.0   |\n",
       "| Vulli Sophie the Giraffe T... | This product is without a ... |  5.0   |\n",
       "+-------------------------------+-------------------------------+--------+\n",
       "+-------------------------------+\n",
       "|           word_count          |\n",
       "+-------------------------------+\n",
       "| {'and': 1L, 'all': 1L, 'be... |\n",
       "| {'and': 1L, 'right': 1L, '... |\n",
       "| {'and': 2L, 'all': 1L, 'la... |\n",
       "| {'and': 2L, 'one!': 1L, 'a... |\n",
       "| {'and': 3L, 'all': 1L, 'ol... |\n",
       "| {'and': 6L, 'seven': 1L, '... |\n",
       "| {'and': 4L, 'drooling,': 1... |\n",
       "| {'and': 3L, 'chew': 1L, \"d... |\n",
       "| {'chew': 2L, 'because': 1L... |\n",
       "| {'and': 4L, 'on': 2L, 'tee... |\n",
       "+-------------------------------+\n",
       "[10 rows x 4 columns]"
      ]
     },
     "execution_count": 26,
     "metadata": {},
     "output_type": "execute_result"
    }
   ],
   "source": [
    "giraffe_reviews.head()"
   ]
  },
  {
   "cell_type": "code",
   "execution_count": 27,
   "metadata": {
    "collapsed": true
   },
   "outputs": [],
   "source": [
    "giraffe_reviews['predicted_sentiment'] = sentiment_model.predict(giraffe_reviews, output_type='probability')"
   ]
  },
  {
   "cell_type": "code",
   "execution_count": 28,
   "metadata": {
    "collapsed": false
   },
   "outputs": [
    {
     "data": {
      "text/html": [
       "<div style=\"max-height:1000px;max-width:1500px;overflow:auto;\"><table frame=\"box\" rules=\"cols\">\n",
       "    <tr>\n",
       "        <th style=\"padding-left: 1em; padding-right: 1em; text-align: center\">name</th>\n",
       "        <th style=\"padding-left: 1em; padding-right: 1em; text-align: center\">review</th>\n",
       "        <th style=\"padding-left: 1em; padding-right: 1em; text-align: center\">rating</th>\n",
       "        <th style=\"padding-left: 1em; padding-right: 1em; text-align: center\">word_count</th>\n",
       "        <th style=\"padding-left: 1em; padding-right: 1em; text-align: center\">predicted_sentiment</th>\n",
       "    </tr>\n",
       "    <tr>\n",
       "        <td style=\"padding-left: 1em; padding-right: 1em; text-align: center; vertical-align: top\">Vulli Sophie the Giraffe<br>Teether ...</td>\n",
       "        <td style=\"padding-left: 1em; padding-right: 1em; text-align: center; vertical-align: top\">He likes chewing on all<br>the parts especially the ...</td>\n",
       "        <td style=\"padding-left: 1em; padding-right: 1em; text-align: center; vertical-align: top\">5.0</td>\n",
       "        <td style=\"padding-left: 1em; padding-right: 1em; text-align: center; vertical-align: top\">{'and': 1L, 'all': 1L,<br>'because': 1L, 'it': 1L, ...</td>\n",
       "        <td style=\"padding-left: 1em; padding-right: 1em; text-align: center; vertical-align: top\">0.999513023521</td>\n",
       "    </tr>\n",
       "    <tr>\n",
       "        <td style=\"padding-left: 1em; padding-right: 1em; text-align: center; vertical-align: top\">Vulli Sophie the Giraffe<br>Teether ...</td>\n",
       "        <td style=\"padding-left: 1em; padding-right: 1em; text-align: center; vertical-align: top\">My son loves this toy and<br>fits great in the diaper ...</td>\n",
       "        <td style=\"padding-left: 1em; padding-right: 1em; text-align: center; vertical-align: top\">5.0</td>\n",
       "        <td style=\"padding-left: 1em; padding-right: 1em; text-align: center; vertical-align: top\">{'and': 1L, 'right': 1L,<br>'help': 1L, 'just': 1L, ...</td>\n",
       "        <td style=\"padding-left: 1em; padding-right: 1em; text-align: center; vertical-align: top\">0.999320678306</td>\n",
       "    </tr>\n",
       "    <tr>\n",
       "        <td style=\"padding-left: 1em; padding-right: 1em; text-align: center; vertical-align: top\">Vulli Sophie the Giraffe<br>Teether ...</td>\n",
       "        <td style=\"padding-left: 1em; padding-right: 1em; text-align: center; vertical-align: top\">There really should be a<br>large warning on the  ...</td>\n",
       "        <td style=\"padding-left: 1em; padding-right: 1em; text-align: center; vertical-align: top\">1.0</td>\n",
       "        <td style=\"padding-left: 1em; padding-right: 1em; text-align: center; vertical-align: top\">{'and': 2L, 'all': 1L,<br>'latex.': 1L, 'being': ...</td>\n",
       "        <td style=\"padding-left: 1em; padding-right: 1em; text-align: center; vertical-align: top\">0.013558811687</td>\n",
       "    </tr>\n",
       "    <tr>\n",
       "        <td style=\"padding-left: 1em; padding-right: 1em; text-align: center; vertical-align: top\">Vulli Sophie the Giraffe<br>Teether ...</td>\n",
       "        <td style=\"padding-left: 1em; padding-right: 1em; text-align: center; vertical-align: top\">All the moms in my moms'<br>group got Sophie for ...</td>\n",
       "        <td style=\"padding-left: 1em; padding-right: 1em; text-align: center; vertical-align: top\">5.0</td>\n",
       "        <td style=\"padding-left: 1em; padding-right: 1em; text-align: center; vertical-align: top\">{'and': 2L, 'one!': 1L,<br>'all': 1L, 'love': 1L, ...</td>\n",
       "        <td style=\"padding-left: 1em; padding-right: 1em; text-align: center; vertical-align: top\">0.995769474148</td>\n",
       "    </tr>\n",
       "    <tr>\n",
       "        <td style=\"padding-left: 1em; padding-right: 1em; text-align: center; vertical-align: top\">Vulli Sophie the Giraffe<br>Teether ...</td>\n",
       "        <td style=\"padding-left: 1em; padding-right: 1em; text-align: center; vertical-align: top\">I was a little skeptical<br>on whether Sophie was ...</td>\n",
       "        <td style=\"padding-left: 1em; padding-right: 1em; text-align: center; vertical-align: top\">5.0</td>\n",
       "        <td style=\"padding-left: 1em; padding-right: 1em; text-align: center; vertical-align: top\">{'and': 3L, 'all': 1L,<br>'old': 1L, 'her.': 1L, ...</td>\n",
       "        <td style=\"padding-left: 1em; padding-right: 1em; text-align: center; vertical-align: top\">0.662374415673</td>\n",
       "    </tr>\n",
       "    <tr>\n",
       "        <td style=\"padding-left: 1em; padding-right: 1em; text-align: center; vertical-align: top\">Vulli Sophie the Giraffe<br>Teether ...</td>\n",
       "        <td style=\"padding-left: 1em; padding-right: 1em; text-align: center; vertical-align: top\">I have been reading about<br>Sophie and was going  ...</td>\n",
       "        <td style=\"padding-left: 1em; padding-right: 1em; text-align: center; vertical-align: top\">5.0</td>\n",
       "        <td style=\"padding-left: 1em; padding-right: 1em; text-align: center; vertical-align: top\">{'and': 6L, 'seven': 1L,<br>'already': 1L, 'love': ...</td>\n",
       "        <td style=\"padding-left: 1em; padding-right: 1em; text-align: center; vertical-align: top\">0.999997148186</td>\n",
       "    </tr>\n",
       "    <tr>\n",
       "        <td style=\"padding-left: 1em; padding-right: 1em; text-align: center; vertical-align: top\">Vulli Sophie the Giraffe<br>Teether ...</td>\n",
       "        <td style=\"padding-left: 1em; padding-right: 1em; text-align: center; vertical-align: top\">My neice loves her sophie<br>and has spent hours ...</td>\n",
       "        <td style=\"padding-left: 1em; padding-right: 1em; text-align: center; vertical-align: top\">5.0</td>\n",
       "        <td style=\"padding-left: 1em; padding-right: 1em; text-align: center; vertical-align: top\">{'and': 4L, 'drooling,':<br>1L, 'love': 1L, 'her.': ...</td>\n",
       "        <td style=\"padding-left: 1em; padding-right: 1em; text-align: center; vertical-align: top\">0.989190989536</td>\n",
       "    </tr>\n",
       "    <tr>\n",
       "        <td style=\"padding-left: 1em; padding-right: 1em; text-align: center; vertical-align: top\">Vulli Sophie the Giraffe<br>Teether ...</td>\n",
       "        <td style=\"padding-left: 1em; padding-right: 1em; text-align: center; vertical-align: top\">What a friendly face!<br>And those mesmerizing ...</td>\n",
       "        <td style=\"padding-left: 1em; padding-right: 1em; text-align: center; vertical-align: top\">5.0</td>\n",
       "        <td style=\"padding-left: 1em; padding-right: 1em; text-align: center; vertical-align: top\">{'and': 3L, 'chew': 1L,<br>\"don't\": 1L, 'is': 1L, ...</td>\n",
       "        <td style=\"padding-left: 1em; padding-right: 1em; text-align: center; vertical-align: top\">0.999563518413</td>\n",
       "    </tr>\n",
       "    <tr>\n",
       "        <td style=\"padding-left: 1em; padding-right: 1em; text-align: center; vertical-align: top\">Vulli Sophie the Giraffe<br>Teether ...</td>\n",
       "        <td style=\"padding-left: 1em; padding-right: 1em; text-align: center; vertical-align: top\">We got this just for my<br>son to chew on instea ...</td>\n",
       "        <td style=\"padding-left: 1em; padding-right: 1em; text-align: center; vertical-align: top\">5.0</td>\n",
       "        <td style=\"padding-left: 1em; padding-right: 1em; text-align: center; vertical-align: top\">{'chew': 2L, 'because':<br>1L, 'just': 2L, 'what': ...</td>\n",
       "        <td style=\"padding-left: 1em; padding-right: 1em; text-align: center; vertical-align: top\">0.970160542725</td>\n",
       "    </tr>\n",
       "    <tr>\n",
       "        <td style=\"padding-left: 1em; padding-right: 1em; text-align: center; vertical-align: top\">Vulli Sophie the Giraffe<br>Teether ...</td>\n",
       "        <td style=\"padding-left: 1em; padding-right: 1em; text-align: center; vertical-align: top\">This product is without a<br>doubt the best on the ...</td>\n",
       "        <td style=\"padding-left: 1em; padding-right: 1em; text-align: center; vertical-align: top\">5.0</td>\n",
       "        <td style=\"padding-left: 1em; padding-right: 1em; text-align: center; vertical-align: top\">{'and': 4L, 'on': 2L,<br>'teething': 1L, 'just': ...</td>\n",
       "        <td style=\"padding-left: 1em; padding-right: 1em; text-align: center; vertical-align: top\">0.999999795012</td>\n",
       "    </tr>\n",
       "</table>\n",
       "[723 rows x 5 columns]<br/>Note: Only the head of the SFrame is printed.<br/>You can use print_rows(num_rows=m, num_columns=n) to print more rows and columns.\n",
       "</div>"
      ],
      "text/plain": [
       "Columns:\n",
       "\tname\tstr\n",
       "\treview\tstr\n",
       "\trating\tfloat\n",
       "\tword_count\tdict\n",
       "\tpredicted_sentiment\tfloat\n",
       "\n",
       "Rows: 723\n",
       "\n",
       "Data:\n",
       "+-------------------------------+-------------------------------+--------+\n",
       "|              name             |             review            | rating |\n",
       "+-------------------------------+-------------------------------+--------+\n",
       "| Vulli Sophie the Giraffe T... | He likes chewing on all th... |  5.0   |\n",
       "| Vulli Sophie the Giraffe T... | My son loves this toy and ... |  5.0   |\n",
       "| Vulli Sophie the Giraffe T... | There really should be a l... |  1.0   |\n",
       "| Vulli Sophie the Giraffe T... | All the moms in my moms' g... |  5.0   |\n",
       "| Vulli Sophie the Giraffe T... | I was a little skeptical o... |  5.0   |\n",
       "| Vulli Sophie the Giraffe T... | I have been reading about ... |  5.0   |\n",
       "| Vulli Sophie the Giraffe T... | My neice loves her sophie ... |  5.0   |\n",
       "| Vulli Sophie the Giraffe T... | What a friendly face!  And... |  5.0   |\n",
       "| Vulli Sophie the Giraffe T... | We got this just for my so... |  5.0   |\n",
       "| Vulli Sophie the Giraffe T... | This product is without a ... |  5.0   |\n",
       "+-------------------------------+-------------------------------+--------+\n",
       "+-------------------------------+---------------------+\n",
       "|           word_count          | predicted_sentiment |\n",
       "+-------------------------------+---------------------+\n",
       "| {'and': 1L, 'all': 1L, 'be... |    0.999513023521   |\n",
       "| {'and': 1L, 'right': 1L, '... |    0.999320678306   |\n",
       "| {'and': 2L, 'all': 1L, 'la... |    0.013558811687   |\n",
       "| {'and': 2L, 'one!': 1L, 'a... |    0.995769474148   |\n",
       "| {'and': 3L, 'all': 1L, 'ol... |    0.662374415673   |\n",
       "| {'and': 6L, 'seven': 1L, '... |    0.999997148186   |\n",
       "| {'and': 4L, 'drooling,': 1... |    0.989190989536   |\n",
       "| {'and': 3L, 'chew': 1L, \"d... |    0.999563518413   |\n",
       "| {'chew': 2L, 'because': 1L... |    0.970160542725   |\n",
       "| {'and': 4L, 'on': 2L, 'tee... |    0.999999795012   |\n",
       "+-------------------------------+---------------------+\n",
       "[723 rows x 5 columns]\n",
       "Note: Only the head of the SFrame is printed.\n",
       "You can use print_rows(num_rows=m, num_columns=n) to print more rows and columns."
      ]
     },
     "execution_count": 28,
     "metadata": {},
     "output_type": "execute_result"
    }
   ],
   "source": [
    "giraffe_reviews"
   ]
  },
  {
   "cell_type": "code",
   "execution_count": 31,
   "metadata": {
    "collapsed": false
   },
   "outputs": [
    {
     "data": {
      "text/plain": [
       "'He likes chewing on all the parts especially the head and the ears! It has helped when he has been cranky because of teething. Great purchase!'"
      ]
     },
     "execution_count": 31,
     "metadata": {},
     "output_type": "execute_result"
    }
   ],
   "source": [
    "giraffe_reviews.head()['review'][0]"
   ]
  },
  {
   "cell_type": "code",
   "execution_count": 32,
   "metadata": {
    "collapsed": false
   },
   "outputs": [
    {
     "data": {
      "text/plain": [
       "{'all': 1L,\n",
       " 'and': 1L,\n",
       " 'because': 1L,\n",
       " 'been': 1L,\n",
       " 'chewing': 1L,\n",
       " 'cranky': 1L,\n",
       " 'ears!': 1L,\n",
       " 'especially': 1L,\n",
       " 'great': 1L,\n",
       " 'has': 2L,\n",
       " 'he': 2L,\n",
       " 'head': 1L,\n",
       " 'helped': 1L,\n",
       " 'it': 1L,\n",
       " 'likes': 1L,\n",
       " 'of': 1L,\n",
       " 'on': 1L,\n",
       " 'parts': 1L,\n",
       " 'purchase!': 1L,\n",
       " 'teething.': 1L,\n",
       " 'the': 3L,\n",
       " 'when': 1L}"
      ]
     },
     "execution_count": 32,
     "metadata": {},
     "output_type": "execute_result"
    }
   ],
   "source": [
    "giraffe_reviews.head()['word_count'][0]"
   ]
  },
  {
   "cell_type": "code",
   "execution_count": 35,
   "metadata": {
    "collapsed": false
   },
   "outputs": [
    {
     "data": {
      "text/plain": [
       "\"Sophie, oh Sophie, your time has come. My granddaughter, Violet is 5 months old and starting to teeth. What joy little Sophie brings to Violet. Sophie is made of a very pliable rubber that is sturdy but not tough. It is quite easy for Violet to twist Sophie into unheard of positions to get Sophie into her mouth. The little nose and hooves fit perfectly into small mouths, and the drooling has purpose. The paint on Sophie is food quality.Sophie was born in 1961 in France. The maker had wondered why there was nothing available for babies and made Sophie from the finest rubber, phthalate-free on St Sophie's Day, thus the name was born. Since that time millions of Sophie's populate the world. She is soft and for babies little hands easy to grasp. Violet especially loves the bumpy head and horns of Sophie. Sophie has a long neck that easy to grasp and twist. She has lovely, sizable spots that attract Violet's attention. Sophie has happy little squeaks that bring squeals of delight from Violet. She is able to make Sophie squeak and that brings much joy. Sophie's smooth skin is soothing to Violet's little gums. Sophie is 7 inches tall and is the exact correct size for babies to hold and love.As you well know the first thing babies grasp, goes into their mouths- how wonderful to have a toy that stimulates all of the senses and helps with the issue of teething. Sophie is small enough to fit into any size pocket or bag. Sophie is the perfect find for babies from a few months to a year old. How wonderful to hear the giggles and laughs that emanate from babies who find Sophie irresistible. Viva La Sophie!Highly Recommended.  prisrob 12-11-09\""
      ]
     },
     "execution_count": 35,
     "metadata": {},
     "output_type": "execute_result"
    }
   ],
   "source": [
    "giraffe_reviews.sort('predicted_sentiment',ascending=False)['review'][0]"
   ]
  },
  {
   "cell_type": "code",
   "execution_count": 36,
   "metadata": {
    "collapsed": false
   },
   "outputs": [
    {
     "data": {
      "text/plain": [
       "\"My son (now 2.5) LOVED his Sophie, and I bought one for every baby shower I've gone to. Now, my daughter (6 months) just today nearly choked on it and I will never give it to her again. Had I not been within hearing range it could have been fatal. The strange sound she was making caught my attention and when I went to her and found the front curved leg shoved well down her throat and her face a purply/blue I panicked. I pulled it out and she vomited all over the carpet before screaming her head off. I can't believe how my opinion of this toy has changed from a must-have to a must-not-use. Please don't disregard any of the choking hazard comments, they are not over exaggerated!\""
      ]
     },
     "execution_count": 36,
     "metadata": {},
     "output_type": "execute_result"
    }
   ],
   "source": [
    "giraffe_reviews.sort('predicted_sentiment',ascending=False)['review'][-1]"
   ]
  },
  {
   "cell_type": "code",
   "execution_count": 38,
   "metadata": {
    "collapsed": false
   },
   "outputs": [
    {
     "data": {
      "text/html": [
       "<div style=\"max-height:1000px;max-width:1500px;overflow:auto;\"><table frame=\"box\" rules=\"cols\">\n",
       "    <tr>\n",
       "        <th style=\"padding-left: 1em; padding-right: 1em; text-align: center\">name</th>\n",
       "        <th style=\"padding-left: 1em; padding-right: 1em; text-align: center\">index</th>\n",
       "        <th style=\"padding-left: 1em; padding-right: 1em; text-align: center\">class</th>\n",
       "        <th style=\"padding-left: 1em; padding-right: 1em; text-align: center\">value</th>\n",
       "        <th style=\"padding-left: 1em; padding-right: 1em; text-align: center\">stderr</th>\n",
       "    </tr>\n",
       "    <tr>\n",
       "        <td style=\"padding-left: 1em; padding-right: 1em; text-align: center; vertical-align: top\">(intercept)</td>\n",
       "        <td style=\"padding-left: 1em; padding-right: 1em; text-align: center; vertical-align: top\">None</td>\n",
       "        <td style=\"padding-left: 1em; padding-right: 1em; text-align: center; vertical-align: top\">1</td>\n",
       "        <td style=\"padding-left: 1em; padding-right: 1em; text-align: center; vertical-align: top\">0.729182482603</td>\n",
       "        <td style=\"padding-left: 1em; padding-right: 1em; text-align: center; vertical-align: top\">None</td>\n",
       "    </tr>\n",
       "    <tr>\n",
       "        <td style=\"padding-left: 1em; padding-right: 1em; text-align: center; vertical-align: top\">word_count</td>\n",
       "        <td style=\"padding-left: 1em; padding-right: 1em; text-align: center; vertical-align: top\">it.</td>\n",
       "        <td style=\"padding-left: 1em; padding-right: 1em; text-align: center; vertical-align: top\">1</td>\n",
       "        <td style=\"padding-left: 1em; padding-right: 1em; text-align: center; vertical-align: top\">0.0923459975112</td>\n",
       "        <td style=\"padding-left: 1em; padding-right: 1em; text-align: center; vertical-align: top\">None</td>\n",
       "    </tr>\n",
       "    <tr>\n",
       "        <td style=\"padding-left: 1em; padding-right: 1em; text-align: center; vertical-align: top\">word_count</td>\n",
       "        <td style=\"padding-left: 1em; padding-right: 1em; text-align: center; vertical-align: top\">recommend</td>\n",
       "        <td style=\"padding-left: 1em; padding-right: 1em; text-align: center; vertical-align: top\">1</td>\n",
       "        <td style=\"padding-left: 1em; padding-right: 1em; text-align: center; vertical-align: top\">0.351653944839</td>\n",
       "        <td style=\"padding-left: 1em; padding-right: 1em; text-align: center; vertical-align: top\">None</td>\n",
       "    </tr>\n",
       "    <tr>\n",
       "        <td style=\"padding-left: 1em; padding-right: 1em; text-align: center; vertical-align: top\">word_count</td>\n",
       "        <td style=\"padding-left: 1em; padding-right: 1em; text-align: center; vertical-align: top\">love</td>\n",
       "        <td style=\"padding-left: 1em; padding-right: 1em; text-align: center; vertical-align: top\">1</td>\n",
       "        <td style=\"padding-left: 1em; padding-right: 1em; text-align: center; vertical-align: top\">0.824676597257</td>\n",
       "        <td style=\"padding-left: 1em; padding-right: 1em; text-align: center; vertical-align: top\">None</td>\n",
       "    </tr>\n",
       "    <tr>\n",
       "        <td style=\"padding-left: 1em; padding-right: 1em; text-align: center; vertical-align: top\">word_count</td>\n",
       "        <td style=\"padding-left: 1em; padding-right: 1em; text-align: center; vertical-align: top\">it</td>\n",
       "        <td style=\"padding-left: 1em; padding-right: 1em; text-align: center; vertical-align: top\">1</td>\n",
       "        <td style=\"padding-left: 1em; padding-right: 1em; text-align: center; vertical-align: top\">0.00340245508889</td>\n",
       "        <td style=\"padding-left: 1em; padding-right: 1em; text-align: center; vertical-align: top\">None</td>\n",
       "    </tr>\n",
       "    <tr>\n",
       "        <td style=\"padding-left: 1em; padding-right: 1em; text-align: center; vertical-align: top\">word_count</td>\n",
       "        <td style=\"padding-left: 1em; padding-right: 1em; text-align: center; vertical-align: top\">disappointed.</td>\n",
       "        <td style=\"padding-left: 1em; padding-right: 1em; text-align: center; vertical-align: top\">1</td>\n",
       "        <td style=\"padding-left: 1em; padding-right: 1em; text-align: center; vertical-align: top\">-2.66907012284</td>\n",
       "        <td style=\"padding-left: 1em; padding-right: 1em; text-align: center; vertical-align: top\">None</td>\n",
       "    </tr>\n",
       "    <tr>\n",
       "        <td style=\"padding-left: 1em; padding-right: 1em; text-align: center; vertical-align: top\">word_count</td>\n",
       "        <td style=\"padding-left: 1em; padding-right: 1em; text-align: center; vertical-align: top\">planet</td>\n",
       "        <td style=\"padding-left: 1em; padding-right: 1em; text-align: center; vertical-align: top\">1</td>\n",
       "        <td style=\"padding-left: 1em; padding-right: 1em; text-align: center; vertical-align: top\">-0.28318516271</td>\n",
       "        <td style=\"padding-left: 1em; padding-right: 1em; text-align: center; vertical-align: top\">None</td>\n",
       "    </tr>\n",
       "    <tr>\n",
       "        <td style=\"padding-left: 1em; padding-right: 1em; text-align: center; vertical-align: top\">word_count</td>\n",
       "        <td style=\"padding-left: 1em; padding-right: 1em; text-align: center; vertical-align: top\">and</td>\n",
       "        <td style=\"padding-left: 1em; padding-right: 1em; text-align: center; vertical-align: top\">1</td>\n",
       "        <td style=\"padding-left: 1em; padding-right: 1em; text-align: center; vertical-align: top\">0.0387848304637</td>\n",
       "        <td style=\"padding-left: 1em; padding-right: 1em; text-align: center; vertical-align: top\">None</td>\n",
       "    </tr>\n",
       "    <tr>\n",
       "        <td style=\"padding-left: 1em; padding-right: 1em; text-align: center; vertical-align: top\">word_count</td>\n",
       "        <td style=\"padding-left: 1em; padding-right: 1em; text-align: center; vertical-align: top\">bags</td>\n",
       "        <td style=\"padding-left: 1em; padding-right: 1em; text-align: center; vertical-align: top\">1</td>\n",
       "        <td style=\"padding-left: 1em; padding-right: 1em; text-align: center; vertical-align: top\">0.132287521499</td>\n",
       "        <td style=\"padding-left: 1em; padding-right: 1em; text-align: center; vertical-align: top\">None</td>\n",
       "    </tr>\n",
       "    <tr>\n",
       "        <td style=\"padding-left: 1em; padding-right: 1em; text-align: center; vertical-align: top\">word_count</td>\n",
       "        <td style=\"padding-left: 1em; padding-right: 1em; text-align: center; vertical-align: top\">wipes</td>\n",
       "        <td style=\"padding-left: 1em; padding-right: 1em; text-align: center; vertical-align: top\">1</td>\n",
       "        <td style=\"padding-left: 1em; padding-right: 1em; text-align: center; vertical-align: top\">-0.0146873544927</td>\n",
       "        <td style=\"padding-left: 1em; padding-right: 1em; text-align: center; vertical-align: top\">None</td>\n",
       "    </tr>\n",
       "</table>\n",
       "[219218 rows x 5 columns]<br/>Note: Only the head of the SFrame is printed.<br/>You can use print_rows(num_rows=m, num_columns=n) to print more rows and columns.\n",
       "</div>"
      ],
      "text/plain": [
       "Columns:\n",
       "\tname\tstr\n",
       "\tindex\tstr\n",
       "\tclass\tint\n",
       "\tvalue\tfloat\n",
       "\tstderr\tfloat\n",
       "\n",
       "Rows: 219218\n",
       "\n",
       "Data:\n",
       "+-------------+---------------+-------+------------------+--------+\n",
       "|     name    |     index     | class |      value       | stderr |\n",
       "+-------------+---------------+-------+------------------+--------+\n",
       "| (intercept) |      None     |   1   |  0.729182482603  |  None  |\n",
       "|  word_count |      it.      |   1   | 0.0923459975112  |  None  |\n",
       "|  word_count |   recommend   |   1   |  0.351653944839  |  None  |\n",
       "|  word_count |      love     |   1   |  0.824676597257  |  None  |\n",
       "|  word_count |       it      |   1   | 0.00340245508889 |  None  |\n",
       "|  word_count | disappointed. |   1   |  -2.66907012284  |  None  |\n",
       "|  word_count |     planet    |   1   |  -0.28318516271  |  None  |\n",
       "|  word_count |      and      |   1   | 0.0387848304637  |  None  |\n",
       "|  word_count |      bags     |   1   |  0.132287521499  |  None  |\n",
       "|  word_count |     wipes     |   1   | -0.0146873544927 |  None  |\n",
       "+-------------+---------------+-------+------------------+--------+\n",
       "[219218 rows x 5 columns]\n",
       "Note: Only the head of the SFrame is printed.\n",
       "You can use print_rows(num_rows=m, num_columns=n) to print more rows and columns."
      ]
     },
     "execution_count": 38,
     "metadata": {},
     "output_type": "execute_result"
    }
   ],
   "source": [
    "sentiment_model['coefficients']"
   ]
  },
  {
   "cell_type": "code",
   "execution_count": null,
   "metadata": {
    "collapsed": true
   },
   "outputs": [],
   "source": []
  }
 ],
 "metadata": {
  "kernelspec": {
   "display_name": "Python [conda env:gl-env]",
   "language": "python",
   "name": "conda-env-gl-env-py"
  },
  "language_info": {
   "codemirror_mode": {
    "name": "ipython",
    "version": 2
   },
   "file_extension": ".py",
   "mimetype": "text/x-python",
   "name": "python",
   "nbconvert_exporter": "python",
   "pygments_lexer": "ipython2",
   "version": "2.7.11"
  }
 },
 "nbformat": 4,
 "nbformat_minor": 1
}
